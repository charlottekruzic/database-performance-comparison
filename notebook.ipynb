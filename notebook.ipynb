{
 "cells": [
  {
   "cell_type": "markdown",
   "metadata": {
    "id": "JEXns_C5SaXc"
   },
   "source": [
    "# Projet Traitement et Données Large Échelle\n",
    "\n",
    "Zoé MARQUIS & Charlotte KRUZIC"
   ]
  },
  {
   "cell_type": "markdown",
   "metadata": {},
   "source": [
    "## Exécution des scripts d'installation \n",
    "\n",
    "TODO : AJOUTER LE NOM DES FICHIERS BASH UNE FOIS QU'IlS SONT CORRECTS TODOSETUP\n",
    "\n",
    "Nous avons initialement exploré la possibilité d'exécuter nos scripts sur Google Colab afin de faciliter l'exécution sans que vous ayez à configurer quoi que ce soit sur votre machine locale. Cependant, Colab présente certaines limitations, notamment l'incapacité de gérer plusieurs réplicas sets, car il ne permet de travailler qu'avec un seul environnement d'exécution.\n",
    "\n",
    "Pour pouvoir simuler plusieurs réplicas sets dans notre projet, nous avons besoin de plusieurs nœuds, ce qui n'est pas possible sur Colab. Nous avons également essayé d'utiliser des solutions gratuites comme Datastax (ou une autre plateforme similaire), mais ces services ne permettaient pas de configurer correctement les réplicas sets, ce qui limitait la flexibilité nécessaire à notre projet.\n",
    "\n",
    "En conséquence, nous avons opté pour une autre solution : créer des fichiers de configuration, comme cela est souvent demandé dans les exercices de type TP MongoDB. Cette approche permet de travailler de manière plus flexible tout en maintenant un contrôle total sur les paramètres des réplicas sets.\n",
    "\n",
    "Une autre remarque importante : le projet a été testé avec Python 3.11, car Python 3.12 a introduit quelques incompatibilités qui ont causé des bugs. Il est donc recommandé d'utiliser Python 3.11 pour éviter ces problèmes."
   ]
  },
  {
   "cell_type": "markdown",
   "metadata": {},
   "source": [
    "Dans ce projet, nous avons initialement utilisé MySQL comme système de gestion de base de données en raison de ses fonctionnalités robustes et de sa capacité à gérer des volumes de données conséquents. Cependant, lorsque nous avons tenté d'intégrer MySQL à Google Colab, nous avons rencontré des problèmes majeurs.\n",
    "\n",
    "### Problèmes avec MySQL sur Colab :  \n",
    "- **Installation complexe** : Colab étant un environnement cloud éphémère, l'installation de MySQL nécessite des étapes supplémentaires pour télécharger et configurer le serveur MySQL à chaque exécution.  \n",
    "- **Lancement du serveur** : MySQL nécessite un serveur en arrière-plan, ce qui n'est pas trivial à configurer dans l'environnement de Colab.\n",
    "- **Limitations de Colab** : Colab n'est pas conçu pour maintenir un serveur de base de données actif sur le long terme. Cela a entraîné des arrêts inattendus et une perte de données temporaires entre les sessions.  \n",
    "- **Connexion distante compliquée** : L'utilisation de MySQL dans un environnement distant comme Colab aurait nécessité une configuration complexe pour établir une connexion sécurisée à une base de données MySQL externe.\n",
    "\n",
    "### Transition vers SQLite :\n",
    "Pour contourner ces problèmes, nous avons décidé d'utiliser SQLite, qui s'est avéré être une solution plus simple et adaptée à nos besoins pour les raisons suivantes :\n",
    "\n",
    "- **Sans serveur** : Contrairement à MySQL, SQLite n'a pas besoin d'un serveur en arrière-plan. Cela élimine les problèmes liés à la configuration et à la gestion du serveur dans Colab.\n",
    "- **Compatibilité universelle** : SQLite est intégré à Python et compatible avec tous les systèmes d'exploitation. Cela nous a permis de garantir que notre projet fonctionnerait facilement sur différents environnements locaux ou dans le cloud.\n",
    "- **Facilité d'utilisation** : Avec SQLite, nous avons pu créer, modifier et accéder à des bases de données directement à partir de fichiers. Cela a simplifié les tests et la portabilité de notre projet.\n",
    "- **Performance suffisante pour notre cas d'usage** : Bien que SQLite soit moins performant que MySQL pour des bases de données volumineuses, il est parfaitement adapté aux projets à petite échelle ou à des fins de prototypage, comme le nôtre.\n"
   ]
  },
  {
   "cell_type": "markdown",
   "metadata": {
    "id": "zNbLEjRUSaXd"
   },
   "source": [
    "## Comparaison de Performances entre Systèmes Relationnels et NoSQL : Étude de Cas avec le Catalogue Netflix"
   ]
  },
  {
   "cell_type": "markdown",
   "metadata": {
    "id": "wR7GJDOISaXe"
   },
   "source": [
    "Dans ce projet, nous comparons les performances entre un système de base de données relationnel (SQLite) et un système NoSQL (Cassandra), en utilisant le **catalogue Netflix** comme jeu de données.   \n",
    "Ce dataset, disponible en Open Data, offre une structure réaliste et adaptée pour explorer les différences entre ces deux approches de gestion de données.   \n",
    "L'objectif principal est d'évaluer les performances pour des opérations d'insertion, mise à jour et requêtes complexes, tout en analysant les spécificités du système NoSQL choisi."
   ]
  },
  {
   "cell_type": "markdown",
   "metadata": {
    "id": "ZqbpvhO7SaXe"
   },
   "source": [
    "### Jeu de données\n",
    "\n",
    "Le jeu de données utilisé contient des informations sur les films et séries disponibles sur Netflix, avec les attributs suivants : \n",
    "- `show_id` : Identifiant unique pour chaque émission ou film. \n",
    "- `type` \n",
    "- `title`\n",
    "- `director` \n",
    "- `cast`\n",
    "- `country`\n",
    "- `date_added` \n",
    "- `release_year` \n",
    "- `rating` \n",
    "- `duration` \n",
    "- `listed_in` \n",
    "- `description`"
   ]
  },
  {
   "cell_type": "markdown",
   "metadata": {
    "id": "KqlM6RB7SaXe"
   },
   "source": [
    "### Schéma de données\n",
    "\n",
    "```sql\n",
    "CREATE TABLE IF NOT EXISTS shows (\n",
    "    show_id INT PRIMARY KEY,\n",
    "    title TEXT,\n",
    "    type TEXT,\n",
    "    director TEXT,\n",
    "    cast TEXT,\n",
    "    country TEXT,\n",
    "    date_added TEXT,\n",
    "    release_year INT,\n",
    "    rating TEXT,\n",
    "    duration TEXT,\n",
    "    listed_in TEXT,\n",
    "    description TEXT\n",
    ");\n",
    "```"
   ]
  },
  {
   "cell_type": "markdown",
   "metadata": {
    "id": "xApu2UauSaXe"
   },
   "source": [
    "\n",
    "---\n",
    "\n",
    "## Fonctionnement de Cassandra\n",
    "Apache Cassandra est un système de gestion de bases de données NoSQL conçu pour gérer de grandes quantités de données réparties sur plusieurs serveurs tout en maintenant une haute disponibilité et une tolérance aux pannes. Contrairement aux bases de données relationnelles, Cassandra suit un modèle décentralisé, ce qui lui permet de scaler facilement et d'offrir une forte résilience.\n",
    "\n",
    "### Modèle de données de Cassandra :\n",
    "\n",
    "Le modèle de données de Cassandra repose sur quelques concepts clés qui diffèrent des systèmes relationnels traditionnels.\n",
    "\n",
    "- **Keyspace** :  \n",
    "Un Keyspace dans Cassandra est l'équivalent d'une base de données dans les systèmes relationnels. Il sert à regrouper des tables (ou Column Families) et définit la stratégie de réplication des données. Par exemple, il spécifie le nombre de répliques à conserver pour chaque donnée afin d'assurer une haute disponibilité et une tolérance aux pannes. La réplication des données dans Cassandra suit des stratégies comme \"SimpleStrategy\" (réplication sur tous les nœuds) ou \"NetworkTopologyStrategy\" (réplication sur des nœuds répartis sur plusieurs centres de données).\n",
    "- **Column Family** :  \n",
    "Une Column Family dans Cassandra est équivalente à une table relationnelle, mais avec une flexibilité plus grande. Chaque Column Family contient plusieurs colonnes, et contrairement aux bases de données relationnelles, les colonnes n'ont pas besoin d'être définies à l'avance. Elles peuvent être ajoutées dynamiquement au fil du temps, ce qui permet d'évoluer facilement sans migrations complexes.\n",
    "- **Key (Clé primaire)** :  \n",
    "Chaque ligne dans une Column Family est identifiée par une clé unique. Cette clé est utilisée pour partitionner et localiser les données efficacement. Elle peut être composée d'un seul champ (clé primaire simple) ou de plusieurs champs (clé primaire composée). Par exemple, dans une table contenant des films, une clé primaire pourrait être show_id (identifiant du film).\n",
    "- **Colonnes** :  \n",
    "Les données dans Cassandra sont stockées sous forme de colonnes. Chaque colonne a trois composants essentiels :\n",
    "    - Nom : Le nom de la colonne (par exemple, title, release_year).\n",
    "    - Valeur : La donnée proprement dite (par exemple, \"Inception\", \"2010\").\n",
    "    - Timestamp : Le timestamp associé à la colonne, qui permet de gérer les versions des données et de résoudre les conflits de réplication, ce qui est essentiel dans un système distribué. Il permet de savoir quelle version d'une colonne est la plus récente.  \n",
    "Ces colonnes sont indépendantes les unes des autres. Cela signifie qu'elles peuvent être insérées, mises à jour ou supprimées sans impacter les autres colonnes dans la même ligne.\n",
    "- **Super Colonnes** :  \n",
    "Les Super Colonnes sont une structure plus avancée dans Cassandra. Elles permettent de regrouper plusieurs colonnes sous un même nom de \"super colonne\". Cela permet de créer des structures hiérarchiques ou imbriquées dans les données, où une super colonne peut contenir plusieurs colonnes. Ce mécanisme est utile pour des cas complexes, mais il est désormais souvent moins utilisé au profit de modèles de données plus simples.\n",
    "\n",
    "Source : \n",
    "- http://www-igm.univ-mlv.fr/~dr/XPOSE2010/Cassandra/modele.html\n",
    "\n",
    "### Architecture de Cassandra :\n",
    "\n",
    "L'architecture de Cassandra est décentralisée et repose sur un modèle peer-to-peer, ce qui signifie qu'il n'y a pas de nœud maître ou de coordination centralisée. Tous les nœuds sont égaux et partagent le même rôle. Cela permet une grande scalabilité et une tolérance aux pannes.\n",
    "\n",
    "- Partitions et Réplication : Cassandra répartit les données entre différents nœuds via un mécanisme de partitionnement basé sur un hash de la clé primaire. Chaque nœud du cluster stocke une portion des données, et des répliques de ces données peuvent être présentes sur plusieurs nœuds, selon la stratégie de réplication définie dans le Keyspace. Cela permet à Cassandra d'assurer une haute disponibilité, même en cas de panne d'un ou plusieurs nœuds.\n",
    "- Consistence et Quorum : Cassandra suit un modèle de consistance configurable, permettant de choisir entre des garanties de consistance fortes ou une consistance plus faible en fonction des besoins. Cela se configure via les paramètres Read Consistency Level et Write Consistency Level. Par exemple, un niveau de consistance QUORUM signifie qu'une opération de lecture ou d'écriture devra être validée par la majorité des répliques d'une donnée avant de réussir.\n",
    "\n",
    "# TODO : ajouter une source\n",
    "\n",
    "### Requêtes et Modèle de Consistance :\n",
    "\n",
    "Les requêtes dans Cassandra utilisent le Cassandra Query Language (CQL), qui ressemble à SQL mais avec des différences significatives adaptées aux particularités du modèle NoSQL.\n",
    "\n",
    "- Clé primaire et partitions : Dans Cassandra, la clé primaire détermine comment les données sont partitionnées et distribuées à travers les nœuds du cluster. Il est essentiel de bien concevoir cette clé pour assurer des performances optimales. La clé primaire peut être composée de :\n",
    "    - Partition key : La clé utilisée pour déterminer la partition sur un nœud.\n",
    "    - Clustering key : La clé qui permet de trier les données au sein d'une même partition.\n",
    "- Sélection et filtrage : Cassandra fonctionne très bien pour les requêtes basées sur la clé primaire. Les requêtes qui filtrent sur d'autres colonnes nécessitent l'utilisation d'index secondaires ou d'une modélisation spécifique des données pour garantir de bonnes performances. Si vous tentez de filtrer sur une colonne sans index, vous recevrez une erreur ALLOW FILTERING, ce qui signifie que la requête pourrait être très coûteuse en termes de performance.\n",
    "\n",
    "### Avantages et Inconvénients de Cassandra :\n",
    "\n",
    "#### Avantages :\n",
    "- Haute scalabilité horizontale (ajout facile de nœuds).\n",
    "- Résilience et tolérance aux pannes grâce à la réplication des données.\n",
    "- Facilité d'ajout de nouvelles colonnes sans affecter les données existantes.\n",
    "#### Inconvénients :\n",
    "- Consistance éventuelle : Cassandra privilégie la disponibilité et la partitionnement des données, parfois au détriment de la consistance immédiate.\n",
    "- Pas de support pour les jointures, les transactions complexes ou les relations entre tables, ce qui oblige à repenser la manière de modéliser les données. Ceci est le cas pour toutes les bases de données NoSQL.\n",
    "\n",
    "### Conclusion :\n",
    "Cassandra est une base de données extrêmement puissante pour les cas d'utilisation à grande échelle et hautement distribués, avec une grande tolérance aux pannes. Cependant, sa conception impose certaines contraintes sur la manière de structurer les données, et une bonne compréhension de son modèle de partitionnement est essentielle pour garantir de bonnes performances. Les applications qui nécessitent des requêtes complexes et des jointures devront probablement repenser leur modèle de données ou utiliser des outils supplémentaires pour effectuer des analyses en dehors de Cassandra."
   ]
  },
  {
   "cell_type": "markdown",
   "metadata": {},
   "source": [
    "## Fonctionnement de SQLite\n",
    "SQLite est une base de données relationnelle légère, autonome et sans serveur, idéale pour les applications qui nécessitent une gestion locale des données sans nécessiter de serveur de base de données externe. Voici les principaux points qui caractérisent son fonctionnement :\n",
    "\n",
    "- Base de données embarquée : Contrairement aux systèmes de gestion de base de données classiques (comme MySQL ou PostgreSQL), SQLite est une base de données embarquée, ce qui signifie qu'elle est directement intégrée dans l'application sans nécessiter de processus serveur séparé. Toutes les données sont stockées dans un fichier unique sur le disque.\n",
    "- Structure relationnelle : SQLite suit le modèle relationnel classique, avec des tables, des colonnes et des lignes. Il prend en charge les requêtes SQL classiques (SELECT, INSERT, UPDATE, DELETE), et permet la gestion des contraintes, des index et des transactions ACID (Atomicité, Cohérence, Isolation, Durabilité).\n",
    "- Pas de gestion de serveur : SQLite ne nécessite pas d'installation de serveur ni de configuration complexe, ce qui simplifie grandement son utilisation pour des applications légères, des prototypes ou des applications mobiles. Cela permet également une gestion plus simple des données localement, sans besoin de se soucier de la gestion d'un serveur distant.\n",
    "- Performance : Bien que très performant pour des opérations locales et des volumes de données modestes, SQLite n'est pas conçu pour les applications à grande échelle nécessitant une scalabilité horizontale ou une haute disponibilité. C'est une excellente solution pour des applications mononucléaires ou pour des projets qui ne nécessitent pas de réplication de données.\n",
    "- Transactions ACID : SQLite assure l'intégrité des données grâce à son modèle transactionnel, ce qui garantit que les opérations sont atomiques et cohérentes. Cependant, sa gestion des transactions simultanées est moins robuste que dans des systèmes plus avancés comme PostgreSQL ou Cassandra.\n",
    "\n",
    "### Avantages \n",
    "\n",
    "##### Efficacité en mémoire\n",
    "SQLite se distingue par son faible besoin en mémoire. Avec seulement quelques centaines de kilooctets, la bibliothèque occupe un espace minimal, ce qui améliore naturellement la rapidité du système. Ce faible encombrement en fait une solution idéale pour des applications de toutes tailles, des plus simples aux plus complexes.\n",
    "\n",
    "##### Autonomie\n",
    "SQLite fonctionne sans nécessiter de logiciel serveur supplémentaire. Il s’intègre facilement, sans dépendances externes ou configurations complexes. Cela simplifie son utilisation tout en éliminant la charge de gestion d’un serveur.\n",
    "\n",
    "##### Polyvalence\n",
    "En plus de supporter la majorité des commandes SQL standard, SQLite est compatible avec de nombreux formats de données. Cette flexibilité a conduit à son adoption dans des applications majeures telles que Facebook et WhatsApp, ainsi que dans divers systèmes d’exploitation, navigateurs et outils professionnels. Sa capacité à permettre un échange fluide entre différents systèmes en fait un choix privilégié pour de nombreux développeurs.\n",
    "\n",
    "##### Portabilité\n",
    "Les fichiers SQLite sont faciles à sauvegarder et à transférer. Comme ils ne dépendent pas d’un serveur ou d’une configuration complexe, ils peuvent être utilisés sans problème sur des plateformes variées.\n",
    "\n",
    "##### Fiabilité\n",
    "Avec un accès aux données unifié, une faible consommation de ressources et une indépendance vis-à-vis de l’architecture serveur-client, SQLite est une option fiable. Les erreurs de mémoire ou les limitations dues à un manque de RAM y sont également moins fréquentes.\n",
    "\n",
    "##### Libre de droits\n",
    "SQLite est disponible en domaine public, sans licence. Seuls certains modules complémentaires et le support sont payants, ce qui en fait une solution économique.\n",
    "\n",
    "### Limites de SQLite\n",
    "\n",
    "##### Absence de gestion multi-utilisateurs\n",
    "SQLite ne permet pas de gérer plusieurs comptes utilisateurs ou connexions simultanées. Contrairement à d’autres bases de données, il n’est pas conçu pour supporter une architecture multi-clients.\n",
    "\n",
    "##### Impact de la croissance des données\n",
    "Bien que léger, SQLite voit ses besoins en espace augmenter proportionnellement à la taille de la base de données. Cela peut avoir un effet négatif sur les performances lorsqu’il s’agit de gérer des volumes importants de données.\n",
    "\n",
    "##### Limitation en flexibilité pour les requêtes client\n",
    "En raison de son indépendance vis-à-vis des serveurs externes, SQLite ne prend pas en charge les requêtes de données effectuées directement par un client. De plus, il ne gère pas les connexions multiples simultanément, ce qui peut entraîner des retards dans certaines applications.\n",
    "\n",
    "Source : https://www.ionos.fr/digitalguide/sites-internet/developpement-web/sqlite/#:~:text=En%20tant%20que%20système%20de,sont%20utilisées%20à%20cet%20effet."
   ]
  },
  {
   "cell_type": "markdown",
   "metadata": {
    "id": "CSf1vpGsSce3"
   },
   "source": [
    "---\n",
    "## Installer les outils"
   ]
  },
  {
   "cell_type": "code",
   "execution_count": null,
   "metadata": {},
   "outputs": [],
   "source": [
    "# TODO : Faire un fichier de requirement pour ca plutot non ? TODOSETUP"
   ]
  },
  {
   "cell_type": "code",
   "execution_count": 3,
   "metadata": {
    "colab": {
     "base_uri": "https://localhost:8080/"
    },
    "id": "186hCryRIqD6",
    "outputId": "3c35e481-857d-48f9-8a48-49f0cb5b74d4"
   },
   "outputs": [
    {
     "name": "stdout",
     "output_type": "stream",
     "text": [
      "Defaulting to user installation because normal site-packages is not writeable\n",
      "Requirement already satisfied: plotly in /Users/zoemarquis/Library/Python/3.9/lib/python/site-packages (5.24.1)\n",
      "Requirement already satisfied: tenacity>=6.2.0 in /Users/zoemarquis/Library/Python/3.9/lib/python/site-packages (from plotly) (9.0.0)\n",
      "Requirement already satisfied: packaging in /Users/zoemarquis/Library/Python/3.9/lib/python/site-packages (from plotly) (24.2)\n"
     ]
    }
   ],
   "source": [
    "!pip install plotly "
   ]
  },
  {
   "cell_type": "code",
   "execution_count": 4,
   "metadata": {},
   "outputs": [
    {
     "name": "stdout",
     "output_type": "stream",
     "text": [
      "Defaulting to user installation because normal site-packages is not writeable\n",
      "Requirement already satisfied: matplotlib in /Users/zoemarquis/Library/Python/3.9/lib/python/site-packages (3.9.2)\n",
      "Requirement already satisfied: contourpy>=1.0.1 in /Users/zoemarquis/Library/Python/3.9/lib/python/site-packages (from matplotlib) (1.3.0)\n",
      "Requirement already satisfied: cycler>=0.10 in /Users/zoemarquis/Library/Python/3.9/lib/python/site-packages (from matplotlib) (0.12.1)\n",
      "Requirement already satisfied: fonttools>=4.22.0 in /Users/zoemarquis/Library/Python/3.9/lib/python/site-packages (from matplotlib) (4.55.0)\n",
      "Requirement already satisfied: kiwisolver>=1.3.1 in /Users/zoemarquis/Library/Python/3.9/lib/python/site-packages (from matplotlib) (1.4.7)\n",
      "Requirement already satisfied: numpy>=1.23 in /Users/zoemarquis/Library/Python/3.9/lib/python/site-packages (from matplotlib) (1.26.4)\n",
      "Requirement already satisfied: packaging>=20.0 in /Users/zoemarquis/Library/Python/3.9/lib/python/site-packages (from matplotlib) (24.2)\n",
      "Requirement already satisfied: pillow>=8 in /Users/zoemarquis/Library/Python/3.9/lib/python/site-packages (from matplotlib) (11.0.0)\n",
      "Requirement already satisfied: pyparsing>=2.3.1 in /Users/zoemarquis/Library/Python/3.9/lib/python/site-packages (from matplotlib) (3.2.0)\n",
      "Requirement already satisfied: python-dateutil>=2.7 in /Users/zoemarquis/Library/Python/3.9/lib/python/site-packages (from matplotlib) (2.9.0.post0)\n",
      "Requirement already satisfied: importlib-resources>=3.2.0 in /Users/zoemarquis/Library/Python/3.9/lib/python/site-packages (from matplotlib) (6.4.5)\n",
      "Requirement already satisfied: zipp>=3.1.0 in /Users/zoemarquis/Library/Python/3.9/lib/python/site-packages (from importlib-resources>=3.2.0->matplotlib) (3.21.0)\n",
      "Requirement already satisfied: six>=1.5 in /Library/Developer/CommandLineTools/Library/Frameworks/Python3.framework/Versions/3.9/lib/python3.9/site-packages (from python-dateutil>=2.7->matplotlib) (1.15.0)\n"
     ]
    }
   ],
   "source": [
    "!pip install matplotlib"
   ]
  },
  {
   "cell_type": "code",
   "execution_count": 5,
   "metadata": {
    "colab": {
     "base_uri": "https://localhost:8080/"
    },
    "id": "GVxxvVptShJM",
    "outputId": "072989a2-00ca-496c-a54f-d7b549f83684"
   },
   "outputs": [
    {
     "name": "stdout",
     "output_type": "stream",
     "text": [
      "Defaulting to user installation because normal site-packages is not writeable\n",
      "Requirement already satisfied: pandas in /Users/zoemarquis/Library/Python/3.9/lib/python/site-packages (2.2.3)\n",
      "Requirement already satisfied: numpy>=1.22.4 in /Users/zoemarquis/Library/Python/3.9/lib/python/site-packages (from pandas) (1.26.4)\n",
      "Requirement already satisfied: python-dateutil>=2.8.2 in /Users/zoemarquis/Library/Python/3.9/lib/python/site-packages (from pandas) (2.9.0.post0)\n",
      "Requirement already satisfied: pytz>=2020.1 in /Users/zoemarquis/Library/Python/3.9/lib/python/site-packages (from pandas) (2024.2)\n",
      "Requirement already satisfied: tzdata>=2022.7 in /Users/zoemarquis/Library/Python/3.9/lib/python/site-packages (from pandas) (2024.2)\n",
      "Requirement already satisfied: six>=1.5 in /Library/Developer/CommandLineTools/Library/Frameworks/Python3.framework/Versions/3.9/lib/python3.9/site-packages (from python-dateutil>=2.8.2->pandas) (1.15.0)\n"
     ]
    }
   ],
   "source": [
    "!pip install pandas\n",
    "# pour manipuler des dataframes et charger les données de kaggle"
   ]
  },
  {
   "cell_type": "code",
   "execution_count": 6,
   "metadata": {
    "colab": {
     "base_uri": "https://localhost:8080/"
    },
    "id": "ZQ3l1d5gzcLc",
    "outputId": "ee5a5b42-aa7a-41b1-ece4-aec355632e92"
   },
   "outputs": [
    {
     "name": "stdout",
     "output_type": "stream",
     "text": [
      "Defaulting to user installation because normal site-packages is not writeable\n",
      "Collecting cassandra-driver\n",
      "  Downloading cassandra_driver-3.29.2-cp39-cp39-macosx_11_0_arm64.whl.metadata (6.2 kB)\n",
      "Collecting geomet<0.3,>=0.1 (from cassandra-driver)\n",
      "  Using cached geomet-0.2.1.post1-py3-none-any.whl.metadata (1.0 kB)\n",
      "Requirement already satisfied: click in /Users/zoemarquis/Library/Python/3.9/lib/python/site-packages (from geomet<0.3,>=0.1->cassandra-driver) (8.1.7)\n",
      "Requirement already satisfied: six in /Library/Developer/CommandLineTools/Library/Frameworks/Python3.framework/Versions/3.9/lib/python3.9/site-packages (from geomet<0.3,>=0.1->cassandra-driver) (1.15.0)\n",
      "Downloading cassandra_driver-3.29.2-cp39-cp39-macosx_11_0_arm64.whl (364 kB)\n",
      "Using cached geomet-0.2.1.post1-py3-none-any.whl (18 kB)\n",
      "Installing collected packages: geomet, cassandra-driver\n",
      "Successfully installed cassandra-driver-3.29.2 geomet-0.2.1.post1\n"
     ]
    }
   ],
   "source": [
    "!pip install cassandra-driver"
   ]
  },
  {
   "cell_type": "code",
   "execution_count": 7,
   "metadata": {
    "colab": {
     "base_uri": "https://localhost:8080/"
    },
    "id": "TgYL5rsMxcOG",
    "outputId": "97b7d11e-3588-402c-bbd7-55e2f1b14481"
   },
   "outputs": [],
   "source": [
    "# TODO à vérifier sur ubuntu et mac e fonctoin de comment on a fait les scripts d'installation\n",
    "# # 🚨 sur linux \n",
    "# !apt-get update\n",
    "# !apt-get install -y openjdk-11-jdk\n",
    "# !apt-get install libev-dev\n",
    "# !apt-get install cassandra\n",
    "\n",
    "# # 🚨 sur mac\n",
    "# !brew install openjdk@17\n",
    "# !brew install libev\n",
    "# !brew install cassandra\n"
   ]
  },
  {
   "cell_type": "code",
   "execution_count": 8,
   "metadata": {
    "colab": {
     "base_uri": "https://localhost:8080/"
    },
    "id": "DJ3uiRzSTNUB",
    "outputId": "71e9a318-fb38-4150-c9b7-134e79138da4"
   },
   "outputs": [
    {
     "name": "stdout",
     "output_type": "stream",
     "text": [
      "Defaulting to user installation because normal site-packages is not writeable\n",
      "Collecting kagglehub\n",
      "  Downloading kagglehub-0.3.5-py3-none-any.whl.metadata (22 kB)\n",
      "Requirement already satisfied: packaging in /Users/zoemarquis/Library/Python/3.9/lib/python/site-packages (from kagglehub) (24.2)\n",
      "Requirement already satisfied: requests in /Users/zoemarquis/Library/Python/3.9/lib/python/site-packages (from kagglehub) (2.32.3)\n",
      "Collecting tqdm (from kagglehub)\n",
      "  Using cached tqdm-4.67.1-py3-none-any.whl.metadata (57 kB)\n",
      "Requirement already satisfied: charset-normalizer<4,>=2 in /Users/zoemarquis/Library/Python/3.9/lib/python/site-packages (from requests->kagglehub) (3.4.0)\n",
      "Requirement already satisfied: idna<4,>=2.5 in /Users/zoemarquis/Library/Python/3.9/lib/python/site-packages (from requests->kagglehub) (3.10)\n",
      "Requirement already satisfied: urllib3<3,>=1.21.1 in /Users/zoemarquis/Library/Python/3.9/lib/python/site-packages (from requests->kagglehub) (2.2.3)\n",
      "Requirement already satisfied: certifi>=2017.4.17 in /Users/zoemarquis/Library/Python/3.9/lib/python/site-packages (from requests->kagglehub) (2024.8.30)\n",
      "Downloading kagglehub-0.3.5-py3-none-any.whl (44 kB)\n",
      "Using cached tqdm-4.67.1-py3-none-any.whl (78 kB)\n",
      "Installing collected packages: tqdm, kagglehub\n",
      "Successfully installed kagglehub-0.3.5 tqdm-4.67.1\n"
     ]
    }
   ],
   "source": [
    "!pip install kagglehub\n",
    "# installer kagglehub pour récupérer le dataset"
   ]
  },
  {
   "cell_type": "code",
   "execution_count": 9,
   "metadata": {
    "colab": {
     "base_uri": "https://localhost:8080/"
    },
    "id": "7mCkktKTUCAw",
    "outputId": "129e5c0b-b98f-44a9-ecc0-1170c0d52916"
   },
   "outputs": [
    {
     "name": "stdout",
     "output_type": "stream",
     "text": [
      "Defaulting to user installation because normal site-packages is not writeable\n",
      "Collecting tabulate\n",
      "  Using cached tabulate-0.9.0-py3-none-any.whl.metadata (34 kB)\n",
      "Using cached tabulate-0.9.0-py3-none-any.whl (35 kB)\n",
      "Installing collected packages: tabulate\n",
      "Successfully installed tabulate-0.9.0\n"
     ]
    }
   ],
   "source": [
    "!pip install tabulate"
   ]
  },
  {
   "cell_type": "code",
   "execution_count": null,
   "metadata": {},
   "outputs": [],
   "source": [
    "# importer toutes les librairies nécessaires\n",
    "from cassandra.cluster import Cluster\n",
    "\n",
    "import kagglehub\n",
    "\n",
    "import matplotlib.pyplot as plt\n",
    "\n",
    "import numpy as np\n",
    "\n",
    "import os\n",
    "\n",
    "import pandas as pd\n",
    "\n",
    "import random\n",
    "\n",
    "import sqlite3\n",
    "\n",
    "from tabulate import tabulate\n",
    "import time"
   ]
  },
  {
   "cell_type": "markdown",
   "metadata": {
    "id": "DSa5TnVxSaXf"
   },
   "source": [
    "## Importation des données"
   ]
  },
  {
   "cell_type": "code",
   "execution_count": null,
   "metadata": {
    "colab": {
     "base_uri": "https://localhost:8080/"
    },
    "id": "7EWeXgMVTYUR",
    "outputId": "92b8b7cb-3191-4cdc-dfe8-0435ea2c0220"
   },
   "outputs": [
    {
     "name": "stderr",
     "output_type": "stream",
     "text": [
      "/Users/zoemarquis/Library/Python/3.9/lib/python/site-packages/urllib3/__init__.py:35: NotOpenSSLWarning: urllib3 v2 only supports OpenSSL 1.1.1+, currently the 'ssl' module is compiled with 'LibreSSL 2.8.3'. See: https://github.com/urllib3/urllib3/issues/3020\n",
      "  warnings.warn(\n",
      "/Users/zoemarquis/Library/Python/3.9/lib/python/site-packages/tqdm/auto.py:21: TqdmWarning: IProgress not found. Please update jupyter and ipywidgets. See https://ipywidgets.readthedocs.io/en/stable/user_install.html\n",
      "  from .autonotebook import tqdm as notebook_tqdm\n"
     ]
    },
    {
     "name": "stdout",
     "output_type": "stream",
     "text": [
      "Chemin vers le fichier du dataset :  /Users/zoemarquis/.cache/kagglehub/datasets/shivamb/netflix-shows/versions/5\n"
     ]
    }
   ],
   "source": [
    "path = kagglehub.dataset_download(\"shivamb/netflix-shows\")\n",
    "print(\"Chemin vers le fichier du dataset : \", path)"
   ]
  },
  {
   "cell_type": "code",
   "execution_count": null,
   "metadata": {
    "colab": {
     "base_uri": "https://localhost:8080/"
    },
    "id": "31NMsovvTYM6",
    "outputId": "d9527294-d00e-490b-b3f3-936eba3790fd"
   },
   "outputs": [
    {
     "name": "stdout",
     "output_type": "stream",
     "text": [
      "Nom du fichier :  ['netflix_titles.csv']\n"
     ]
    }
   ],
   "source": [
    "files = os.listdir(path)\n",
    "print(\"Nom du fichier : \", files)"
   ]
  },
  {
   "cell_type": "code",
   "execution_count": null,
   "metadata": {
    "id": "Bvv23wiLSaXg"
   },
   "outputs": [],
   "source": [
    "filename = f\"{path}/{files[0]}\"\n",
    "df_initial = pd.read_csv(filename)"
   ]
  },
  {
   "cell_type": "code",
   "execution_count": null,
   "metadata": {
    "colab": {
     "base_uri": "https://localhost:8080/"
    },
    "id": "_npbZAVzSaXg",
    "outputId": "a455d3b7-8c08-4319-f298-2f0e93c112af"
   },
   "outputs": [
    {
     "name": "stdout",
     "output_type": "stream",
     "text": [
      "+----+-----------+---------+----------------------------------+-------------------------------+-----------------------------------------------------------------------------------------------------------------------------------------------------------------------------------------------------------------------------------------------------------------------------------------------------------------+-----------------------------------------------------------------------+--------------------+----------------+----------+------------+---------------------------------------------------------------+-----------------------------------------------------------------------------------------------------------------------------------------------------------+\n",
      "|    | show_id   | type    | title                            | director                      | cast                                                                                                                                                                                                                                                                                                            | country                                                               | date_added         |   release_year | rating   | duration   | listed_in                                                     | description                                                                                                                                               |\n",
      "|----+-----------+---------+----------------------------------+-------------------------------+-----------------------------------------------------------------------------------------------------------------------------------------------------------------------------------------------------------------------------------------------------------------------------------------------------------------+-----------------------------------------------------------------------+--------------------+----------------+----------+------------+---------------------------------------------------------------+-----------------------------------------------------------------------------------------------------------------------------------------------------------|\n",
      "|  0 | s1        | Movie   | Dick Johnson Is Dead             | Kirsten Johnson               | nan                                                                                                                                                                                                                                                                                                             | United States                                                         | September 25, 2021 |           2020 | PG-13    | 90 min     | Documentaries                                                 | As her father nears the end of his life, filmmaker Kirsten Johnson stages his death in inventive and comical ways to help them both face the inevitable.  |\n",
      "|  1 | s2        | TV Show | Blood & Water                    | nan                           | Ama Qamata, Khosi Ngema, Gail Mabalane, Thabang Molaba, Dillon Windvogel, Natasha Thahane, Arno Greeff, Xolile Tshabalala, Getmore Sithole, Cindy Mahlangu, Ryle De Morny, Greteli Fincham, Sello Maake Ka-Ncube, Odwa Gwanya, Mekaila Mathys, Sandi Schultz, Duane Williams, Shamilla Miller, Patrick Mofokeng | South Africa                                                          | September 24, 2021 |           2021 | TV-MA    | 2 Seasons  | International TV Shows, TV Dramas, TV Mysteries               | After crossing paths at a party, a Cape Town teen sets out to prove whether a private-school swimming star is her sister who was abducted at birth.       |\n",
      "|  2 | s3        | TV Show | Ganglands                        | Julien Leclercq               | Sami Bouajila, Tracy Gotoas, Samuel Jouy, Nabiha Akkari, Sofia Lesaffre, Salim Kechiouche, Noureddine Farihi, Geert Van Rampelberg, Bakary Diombera                                                                                                                                                             | nan                                                                   | September 24, 2021 |           2021 | TV-MA    | 1 Season   | Crime TV Shows, International TV Shows, TV Action & Adventure | To protect his family from a powerful drug lord, skilled thief Mehdi and his expert team of robbers are pulled into a violent and deadly turf war.        |\n",
      "|  3 | s4        | TV Show | Jailbirds New Orleans            | nan                           | nan                                                                                                                                                                                                                                                                                                             | nan                                                                   | September 24, 2021 |           2021 | TV-MA    | 1 Season   | Docuseries, Reality TV                                        | Feuds, flirtations and toilet talk go down among the incarcerated women at the Orleans Justice Center in New Orleans on this gritty reality series.       |\n",
      "|  4 | s5        | TV Show | Kota Factory                     | nan                           | Mayur More, Jitendra Kumar, Ranjan Raj, Alam Khan, Ahsaas Channa, Revathi Pillai, Urvi Singh, Arun Kumar                                                                                                                                                                                                        | India                                                                 | September 24, 2021 |           2021 | TV-MA    | 2 Seasons  | International TV Shows, Romantic TV Shows, TV Comedies        | In a city of coaching centers known to train India’s finest collegiate minds, an earnest but unexceptional student and his friends navigate campus life.  |\n",
      "|  5 | s6        | TV Show | Midnight Mass                    | Mike Flanagan                 | Kate Siegel, Zach Gilford, Hamish Linklater, Henry Thomas, Kristin Lehman, Samantha Sloyan, Igby Rigney, Rahul Kohli, Annarah Cymone, Annabeth Gish, Alex Essoe, Rahul Abburi, Matt Biedel, Michael Trucco, Crystal Balint, Louis Oliver                                                                        | nan                                                                   | September 24, 2021 |           2021 | TV-MA    | 1 Season   | TV Dramas, TV Horror, TV Mysteries                            | The arrival of a charismatic young priest brings glorious miracles, ominous mysteries and renewed religious fervor to a dying town desperate to believe.  |\n",
      "|  6 | s7        | Movie   | My Little Pony: A New Generation | Robert Cullen, José Luis Ucha | Vanessa Hudgens, Kimiko Glenn, James Marsden, Sofia Carson, Liza Koshy, Ken Jeong, Elizabeth Perkins, Jane Krakowski, Michael McKean, Phil LaMarr                                                                                                                                                               | nan                                                                   | September 24, 2021 |           2021 | PG       | 91 min     | Children & Family Movies                                      | Equestria's divided. But a bright-eyed hero believes Earth Ponies, Pegasi and Unicorns should be pals — and, hoof to heart, she’s determined to prove it. |\n",
      "|  7 | s8        | Movie   | Sankofa                          | Haile Gerima                  | Kofi Ghanaba, Oyafunmike Ogunlano, Alexandra Duah, Nick Medley, Mutabaruka, Afemo Omilami, Reggie Carter, Mzuri                                                                                                                                                                                                 | United States, Ghana, Burkina Faso, United Kingdom, Germany, Ethiopia | September 24, 2021 |           1993 | TV-MA    | 125 min    | Dramas, Independent Movies, International Movies              | On a photo shoot in Ghana, an American model slips back in time, becomes enslaved on a plantation and bears witness to the agony of her ancestral past.   |\n",
      "|  8 | s9        | TV Show | The Great British Baking Show    | Andy Devonshire               | Mel Giedroyc, Sue Perkins, Mary Berry, Paul Hollywood                                                                                                                                                                                                                                                           | United Kingdom                                                        | September 24, 2021 |           2021 | TV-14    | 9 Seasons  | British TV Shows, Reality TV                                  | A talented batch of amateur bakers face off in a 10-week competition, whipping up their best dishes in the hopes of being named the U.K.'s best.          |\n",
      "|  9 | s10       | Movie   | The Starling                     | Theodore Melfi                | Melissa McCarthy, Chris O'Dowd, Kevin Kline, Timothy Olyphant, Daveed Diggs, Skyler Gisondo, Laura Harrier, Rosalind Chao, Kimberly Quinn, Loretta Devine, Ravi Kapoor                                                                                                                                          | United States                                                         | September 24, 2021 |           2021 | PG-13    | 104 min    | Comedies, Dramas                                              | A woman adjusting to life after a loss contends with a feisty bird that's taken over her garden — and a husband who's struggling to find a way forward.   |\n",
      "+----+-----------+---------+----------------------------------+-------------------------------+-----------------------------------------------------------------------------------------------------------------------------------------------------------------------------------------------------------------------------------------------------------------------------------------------------------------+-----------------------------------------------------------------------+--------------------+----------------+----------+------------+---------------------------------------------------------------+-----------------------------------------------------------------------------------------------------------------------------------------------------------+\n"
     ]
    }
   ],
   "source": [
    "print(tabulate(df_initial.head(10), headers='keys', tablefmt='psql'))"
   ]
  },
  {
   "cell_type": "code",
   "execution_count": 15,
   "metadata": {
    "colab": {
     "base_uri": "https://localhost:8080/"
    },
    "id": "LhIN7tF2UP3e",
    "outputId": "dd3f1bd5-2061-4a92-9b5c-d9a706660362"
   },
   "outputs": [
    {
     "name": "stdout",
     "output_type": "stream",
     "text": [
      "Nombre de lignes : 8807\n"
     ]
    }
   ],
   "source": [
    "# afficher le nombre de lignes dans le dataset\n",
    "print(f\"Nombre de lignes : {len(df_initial)}\")"
   ]
  },
  {
   "cell_type": "code",
   "execution_count": 16,
   "metadata": {
    "colab": {
     "base_uri": "https://localhost:8080/"
    },
    "id": "ja5uNKumUP1X",
    "outputId": "85d58bb2-0c66-4f47-c720-ce978e0a9f2e"
   },
   "outputs": [
    {
     "name": "stdout",
     "output_type": "stream",
     "text": [
      "show_id         object\n",
      "type            object\n",
      "title           object\n",
      "director        object\n",
      "cast            object\n",
      "country         object\n",
      "date_added      object\n",
      "release_year     int64\n",
      "rating          object\n",
      "duration        object\n",
      "listed_in       object\n",
      "description     object\n",
      "dtype: object\n"
     ]
    }
   ],
   "source": [
    "# types des colonnes\n",
    "print(df_initial.dtypes)"
   ]
  },
  {
   "cell_type": "code",
   "execution_count": 17,
   "metadata": {
    "id": "QEm7E9xvSaXg"
   },
   "outputs": [],
   "source": [
    "# Convertir la colonne show_id en int en enlevant le préfixe 's' (plus simple pour gérer exactement le meme type de données en Cassandra et MySQL)\n",
    "df_initial['show_id'] = df_initial['show_id'].str.replace('s', '').astype(int).astype(int)\n",
    "\n",
    "df_initial['show_id'] = df_initial['show_id'].astype(int)\n",
    "df_initial['release_year'] = df_initial['release_year'].astype(int)\n",
    "\n",
    "df_initial['type'] = df_initial['title'].astype(str)\n",
    "df_initial['title'] = df_initial['title'].astype(str)\n",
    "df_initial['director'] = df_initial['director'].astype(str)\n",
    "df_initial['cast'] = df_initial['cast'].astype(str)\n",
    "df_initial['country'] = df_initial['country'].astype(str)\n",
    "df_initial['date_added'] = df_initial['date_added'].astype(str)\n",
    "df_initial['rating'] = df_initial['rating'].astype(str)\n",
    "df_initial['duration'] = df_initial['duration'].astype(str)\n",
    "df_initial['listed_in'] = df_initial['listed_in'].astype(str)\n",
    "df_initial['description'] = df_initial['description'].astype(str)"
   ]
  },
  {
   "cell_type": "code",
   "execution_count": 18,
   "metadata": {
    "colab": {
     "base_uri": "https://localhost:8080/"
    },
    "id": "nhGD7JxiUPy_",
    "outputId": "14418a1c-e7a1-4425-ebb9-b36e5164063e"
   },
   "outputs": [
    {
     "name": "stdout",
     "output_type": "stream",
     "text": [
      "show_id          int64\n",
      "type            object\n",
      "title           object\n",
      "director        object\n",
      "cast            object\n",
      "country         object\n",
      "date_added      object\n",
      "release_year     int64\n",
      "rating          object\n",
      "duration        object\n",
      "listed_in       object\n",
      "description     object\n",
      "dtype: object\n"
     ]
    }
   ],
   "source": [
    "# types des colonnes\n",
    "print(df_initial.dtypes)"
   ]
  },
  {
   "cell_type": "markdown",
   "metadata": {
    "id": "uDH9Xdn3aRcT"
   },
   "source": [
    "## CRUD : Create, Read, Update, Delete\n",
    "- Create (*Insert*) : Insérer des données dans la base de données.\n",
    "- Read (*Select*) : Récupérer des données.\n",
    "- Update (*Update*) : Modifier des données existantes.\n",
    "- Delete (*Delete*) : Effacer des données."
   ]
  },
  {
   "cell_type": "code",
   "execution_count": 19,
   "metadata": {
    "id": "v-XAjHUPL-Fq"
   },
   "outputs": [],
   "source": [
    "schema = \"\"\"\n",
    "CREATE TABLE IF NOT EXISTS shows (\n",
    "    show_id INT PRIMARY KEY,\n",
    "    title TEXT,\n",
    "    type TEXT,\n",
    "    director TEXT,\n",
    "    cast TEXT,\n",
    "    country TEXT,\n",
    "    date_added TEXT,\n",
    "    release_year INT,\n",
    "    rating TEXT,\n",
    "    duration TEXT,\n",
    "    listed_in TEXT,\n",
    "    description TEXT\n",
    ");\n",
    "\"\"\""
   ]
  },
  {
   "cell_type": "code",
   "execution_count": 20,
   "metadata": {
    "id": "5HsvkRtyOTPO"
   },
   "outputs": [],
   "source": [
    "data_zoe_charlotte = {\n",
    "    'show_id': [0],\n",
    "    'title': ['Zoé & Charlotte'],\n",
    "    'type': ['Movie'],\n",
    "    'director': ['Christopher Nolan'],\n",
    "    'cast': ['Leonardo DiCaprio, Joseph Gordon-Levitt'],\n",
    "    'country': ['USA'],\n",
    "    'date_added': ['2021-01-01'],\n",
    "    'release_year': [2001],\n",
    "    'rating': ['PG-13'],\n",
    "    'duration': ['148 min'],\n",
    "    'listed_in': ['Action, Sci-Fi'],\n",
    "    'description': ['A thief who steals corporate secrets through the use of dream-sharing technology is given the inverse task of planting an idea into the mind of a CEO.']\n",
    "}\n",
    "df_zoe_charlotte = pd.DataFrame(data_zoe_charlotte)"
   ]
  },
  {
   "cell_type": "markdown",
   "metadata": {
    "id": "gyQhyPcqXcdW"
   },
   "source": [
    "### SQLite"
   ]
  },
  {
   "cell_type": "code",
   "execution_count": null,
   "metadata": {
    "colab": {
     "base_uri": "https://localhost:8080/"
    },
    "id": "czfGeguOZ7zT",
    "outputId": "937e55dc-b9ad-449c-93ad-2fe850ba5215"
   },
   "outputs": [],
   "source": [
    "# Créer une base de données SQLite en mémoire\n",
    "conn = sqlite3.connect(':memory:')\n",
    "cursor = conn.cursor()\n",
    "\n",
    "def drop_table_sqlite():\n",
    "    cursor.execute(\"DROP TABLE IF EXISTS shows;\")\n",
    "    conn.commit()\n",
    "\n",
    "def create_table_sqlite():\n",
    "    # Crée ta table ici\n",
    "    cursor.execute(schema)\n",
    "    conn.commit()\n",
    "\n",
    "drop_table_sqlite()\n",
    "create_table_sqlite()\n"
   ]
  },
  {
   "cell_type": "code",
   "execution_count": null,
   "metadata": {
    "id": "v4PSpmxUNXwJ"
   },
   "outputs": [],
   "source": [
    "# --- CREATE ---\n",
    "def sqlite_insert(df):\n",
    "    drop_table_sqlite()\n",
    "    create_table_sqlite()\n",
    "    columns = ', '.join(df.columns)\n",
    "    placeholders = ', '.join(['?'] * len(df.columns))\n",
    "    insert_query = f\"INSERT INTO shows ({columns}) VALUES ({placeholders})\"\n",
    "\n",
    "    start_time = time.time()\n",
    "    for _, row in df.iterrows():\n",
    "      cursor.execute(insert_query, tuple(row))\n",
    "    conn.commit()\n",
    "\n",
    "    create_time_sqlite = time.time() - start_time\n",
    "    print(f\"Create Time: {create_time_sqlite:.6f} seconds\")\n",
    "    return create_time_sqlite\n",
    "\n",
    "# --- READ ---\n",
    "def sqlite_read(df):\n",
    "    # drop_table_sqlite()\n",
    "    # create_table_sqlite()\n",
    "    sqlite_insert(df)\n",
    "    start_time = time.time()\n",
    "    cursor.execute(\"SELECT * FROM shows WHERE release_year > 2000\")\n",
    "    result = cursor.fetchall()\n",
    "    read_time_sqlite = time.time() - start_time\n",
    "    print(f\"Read Time: {read_time_sqlite:.6f} seconds\")\n",
    "    print(f\"Queried {len(result)} records\")\n",
    "    return read_time_sqlite\n",
    "\n",
    "# --- UPDATE ---\n",
    "def sqlite_update(df):\n",
    "    # drop_table_sqlite()\n",
    "    # create_table_sqlite()\n",
    "    sqlite_insert(df)\n",
    "    start_time = time.time()\n",
    "    cursor.execute(\"UPDATE shows SET rating='PG' WHERE release_year > 2000\")\n",
    "    conn.commit()\n",
    "    update_time_sqlite = time.time() - start_time\n",
    "    print(f\"Update Time: {update_time_sqlite:.6f} seconds\")\n",
    "    return update_time_sqlite\n",
    "\n",
    "# --- DELETE ---\n",
    "def sqlite_delete(df):\n",
    "    # drop_table_sqlite()\n",
    "    # create_table_sqlite()\n",
    "    sqlite_insert(df)\n",
    "    start_time = time.time()\n",
    "    cursor.execute(\"DELETE FROM shows WHERE release_year > 2000\")\n",
    "    conn.commit()\n",
    "    delete_time_sqlite = time.time() - start_time\n",
    "    print(f\"Delete Time: {delete_time_sqlite:.6f} seconds\")\n",
    "    return delete_time_sqlite"
   ]
  },
  {
   "cell_type": "code",
   "execution_count": null,
   "metadata": {},
   "outputs": [
    {
     "name": "stdout",
     "output_type": "stream",
     "text": [
      "Create Time: 0.000265 seconds\n",
      "Create Time: 0.000104 seconds\n",
      "Create Time: 0.000059 seconds\n",
      "Create Time: 0.000047 seconds\n",
      "Create Time: 0.000108 seconds\n",
      "CREATE: Mean Time = 0.000116s, Std Time = 0.000078s\n",
      "Total rows in 'shows' table: 1\n",
      "Create Time: 0.000068 seconds\n",
      "Read Time: 0.000015 seconds\n",
      "Queried 1 records\n",
      "Create Time: 0.000069 seconds\n",
      "Read Time: 0.000010 seconds\n",
      "Queried 1 records\n",
      "Create Time: 0.000051 seconds\n",
      "Read Time: 0.000007 seconds\n",
      "Queried 1 records\n",
      "Create Time: 0.000044 seconds\n",
      "Read Time: 0.000007 seconds\n",
      "Queried 1 records\n",
      "Create Time: 0.000041 seconds\n",
      "Read Time: 0.000007 seconds\n",
      "Queried 1 records\n",
      "READ: Mean Time = 0.000009s, Std Time = 0.000003s\n",
      "Create Time: 0.000047 seconds\n",
      "Update Time: 0.000008 seconds\n",
      "Create Time: 0.000043 seconds\n",
      "Update Time: 0.000006 seconds\n",
      "Create Time: 0.000042 seconds\n",
      "Update Time: 0.000005 seconds\n",
      "Create Time: 0.000039 seconds\n",
      "Update Time: 0.000005 seconds\n",
      "Create Time: 0.000039 seconds\n",
      "Update Time: 0.000005 seconds\n",
      "UPDATE: Mean Time = 0.000006s, Std Time = 0.000001s\n",
      "Create Time: 0.000041 seconds\n",
      "Delete Time: 0.000006 seconds\n",
      "Create Time: 0.000038 seconds\n",
      "Delete Time: 0.000005 seconds\n",
      "Create Time: 0.000035 seconds\n",
      "Delete Time: 0.000004 seconds\n",
      "Create Time: 0.000034 seconds\n",
      "Delete Time: 0.000005 seconds\n",
      "Create Time: 0.000033 seconds\n",
      "Delete Time: 0.000004 seconds\n",
      "DELETE: Mean Time = 0.000005s, Std Time = 0.000001s\n"
     ]
    }
   ],
   "source": [
    "# Fonction pour effectuer une opération plusieurs fois et calculer la moyenne et l'écart-type\n",
    "def benchmark_operation(func, *args):\n",
    "    times = []\n",
    "    for _ in range(5):  # Effectuer 5 itérations\n",
    "        times.append(func(*args))  # Exécuter la fonction avec les arguments\n",
    "    \n",
    "    # Calculer la moyenne et l'écart-type\n",
    "    mean_time = np.mean(times)\n",
    "    std_time = np.std(times)\n",
    "    return mean_time, std_time\n",
    "\n",
    "# --- CREATE ---\n",
    "create_sqlite_mean, create_sqlite_std = benchmark_operation(sqlite_insert, df_zoe_charlotte)\n",
    "print(f\"CREATE: Mean Time = {create_sqlite_mean:.6f}s, Std Time = {create_sqlite_std:.6f}s\")\n",
    "\n",
    "# Vérifier le nombre de lignes insérées\n",
    "cursor.execute('SELECT COUNT(*) FROM shows')\n",
    "row = cursor.fetchone()\n",
    "print(f\"Total rows in 'shows' table: {row[0]}\")\n",
    "\n",
    "# --- READ ---\n",
    "read_sqlite_mean, read_sqlite_std = benchmark_operation(sqlite_read, df_zoe_charlotte)\n",
    "print(f\"READ: Mean Time = {read_sqlite_mean:.6f}s, Std Time = {read_sqlite_std:.6f}s\")\n",
    "\n",
    "# --- UPDATE ---\n",
    "update_sqlite_mean, update_sqlite_std = benchmark_operation(sqlite_update, df_zoe_charlotte)\n",
    "print(f\"UPDATE: Mean Time = {update_sqlite_mean:.6f}s, Std Time = {update_sqlite_std:.6f}s\")\n",
    "\n",
    "# --- DELETE ---\n",
    "delete_sqlite_mean, delete_sqlite_std = benchmark_operation(sqlite_delete, df_zoe_charlotte)\n",
    "print(f\"DELETE: Mean Time = {delete_sqlite_mean:.6f}s, Std Time = {delete_sqlite_std:.6f}s\")"
   ]
  },
  {
   "cell_type": "markdown",
   "metadata": {
    "id": "8p6QWjBaUO8t"
   },
   "source": [
    "##### Test d'insertion avec une ligne de DataFrame\n",
    "Nous avons d'abord testé l'insertion d'une seule ligne de données extraite d'un DataFrame dans notre base de données. Cette étape permet de vérifier que l'insertion fonctionne correctement sur un cas simple, avant de passer à l'insertion de l'ensemble du DataFrame.\n",
    "\n",
    "À ce stade, l'insertion a été réalisée avec succès sur une ligne de données, ce qui nous permet d'assurer que la logique de base est correcte. Nous allons maintenant procéder à l'insertion du DataFrame complet pour tester la gestion de plusieurs lignes et évaluer les performances d'insertion à plus grande échelle."
   ]
  },
  {
   "cell_type": "code",
   "execution_count": 24,
   "metadata": {},
   "outputs": [
    {
     "name": "stdout",
     "output_type": "stream",
     "text": [
      "Create Time: 0.135467 seconds\n",
      "Create Time: 0.133374 seconds\n",
      "Create Time: 0.135358 seconds\n",
      "Create Time: 0.130738 seconds\n",
      "Create Time: 0.130784 seconds\n",
      "CREATE: Mean Time = 0.133144s, Std Time = 0.002084s\n",
      "Total rows in 'shows' table: 8807\n",
      "Create Time: 0.128457 seconds\n",
      "Read Time: 0.008031 seconds\n",
      "Queried 8245 records\n",
      "Create Time: 0.132015 seconds\n",
      "Read Time: 0.007477 seconds\n",
      "Queried 8245 records\n",
      "Create Time: 0.132552 seconds\n",
      "Read Time: 0.007437 seconds\n",
      "Queried 8245 records\n",
      "Create Time: 0.133280 seconds\n",
      "Read Time: 0.007423 seconds\n",
      "Queried 8245 records\n",
      "Create Time: 0.133945 seconds\n",
      "Read Time: 0.007420 seconds\n",
      "Queried 8245 records\n",
      "READ: Mean Time = 0.007558s, Std Time = 0.000238s\n",
      "Create Time: 0.129571 seconds\n",
      "Update Time: 0.003300 seconds\n",
      "Create Time: 0.130176 seconds\n",
      "Update Time: 0.003029 seconds\n",
      "Create Time: 0.131350 seconds\n",
      "Update Time: 0.003651 seconds\n",
      "Create Time: 0.135176 seconds\n",
      "Update Time: 0.003276 seconds\n",
      "Create Time: 0.131597 seconds\n",
      "Update Time: 0.003195 seconds\n",
      "UPDATE: Mean Time = 0.003290s, Std Time = 0.000204s\n",
      "Create Time: 0.131062 seconds\n",
      "Delete Time: 0.002803 seconds\n",
      "Create Time: 0.135315 seconds\n",
      "Delete Time: 0.002975 seconds\n",
      "Create Time: 0.130923 seconds\n",
      "Delete Time: 0.002876 seconds\n",
      "Create Time: 0.132722 seconds\n",
      "Delete Time: 0.002978 seconds\n",
      "Create Time: 0.134468 seconds\n",
      "Delete Time: 0.002716 seconds\n",
      "DELETE: Mean Time = 0.002870s, Std Time = 0.000101s\n"
     ]
    }
   ],
   "source": [
    "# --- CREATE ---\n",
    "create_sqlite_massive_mean, create_sqlite_massive_std = benchmark_operation(sqlite_insert, df_initial)\n",
    "print(f\"CREATE: Mean Time = {create_sqlite_massive_mean:.6f}s, Std Time = {create_sqlite_massive_std:.6f}s\")\n",
    "\n",
    "# Vérifier le nombre de lignes insérées\n",
    "cursor.execute('SELECT COUNT(*) FROM shows')\n",
    "row = cursor.fetchone()\n",
    "print(f\"Total rows in 'shows' table: {row[0]}\")\n",
    "\n",
    "# --- READ ---\n",
    "read_sqlite_massive_mean, read_sqlite_massive_std = benchmark_operation(sqlite_read, df_initial)\n",
    "print(f\"READ: Mean Time = {read_sqlite_massive_mean:.6f}s, Std Time = {read_sqlite_massive_std:.6f}s\")\n",
    "\n",
    "# --- UPDATE ---\n",
    "update_sqlite_massive_mean, update_sqlite_massive_std = benchmark_operation(sqlite_update, df_initial)\n",
    "print(f\"UPDATE: Mean Time = {update_sqlite_massive_mean:.6f}s, Std Time = {update_sqlite_massive_std:.6f}s\")\n",
    "\n",
    "# --- DELETE ---\n",
    "delete_sqlite_massive_mean, delete_sqlite_massive_std = benchmark_operation(sqlite_delete, df_initial)\n",
    "print(f\"DELETE: Mean Time = {delete_sqlite_massive_mean:.6f}s, Std Time = {delete_sqlite_massive_std:.6f}s\")"
   ]
  },
  {
   "cell_type": "markdown",
   "metadata": {
    "id": "lvIFGYwhtkfY"
   },
   "source": [
    "### Cassandra"
   ]
  },
  {
   "cell_type": "code",
   "execution_count": 25,
   "metadata": {},
   "outputs": [
    {
     "name": "stdout",
     "output_type": "stream",
     "text": [
      "Datacenter: datacenter1\n",
      "=======================\n",
      "Status=Up/Down\n",
      "|/ State=Normal/Leaving/Joining/Moving\n",
      "--  Address    Load        Tokens  Owns (effective)  Host ID                               Rack \n",
      "UN  127.0.0.1  860,64 KiB  16      100,0%            11c2e131-3642-40ab-a44b-5d5e95f42edb  rack1\n",
      "\n"
     ]
    }
   ],
   "source": [
    "# vérifier l'état actuel du noeud Cassandra\n",
    "!nodetool status"
   ]
  },
  {
   "cell_type": "code",
   "execution_count": null,
   "metadata": {
    "colab": {
     "base_uri": "https://localhost:8080/",
     "height": 608
    },
    "id": "sZNeaq6fwhS9",
    "outputId": "6b6d4186-8a12-4942-aea8-6806c6ee8835"
   },
   "outputs": [
    {
     "name": "stdout",
     "output_type": "stream",
     "text": [
      "replication factor = 1\n"
     ]
    }
   ],
   "source": [
    "# Connexion à Cassandra\n",
    "cluster = Cluster(['127.0.0.1'])\n",
    "session = cluster.connect()\n",
    "\n",
    "\n",
    "def drop_table_cassandra():\n",
    "    session.execute(\"\"\"\n",
    "        DROP TABLE IF EXISTS netflix.shows;\n",
    "        \"\"\")\n",
    "    session.execute(\"\"\"\n",
    "        DROP KEYSPACE IF EXISTS netflix;\n",
    "        \"\"\")\n",
    "\n",
    "def create_table_cassandra(replication_factor):\n",
    "    session.execute(f\"\"\"\n",
    "        CREATE KEYSPACE netflix\n",
    "        WITH REPLICATION = {{\n",
    "            'class': 'SimpleStrategy', \n",
    "            'replication_factor': {replication_factor}\n",
    "        }};\n",
    "        \"\"\")\n",
    "    session.set_keyspace('netflix')\n",
    "    session.execute(schema)\n",
    "    print(f\"replication factor = {replication_factor}\")\n",
    "\n",
    "     \n",
    "drop_table_cassandra()\n",
    "create_table_cassandra(1)"
   ]
  },
  {
   "cell_type": "markdown",
   "metadata": {
    "id": "4Df27nDd5-sx"
   },
   "source": [
    "##### Test sans index\n",
    "Pour l'instant, nous effectuons les tests sans index. Cette approche nous permettra d'évaluer les performances de base. Nous ajouterons ensuite des index pour comparer les résultats et analyser l'impact sur les performances des requêtes."
   ]
  },
  {
   "cell_type": "code",
   "execution_count": 27,
   "metadata": {
    "id": "o5dNeAZ9tndK"
   },
   "outputs": [],
   "source": [
    "# --- CREATE ---\n",
    "def cassandra_insert(*args):\n",
    "    df = args[0]  # Premier argument, qui est le DataFrame\n",
    "    nb_repl = args[1]  # Deuxième argument, qui est le nombre de répliques\n",
    "\n",
    "    drop_table_cassandra()\n",
    "    create_table_cassandra(nb_repl)\n",
    "\n",
    "    insert_query = session.prepare(\"INSERT INTO shows (show_id, title, director, cast, country, date_added, release_year, rating, duration, listed_in, description) VALUES (?, ?, ?, ?, ?, ?, ?, ?, ?, ?, ?)\")\n",
    "\n",
    "    start_time = time.time()\n",
    "    for _, row in df.iterrows():\n",
    "        session.execute(insert_query, (row['show_id'], row['title'], row['director'], row['cast'], row['country'], row['date_added'], row['release_year'], row['rating'], row['duration'], row['listed_in'], row['description']))\n",
    "    create_time = time.time() - start_time\n",
    "\n",
    "    print(f\"Create Time: {create_time:.6f} seconds\")\n",
    "\n",
    "    return create_time\n",
    "\n",
    "# --- READ ---\n",
    "def cassandra_read(*args):\n",
    "    df = args[0]  # Premier argument, qui est le DataFrame\n",
    "    nb_repl = args[1]  # Deuxième argument, qui est le nombre de répliques\n",
    "\n",
    "    # drop_table_cassandra()\n",
    "    # create_table_cassandra(nb_repl)\n",
    "    cassandra_insert(df, nb_repl)\n",
    "\n",
    "    start_time = time.time()\n",
    "    # On utilise ici ALLOW FILTERING car release_year ne fait pas partie de la clef primaire\n",
    "    result = session.execute(\"SELECT * FROM shows WHERE release_year > 2000 ALLOW FILTERING\")\n",
    "    read_time = time.time() - start_time\n",
    "    print(f\"Read Time: {read_time:.6f} seconds\")\n",
    "    num_records = sum(1 for _ in result)  # Count rows using a generator expression\n",
    "    print(f\"Queried {num_records} records\")\n",
    "    return read_time\n",
    "\n",
    "# --- UPDATE ---\n",
    "def cassandra_update(*args):\n",
    "    df = args[0]  # Premier argument, qui est le DataFrame\n",
    "    nb_repl = args[1]  # Deuxième argument, qui est le nombre de répliques\n",
    "\n",
    "    # drop_table_cassandra()\n",
    "    # create_table_cassandra(nb_repl)\n",
    "    cassandra_insert(df, nb_repl)\n",
    "\n",
    "    # On doit faire select et update car realease_year ne fait pas partie de la clef primaire\n",
    "    start_time = time.time()\n",
    "\n",
    "    select_query = \"SELECT show_id FROM shows WHERE release_year > 2000 ALLOW FILTERING;\"\n",
    "    result = session.execute(select_query)\n",
    "    show_ids_to_update = [row.show_id for row in result]\n",
    "\n",
    "    for show_id in show_ids_to_update:\n",
    "        update_query = f\"UPDATE shows SET rating = 'PG' WHERE show_id = {show_id};\"\n",
    "        session.execute(update_query)\n",
    "\n",
    "    update_time = time.time() - start_time\n",
    "    print(f\"Update Time: {update_time:.6f} seconds\")\n",
    "    return update_time\n",
    "\n",
    "# --- DELETE ---\n",
    "def cassandra_delete(*args):\n",
    "    df = args[0]  # Premier argument, qui est le DataFrame\n",
    "    nb_repl = args[1]  # Deuxième argument, qui est le nombre de répliques\n",
    "\n",
    "    # drop_table_cassandra()\n",
    "    # create_table_cassandra(nb_repl)\n",
    "    cassandra_insert(df, nb_repl)\n",
    "    \n",
    "    # Comme pour update\n",
    "    start_time = time.time()\n",
    "\n",
    "    select_query = \"SELECT show_id FROM shows WHERE release_year > 2000 ALLOW FILTERING;\"\n",
    "    result = session.execute(select_query)\n",
    "    show_ids_to_delete = [row.show_id for row in result]\n",
    "\n",
    "    for show_id in show_ids_to_delete:\n",
    "        delete_query = f\"DELETE FROM shows WHERE show_id = {show_id};\"\n",
    "        session.execute(delete_query)\n",
    "\n",
    "    delete_time = time.time() - start_time\n",
    "    print(f\"Delete Time: {delete_time:.6f} seconds\")\n",
    "    return delete_time"
   ]
  },
  {
   "cell_type": "code",
   "execution_count": 28,
   "metadata": {},
   "outputs": [
    {
     "name": "stdout",
     "output_type": "stream",
     "text": [
      "replication factor = 1\n",
      "Create Time: 0.002270 seconds\n",
      "replication factor = 1\n",
      "Create Time: 0.001254 seconds\n",
      "replication factor = 1\n",
      "Create Time: 0.001450 seconds\n",
      "replication factor = 1\n",
      "Create Time: 0.001923 seconds\n",
      "replication factor = 1\n",
      "Create Time: 0.001859 seconds\n",
      "CREATE: Mean Time = 0.001751s, Std Time = 0.000360s\n",
      "Total rows in 'shows' table: 1\n",
      "replication factor = 1\n",
      "Create Time: 0.001418 seconds\n",
      "Read Time: 0.001379 seconds\n",
      "Queried 1 records\n",
      "replication factor = 1\n",
      "Create Time: 0.001428 seconds\n",
      "Read Time: 0.001184 seconds\n",
      "Queried 1 records\n",
      "replication factor = 1\n",
      "Create Time: 0.001199 seconds\n",
      "Read Time: 0.000971 seconds\n",
      "Queried 1 records\n",
      "replication factor = 1\n",
      "Create Time: 0.001386 seconds\n",
      "Read Time: 0.001166 seconds\n",
      "Queried 1 records\n",
      "replication factor = 1\n",
      "Create Time: 0.001710 seconds\n",
      "Read Time: 0.001613 seconds\n",
      "Queried 1 records\n",
      "READ: Mean Time = 0.001263s, Std Time = 0.000218s\n",
      "replication factor = 1\n",
      "Create Time: 0.001597 seconds\n",
      "Update Time: 0.001484 seconds\n",
      "replication factor = 1\n",
      "Create Time: 0.001213 seconds\n",
      "Update Time: 0.001931 seconds\n",
      "replication factor = 1\n",
      "Create Time: 0.000926 seconds\n",
      "Update Time: 0.001187 seconds\n",
      "replication factor = 1\n",
      "Create Time: 0.001625 seconds\n",
      "Update Time: 0.001886 seconds\n",
      "replication factor = 1\n",
      "Create Time: 0.001791 seconds\n",
      "Update Time: 0.001592 seconds\n",
      "UPDATE: Mean Time = 0.001616s, Std Time = 0.000273s\n",
      "replication factor = 1\n",
      "Create Time: 0.001088 seconds\n",
      "Delete Time: 0.001125 seconds\n",
      "replication factor = 1\n",
      "Create Time: 0.001380 seconds\n",
      "Delete Time: 0.002692 seconds\n",
      "replication factor = 1\n",
      "Create Time: 0.001509 seconds\n",
      "Delete Time: 0.001399 seconds\n",
      "replication factor = 1\n",
      "Create Time: 0.001518 seconds\n",
      "Delete Time: 0.001705 seconds\n",
      "replication factor = 1\n",
      "Create Time: 0.000737 seconds\n",
      "Delete Time: 0.000968 seconds\n",
      "DELETE: Mean Time = 0.001578s, Std Time = 0.000611s\n"
     ]
    }
   ],
   "source": [
    "# --- CREATE ---\n",
    "create_cassandra_mean, create_cassandra_std = benchmark_operation(cassandra_insert, df_zoe_charlotte, 1)\n",
    "print(f\"CREATE: Mean Time = {create_cassandra_mean:.6f}s, Std Time = {create_cassandra_std:.6f}s\")\n",
    "\n",
    "# Vérifier le nombre de lignes insérées\n",
    "result = session.execute('SELECT COUNT(*) FROM shows')\n",
    "row = result.one()\n",
    "print(f\"Total rows in 'shows' table: {row[0]}\")\n",
    "\n",
    "# --- READ ---\n",
    "read_cassandra_mean, read_cassandra_std = benchmark_operation(cassandra_read, df_zoe_charlotte, 1)\n",
    "print(f\"READ: Mean Time = {read_cassandra_mean:.6f}s, Std Time = {read_cassandra_std:.6f}s\")\n",
    "\n",
    "# --- UPDATE ---\n",
    "update_cassandra_mean, update_cassandra_std = benchmark_operation(cassandra_update, df_zoe_charlotte, 1)\n",
    "print(f\"UPDATE: Mean Time = {update_cassandra_mean:.6f}s, Std Time = {update_cassandra_std:.6f}s\")\n",
    "\n",
    "# --- DELETE ---\n",
    "delete_cassandra_mean, delete_cassandra_std = benchmark_operation(cassandra_delete, df_zoe_charlotte, 1)\n",
    "print(f\"DELETE: Mean Time = {delete_cassandra_mean:.6f}s, Std Time = {delete_cassandra_std:.6f}s\")"
   ]
  },
  {
   "cell_type": "code",
   "execution_count": 29,
   "metadata": {},
   "outputs": [
    {
     "name": "stdout",
     "output_type": "stream",
     "text": [
      "replication factor = 1\n",
      "Create Time: 1.997576 seconds\n",
      "replication factor = 1\n",
      "Create Time: 1.971562 seconds\n",
      "replication factor = 1\n",
      "Create Time: 1.987478 seconds\n",
      "replication factor = 1\n",
      "Create Time: 1.976180 seconds\n",
      "replication factor = 1\n",
      "Create Time: 1.960307 seconds\n",
      "CREATE: Mean Time = 1.978621s, Std Time = 0.012876s\n",
      "Total rows in 'shows' table: 562\n",
      "replication factor = 1\n",
      "Create Time: 1.956140 seconds\n",
      "Read Time: 0.056888 seconds\n",
      "Queried 8245 records\n",
      "replication factor = 1\n",
      "Create Time: 1.968977 seconds\n",
      "Read Time: 0.073621 seconds\n",
      "Queried 8245 records\n",
      "replication factor = 1\n",
      "Create Time: 1.983601 seconds\n",
      "Read Time: 0.056503 seconds\n",
      "Queried 8245 records\n",
      "replication factor = 1\n",
      "Create Time: 1.960982 seconds\n",
      "Read Time: 0.073753 seconds\n",
      "Queried 8245 records\n",
      "replication factor = 1\n",
      "Create Time: 1.970628 seconds\n",
      "Read Time: 0.056138 seconds\n",
      "Queried 8245 records\n",
      "READ: Mean Time = 0.063381s, Std Time = 0.008419s\n",
      "replication factor = 1\n",
      "Create Time: 1.959283 seconds\n",
      "Update Time: 1.521791 seconds\n",
      "replication factor = 1\n",
      "Create Time: 1.969691 seconds\n",
      "Update Time: 1.396090 seconds\n",
      "replication factor = 1\n",
      "Create Time: 1.948370 seconds\n",
      "Update Time: 1.416883 seconds\n",
      "replication factor = 1\n",
      "Create Time: 1.956830 seconds\n",
      "Update Time: 1.421117 seconds\n",
      "replication factor = 1\n",
      "Create Time: 1.946237 seconds\n",
      "Update Time: 1.410226 seconds\n",
      "UPDATE: Mean Time = 1.433221s, Std Time = 0.045090s\n",
      "replication factor = 1\n",
      "Create Time: 1.946509 seconds\n",
      "Delete Time: 1.373801 seconds\n",
      "replication factor = 1\n",
      "Create Time: 1.975152 seconds\n",
      "Delete Time: 1.417206 seconds\n",
      "replication factor = 1\n",
      "Create Time: 1.949738 seconds\n",
      "Delete Time: 1.370735 seconds\n",
      "replication factor = 1\n",
      "Create Time: 1.966506 seconds\n",
      "Delete Time: 1.394810 seconds\n",
      "replication factor = 1\n",
      "Create Time: 1.956717 seconds\n",
      "Delete Time: 1.380918 seconds\n",
      "DELETE: Mean Time = 1.387494s, Std Time = 0.017017s\n"
     ]
    }
   ],
   "source": [
    "# --- CREATE ---\n",
    "create_cassandra_massive_mean, create_cassandra_massive_std = benchmark_operation(cassandra_insert, df_initial, 1)\n",
    "print(f\"CREATE: Mean Time = {create_cassandra_massive_mean:.6f}s, Std Time = {create_cassandra_massive_std:.6f}s\")\n",
    "\n",
    "# Vérifier le nombre de lignes insérées\n",
    "cursor.execute('SELECT COUNT(*) FROM shows')\n",
    "row = cursor.fetchone()\n",
    "print(f\"Total rows in 'shows' table: {row[0]}\")\n",
    "\n",
    "# --- READ ---\n",
    "read_cassandra_massive_mean, read_cassandra_massive_std = benchmark_operation(cassandra_read, df_initial, 1)\n",
    "print(f\"READ: Mean Time = {read_cassandra_massive_mean:.6f}s, Std Time = {read_cassandra_massive_std:.6f}s\")\n",
    "\n",
    "# --- UPDATE ---\n",
    "update_cassandra_massive_mean, update_cassandra_massive_std = benchmark_operation(cassandra_update, df_initial, 1)\n",
    "print(f\"UPDATE: Mean Time = {update_cassandra_massive_mean:.6f}s, Std Time = {update_cassandra_massive_std:.6f}s\")\n",
    "\n",
    "# --- DELETE ---\n",
    "delete_cassandra_massive_mean, delete_cassandra_massive_std = benchmark_operation(cassandra_delete, df_initial, 1)\n",
    "print(f\"DELETE: Mean Time = {delete_cassandra_massive_mean:.6f}s, Std Time = {delete_cassandra_massive_std:.6f}s\")"
   ]
  },
  {
   "cell_type": "markdown",
   "metadata": {
    "id": "41x937O1jknt"
   },
   "source": [
    "### Visualisation\n",
    "Nous avons d'abord testé avec un seul replicaSet et sans index, en insérant une seule ligne de données pour simplifier les tests.\n",
    "\n",
    "Ensuite, pour obtenir des statistiques plus réalistes, nous avons effectué des opérations CRUD sur un volume de données plus important, en utilisant les données de Kaggle précédemment chargées. \n",
    "\n",
    "Chaque action (insertion, lecture, mise à jour, suppression) a été réalisée cinq fois, et nous avons calculé la moyenne et l'écart-type pour chaque opération afin d'effectuer un benchmarking précis."
   ]
  },
  {
   "cell_type": "code",
   "execution_count": null,
   "metadata": {},
   "outputs": [
    {
     "data": {
      "image/png": "[encoded data removed]",
      "text/plain": [
       "<Figure size 1000x600 with 1 Axes>"
      ]
     },
     "metadata": {},
     "output_type": "display_data"
    }
   ],
   "source": [
    "# Valeurs de temps pour SQLite\n",
    "sqlite_times = {\n",
    "    'CREATE': (create_sqlite_mean, create_sqlite_std),\n",
    "    'READ': (read_sqlite_mean, read_sqlite_std),\n",
    "    'UPDATE': (update_sqlite_mean, update_sqlite_std),\n",
    "    'DELETE': (delete_sqlite_mean, delete_sqlite_std)\n",
    "}\n",
    "\n",
    "# Valeurs de temps pour Cassandra avec 1 réplicat\n",
    "cassandra_times = {\n",
    "    'CREATE': (create_cassandra_mean, create_cassandra_std),\n",
    "    'READ': (read_cassandra_mean, read_cassandra_std),\n",
    "    'UPDATE': (update_cassandra_mean, update_cassandra_std),\n",
    "    'DELETE': (delete_cassandra_mean, delete_cassandra_std)\n",
    "}\n",
    "\n",
    "operations = ['CREATE', 'READ', 'UPDATE', 'DELETE']\n",
    "\n",
    "sqlite_means = [sqlite_times[op][0] for op in operations]\n",
    "sqlite_stds = [sqlite_times[op][1] for op in operations]\n",
    "\n",
    "cassandra_means = [cassandra_times[op][0] for op in operations]\n",
    "cassandra_stds = [cassandra_times[op][1] for op in operations]\n",
    "\n",
    "y = np.arange(len(operations))\n",
    "height = 0.35\n",
    "fig, ax = plt.subplots(figsize=(10, 6))\n",
    "\n",
    "bars1 = ax.barh(y - height / 2, sqlite_means, height, xerr=sqlite_stds, label='SQLite', capsize=5)\n",
    "bars2 = ax.barh(y + height / 2, cassandra_means, height, xerr=cassandra_stds, label='Cassandra (1 réplicat)', capsize=5)\n",
    "\n",
    "ax.set_xlabel('Temps (secondes)')\n",
    "ax.set_ylabel('Opérations')\n",
    "ax.set_title('Comparaison des performances de SQLite et Cassandra avec 1 réplicat')\n",
    "ax.set_yticks(y)\n",
    "ax.set_yticklabels(operations)\n",
    "ax.legend()\n",
    "\n",
    "def add_values(bars):\n",
    "    for bar in bars:\n",
    "        xval = bar.get_width()\n",
    "        ax.text(xval, bar.get_y() + bar.get_height() / 2, f'{xval:.6f}', va='center', ha='left')\n",
    "\n",
    "add_values(bars1)\n",
    "add_values(bars2)\n",
    "\n",
    "plt.tight_layout()\n",
    "plt.show()\n"
   ]
  },
  {
   "cell_type": "markdown",
   "metadata": {},
   "source": [
    "En testant SQLite et Cassandra avec une seule ligne de données et une réplication pour Cassandra, on remarque des différences claires :\n",
    " \n",
    "- SQLite :  \n",
    "Ici, l'opération la plus lente est la création de la ligne de données. En revanche, les lectures, mises à jour et suppressions sont rapides, ce qui montre que SQLite est bien optimisé pour des petits volumes de données.  \n",
    "- Cassandra :  \n",
    "La lecture est l'opération la plus rapide, ce qui correspond bien à la manière dont Cassandra est conçu pour gérer les requêtes en lecture.  \n",
    "Les mises à jour et suppressions prennent à peu près le même temps, et sont un peu plus rapides que la création.  \n",
    "La création, par contre, est la plus lente, probablement à cause de la gestion de la réplication et des contraintes liées à son architecture distribuée.    \n",
    "\n",
    "Globalement, avec une seule ligne de données, Cassandra est beaucoup plus lent que SQLite. Cela s’explique par son architecture distribuée, qui ajoute un overhead même dans des contextes simples, et par ses mécanismes de réplication et de gestion des partitions, conçus pour des scénarios à grande échelle. En revanche, SQLite, étant une solution locale et légère, est optimisé pour des opérations rapides sur de petites bases de données.\n"
   ]
  },
  {
   "cell_type": "code",
   "execution_count": 31,
   "metadata": {},
   "outputs": [
    {
     "data": {
      "image/png": "[encoded data removed]",
      "text/plain": [
       "<Figure size 1000x600 with 1 Axes>"
      ]
     },
     "metadata": {},
     "output_type": "display_data"
    }
   ],
   "source": [
    "sqlite_times = {\n",
    "    'CREATE': (create_sqlite_massive_mean, create_sqlite_massive_std),\n",
    "    'READ': (read_sqlite_massive_mean, read_sqlite_massive_std),\n",
    "    'UPDATE': (update_sqlite_massive_mean, update_sqlite_massive_std),\n",
    "    'DELETE': (delete_sqlite_massive_mean, delete_sqlite_massive_std)\n",
    "}\n",
    "\n",
    "cassandra_times = {\n",
    "    'CREATE': (create_cassandra_massive_mean, create_cassandra_massive_std),\n",
    "    'READ': (read_cassandra_massive_mean, read_cassandra_massive_std),\n",
    "    'UPDATE': (update_cassandra_massive_mean, update_cassandra_massive_std),\n",
    "    'DELETE': (delete_cassandra_massive_mean, delete_cassandra_massive_std)\n",
    "}\n",
    "\n",
    "operations = ['CREATE', 'READ', 'UPDATE', 'DELETE']\n",
    "\n",
    "sqlite_means = [sqlite_times[op][0] for op in operations]\n",
    "sqlite_stds = [sqlite_times[op][1] for op in operations]\n",
    "\n",
    "cassandra_means = [cassandra_times[op][0] for op in operations]\n",
    "cassandra_stds = [cassandra_times[op][1] for op in operations]\n",
    "\n",
    "y = np.arange(len(operations))\n",
    "height = 0.35\n",
    "fig, ax = plt.subplots(figsize=(10, 6))\n",
    "\n",
    "bars1 = ax.barh(y - height / 2, sqlite_means, height, xerr=sqlite_stds, label='SQLite', capsize=5)\n",
    "bars2 = ax.barh(y + height / 2, cassandra_means, height, xerr=cassandra_stds, label='Cassandra (1 réplicat)', capsize=5)\n",
    "\n",
    "ax.set_xlabel('Temps (secondes)')\n",
    "ax.set_ylabel('Opérations')\n",
    "ax.set_title('Comparaison des performances de SQLite et Cassandra avec 1 réplicat')\n",
    "ax.set_yticks(y)\n",
    "ax.set_yticklabels(operations)\n",
    "ax.legend()\n",
    "\n",
    "def add_values(bars):\n",
    "    for bar in bars:\n",
    "        xval = bar.get_width()\n",
    "        ax.text(xval, bar.get_y() + bar.get_height() / 2, f'{xval:.6f}', va='center', ha='left')\n",
    "\n",
    "add_values(bars1)\n",
    "add_values(bars2)\n",
    "\n",
    "plt.tight_layout()\n",
    "plt.show()"
   ]
  },
  {
   "cell_type": "markdown",
   "metadata": {},
   "source": [
    "Sur un volume de données beaucoup plus important, avec toujours un seul réplicat, la requête de création (CREATE) reste la plus longue pour SQLite comme pour Cassandra.\n",
    "\n",
    "En Cassandra, les requêtes de lecture (READ) sont particulièrement rapides par rapport aux autres types de requêtes. Cela s'explique par la structure optimisée de Cassandra pour des lectures rapides, grâce à son indexation basée sur les partitions et l'utilisation de SSTables.\n",
    "\n",
    "En revanche, les requêtes de suppression (DELETE) et de mise à jour (UPDATE) sont globalement plus longues et prennent un temps similaire en Cassandra, en raison des mécanismes internes de gestion des tombstones et de la propagation des modifications.\n",
    "\n",
    "Enfin, même sur un grand volume de données, Cassandra reste globalement bien plus lent que SQLite, reflétant la différence entre une architecture distribuée conçue pour des données massives et une solution locale optimisée pour des bases de données plus légères.\n",
    "\n",
    "Idées de pourquoi Cassandra reste plus lent : \n",
    "- Cassandra distribué : Optimisé pour des bases massives, mais sa gestion des partitions et des nœuds ajoute un coût, même sur une petite base.\n",
    "- Replication : Même avec un seul réplicat, Cassandra gère la synchronisation, ce qui ralentit les écritures.\n",
    "- Caching : SQLite utilise la mémoire locale efficacement, tandis que Cassandra coordonne entre nœuds, ce qui prend plus de temps."
   ]
  },
  {
   "cell_type": "markdown",
   "metadata": {
    "id": "6PSbYw-iawfd"
   },
   "source": [
    "## Comparaison des temps de Cassandra avec plusieurs replicaSet"
   ]
  },
  {
   "cell_type": "markdown",
   "metadata": {},
   "source": [
    "##### Qu'est ce que *SimpleStrategy* ?\n",
    "Description : Réplique les données de manière linéaire sur les n nœuds du cluster, où n est le replication_factor.\n",
    "- Avantages :\n",
    "    - Simple à configurer.\n",
    "    - Adapté aux environnements de test ou aux clusters d'une seule région.\n",
    "- Inconvénients :\n",
    "    - Pas optimisé pour les déploiements multi-régions.\n",
    "    - Répartition des réplicas pas toujours équilibrée en cas de cluster complexe."
   ]
  },
  {
   "cell_type": "code",
   "execution_count": 32,
   "metadata": {},
   "outputs": [
    {
     "name": "stdout",
     "output_type": "stream",
     "text": [
      "replication factor = 2\n",
      "Create Time: 2.047955 seconds\n",
      "replication factor = 2\n",
      "Create Time: 1.993905 seconds\n",
      "replication factor = 2\n",
      "Create Time: 1.939057 seconds\n",
      "replication factor = 2\n",
      "Create Time: 1.951188 seconds\n",
      "replication factor = 2\n",
      "Create Time: 1.949222 seconds\n",
      "CREATE: Mean Time = 1.976265s, Std Time = 0.040485s\n",
      "replication factor = 2\n",
      "Create Time: 1.954122 seconds\n",
      "Read Time: 0.067570 seconds\n",
      "Queried 8245 records\n",
      "replication factor = 2\n",
      "Create Time: 1.960694 seconds\n",
      "Read Time: 0.056922 seconds\n",
      "Queried 8245 records\n",
      "replication factor = 2\n",
      "Create Time: 1.969908 seconds\n",
      "Read Time: 0.080503 seconds\n",
      "Queried 8245 records\n",
      "replication factor = 2\n",
      "Create Time: 1.948905 seconds\n",
      "Read Time: 0.056684 seconds\n",
      "Queried 8245 records\n",
      "replication factor = 2\n",
      "Create Time: 1.953355 seconds\n",
      "Read Time: 0.056239 seconds\n",
      "Queried 8245 records\n",
      "READ: Mean Time = 0.063583s, Std Time = 0.009467s\n",
      "replication factor = 2\n",
      "Create Time: 1.971760 seconds\n",
      "Update Time: 1.421579 seconds\n",
      "replication factor = 2\n",
      "Create Time: 1.953916 seconds\n",
      "Update Time: 1.395996 seconds\n",
      "replication factor = 2\n",
      "Create Time: 1.962568 seconds\n",
      "Update Time: 1.417868 seconds\n",
      "replication factor = 2\n",
      "Create Time: 1.940308 seconds\n",
      "Update Time: 1.398228 seconds\n",
      "replication factor = 2\n",
      "Create Time: 1.978791 seconds\n",
      "Update Time: 1.402120 seconds\n",
      "UPDATE: Mean Time = 1.407158s, Std Time = 0.010511s\n",
      "replication factor = 2\n",
      "Create Time: 1.978896 seconds\n",
      "Delete Time: 1.373457 seconds\n",
      "replication factor = 2\n",
      "Create Time: 1.968311 seconds\n",
      "Delete Time: 1.373848 seconds\n",
      "replication factor = 2\n",
      "Create Time: 1.950600 seconds\n",
      "Delete Time: 1.421759 seconds\n",
      "replication factor = 2\n",
      "Create Time: 1.969720 seconds\n",
      "Delete Time: 1.437767 seconds\n",
      "replication factor = 2\n",
      "Create Time: 1.971165 seconds\n",
      "Delete Time: 1.372753 seconds\n",
      "DELETE: Mean Time = 1.395917s, Std Time = 0.028097s\n"
     ]
    }
   ],
   "source": [
    "# 2 replicas\n",
    "# --- CREATE ---\n",
    "create_cassandra_massive_mean_2, create_cassandra_massive_std_2 = benchmark_operation(cassandra_insert, df_initial, 2)\n",
    "print(f\"CREATE: Mean Time = {create_cassandra_massive_mean_2:.6f}s, Std Time = {create_cassandra_massive_std_2:.6f}s\")\n",
    "\n",
    "# --- READ ---\n",
    "read_cassandra_massive_mean_2, read_cassandra_massive_std_2 = benchmark_operation(cassandra_read, df_initial, 2)\n",
    "print(f\"READ: Mean Time = {read_cassandra_massive_mean_2:.6f}s, Std Time = {read_cassandra_massive_std_2:.6f}s\")\n",
    "\n",
    "# --- UPDATE ---\n",
    "update_cassandra_massive_mean_2, update_cassandra_massive_std_2 = benchmark_operation(cassandra_update, df_initial, 2)\n",
    "print(f\"UPDATE: Mean Time = {update_cassandra_massive_mean_2:.6f}s, Std Time = {update_cassandra_massive_std_2:.6f}s\")\n",
    "\n",
    "# --- DELETE ---\n",
    "delete_cassandra_massive_mean_2, delete_cassandra_massive_std_2 = benchmark_operation(cassandra_delete, df_initial, 2)\n",
    "print(f\"DELETE: Mean Time = {delete_cassandra_massive_mean_2:.6f}s, Std Time = {delete_cassandra_massive_std_2:.6f}s\")"
   ]
  },
  {
   "cell_type": "code",
   "execution_count": 33,
   "metadata": {},
   "outputs": [
    {
     "name": "stdout",
     "output_type": "stream",
     "text": [
      "replication factor = 3\n",
      "Create Time: 1.957326 seconds\n",
      "replication factor = 3\n",
      "Create Time: 1.950047 seconds\n",
      "replication factor = 3\n",
      "Create Time: 1.957288 seconds\n",
      "replication factor = 3\n",
      "Create Time: 1.995195 seconds\n",
      "replication factor = 3\n",
      "Create Time: 1.946967 seconds\n",
      "CREATE: Mean Time = 1.961365s, Std Time = 0.017394s\n",
      "replication factor = 3\n",
      "Create Time: 1.970415 seconds\n",
      "Read Time: 0.057679 seconds\n",
      "Queried 8245 records\n",
      "replication factor = 3\n",
      "Create Time: 2.008531 seconds\n",
      "Read Time: 0.057341 seconds\n",
      "Queried 8245 records\n",
      "replication factor = 3\n",
      "Create Time: 1.990777 seconds\n",
      "Read Time: 0.057737 seconds\n",
      "Queried 8245 records\n",
      "replication factor = 3\n",
      "Create Time: 1.965953 seconds\n",
      "Read Time: 0.056868 seconds\n",
      "Queried 8245 records\n",
      "replication factor = 3\n",
      "Create Time: 1.947352 seconds\n",
      "Read Time: 0.056655 seconds\n",
      "Queried 8245 records\n",
      "READ: Mean Time = 0.057256s, Std Time = 0.000431s\n",
      "replication factor = 3\n",
      "Create Time: 1.972024 seconds\n",
      "Update Time: 1.421085 seconds\n",
      "replication factor = 3\n",
      "Create Time: 1.975472 seconds\n",
      "Update Time: 1.399767 seconds\n",
      "replication factor = 3\n",
      "Create Time: 1.971072 seconds\n",
      "Update Time: 1.400035 seconds\n",
      "replication factor = 3\n",
      "Create Time: 1.974457 seconds\n",
      "Update Time: 1.421450 seconds\n",
      "replication factor = 3\n",
      "Create Time: 1.959299 seconds\n",
      "Update Time: 1.463043 seconds\n",
      "UPDATE: Mean Time = 1.421076s, Std Time = 0.023057s\n",
      "replication factor = 3\n",
      "Create Time: 1.967406 seconds\n",
      "Delete Time: 1.470366 seconds\n",
      "replication factor = 3\n",
      "Create Time: 2.035638 seconds\n",
      "Delete Time: 1.430550 seconds\n",
      "replication factor = 3\n",
      "Create Time: 2.006465 seconds\n",
      "Delete Time: 1.427936 seconds\n",
      "replication factor = 3\n",
      "Create Time: 2.021445 seconds\n",
      "Delete Time: 1.427294 seconds\n",
      "replication factor = 3\n",
      "Create Time: 2.015804 seconds\n",
      "Delete Time: 1.406618 seconds\n",
      "DELETE: Mean Time = 1.432553s, Std Time = 0.020763s\n"
     ]
    }
   ],
   "source": [
    "# 3 replicas\n",
    "# --- CREATE ---\n",
    "create_cassandra_massive_mean_3, create_cassandra_massive_std_3 = benchmark_operation(cassandra_insert, df_initial, 3)\n",
    "print(f\"CREATE: Mean Time = {create_cassandra_massive_mean_3:.6f}s, Std Time = {create_cassandra_massive_std_3:.6f}s\")\n",
    "\n",
    "# --- READ ---\n",
    "read_cassandra_massive_mean_3, read_cassandra_massive_std_3 = benchmark_operation(cassandra_read, df_initial, 3)\n",
    "print(f\"READ: Mean Time = {read_cassandra_massive_mean_3:.6f}s, Std Time = {read_cassandra_massive_std_3:.6f}s\")\n",
    "\n",
    "# --- UPDATE ---\n",
    "update_cassandra_massive_mean_3, update_cassandra_massive_std_3 = benchmark_operation(cassandra_update, df_initial, 3)\n",
    "print(f\"UPDATE: Mean Time = {update_cassandra_massive_mean_3:.6f}s, Std Time = {update_cassandra_massive_std_3:.6f}s\")\n",
    "\n",
    "# --- DELETE ---\n",
    "delete_cassandra_massive_mean_3, delete_cassandra_massive_std_3 = benchmark_operation(cassandra_delete, df_initial, 3)\n",
    "print(f\"DELETE: Mean Time = {delete_cassandra_massive_mean_3:.6f}s, Std Time = {delete_cassandra_massive_std_3:.6f}s\")\n"
   ]
  },
  {
   "cell_type": "code",
   "execution_count": 34,
   "metadata": {},
   "outputs": [],
   "source": [
    "# # 4 replicas\n",
    "# # --- CREATE ---\n",
    "# create_cassandra_massive_mean_4, create_cassandra_massive_std_4 = benchmark_operation(cassandra_insert, df_initial, 4)\n",
    "# print(f\"CREATE: Mean Time = {create_cassandra_massive_mean_4:.6f}s, Std Time = {create_cassandra_massive_std_4:.6f}s\")\n",
    "\n",
    "# # --- READ ---\n",
    "# read_cassandra_massive_mean_4, read_cassandra_massive_std_4 = benchmark_operation(cassandra_read, df_initial, 4)\n",
    "# print(f\"READ: Mean Time = {read_cassandra_massive_mean_4:.6f}s, Std Time = {read_cassandra_massive_std_4:.6f}s\")\n",
    "\n",
    "# # --- UPDATE ---\n",
    "# update_cassandra_massive_mean_4, update_cassandra_massive_std_4 = benchmark_operation(cassandra_update, df_initial, 4)\n",
    "# print(f\"UPDATE: Mean Time = {update_cassandra_massive_mean_4:.6f}s, Std Time = {update_cassandra_massive_std_4:.6f}s\")\n",
    "\n",
    "# # --- DELETE ---\n",
    "# delete_cassandra_massive_mean_4, delete_cassandra_massive_std_4 = benchmark_operation(cassandra_delete, df_initial, 4)\n",
    "# print(f\"DELETE: Mean Time = {delete_cassandra_massive_mean_4:.6f}s, Std Time = {delete_cassandra_massive_std_4:.6f}s\")"
   ]
  },
  {
   "cell_type": "code",
   "execution_count": 35,
   "metadata": {},
   "outputs": [],
   "source": [
    "# # 5 replicas\n",
    "# # --- CREATE ---\n",
    "# create_cassandra_massive_mean_5, create_cassandra_massive_std_5 = benchmark_operation(cassandra_insert, df_initial, 5)\n",
    "# print(f\"CREATE: Mean Time = {create_cassandra_massive_mean_5:.6f}s, Std Time = {create_cassandra_massive_std_5:.6f}s\")\n",
    "\n",
    "# # --- READ ---\n",
    "# read_cassandra_massive_mean_5, read_cassandra_massive_std_5 = benchmark_operation(cassandra_read, df_initial, 5)\n",
    "# print(f\"READ: Mean Time = {read_cassandra_massive_mean_5:.6f}s, Std Time = {read_cassandra_massive_std_5:.6f}s\")\n",
    "\n",
    "# # --- UPDATE ---\n",
    "# update_cassandra_massive_mean_5, update_cassandra_massive_std_5 = benchmark_operation(cassandra_update, df_initial, 5)\n",
    "# print(f\"UPDATE: Mean Time = {update_cassandra_massive_mean_5:.6f}s, Std Time = {update_cassandra_massive_std_5:.6f}s\")\n",
    "\n",
    "# # --- DELETE ---\n",
    "# delete_cassandra_massive_mean_5, delete_cassandra_massive_std_5 = benchmark_operation(cassandra_delete, df_initial, 5)\n",
    "# print(f\"DELETE: Mean Time = {delete_cassandra_massive_mean_5:.6f}s, Std Time = {delete_cassandra_massive_std_5:.6f}s\")"
   ]
  },
  {
   "cell_type": "code",
   "execution_count": 36,
   "metadata": {},
   "outputs": [
    {
     "data": {
      "image/png": "[encoded data removed]",
      "text/plain": [
       "<Figure size 1000x600 with 1 Axes>"
      ]
     },
     "metadata": {},
     "output_type": "display_data"
    }
   ],
   "source": [
    "# Valeurs de temps pour SQLite\n",
    "sqlite_times = {\n",
    "    'CREATE': (create_sqlite_massive_mean, create_sqlite_massive_std),\n",
    "    'READ': (read_sqlite_massive_mean, read_sqlite_massive_std),\n",
    "    'UPDATE': (update_sqlite_massive_mean, update_sqlite_massive_std),\n",
    "    'DELETE': (delete_sqlite_massive_mean, delete_sqlite_massive_std)\n",
    "}\n",
    "\n",
    "# Valeurs de temps pour Cassandra avec 1 réplicat\n",
    "cassandra_times = {\n",
    "    'CREATE': (create_cassandra_massive_mean, create_cassandra_massive_std),\n",
    "    'READ': (read_cassandra_massive_mean, read_cassandra_massive_std),\n",
    "    'UPDATE': (update_cassandra_massive_mean, update_cassandra_massive_std),\n",
    "    'DELETE': (delete_cassandra_massive_mean, delete_cassandra_massive_std)\n",
    "}\n",
    "\n",
    "cassandra_times_2 = {\n",
    "    'CREATE': (create_cassandra_massive_mean_2, create_cassandra_massive_std_2),\n",
    "    'READ': (read_cassandra_massive_mean_2, read_cassandra_massive_std_2),\n",
    "    'UPDATE': (update_cassandra_massive_mean_2, update_cassandra_massive_std_2),\n",
    "    'DELETE': (delete_cassandra_massive_mean_2, delete_cassandra_massive_std_2)\n",
    "}\n",
    "\n",
    "cassandra_times_3 = {\n",
    "    'CREATE': (create_cassandra_massive_mean_3, create_cassandra_massive_std_3),\n",
    "    'READ': (read_cassandra_massive_mean_3, read_cassandra_massive_std_3),\n",
    "    'UPDATE': (update_cassandra_massive_mean_3, update_cassandra_massive_std_3),\n",
    "    'DELETE': (delete_cassandra_massive_mean_3, delete_cassandra_massive_std_3)\n",
    "}\n",
    "\n",
    "# cassandra_times_4 = {\n",
    "#     'CREATE': (create_cassandra_massive_mean_4, create_cassandra_massive_std_4),\n",
    "#     'READ': (read_cassandra_massive_mean_4, read_cassandra_massive_std_4),\n",
    "#     'UPDATE': (update_cassandra_massive_mean_4, update_cassandra_massive_std_4),\n",
    "#     'DELETE': (delete_cassandra_massive_mean_4, delete_cassandra_massive_std_4)\n",
    "# }\n",
    "\n",
    "# cassandra_times_5 = {\n",
    "#     'CREATE': (create_cassandra_massive_mean_5, create_cassandra_massive_std_5),\n",
    "#     'READ': (read_cassandra_massive_mean_5, read_cassandra_massive_std_5),\n",
    "#     'UPDATE': (update_cassandra_massive_mean_5, update_cassandra_massive_std_5),\n",
    "#     'DELETE': (delete_cassandra_massive_mean_5, delete_cassandra_massive_std_5)\n",
    "# }\n",
    "\n",
    "operations = ['CREATE', 'READ', 'UPDATE', 'DELETE']\n",
    "\n",
    "# Extraire les temps moyens et écarts-types pour chaque système\n",
    "sqlite_means = [sqlite_times[op][0] for op in operations]\n",
    "sqlite_stds = [sqlite_times[op][1] for op in operations]\n",
    "\n",
    "cassandra_means = [cassandra_times[op][0] for op in operations]\n",
    "cassandra_stds = [cassandra_times[op][1] for op in operations]\n",
    "\n",
    "cassandra_means_2 = [cassandra_times_2[op][0] for op in operations]\n",
    "cassandra_stds_2 = [cassandra_times_2[op][1] for op in operations]\n",
    "\n",
    "cassandra_means_3 = [cassandra_times_3[op][0] for op in operations]\n",
    "cassandra_stds_3 = [cassandra_times_3[op][1] for op in operations]\n",
    "\n",
    "# cassandra_means_4 = [cassandra_times_4[op][0] for op in operations]\n",
    "# cassandra_stds_4 = [cassandra_times_4[op][1] for op in operations]\n",
    "\n",
    "# cassandra_means_5 = [cassandra_times_5[op][0] for op in operations]\n",
    "# cassandra_stds_5 = [cassandra_times_5[op][1] for op in operations]\n",
    "\n",
    "y = np.arange(len(operations))\n",
    "height = 0.1\n",
    "fig, ax = plt.subplots(figsize=(10, 6))\n",
    "\n",
    "bars1 = ax.barh(y - 2.5 * height, sqlite_means, height, xerr=sqlite_stds, label='SQLite', capsize=5)\n",
    "bars2 = ax.barh(y - 1.5 * height, cassandra_means, height, xerr=cassandra_stds, label='Cassandra (1 réplicat)', capsize=5)\n",
    "bars3 = ax.barh(y - 0.5 * height, cassandra_means_2, height, xerr=cassandra_stds_2, label='Cassandra (2 réplicats)', capsize=5)\n",
    "bars4 = ax.barh(y + 0.5 * height, cassandra_means_3, height, xerr=cassandra_stds_2, label='Cassandra (3 réplicats)', capsize=5)\n",
    "# bars5 = ax.barh(y + 1.5 * height, cassandra_means_4, height, xerr=cassandra_stds_2, label='Cassandra (4 réplicats)', capsize=5)\n",
    "# bars6 = ax.barh(y + 2.5 * height, cassandra_means_5, height, xerr=cassandra_stds_2, label='Cassandra (5 réplicats)', capsize=5)\n",
    "\n",
    "ax.set_xlabel('Temps (secondes)')\n",
    "ax.set_ylabel('Opérations')\n",
    "ax.set_title('Comparaison des performances de SQLite et Cassandra avec plusieurs réplicats')\n",
    "ax.set_yticks(y)\n",
    "ax.set_yticklabels(operations)\n",
    "ax.legend()\n",
    "\n",
    "def add_values(bars):\n",
    "    for bar in bars:\n",
    "        xval = bar.get_width()\n",
    "        ax.text(xval, bar.get_y() + bar.get_height() / 2, f'{xval:.6f}', va='center', ha='left')\n",
    "\n",
    "add_values(bars1)\n",
    "add_values(bars2)\n",
    "add_values(bars3)\n",
    "add_values(bars4)\n",
    "# add_values(bars5)\n",
    "# add_values(bars6)\n",
    "\n",
    "plt.tight_layout()\n",
    "plt.show()"
   ]
  },
  {
   "cell_type": "markdown",
   "metadata": {},
   "source": [
    "TODO commenter \n",
    "\n",
    "expliquer les temps : \n",
    "\n",
    "Pourquoi essayer plusieurs niveaux de réplication ?\n",
    "Impact sur les performances des lectures : Plus vous avez de répliques, plus Cassandra doit examiner plusieurs nœuds pour répondre à une requête de lecture. Cela peut augmenter la latence en fonction du niveau de réplication et de la manière dont les nœuds sont répartis.\n",
    "Impact sur les écritures : En fonction de la configuration de réplication, chaque écriture doit être propagée vers plusieurs nœuds. Cela peut augmenter le temps d'insertion ou d'update, surtout en cas de faible cohérence (si un niveau de cohérence faible est choisi).\n",
    "Tolérance aux pannes : Un nombre plus élevé de répliques permet à Cassandra de maintenir la disponibilité même en cas de panne de certains nœuds. Cependant, cela peut aussi introduire des coûts en termes de latence et de consommation de ressources.\n",
    "\n",
    "TODO on peut essayer par la suite pas avec 1 2 3 mais genre 1 5 10 ?"
   ]
  },
  {
   "cell_type": "markdown",
   "metadata": {
    "id": "SAxurK-oSaXh"
   },
   "source": [
    "# Création d'un dataset plus grand"
   ]
  },
  {
   "cell_type": "markdown",
   "metadata": {},
   "source": [
    "Utiliser une base de données plus grande : Cassandra est mieux adapté pour gérer de grandes quantités de données et pour tirer parti de son architecture distribuée.\n",
    "On va donc augmenter notre jeu de données "
   ]
  },
  {
   "cell_type": "markdown",
   "metadata": {
    "id": "-BJ6a0BHSaXh"
   },
   "source": [
    "On crée nous même ce dataset car les sites de création de dataset ne permettent de télécharger que 1000 lignes avec un compte gratuit."
   ]
  },
  {
   "cell_type": "code",
   "execution_count": 37,
   "metadata": {},
   "outputs": [
    {
     "data": {
      "text/plain": [
       "(8807, 12)"
      ]
     },
     "execution_count": 37,
     "metadata": {},
     "output_type": "execute_result"
    }
   ],
   "source": [
    "df_initial.shape"
   ]
  },
  {
   "cell_type": "code",
   "execution_count": null,
   "metadata": {
    "id": "_0fCtTqoSaXh"
   },
   "outputs": [
    {
     "name": "stdout",
     "output_type": "stream",
     "text": [
      "Les IDs sont uniques.\n",
      "Dataset généré avec 30000 lignes (lignes dupliquées supprimées) et exporté dans netflix_titles_large.csv.\n"
     ]
    }
   ],
   "source": [
    "# Activer ou désactiver la génération de données supplémentaires\n",
    "more_data = True\n",
    "\n",
    "if more_data:\n",
    "    # Charger le dataset initial\n",
    "    original_df = df_initial  # Remplace par ton DataFrame de départ\n",
    "\n",
    "    # Nombre total de lignes souhaitées\n",
    "    num_rows = 30000\n",
    "\n",
    "    # Fonction pour générer des colonnes supplémentaires à partir de données existantes\n",
    "    def generate_large_column(original_column, size):\n",
    "        return [random.choice(original_column) for _ in range(size)]\n",
    "\n",
    "    # Fonction pour générer des IDs uniques\n",
    "    def generate_unique_show_id(existing_ids, size):\n",
    "        start_id = max(existing_ids) + 1 if existing_ids else 1\n",
    "        return [f\"{i}\" for i in range(start_id, start_id + size)]\n",
    "\n",
    "    # Générer les données pour chaque colonne\n",
    "    generated_data = original_df.to_dict(orient='list')  # Convertir en dictionnaire de colonnes\n",
    "\n",
    "    # Assurer l'unicité des IDs\n",
    "    existing_ids = set(map(int, original_df[\"show_id\"].tolist()))  # Obtenir les IDs existants\n",
    "    new_ids = generate_unique_show_id(existing_ids, num_rows - len(original_df))\n",
    "    generated_data[\"show_id\"].extend(new_ids)\n",
    "\n",
    "    # Générer les autres colonnes\n",
    "    for column in original_df.columns:\n",
    "        if column != \"show_id\":  # Ne pas regénérer la colonne show_id\n",
    "            generated_data[column].extend(generate_large_column(original_df[column].tolist(), num_rows - len(original_df)))\n",
    "\n",
    "    # Créer un DataFrame à partir des données générées\n",
    "    large_df = pd.DataFrame(generated_data)\n",
    "\n",
    "    # Supprimer les doublons éventuels (vérifie toutes les colonnes)\n",
    "    large_df = large_df.drop_duplicates()\n",
    "\n",
    "    # Remplacer les NaN explicitement pour chaque colonne\n",
    "    for column in large_df.columns:\n",
    "        if large_df[column].isnull().any():\n",
    "            if large_df[column].dtype == \"object\":\n",
    "                large_df[column].fillna(\"Unknown\", inplace=True)  # Texte : remplacer par 'Unknown'\n",
    "            else:\n",
    "                large_df[column].fillna(0, inplace=True)  # Numérique : remplacer par 0\n",
    "\n",
    "    # Supprimer les doublons éventuels (vérifie toutes les colonnes)\n",
    "    large_df = large_df.drop_duplicates()\n",
    "\n",
    "    # Vérifie qu'il n'y a pas de doublons dans 'show_id'\n",
    "    if large_df[\"show_id\"].duplicated().any():\n",
    "        print(\"Attention : Des doublons existent dans la colonne 'show_id'.\")\n",
    "    else:\n",
    "        print(\"Les IDs sont uniques.\")\n",
    "\n",
    "    # Sauvegarder le dataset dans un fichier CSV\n",
    "    output_file = \"netflix_titles_large.csv\"\n",
    "    large_df.to_csv(output_file, index=False)\n",
    "    print(f\"Dataset généré avec {len(large_df)} lignes (lignes dupliquées supprimées) et exporté dans {output_file}.\")\n"
   ]
  },
  {
   "cell_type": "code",
   "execution_count": 39,
   "metadata": {},
   "outputs": [
    {
     "data": {
      "text/plain": [
       "(30000, 12)"
      ]
     },
     "execution_count": 39,
     "metadata": {},
     "output_type": "execute_result"
    }
   ],
   "source": [
    "large_df.shape"
   ]
  },
  {
   "cell_type": "code",
   "execution_count": 40,
   "metadata": {},
   "outputs": [],
   "source": [
    "# Caster correctement les colonnes \n",
    "large_df['show_id'] = large_df['show_id'].astype(int)\n",
    "\n",
    "large_df['show_id'] = large_df['show_id'].astype(int)\n",
    "large_df['release_year'] = large_df['release_year'].astype(int)\n",
    "\n",
    "large_df['type'] = large_df['title'].astype(str)\n",
    "large_df['title'] = large_df['title'].astype(str)\n",
    "large_df['director'] = large_df['director'].astype(str)\n",
    "large_df['cast'] = large_df['cast'].astype(str)\n",
    "large_df['country'] = large_df['country'].astype(str)\n",
    "large_df['date_added'] = large_df['date_added'].astype(str)\n",
    "large_df['rating'] = large_df['rating'].astype(str)\n",
    "large_df['duration'] = large_df['duration'].astype(str)\n",
    "large_df['listed_in'] = large_df['listed_in'].astype(str)\n",
    "large_df['description'] = large_df['description'].astype(str)"
   ]
  },
  {
   "cell_type": "code",
   "execution_count": 41,
   "metadata": {},
   "outputs": [
    {
     "name": "stdout",
     "output_type": "stream",
     "text": [
      "Create Time: 0.465658 seconds\n",
      "Create Time: 0.467382 seconds\n",
      "Create Time: 0.465722 seconds\n",
      "Create Time: 0.461695 seconds\n",
      "Create Time: 0.467449 seconds\n",
      "CREATE: Mean Time = 0.465581s, Std Time = 0.002091s\n",
      "Total rows in 'shows' table: 30000\n",
      "Create Time: 0.460702 seconds\n",
      "Read Time: 0.029445 seconds\n",
      "Queried 28163 records\n",
      "Create Time: 0.464639 seconds\n",
      "Read Time: 0.028573 seconds\n",
      "Queried 28163 records\n",
      "Create Time: 0.468247 seconds\n",
      "Read Time: 0.027431 seconds\n",
      "Queried 28163 records\n",
      "Create Time: 0.460076 seconds\n",
      "Read Time: 0.027560 seconds\n",
      "Queried 28163 records\n",
      "Create Time: 0.448781 seconds\n",
      "Read Time: 0.027255 seconds\n",
      "Queried 28163 records\n",
      "READ: Mean Time = 0.028053s, Std Time = 0.000834s\n",
      "Create Time: 0.450072 seconds\n",
      "Update Time: 0.013227 seconds\n",
      "Create Time: 0.459809 seconds\n",
      "Update Time: 0.013155 seconds\n",
      "Create Time: 0.462498 seconds\n",
      "Update Time: 0.012814 seconds\n",
      "Create Time: 0.450241 seconds\n",
      "Update Time: 0.012963 seconds\n",
      "Create Time: 0.461429 seconds\n",
      "Update Time: 0.012851 seconds\n",
      "UPDATE: Mean Time = 0.013002s, Std Time = 0.000163s\n",
      "Create Time: 0.457392 seconds\n",
      "Delete Time: 0.010766 seconds\n",
      "Create Time: 0.447727 seconds\n",
      "Delete Time: 0.010367 seconds\n",
      "Create Time: 0.446255 seconds\n",
      "Delete Time: 0.010427 seconds\n",
      "Create Time: 0.447546 seconds\n",
      "Delete Time: 0.010519 seconds\n",
      "Create Time: 0.446578 seconds\n",
      "Delete Time: 0.010504 seconds\n",
      "DELETE: Mean Time = 0.010517s, Std Time = 0.000136s\n"
     ]
    }
   ],
   "source": [
    "# sqlite \n",
    "# --- CREATE ---\n",
    "create_sqlite_massive_mean, create_sqlite_massive_std = benchmark_operation(sqlite_insert, large_df)\n",
    "print(f\"CREATE: Mean Time = {create_sqlite_massive_mean:.6f}s, Std Time = {create_sqlite_massive_std:.6f}s\")\n",
    "\n",
    "# Vérifier le nombre de lignes insérées\n",
    "cursor.execute('SELECT COUNT(*) FROM shows')\n",
    "row = cursor.fetchone()\n",
    "print(f\"Total rows in 'shows' table: {row[0]}\")\n",
    "\n",
    "# --- READ ---\n",
    "read_sqlite_massive_mean, read_sqlite_massive_std = benchmark_operation(sqlite_read, large_df)\n",
    "print(f\"READ: Mean Time = {read_sqlite_massive_mean:.6f}s, Std Time = {read_sqlite_massive_std:.6f}s\")\n",
    "\n",
    "# --- UPDATE ---\n",
    "update_sqlite_massive_mean, update_sqlite_massive_std = benchmark_operation(sqlite_update, large_df)\n",
    "print(f\"UPDATE: Mean Time = {update_sqlite_massive_mean:.6f}s, Std Time = {update_sqlite_massive_std:.6f}s\")\n",
    "\n",
    "# --- DELETE ---\n",
    "delete_sqlite_massive_mean, delete_sqlite_massive_std = benchmark_operation(sqlite_delete, large_df)\n",
    "print(f\"DELETE: Mean Time = {delete_sqlite_massive_mean:.6f}s, Std Time = {delete_sqlite_massive_std:.6f}s\")"
   ]
  },
  {
   "cell_type": "code",
   "execution_count": 42,
   "metadata": {},
   "outputs": [
    {
     "name": "stdout",
     "output_type": "stream",
     "text": [
      "replication factor = 1\n",
      "Create Time: 6.788272 seconds\n",
      "replication factor = 1\n",
      "Create Time: 6.821386 seconds\n",
      "replication factor = 1\n",
      "Create Time: 6.767228 seconds\n",
      "replication factor = 1\n",
      "Create Time: 6.772167 seconds\n",
      "replication factor = 1\n",
      "Create Time: 6.783371 seconds\n",
      "CREATE: Mean Time = 6.786485s, Std Time = 0.019009s\n",
      "Total rows in 'shows' table: 30000\n",
      "replication factor = 1\n",
      "Create Time: 6.726884 seconds\n",
      "Read Time: 0.058399 seconds\n",
      "Queried 28163 records\n",
      "replication factor = 1\n",
      "Create Time: 6.751205 seconds\n",
      "Read Time: 0.058209 seconds\n",
      "Queried 28163 records\n",
      "replication factor = 1\n",
      "Create Time: 6.771187 seconds\n",
      "Read Time: 0.058125 seconds\n",
      "Queried 28163 records\n",
      "replication factor = 1\n",
      "Create Time: 6.771632 seconds\n",
      "Read Time: 0.083875 seconds\n",
      "Queried 28163 records\n",
      "replication factor = 1\n",
      "Create Time: 6.849478 seconds\n",
      "Read Time: 0.057865 seconds\n",
      "Queried 28163 records\n",
      "READ: Mean Time = 0.063295s, Std Time = 0.010292s\n",
      "replication factor = 1\n",
      "Create Time: 6.765383 seconds\n",
      "Update Time: 4.826262 seconds\n",
      "replication factor = 1\n",
      "Create Time: 6.606792 seconds\n",
      "Update Time: 4.836309 seconds\n",
      "replication factor = 1\n",
      "Create Time: 6.615644 seconds\n",
      "Update Time: 4.810557 seconds\n",
      "replication factor = 1\n",
      "Create Time: 6.583579 seconds\n",
      "Update Time: 4.802740 seconds\n",
      "replication factor = 1\n",
      "Create Time: 6.627807 seconds\n",
      "Update Time: 4.773067 seconds\n",
      "UPDATE: Mean Time = 4.809787s, Std Time = 0.021787s\n",
      "replication factor = 1\n",
      "Create Time: 6.721689 seconds\n",
      "Delete Time: 4.754114 seconds\n",
      "replication factor = 1\n",
      "Create Time: 6.881135 seconds\n",
      "Delete Time: 4.819251 seconds\n",
      "replication factor = 1\n",
      "Create Time: 6.628083 seconds\n",
      "Delete Time: 4.770692 seconds\n",
      "replication factor = 1\n",
      "Create Time: 6.607483 seconds\n",
      "Delete Time: 4.921233 seconds\n",
      "replication factor = 1\n",
      "Create Time: 6.744894 seconds\n",
      "Delete Time: 4.727010 seconds\n",
      "DELETE: Mean Time = 4.798460s, Std Time = 0.068335s\n"
     ]
    }
   ],
   "source": [
    "# Cassandra\n",
    "\n",
    "# 1 replica\n",
    "# --- CREATE ---\n",
    "create_cassandra_mean, create_cassandra_std = benchmark_operation(cassandra_insert, large_df, 1)\n",
    "print(f\"CREATE: Mean Time = {create_cassandra_mean:.6f}s, Std Time = {create_cassandra_std:.6f}s\")\n",
    "\n",
    "# Vérifier le nombre de lignes insérées\n",
    "result = session.execute('SELECT COUNT(*) FROM shows')\n",
    "row = result.one()\n",
    "print(f\"Total rows in 'shows' table: {row[0]}\")\n",
    "\n",
    "# --- READ ---\n",
    "read_cassandra_mean, read_cassandra_std = benchmark_operation(cassandra_read, large_df, 1)\n",
    "print(f\"READ: Mean Time = {read_cassandra_mean:.6f}s, Std Time = {read_cassandra_std:.6f}s\")\n",
    "\n",
    "# --- UPDATE ---\n",
    "update_cassandra_mean, update_cassandra_std = benchmark_operation(cassandra_update, large_df, 1)\n",
    "print(f\"UPDATE: Mean Time = {update_cassandra_mean:.6f}s, Std Time = {update_cassandra_std:.6f}s\")\n",
    "\n",
    "# --- DELETE ---\n",
    "delete_cassandra_mean, delete_cassandra_std = benchmark_operation(cassandra_delete, large_df, 1)\n",
    "print(f\"DELETE: Mean Time = {delete_cassandra_mean:.6f}s, Std Time = {delete_cassandra_std:.6f}s\")\n"
   ]
  },
  {
   "cell_type": "code",
   "execution_count": 43,
   "metadata": {},
   "outputs": [
    {
     "name": "stdout",
     "output_type": "stream",
     "text": [
      "replication factor = 2\n",
      "Create Time: 6.628602 seconds\n",
      "replication factor = 2\n",
      "Create Time: 6.977443 seconds\n",
      "replication factor = 2\n",
      "Create Time: 6.991718 seconds\n",
      "replication factor = 2\n",
      "Create Time: 7.121857 seconds\n",
      "replication factor = 2\n",
      "Create Time: 6.890444 seconds\n",
      "CREATE: Mean Time = 6.922013s, Std Time = 0.164290s\n",
      "Total rows in 'shows' table: 1837\n",
      "replication factor = 2\n",
      "Create Time: 6.840382 seconds\n",
      "Read Time: 0.073904 seconds\n",
      "Queried 28163 records\n",
      "replication factor = 2\n",
      "Create Time: 6.840843 seconds\n",
      "Read Time: 0.060405 seconds\n",
      "Queried 28163 records\n",
      "replication factor = 2\n",
      "Create Time: 6.954779 seconds\n",
      "Read Time: 0.058691 seconds\n",
      "Queried 28163 records\n",
      "replication factor = 2\n",
      "Create Time: 6.649458 seconds\n",
      "Read Time: 0.083170 seconds\n",
      "Queried 28163 records\n",
      "replication factor = 2\n",
      "Create Time: 6.670960 seconds\n",
      "Read Time: 0.059011 seconds\n",
      "Queried 28163 records\n",
      "READ: Mean Time = 0.067036s, Std Time = 0.009854s\n",
      "replication factor = 2\n",
      "Create Time: 6.932253 seconds\n",
      "Update Time: 4.925218 seconds\n",
      "replication factor = 2\n",
      "Create Time: 6.796788 seconds\n",
      "Update Time: 4.796086 seconds\n",
      "replication factor = 2\n",
      "Create Time: 6.826448 seconds\n",
      "Update Time: 4.975275 seconds\n",
      "replication factor = 2\n",
      "Create Time: 6.845949 seconds\n",
      "Update Time: 4.904208 seconds\n",
      "replication factor = 2\n",
      "Create Time: 6.633292 seconds\n",
      "Update Time: 4.797014 seconds\n",
      "UPDATE: Mean Time = 4.879560s, Std Time = 0.071604s\n",
      "replication factor = 2\n",
      "Create Time: 6.593667 seconds\n",
      "Delete Time: 4.788860 seconds\n",
      "replication factor = 2\n",
      "Create Time: 6.578166 seconds\n",
      "Delete Time: 4.771878 seconds\n",
      "replication factor = 2\n",
      "Create Time: 6.611835 seconds\n",
      "Delete Time: 4.717335 seconds\n",
      "replication factor = 2\n",
      "Create Time: 6.597663 seconds\n",
      "Delete Time: 4.723366 seconds\n",
      "replication factor = 2\n",
      "Create Time: 6.598554 seconds\n",
      "Delete Time: 4.741477 seconds\n",
      "DELETE: Mean Time = 4.748583s, Std Time = 0.027669s\n"
     ]
    }
   ],
   "source": [
    "# 2 replicas\n",
    "# --- CREATE ---\n",
    "create_cassandra_massive_mean_2, create_cassandra_massive_std_2 = benchmark_operation(cassandra_insert, large_df, 2)\n",
    "print(f\"CREATE: Mean Time = {create_cassandra_massive_mean_2:.6f}s, Std Time = {create_cassandra_massive_std_2:.6f}s\")\n",
    "\n",
    "# Vérifier le nombre de lignes insérées\n",
    "cursor.execute('SELECT COUNT(*) FROM shows')\n",
    "row = cursor.fetchone()\n",
    "print(f\"Total rows in 'shows' table: {row[0]}\")\n",
    "\n",
    "# --- READ ---\n",
    "read_cassandra_massive_mean_2, read_cassandra_massive_std_2 = benchmark_operation(cassandra_read, large_df, 2)\n",
    "print(f\"READ: Mean Time = {read_cassandra_massive_mean_2:.6f}s, Std Time = {read_cassandra_massive_std_2:.6f}s\")\n",
    "\n",
    "# --- UPDATE ---\n",
    "update_cassandra_massive_mean_2, update_cassandra_massive_std_2 = benchmark_operation(cassandra_update, large_df, 2)\n",
    "print(f\"UPDATE: Mean Time = {update_cassandra_massive_mean_2:.6f}s, Std Time = {update_cassandra_massive_std_2:.6f}s\")\n",
    "\n",
    "# --- DELETE ---\n",
    "delete_cassandra_massive_mean_2, delete_cassandra_massive_std_2 = benchmark_operation(cassandra_delete, large_df, 2)\n",
    "print(f\"DELETE: Mean Time = {delete_cassandra_massive_mean_2:.6f}s, Std Time = {delete_cassandra_massive_std_2:.6f}s\")\n"
   ]
  },
  {
   "cell_type": "code",
   "execution_count": 44,
   "metadata": {},
   "outputs": [
    {
     "name": "stdout",
     "output_type": "stream",
     "text": [
      "replication factor = 3\n",
      "Create Time: 6.581456 seconds\n",
      "replication factor = 3\n",
      "Create Time: 6.600733 seconds\n",
      "replication factor = 3\n",
      "Create Time: 6.598071 seconds\n",
      "replication factor = 3\n",
      "Create Time: 6.685602 seconds\n",
      "replication factor = 3\n",
      "Create Time: 6.649437 seconds\n",
      "CREATE: Mean Time = 6.623060s, Std Time = 0.038629s\n",
      "Total rows in 'shows' table: 1837\n",
      "replication factor = 3\n",
      "Create Time: 6.589636 seconds\n",
      "Read Time: 0.058138 seconds\n",
      "Queried 28163 records\n",
      "replication factor = 3\n",
      "Create Time: 6.594204 seconds\n",
      "Read Time: 0.057449 seconds\n",
      "Queried 28163 records\n",
      "replication factor = 3\n",
      "Create Time: 6.792741 seconds\n",
      "Read Time: 0.058968 seconds\n",
      "Queried 28163 records\n",
      "replication factor = 3\n",
      "Create Time: 6.921719 seconds\n",
      "Read Time: 0.058809 seconds\n",
      "Queried 28163 records\n",
      "replication factor = 3\n",
      "Create Time: 7.044128 seconds\n",
      "Read Time: 0.058986 seconds\n",
      "Queried 28163 records\n",
      "READ: Mean Time = 0.058470s, Std Time = 0.000597s\n",
      "replication factor = 3\n",
      "Create Time: 7.059959 seconds\n",
      "Update Time: 5.024749 seconds\n",
      "replication factor = 3\n",
      "Create Time: 6.932046 seconds\n",
      "Update Time: 4.959361 seconds\n",
      "replication factor = 3\n",
      "Create Time: 7.150454 seconds\n",
      "Update Time: 5.038706 seconds\n",
      "replication factor = 3\n",
      "Create Time: 6.967419 seconds\n",
      "Update Time: 5.083594 seconds\n",
      "replication factor = 3\n",
      "Create Time: 7.027986 seconds\n",
      "Update Time: 5.026675 seconds\n",
      "UPDATE: Mean Time = 5.026617s, Std Time = 0.039798s\n",
      "replication factor = 3\n",
      "Create Time: 6.730423 seconds\n",
      "Delete Time: 4.842897 seconds\n",
      "replication factor = 3\n",
      "Create Time: 7.085282 seconds\n",
      "Delete Time: 5.065289 seconds\n",
      "replication factor = 3\n",
      "Create Time: 7.146737 seconds\n",
      "Delete Time: 5.006998 seconds\n",
      "replication factor = 3\n",
      "Create Time: 6.964543 seconds\n",
      "Delete Time: 5.027070 seconds\n",
      "replication factor = 3\n",
      "Create Time: 6.795841 seconds\n",
      "Delete Time: 4.946400 seconds\n",
      "DELETE: Mean Time = 4.977731s, Std Time = 0.077613s\n"
     ]
    }
   ],
   "source": [
    "# 3 replicas\n",
    "# --- CREATE ---\n",
    "create_cassandra_massive_mean_3, create_cassandra_massive_std_3 = benchmark_operation(cassandra_insert, large_df, 3)\n",
    "print(f\"CREATE: Mean Time = {create_cassandra_massive_mean_3:.6f}s, Std Time = {create_cassandra_massive_std_3:.6f}s\")\n",
    "\n",
    "# Vérifier le nombre de lignes insérées\n",
    "cursor.execute('SELECT COUNT(*) FROM shows')\n",
    "row = cursor.fetchone()\n",
    "print(f\"Total rows in 'shows' table: {row[0]}\")\n",
    "\n",
    "# --- READ ---\n",
    "read_cassandra_massive_mean_3, read_cassandra_massive_std_3 = benchmark_operation(cassandra_read, large_df, 3)\n",
    "print(f\"READ: Mean Time = {read_cassandra_massive_mean_3:.6f}s, Std Time = {read_cassandra_massive_std_3:.6f}s\")\n",
    "\n",
    "# --- UPDATE ---\n",
    "update_cassandra_massive_mean_3, update_cassandra_massive_std_3 = benchmark_operation(cassandra_update, large_df, 3)\n",
    "print(f\"UPDATE: Mean Time = {update_cassandra_massive_mean_3:.6f}s, Std Time = {update_cassandra_massive_std_3:.6f}s\")\n",
    "\n",
    "# --- DELETE ---\n",
    "delete_cassandra_massive_mean_3, delete_cassandra_massive_std_3 = benchmark_operation(cassandra_delete, large_df, 3)\n",
    "print(f\"DELETE: Mean Time = {delete_cassandra_massive_mean_3:.6f}s, Std Time = {delete_cassandra_massive_std_3:.6f}s\")\n",
    "\n"
   ]
  },
  {
   "cell_type": "code",
   "execution_count": 45,
   "metadata": {},
   "outputs": [],
   "source": [
    "\n",
    "# # 4 replicas\n",
    "# # --- CREATE ---\n",
    "# create_cassandra_massive_mean_4, create_cassandra_massive_std_4 = benchmark_operation(cassandra_insert, large_df, 4)\n",
    "# print(f\"CREATE: Mean Time = {create_cassandra_massive_mean_4:.6f}s, Std Time = {create_cassandra_massive_std_4:.6f}s\")\n",
    "\n",
    "# # Vérifier le nombre de lignes insérées\n",
    "# cursor.execute('SELECT COUNT(*) FROM shows')\n",
    "# row = cursor.fetchone()\n",
    "# print(f\"Total rows in 'shows' table: {row[0]}\")\n",
    "\n",
    "# # --- READ ---\n",
    "# read_cassandra_massive_mean_4, read_cassandra_massive_std_4 = benchmark_operation(cassandra_read, large_df, 4)\n",
    "# print(f\"READ: Mean Time = {read_cassandra_massive_mean_4:.6f}s, Std Time = {read_cassandra_massive_std_4:.6f}s\")\n",
    "\n",
    "# # --- UPDATE ---\n",
    "# update_cassandra_massive_mean_4, update_cassandra_massive_std_4 = benchmark_operation(cassandra_update, large_df, 4)\n",
    "# print(f\"UPDATE: Mean Time = {update_cassandra_massive_mean_4:.6f}s, Std Time = {update_cassandra_massive_std_4:.6f}s\")\n",
    "\n",
    "# # --- DELETE ---\n",
    "# delete_cassandra_massive_mean_4, delete_cassandra_massive_std_4 = benchmark_operation(cassandra_delete, large_df, 4)\n",
    "# print(f\"DELETE: Mean Time = {delete_cassandra_massive_mean_4:.6f}s, Std Time = {delete_cassandra_massive_std_4:.6f}s\")\n",
    "\n",
    "# # 5 replicas\n",
    "# # --- CREATE ---\n",
    "# create_cassandra_massive_mean_5, create_cassandra_massive_std_5 = benchmark_operation(cassandra_insert, large_df, 5)\n",
    "# print(f\"CREATE: Mean Time = {create_cassandra_massive_mean_5:.6f}s, Std Time = {create_cassandra_massive_std_5:.6f}s\")\n",
    "\n",
    "# # Vérifier le nombre de lignes insérées\n",
    "# cursor.execute('SELECT COUNT(*) FROM shows')\n",
    "# row = cursor.fetchone()\n",
    "# print(f\"Total rows in 'shows' table: {row[0]}\")\n",
    "\n",
    "# # --- READ ---\n",
    "# read_cassandra_massive_mean_5, read_cassandra_massive_std_5 = benchmark_operation(cassandra_read, large_df, 5)\n",
    "# print(f\"READ: Mean Time = {read_cassandra_massive_mean_5:.6f}s, Std Time = {read_cassandra_massive_std_5:.6f}s\")\n",
    "\n",
    "# # --- UPDATE ---\n",
    "# update_cassandra_massive_mean_5, update_cassandra_massive_std_5 = benchmark_operation(cassandra_update, large_df, 5)\n",
    "# print(f\"UPDATE: Mean Time = {update_cassandra_massive_mean_5:.6f}s, Std Time = {update_cassandra_massive_std_5:.6f}s\")\n",
    "\n",
    "# # --- DELETE ---\n",
    "# delete_cassandra_massive_mean_5, delete_cassandra_massive_std_5 = benchmark_operation(cassandra_delete, large_df, 5)\n",
    "# print(f\"DELETE: Mean Time = {delete_cassandra_massive_mean_5:.6f}s, Std Time = {delete_cassandra_massive_std_5:.6f}s\")"
   ]
  },
  {
   "cell_type": "markdown",
   "metadata": {},
   "source": [
    "## Visualisation"
   ]
  },
  {
   "cell_type": "code",
   "execution_count": 46,
   "metadata": {},
   "outputs": [
    {
     "data": {
      "image/png": "[encoded data removed]",
      "text/plain": [
       "<Figure size 1000x600 with 1 Axes>"
      ]
     },
     "metadata": {},
     "output_type": "display_data"
    }
   ],
   "source": [
    "sqlite_times = {\n",
    "    'CREATE': (create_sqlite_massive_mean, create_sqlite_massive_std),\n",
    "    'READ': (read_sqlite_massive_mean, read_sqlite_massive_std),\n",
    "    'UPDATE': (update_sqlite_massive_mean, update_sqlite_massive_std),\n",
    "    'DELETE': (delete_sqlite_massive_mean, delete_sqlite_massive_std)\n",
    "}\n",
    "\n",
    "cassandra_times = {\n",
    "    'CREATE': (create_cassandra_massive_mean, create_cassandra_massive_std),\n",
    "    'READ': (read_cassandra_massive_mean, read_cassandra_massive_std),\n",
    "    'UPDATE': (update_cassandra_massive_mean, update_cassandra_massive_std),\n",
    "    'DELETE': (delete_cassandra_massive_mean, delete_cassandra_massive_std)\n",
    "}\n",
    "\n",
    "cassandra_times_2 = {\n",
    "    'CREATE': (create_cassandra_massive_mean_2, create_cassandra_massive_std_2),\n",
    "    'READ': (read_cassandra_massive_mean_2, read_cassandra_massive_std_2),\n",
    "    'UPDATE': (update_cassandra_massive_mean_2, update_cassandra_massive_std_2),\n",
    "    'DELETE': (delete_cassandra_massive_mean_2, delete_cassandra_massive_std_2)\n",
    "}\n",
    "\n",
    "cassandra_times_3 = {\n",
    "    'CREATE': (create_cassandra_massive_mean_3, create_cassandra_massive_std_3),\n",
    "    'READ': (read_cassandra_massive_mean_3, read_cassandra_massive_std_3),\n",
    "    'UPDATE': (update_cassandra_massive_mean_3, update_cassandra_massive_std_3),\n",
    "    'DELETE': (delete_cassandra_massive_mean_3, delete_cassandra_massive_std_3)\n",
    "}\n",
    "\n",
    "# cassandra_times_4 = {\n",
    "#     'CREATE': (create_cassandra_massive_mean_4, create_cassandra_massive_std_4),\n",
    "#     'READ': (read_cassandra_massive_mean_4, read_cassandra_massive_std_4),\n",
    "#     'UPDATE': (update_cassandra_massive_mean_4, update_cassandra_massive_std_4),\n",
    "#     'DELETE': (delete_cassandra_massive_mean_4, delete_cassandra_massive_std_4)\n",
    "# }\n",
    "\n",
    "# cassandra_times_5 = {\n",
    "#     'CREATE': (create_cassandra_massive_mean_5, create_cassandra_massive_std_5),\n",
    "#     'READ': (read_cassandra_massive_mean_5, read_cassandra_massive_std_5),\n",
    "#     'UPDATE': (update_cassandra_massive_mean_5, update_cassandra_massive_std_5),\n",
    "#     'DELETE': (delete_cassandra_massive_mean_5, delete_cassandra_massive_std_5)\n",
    "# }\n",
    "\n",
    "operations = ['CREATE', 'READ', 'UPDATE', 'DELETE']\n",
    "\n",
    "# Extraire les temps moyens et écarts-types pour chaque système\n",
    "sqlite_means = [sqlite_times[op][0] for op in operations]\n",
    "sqlite_stds = [sqlite_times[op][1] for op in operations]\n",
    "\n",
    "cassandra_means = [cassandra_times[op][0] for op in operations]\n",
    "cassandra_stds = [cassandra_times[op][1] for op in operations]\n",
    "\n",
    "cassandra_means_2 = [cassandra_times_2[op][0] for op in operations]\n",
    "cassandra_stds_2 = [cassandra_times_2[op][1] for op in operations]\n",
    "\n",
    "cassandra_means_3 = [cassandra_times_3[op][0] for op in operations]\n",
    "cassandra_stds_3 = [cassandra_times_3[op][1] for op in operations]\n",
    "\n",
    "# cassandra_means_4 = [cassandra_times_4[op][0] for op in operations]\n",
    "# cassandra_stds_4 = [cassandra_times_4[op][1] for op in operations]\n",
    "\n",
    "# cassandra_means_5 = [cassandra_times_5[op][0] for op in operations]\n",
    "# cassandra_stds_5 = [cassandra_times_5[op][1] for op in operations]\n",
    "\n",
    "y = np.arange(len(operations))\n",
    "height = 0.1\n",
    "fig, ax = plt.subplots(figsize=(10, 6))\n",
    "\n",
    "bars1 = ax.barh(y - 2.5 * height, sqlite_means, height, xerr=sqlite_stds, label='SQLite', capsize=5)\n",
    "bars2 = ax.barh(y - 1.5 * height, cassandra_means, height, xerr=cassandra_stds, label='Cassandra (1 réplicat)', capsize=5)\n",
    "bars3 = ax.barh(y - 0.5 * height, cassandra_means_2, height, xerr=cassandra_stds_2, label='Cassandra (2 réplicats)', capsize=5)\n",
    "bars4 = ax.barh(y + 0.5 * height, cassandra_means_3, height, xerr=cassandra_stds_2, label='Cassandra (3 réplicats)', capsize=5)\n",
    "# bars5 = ax.barh(y + 1.5 * height, cassandra_means_4, height, xerr=cassandra_stds_2, label='Cassandra (4 réplicats)', capsize=5)\n",
    "# bars6 = ax.barh(y + 2.5 * height, cassandra_means_5, height, xerr=cassandra_stds_2, label='Cassandra (5 réplicats)', capsize=5)\n",
    "\n",
    "ax.set_xlabel('Temps (secondes)')\n",
    "ax.set_ylabel('Opérations')\n",
    "ax.set_title('Comparaison des performances de SQLite et Cassandra avec plusieurs réplicats sur données plus massives')\n",
    "ax.set_yticks(y)\n",
    "ax.set_yticklabels(operations)\n",
    "ax.legend()\n",
    "\n",
    "def add_values(bars):\n",
    "    for bar in bars:\n",
    "        xval = bar.get_width()\n",
    "        ax.text(xval, bar.get_y() + bar.get_height() / 2, f'{xval:.6f}', va='center', ha='left')\n",
    "\n",
    "add_values(bars1)\n",
    "add_values(bars2)\n",
    "add_values(bars3)\n",
    "add_values(bars4)\n",
    "# add_values(bars5)\n",
    "# add_values(bars6)\n",
    "\n",
    "plt.tight_layout()\n",
    "plt.show()"
   ]
  },
  {
   "cell_type": "markdown",
   "metadata": {},
   "source": [
    "TODO commenter la visualisation aussi \n",
    "\n",
    "On voit bien que 1 replica Set bien plus rapide que plus : y a déjà un commentaire là dessus en haut"
   ]
  },
  {
   "cell_type": "markdown",
   "metadata": {},
   "source": [
    "# Comparaison avec / sans index"
   ]
  },
  {
   "cell_type": "markdown",
   "metadata": {},
   "source": [
    "### Index secondaires (clés secondaires)\n",
    "\n",
    "\n",
    "Dans Cassandra, la commande `CREATE INDEX` permet de créer des index secondaires, qui ne sont pas des clés primaires. Cela permet de filtrer les données sur des colonnes autres que la partition key ou les clustering keys.\n",
    "\n",
    "#### Avantages des index secondaires\n",
    "\n",
    "- Facilite les filtres sur des colonnes non clés : Vous pouvez filtrer sur des colonnes autres que la partition key ou les clustering keys, ce qui rend les requêtes plus flexibles.\n",
    "- Accès plus rapide aux données : Les index secondaires optimisent les requêtes qui filtrent sur certaines colonnes spécifiques, réduisant le nombre de partitions à examiner.\n",
    "\n",
    "#### Inconvénients des index secondaires\n",
    "\n",
    "- Risque de surcharge de performance : Sur de grandes tables, si une colonne contient beaucoup de valeurs distinctes, l'index peut devenir lourd et ralentir les performances des écritures et lectures.\n",
    "- Structure distribuée moins efficace : Les index secondaires sont distribués, mais leur gestion est moins performante que les clés primaires, surtout sur des colonnes avec une haute cardinalité.\n",
    "- Limitations d'usage : Les index secondaires sont mieux utilisés sur des colonnes avec faible cardinalité. Il est déconseillé de les utiliser pour des colonnes ayant une forte cardinalité ou pour des filtres complexes impliquant plusieurs colonnes.\n",
    "- `ALLOW FILTERING` : Parfois, pour exécuter une requête avec un index secondaire, vous devrez utiliser `ALLOW FILTERING`, ce qui peut nuire aux performances en scannant une grande partie des données."
   ]
  },
  {
   "cell_type": "code",
   "execution_count": 47,
   "metadata": {},
   "outputs": [
    {
     "name": "stdout",
     "output_type": "stream",
     "text": [
      "Indexation time: Cassandra 0.08488s, SQLite 0.00122s\n"
     ]
    }
   ],
   "source": [
    "def cassandra_create_indexes(columns):\n",
    "    start_time = time.time()\n",
    "    for column in columns:\n",
    "        index_query = f\"CREATE INDEX {column}_idx ON shows ({column});\"\n",
    "        session.execute(index_query)\n",
    "    cassandra_time = time.time() - start_time\n",
    "    return cassandra_time\n",
    "\n",
    "\n",
    "def sqlite_create_indexes(columns):\n",
    "    # drop les index\n",
    "    for column in columns:\n",
    "        index_query = f\"DROP INDEX IF EXISTS {column}_idx;\"\n",
    "        cursor.execute(index_query)\n",
    "\n",
    "    start_time = time.time()\n",
    "    for column in columns:\n",
    "        # Créer une requête SQL pour chaque colonne\n",
    "        index_query = f\"CREATE INDEX IF NOT EXISTS {column}_idx ON shows ({column});\"\n",
    "        cursor.execute(index_query)\n",
    "    sqlite_time = time.time() - start_time\n",
    "    return sqlite_time\n",
    "\n",
    "columns_to_index = [\"release_year\"]\n",
    "cassandra_time_index = cassandra_create_indexes(columns_to_index)\n",
    "sqlite_time_index = sqlite_create_indexes(columns_to_index)\n",
    "\n",
    "print(f\"Indexation time: Cassandra {cassandra_time_index:.5f}s, SQLite {sqlite_time_index:.5f}s\")"
   ]
  },
  {
   "cell_type": "code",
   "execution_count": 48,
   "metadata": {},
   "outputs": [],
   "source": [
    "# Fonctions pour CRUD SQLite avec index\n",
    "\n",
    "# --- CREATE ---\n",
    "def sqlite_insert_index(df):\n",
    "    drop_table_sqlite()\n",
    "    create_table_sqlite()\n",
    "    sqlite_create_indexes(columns_to_index)\n",
    "\n",
    "    columns = ', '.join(df.columns)\n",
    "    placeholders = ', '.join(['?'] * len(df.columns))\n",
    "    insert_query = f\"INSERT INTO shows ({columns}) VALUES ({placeholders})\"\n",
    "\n",
    "    start_time = time.time()\n",
    "    for _, row in df.iterrows():\n",
    "      cursor.execute(insert_query, tuple(row))\n",
    "    conn.commit()\n",
    "\n",
    "    create_time_sqlite = time.time() - start_time\n",
    "    print(f\"Create Time: {create_time_sqlite:.6f} seconds\")\n",
    "    return create_time_sqlite\n",
    "\n",
    "# --- READ ---\n",
    "def sqlite_read_index(df):\n",
    "    sqlite_insert_index(df)\n",
    "    start_time = time.time()\n",
    "    cursor.execute(\"SELECT * FROM shows WHERE release_year > 2000\")\n",
    "    result = cursor.fetchall()\n",
    "    read_time_sqlite = time.time() - start_time\n",
    "    print(f\"Read Time: {read_time_sqlite:.6f} seconds\")\n",
    "    print(f\"Queried {len(result)} records\")\n",
    "    return read_time_sqlite\n",
    "\n",
    "# --- UPDATE ---\n",
    "def sqlite_update_index(df):\n",
    "    sqlite_insert_index(df)\n",
    "    start_time = time.time()\n",
    "    cursor.execute(\"UPDATE shows SET rating='PG' WHERE release_year > 2000\")\n",
    "    conn.commit()\n",
    "    update_time_sqlite = time.time() - start_time\n",
    "    print(f\"Update Time: {update_time_sqlite:.6f} seconds\")\n",
    "    return update_time_sqlite\n",
    "\n",
    "# --- DELETE ---\n",
    "def sqlite_delete_index(df):\n",
    "    sqlite_insert_index(df)\n",
    "    start_time = time.time()\n",
    "    cursor.execute(\"DELETE FROM shows WHERE release_year > 2000\")\n",
    "    conn.commit()\n",
    "    delete_time_sqlite = time.time() - start_time\n",
    "    print(f\"Delete Time: {delete_time_sqlite:.6f} seconds\")\n",
    "    return delete_time_sqlite"
   ]
  },
  {
   "cell_type": "code",
   "execution_count": 49,
   "metadata": {},
   "outputs": [],
   "source": [
    "# Fonctions pour CRUD Cassandra avec index\n",
    "# --- CREATE ---\n",
    "def cassandra_insert_index(*args):\n",
    "    df = args[0]  # Premier argument, qui est le DataFrame\n",
    "    nb_repl = args[1]  # Deuxième argument, qui est le nombre de répliques\n",
    "\n",
    "    drop_table_cassandra()\n",
    "    create_table_cassandra(nb_repl)\n",
    "    cassandra_create_indexes(columns_to_index)\n",
    "\n",
    "    insert_query = session.prepare(\"INSERT INTO shows (show_id, title, director, cast, country, date_added, release_year, rating, duration, listed_in, description) VALUES (?, ?, ?, ?, ?, ?, ?, ?, ?, ?, ?)\")\n",
    "\n",
    "    start_time = time.time()\n",
    "    for _, row in df.iterrows():\n",
    "        session.execute(insert_query, (row['show_id'], row['title'], row['director'], row['cast'], row['country'], row['date_added'], row['release_year'], row['rating'], row['duration'], row['listed_in'], row['description']))\n",
    "    create_time = time.time() - start_time\n",
    "\n",
    "    print(f\"Create Time: {create_time:.6f} seconds\")\n",
    "\n",
    "    return create_time\n",
    "\n",
    "\n",
    "# --- READ ---\n",
    "def cassandra_read_index(*args):\n",
    "    df = args[0]  # Premier argument, qui est le DataFrame\n",
    "    nb_repl = args[1]  # Deuxième argument, qui est le nombre de répliques\n",
    "    cassandra_insert_index(df, nb_repl)\n",
    "\n",
    "    # allow filtering car clef secondaire, pas primaire \n",
    "    start_time = time.time()\n",
    "    result = session.execute('SELECT * FROM shows WHERE release_year > 2000 ALLOW FILTERING ;')\n",
    "    read_time = time.time() - start_time\n",
    "    print(f\"Read time with index: {read_time:.5f}s\")\n",
    "    num_records = sum(1 for _ in result)\n",
    "    print(f\"Number of records: {num_records}\")\n",
    "    return read_time \n",
    "\n",
    "\n",
    "# --- UPDATE ---\n",
    "def cassandra_update_index(*args):\n",
    "    df = args[0]  # Premier argument, qui est le DataFrame\n",
    "    nb_repl = args[1]  # Deuxième argument, qui est le nombre de répliques\n",
    "    cassandra_insert_index(df, nb_repl)\n",
    "\n",
    "    start_time = time.time()\n",
    "    update_query = \"UPDATE shows SET rating = 'PG' WHERE release_year > 2000;\"\n",
    "    session.execute(update_query)\n",
    "    update_time = time.time() - start_time\n",
    "    print(f\"Update time with index: {update_time:.5f}s\")\n",
    "    return update_time\n",
    "\n",
    "\n",
    "# --- DELETE ---\n",
    "def cassandra_delete_index(*args):\n",
    "    df = args[0]  # Premier argument, qui est le DataFrame\n",
    "    nb_repl = args[1]  # Deuxième argument, qui est le nombre de répliques\n",
    "    cassandra_insert_index(df, nb_repl)\n",
    "\n",
    "    start_time = time.time()\n",
    "    delete_query = \"DELETE FROM shows WHERE release_year > 2000;\"\n",
    "    session.execute(delete_query)\n",
    "    delete_time = time.time() - start_time\n",
    "    print(f\"Delete time with index: {delete_time:.5f}s\")\n",
    "    return delete_time"
   ]
  },
  {
   "cell_type": "code",
   "execution_count": 50,
   "metadata": {},
   "outputs": [
    {
     "name": "stdout",
     "output_type": "stream",
     "text": [
      "Create Time: 0.499491 seconds\n",
      "Create Time: 0.471748 seconds\n",
      "Create Time: 0.481601 seconds\n",
      "Create Time: 0.507249 seconds\n",
      "Create Time: 0.476642 seconds\n",
      "CREATE: Mean Time = 0.487346s, Std Time = 0.013671s\n",
      "Total rows in 'shows' table: 30000\n",
      "Create Time: 0.472596 seconds\n",
      "Read Time: 0.036770 seconds\n",
      "Queried 28163 records\n",
      "Create Time: 0.476527 seconds\n",
      "Read Time: 0.039507 seconds\n",
      "Queried 28163 records\n",
      "Create Time: 0.469644 seconds\n",
      "Read Time: 0.034857 seconds\n",
      "Queried 28163 records\n",
      "Create Time: 0.476826 seconds\n",
      "Read Time: 0.034612 seconds\n",
      "Queried 28163 records\n",
      "Create Time: 0.475771 seconds\n",
      "Read Time: 0.034531 seconds\n",
      "Queried 28163 records\n",
      "READ: Mean Time = 0.036055s, Std Time = 0.001911s\n",
      "Create Time: 0.508565 seconds\n",
      "Update Time: 0.020337 seconds\n",
      "Create Time: 0.475619 seconds\n",
      "Update Time: 0.019197 seconds\n",
      "Create Time: 0.476921 seconds\n",
      "Update Time: 0.018948 seconds\n",
      "Create Time: 0.478930 seconds\n",
      "Update Time: 0.019244 seconds\n",
      "Create Time: 0.475814 seconds\n",
      "Update Time: 0.018621 seconds\n",
      "UPDATE: Mean Time = 0.019269s, Std Time = 0.000578s\n",
      "Create Time: 0.476935 seconds\n",
      "Delete Time: 0.020583 seconds\n",
      "Create Time: 0.473733 seconds\n",
      "Delete Time: 0.019398 seconds\n",
      "Create Time: 0.528272 seconds\n",
      "Delete Time: 0.020532 seconds\n",
      "Create Time: 0.500293 seconds\n",
      "Delete Time: 0.019831 seconds\n",
      "Create Time: 0.479787 seconds\n",
      "Delete Time: 0.020176 seconds\n",
      "DELETE: Mean Time = 0.020104s, Std Time = 0.000445s\n"
     ]
    }
   ],
   "source": [
    "# sqlite \n",
    "# --- CREATE ---\n",
    "create_sqlite_massive_mean_index, create_sqlite_massive_std_index = benchmark_operation(sqlite_insert_index, large_df)\n",
    "print(f\"CREATE: Mean Time = {create_sqlite_massive_mean_index:.6f}s, Std Time = {create_sqlite_massive_std_index:.6f}s\")\n",
    "\n",
    "# Vérifier le nombre de lignes insérées\n",
    "cursor.execute('SELECT COUNT(*) FROM shows')\n",
    "row = cursor.fetchone()\n",
    "print(f\"Total rows in 'shows' table: {row[0]}\")\n",
    "\n",
    "# --- READ ---\n",
    "read_sqlite_massive_mean_index, read_sqlite_massive_std_index = benchmark_operation(sqlite_read_index, large_df)\n",
    "print(f\"READ: Mean Time = {read_sqlite_massive_mean_index:.6f}s, Std Time = {read_sqlite_massive_std_index:.6f}s\")\n",
    "\n",
    "# --- UPDATE ---\n",
    "update_sqlite_massive_mean_index, update_sqlite_massive_std_index = benchmark_operation(sqlite_update_index, large_df)\n",
    "print(f\"UPDATE: Mean Time = {update_sqlite_massive_mean_index:.6f}s, Std Time = {update_sqlite_massive_std_index:.6f}s\")\n",
    "\n",
    "# --- DELETE ---\n",
    "delete_sqlite_massive_mean_index, delete_sqlite_massive_std_index = benchmark_operation(sqlite_delete_index, large_df)\n",
    "print(f\"DELETE: Mean Time = {delete_sqlite_massive_mean_index:.6f}s, Std Time = {delete_sqlite_massive_std_index:.6f}s\")"
   ]
  },
  {
   "cell_type": "code",
   "execution_count": 51,
   "metadata": {},
   "outputs": [
    {
     "name": "stdout",
     "output_type": "stream",
     "text": [
      "replication factor = 1\n",
      "Create Time: 7.083335 seconds\n",
      "replication factor = 1\n",
      "Create Time: 6.901984 seconds\n",
      "replication factor = 1\n",
      "Create Time: 7.011228 seconds\n",
      "replication factor = 1\n",
      "Create Time: 7.010921 seconds\n",
      "replication factor = 1\n",
      "Create Time: 7.223150 seconds\n",
      "CREATE: Mean Time = 7.046124s, Std Time = 0.105789s\n",
      "replication factor = 1\n",
      "Create Time: 7.069833 seconds\n",
      "Read time with index: 0.06036s\n",
      "Number of records: 28163\n",
      "replication factor = 1\n",
      "Create Time: 7.053473 seconds\n",
      "Read time with index: 0.05990s\n",
      "Number of records: 28163\n",
      "replication factor = 1\n",
      "Create Time: 7.206771 seconds\n",
      "Read time with index: 0.05910s\n",
      "Number of records: 28163\n",
      "replication factor = 1\n",
      "Create Time: 6.900431 seconds\n",
      "Read time with index: 0.08840s\n",
      "Number of records: 28163\n",
      "replication factor = 1\n",
      "Create Time: 6.905147 seconds\n",
      "Read time with index: 0.06094s\n",
      "Number of records: 28163\n",
      "READ: Mean Time = 0.065739s, Std Time = 0.011348s\n",
      "replication factor = 1\n",
      "Create Time: 6.829198 seconds\n"
     ]
    },
    {
     "ename": "InvalidRequest",
     "evalue": "Error from server: code=2200 [Invalid query] message=\"Some partition key parts are missing: show_id\"",
     "output_type": "error",
     "traceback": [
      "\u001b[0;31m---------------------------------------------------------------------------\u001b[0m",
      "\u001b[0;31mInvalidRequest\u001b[0m                            Traceback (most recent call last)",
      "Cell \u001b[0;32mIn[51], line 13\u001b[0m\n\u001b[1;32m     10\u001b[0m \u001b[38;5;28mprint\u001b[39m(\u001b[38;5;124mf\u001b[39m\u001b[38;5;124m\"\u001b[39m\u001b[38;5;124mREAD: Mean Time = \u001b[39m\u001b[38;5;132;01m{\u001b[39;00mread_cassandra_mean_index\u001b[38;5;132;01m:\u001b[39;00m\u001b[38;5;124m.6f\u001b[39m\u001b[38;5;132;01m}\u001b[39;00m\u001b[38;5;124ms, Std Time = \u001b[39m\u001b[38;5;132;01m{\u001b[39;00mread_cassandra_std_index\u001b[38;5;132;01m:\u001b[39;00m\u001b[38;5;124m.6f\u001b[39m\u001b[38;5;132;01m}\u001b[39;00m\u001b[38;5;124ms\u001b[39m\u001b[38;5;124m\"\u001b[39m)\n\u001b[1;32m     12\u001b[0m \u001b[38;5;66;03m# --- UPDATE ---\u001b[39;00m\n\u001b[0;32m---> 13\u001b[0m update_cassandra_mean_index, update_cassandra_std_index \u001b[38;5;241m=\u001b[39m \u001b[43mbenchmark_operation\u001b[49m\u001b[43m(\u001b[49m\u001b[43mcassandra_update_index\u001b[49m\u001b[43m,\u001b[49m\u001b[43m \u001b[49m\u001b[43mlarge_df\u001b[49m\u001b[43m,\u001b[49m\u001b[43m \u001b[49m\u001b[38;5;241;43m1\u001b[39;49m\u001b[43m)\u001b[49m\n\u001b[1;32m     14\u001b[0m \u001b[38;5;28mprint\u001b[39m(\u001b[38;5;124mf\u001b[39m\u001b[38;5;124m\"\u001b[39m\u001b[38;5;124mUPDATE: Mean Time = \u001b[39m\u001b[38;5;132;01m{\u001b[39;00mupdate_cassandra_mean_index\u001b[38;5;132;01m:\u001b[39;00m\u001b[38;5;124m.6f\u001b[39m\u001b[38;5;132;01m}\u001b[39;00m\u001b[38;5;124ms, Std Time = \u001b[39m\u001b[38;5;132;01m{\u001b[39;00mupdate_cassandra_std_index\u001b[38;5;132;01m:\u001b[39;00m\u001b[38;5;124m.6f\u001b[39m\u001b[38;5;132;01m}\u001b[39;00m\u001b[38;5;124ms\u001b[39m\u001b[38;5;124m\"\u001b[39m)\n\u001b[1;32m     16\u001b[0m \u001b[38;5;66;03m# --- DELETE ---\u001b[39;00m\n",
      "Cell \u001b[0;32mIn[23], line 7\u001b[0m, in \u001b[0;36mbenchmark_operation\u001b[0;34m(func, *args)\u001b[0m\n\u001b[1;32m      5\u001b[0m times \u001b[38;5;241m=\u001b[39m []\n\u001b[1;32m      6\u001b[0m \u001b[38;5;28;01mfor\u001b[39;00m _ \u001b[38;5;129;01min\u001b[39;00m \u001b[38;5;28mrange\u001b[39m(\u001b[38;5;241m5\u001b[39m):  \u001b[38;5;66;03m# Effectuer 5 itérations\u001b[39;00m\n\u001b[0;32m----> 7\u001b[0m     times\u001b[38;5;241m.\u001b[39mappend(\u001b[43mfunc\u001b[49m\u001b[43m(\u001b[49m\u001b[38;5;241;43m*\u001b[39;49m\u001b[43margs\u001b[49m\u001b[43m)\u001b[49m)  \u001b[38;5;66;03m# Exécuter la fonction avec les arguments\u001b[39;00m\n\u001b[1;32m      9\u001b[0m \u001b[38;5;66;03m# Calculer la moyenne et l'écart-type\u001b[39;00m\n\u001b[1;32m     10\u001b[0m mean_time \u001b[38;5;241m=\u001b[39m np\u001b[38;5;241m.\u001b[39mmean(times)\n",
      "Cell \u001b[0;32mIn[49], line 47\u001b[0m, in \u001b[0;36mcassandra_update_index\u001b[0;34m(*args)\u001b[0m\n\u001b[1;32m     45\u001b[0m start_time \u001b[38;5;241m=\u001b[39m time\u001b[38;5;241m.\u001b[39mtime()\n\u001b[1;32m     46\u001b[0m update_query \u001b[38;5;241m=\u001b[39m \u001b[38;5;124m\"\u001b[39m\u001b[38;5;124mUPDATE shows SET rating = \u001b[39m\u001b[38;5;124m'\u001b[39m\u001b[38;5;124mPG\u001b[39m\u001b[38;5;124m'\u001b[39m\u001b[38;5;124m WHERE release_year > 2000;\u001b[39m\u001b[38;5;124m\"\u001b[39m\n\u001b[0;32m---> 47\u001b[0m \u001b[43msession\u001b[49m\u001b[38;5;241;43m.\u001b[39;49m\u001b[43mexecute\u001b[49m\u001b[43m(\u001b[49m\u001b[43mupdate_query\u001b[49m\u001b[43m)\u001b[49m\n\u001b[1;32m     48\u001b[0m update_time \u001b[38;5;241m=\u001b[39m time\u001b[38;5;241m.\u001b[39mtime() \u001b[38;5;241m-\u001b[39m start_time\n\u001b[1;32m     49\u001b[0m \u001b[38;5;28mprint\u001b[39m(\u001b[38;5;124mf\u001b[39m\u001b[38;5;124m\"\u001b[39m\u001b[38;5;124mUpdate time with index: \u001b[39m\u001b[38;5;132;01m{\u001b[39;00mupdate_time\u001b[38;5;132;01m:\u001b[39;00m\u001b[38;5;124m.5f\u001b[39m\u001b[38;5;132;01m}\u001b[39;00m\u001b[38;5;124ms\u001b[39m\u001b[38;5;124m\"\u001b[39m)\n",
      "File \u001b[0;32m~/Library/Python/3.9/lib/python/site-packages/cassandra/cluster.py:2677\u001b[0m, in \u001b[0;36mSession.execute\u001b[0;34m(self, query, parameters, timeout, trace, custom_payload, execution_profile, paging_state, host, execute_as)\u001b[0m\n\u001b[1;32m   2634\u001b[0m \u001b[38;5;28;01mdef\u001b[39;00m \u001b[38;5;21mexecute\u001b[39m(\u001b[38;5;28mself\u001b[39m, query, parameters\u001b[38;5;241m=\u001b[39m\u001b[38;5;28;01mNone\u001b[39;00m, timeout\u001b[38;5;241m=\u001b[39m_NOT_SET, trace\u001b[38;5;241m=\u001b[39m\u001b[38;5;28;01mFalse\u001b[39;00m,\n\u001b[1;32m   2635\u001b[0m             custom_payload\u001b[38;5;241m=\u001b[39m\u001b[38;5;28;01mNone\u001b[39;00m, execution_profile\u001b[38;5;241m=\u001b[39mEXEC_PROFILE_DEFAULT,\n\u001b[1;32m   2636\u001b[0m             paging_state\u001b[38;5;241m=\u001b[39m\u001b[38;5;28;01mNone\u001b[39;00m, host\u001b[38;5;241m=\u001b[39m\u001b[38;5;28;01mNone\u001b[39;00m, execute_as\u001b[38;5;241m=\u001b[39m\u001b[38;5;28;01mNone\u001b[39;00m):\n\u001b[1;32m   2637\u001b[0m \u001b[38;5;250m    \u001b[39m\u001b[38;5;124;03m\"\"\"\u001b[39;00m\n\u001b[1;32m   2638\u001b[0m \u001b[38;5;124;03m    Execute the given query and synchronously wait for the response.\u001b[39;00m\n\u001b[1;32m   2639\u001b[0m \n\u001b[0;32m   (...)\u001b[0m\n\u001b[1;32m   2674\u001b[0m \u001b[38;5;124;03m    on a DSE cluster.\u001b[39;00m\n\u001b[1;32m   2675\u001b[0m \u001b[38;5;124;03m    \"\"\"\u001b[39;00m\n\u001b[0;32m-> 2677\u001b[0m     \u001b[38;5;28;01mreturn\u001b[39;00m \u001b[38;5;28;43mself\u001b[39;49m\u001b[38;5;241;43m.\u001b[39;49m\u001b[43mexecute_async\u001b[49m\u001b[43m(\u001b[49m\u001b[43mquery\u001b[49m\u001b[43m,\u001b[49m\u001b[43m \u001b[49m\u001b[43mparameters\u001b[49m\u001b[43m,\u001b[49m\u001b[43m \u001b[49m\u001b[43mtrace\u001b[49m\u001b[43m,\u001b[49m\u001b[43m \u001b[49m\u001b[43mcustom_payload\u001b[49m\u001b[43m,\u001b[49m\u001b[43m \u001b[49m\u001b[43mtimeout\u001b[49m\u001b[43m,\u001b[49m\u001b[43m \u001b[49m\u001b[43mexecution_profile\u001b[49m\u001b[43m,\u001b[49m\u001b[43m \u001b[49m\u001b[43mpaging_state\u001b[49m\u001b[43m,\u001b[49m\u001b[43m \u001b[49m\u001b[43mhost\u001b[49m\u001b[43m,\u001b[49m\u001b[43m \u001b[49m\u001b[43mexecute_as\u001b[49m\u001b[43m)\u001b[49m\u001b[38;5;241;43m.\u001b[39;49m\u001b[43mresult\u001b[49m\u001b[43m(\u001b[49m\u001b[43m)\u001b[49m\n",
      "File \u001b[0;32m~/Library/Python/3.9/lib/python/site-packages/cassandra/cluster.py:4956\u001b[0m, in \u001b[0;36mResponseFuture.result\u001b[0;34m(self)\u001b[0m\n\u001b[1;32m   4954\u001b[0m     \u001b[38;5;28;01mreturn\u001b[39;00m ResultSet(\u001b[38;5;28mself\u001b[39m, \u001b[38;5;28mself\u001b[39m\u001b[38;5;241m.\u001b[39m_final_result)\n\u001b[1;32m   4955\u001b[0m \u001b[38;5;28;01melse\u001b[39;00m:\n\u001b[0;32m-> 4956\u001b[0m     \u001b[38;5;28;01mraise\u001b[39;00m \u001b[38;5;28mself\u001b[39m\u001b[38;5;241m.\u001b[39m_final_exception\n",
      "\u001b[0;31mInvalidRequest\u001b[0m: Error from server: code=2200 [Invalid query] message=\"Some partition key parts are missing: show_id\""
     ]
    }
   ],
   "source": [
    "# Cassandra\n",
    "\n",
    "# 1 replica\n",
    "# --- CREATE ---\n",
    "create_cassandra_mean_index, create_cassandra_std_index = benchmark_operation(cassandra_insert_index, large_df, 1)\n",
    "print(f\"CREATE: Mean Time = {create_cassandra_mean_index:.6f}s, Std Time = {create_cassandra_std_index:.6f}s\")\n",
    "\n",
    "# --- READ ---\n",
    "read_cassandra_mean_index, read_cassandra_std_index = benchmark_operation(cassandra_read_index, large_df, 1)\n",
    "print(f\"READ: Mean Time = {read_cassandra_mean_index:.6f}s, Std Time = {read_cassandra_std_index:.6f}s\")\n",
    "\n",
    "# --- UPDATE ---\n",
    "update_cassandra_mean_index, update_cassandra_std_index = benchmark_operation(cassandra_update_index, large_df, 1)\n",
    "print(f\"UPDATE: Mean Time = {update_cassandra_mean_index:.6f}s, Std Time = {update_cassandra_std_index:.6f}s\")\n",
    "\n",
    "# --- DELETE ---\n",
    "delete_cassandra_mean_index, delete_cassandra_std_index = benchmark_operation(cassandra_delete_index, large_df, 1)\n",
    "print(f\"DELETE: Mean Time = {delete_cassandra_mean_index:.6f}s, Std Time = {delete_cassandra_std_index:.6f}s\")\n",
    "\n",
    "# 2 replicas\n",
    "# --- CREATE ---\n",
    "create_cassandra_massive_mean_2_index, create_cassandra_massive_std_2_index = benchmark_operation(cassandra_insert_index, large_df, 2)\n",
    "print(f\"CREATE: Mean Time = {create_cassandra_massive_mean_2_index:.6f}s, Std Time = {create_cassandra_massive_std_2_index:.6f}s\")\n",
    "\n",
    "# Vérifier le nombre de lignes insérées\n",
    "cursor.execute('SELECT COUNT(*) FROM shows')\n",
    "row = cursor.fetchone()\n",
    "print(f\"Total rows in 'shows' table: {row[0]}\")\n",
    "\n",
    "# --- READ ---\n",
    "read_cassandra_massive_mean_2_index, read_cassandra_massive_std_2_index = benchmark_operation(cassandra_read_index, large_df, 2)\n",
    "print(f\"READ: Mean Time = {read_cassandra_massive_mean_2_index:.6f}s, Std Time = {read_cassandra_massive_std_2_index:.6f}s\")\n",
    "\n",
    "# --- UPDATE ---\n",
    "update_cassandra_massive_mean_2_index, update_cassandra_massive_std_2_index = benchmark_operation(cassandra_update_index, large_df, 2)\n",
    "print(f\"UPDATE: Mean Time = {update_cassandra_massive_mean_2_index:.6f}s, Std Time = {update_cassandra_massive_std_2_index:.6f}s\")\n",
    "\n",
    "# --- DELETE ---\n",
    "delete_cassandra_massive_mean_2_index, delete_cassandra_massive_std_2_index = benchmark_operation(cassandra_delete_index, large_df, 2)\n",
    "print(f\"DELETE: Mean Time = {delete_cassandra_massive_mean_2_index:.6f}s, Std Time = {delete_cassandra_massive_std_2_index:.6f}s\")\n",
    "\n",
    "# # 3 replicas\n",
    "# # --- CREATE ---\n",
    "# create_cassandra_massive_mean_3_index, create_cassandra_massive_std_3_index = benchmark_operation(cassandra_insert_index, large_df, 3)\n",
    "# print(f\"CREATE: Mean Time = {create_cassandra_massive_mean_3_index:.6f}s, Std Time = {create_cassandra_massive_std_3_index:.6f}s\")\n",
    "\n",
    "# # Vérifier le nombre de lignes insérées\n",
    "# cursor.execute('SELECT COUNT(*) FROM shows')\n",
    "# row = cursor.fetchone()\n",
    "# print(f\"Total rows in 'shows' table: {row[0]}\")\n",
    "\n",
    "# # --- READ ---\n",
    "# read_cassandra_massive_mean_3_index, read_cassandra_massive_std_3_index = benchmark_operation(cassandra_read_index, large_df, 3)\n",
    "# print(f\"READ: Mean Time = {read_cassandra_massive_mean_3_index:.6f}s, Std Time = {read_cassandra_massive_std_3_index:.6f}s\")\n",
    "\n",
    "# # --- UPDATE ---\n",
    "# update_cassandra_massive_mean_3_index, update_cassandra_massive_std_3_index = benchmark_operation(cassandra_update_index, large_df, 3)\n",
    "# print(f\"UPDATE: Mean Time = {update_cassandra_massive_mean_3_index:.6f}s, Std Time = {update_cassandra_massive_std_3_index:.6f}s\")\n",
    "\n",
    "# # --- DELETE ---\n",
    "# delete_cassandra_massive_mean_3_index, delete_cassandra_massive_std_3_index = benchmark_operation(cassandra_delete_index, large_df, 3)\n",
    "# print(f\"DELETE: Mean Time = {delete_cassandra_massive_mean_3_index:.6f}s, Std Time = {delete_cassandra_massive_std_3_index:.6f}s\")\n",
    "\n",
    "\n",
    "# # 4 replicas\n",
    "# # --- CREATE ---\n",
    "# create_cassandra_massive_mean_4_index, create_cassandra_massive_std_4_index = benchmark_operation(cassandra_insert_index, large_df, 4)\n",
    "# print(f\"CREATE: Mean Time = {create_cassandra_massive_mean_4_index:.6f}s, Std Time = {create_cassandra_massive_std_4_index:.6f}s\")\n",
    "\n",
    "# # Vérifier le nombre de lignes insérées\n",
    "# cursor.execute('SELECT COUNT(*) FROM shows')\n",
    "# row = cursor.fetchone()\n",
    "# print(f\"Total rows in 'shows' table: {row[0]}\")\n",
    "\n",
    "# # --- READ ---\n",
    "# read_cassandra_massive_mean_4_index, read_cassandra_massive_std_4_index = benchmark_operation(cassandra_read_index, large_df, 4)\n",
    "# print(f\"READ: Mean Time = {read_cassandra_massive_mean_4_index:.6f}s, Std Time = {read_cassandra_massive_std_4_index:.6f}s\")\n",
    "\n",
    "# # --- UPDATE ---\n",
    "# update_cassandra_massive_mean_4_index, update_cassandra_massive_std_4_index = benchmark_operation(cassandra_update_index, large_df, 4)\n",
    "# print(f\"UPDATE: Mean Time = {update_cassandra_massive_mean_4_index:.6f}s, Std Time = {update_cassandra_massive_std_4_index:.6f}s\")\n",
    "\n",
    "# # --- DELETE ---\n",
    "# delete_cassandra_massive_mean_4_index, delete_cassandra_massive_std_4_index = benchmark_operation(cassandra_delete_index, large_df, 4)\n",
    "# print(f\"DELETE: Mean Time = {delete_cassandra_massive_mean_4_index:.6f}s, Std Time = {delete_cassandra_massive_std_4_index:.6f}s\")\n",
    "\n",
    "# # 5 replicas\n",
    "# # --- CREATE ---\n",
    "# create_cassandra_massive_mean_5_index, create_cassandra_massive_std_5_index = benchmark_operation(cassandra_insert_index, large_df, 5)\n",
    "# print(f\"CREATE: Mean Time = {create_cassandra_massive_mean_5_index:.6f}s, Std Time = {create_cassandra_massive_std_5_index:.6f}s\")\n",
    "\n",
    "# # Vérifier le nombre de lignes insérées\n",
    "# cursor.execute('SELECT COUNT(*) FROM shows')\n",
    "# row = cursor.fetchone()\n",
    "# print(f\"Total rows in 'shows' table: {row[0]}\")\n",
    "\n",
    "# # --- READ ---\n",
    "# read_cassandra_massive_mean_5_index, read_cassandra_massive_std_5_index = benchmark_operation(cassandra_read_index, large_df, 5)\n",
    "# print(f\"READ: Mean Time = {read_cassandra_massive_mean_5_index:.6f}s, Std Time = {read_cassandra_massive_std_5_index:.6f}s\")\n",
    "\n",
    "# # --- UPDATE ---\n",
    "# update_cassandra_massive_mean_5_index, update_cassandra_massive_std_5_index = benchmark_operation(cassandra_update_index, large_df, 5)\n",
    "# print(f\"UPDATE: Mean Time = {update_cassandra_massive_mean_5_index:.6f}s, Std Time = {update_cassandra_massive_std_5_index:.6f}s\")\n",
    "\n",
    "# # --- DELETE ---\n",
    "# delete_cassandra_massive_mean_5_index, delete_cassandra_massive_std_5_index = benchmark_operation(cassandra_delete_index, large_df, 5)\n",
    "# print(f\"DELETE: Mean Time = {delete_cassandra_massive_mean_5_index:.6f}s, Std Time = {delete_cassandra_massive_std_5_index:.6f}s\")"
   ]
  },
  {
   "cell_type": "code",
   "execution_count": null,
   "metadata": {},
   "outputs": [],
   "source": [
    "# TODO : afficher différences temps avec et sans index pour chaque "
   ]
  },
  {
   "cell_type": "code",
   "execution_count": null,
   "metadata": {},
   "outputs": [
    {
     "data": {
      "image/png": "[encoded data removed]",
      "text/plain": [
       "<Figure size 1000x600 with 1 Axes>"
      ]
     },
     "metadata": {},
     "output_type": "display_data"
    }
   ],
   "source": [
    "actions = ['Insert', 'Read', 'Update', 'Delete']\n",
    "\n",
    "mean_without_index = [create_sqlite_massive_mean, read_sqlite_massive_mean, \n",
    "                      update_sqlite_massive_mean, delete_sqlite_massive_mean]\n",
    "mean_with_index = [create_sqlite_massive_mean_index, read_sqlite_massive_mean_index, \n",
    "                   update_sqlite_massive_mean_index, delete_sqlite_massive_mean_index]\n",
    "\n",
    "std_without_index = [create_sqlite_massive_std, read_sqlite_massive_std, \n",
    "                     update_sqlite_massive_std, delete_sqlite_massive_std]\n",
    "std_with_index = [create_sqlite_massive_std_index, read_sqlite_massive_std_index, \n",
    "                  update_sqlite_massive_std_index, delete_sqlite_massive_std_index]\n",
    "\n",
    "x = np.arange(len(actions))\n",
    "width = 0.35  \n",
    "\n",
    "fig, ax = plt.subplots(figsize=(10, 6))\n",
    "\n",
    "bars1 = ax.bar(x - width/2, mean_without_index, width, yerr=std_without_index, label='Sans Index', color='b', capsize=5)\n",
    "bars2 = ax.bar(x + width/2, mean_with_index, width, yerr=std_with_index, label='Avec Index', color='g', capsize=5)\n",
    "\n",
    "ax.set_xlabel('Actions')\n",
    "ax.set_ylabel('Temps moyen (en secondes)')\n",
    "ax.set_title('Comparaison des performances avec et sans indexation (SQLite)')\n",
    "ax.set_xticks(x)\n",
    "ax.set_xticklabels(actions)\n",
    "ax.legend()\n",
    "\n",
    "plt.tight_layout()\n",
    "plt.show()\n"
   ]
  },
  {
   "cell_type": "code",
   "execution_count": null,
   "metadata": {},
   "outputs": [],
   "source": [
    "actions = ['Insert', 'Read', 'Update', 'Delete']\n",
    "\n",
    "mean_without_index = [create_cassandra_mean, read_cassandra_mean, \n",
    "                      update_cassandra_mean, delete_cassandra_mean]\n",
    "mean_with_index = [create_cassandra_mean_index, read_cassandra_mean_index, \n",
    "                   update_cassandra_mean_index, delete_cassandra_mean_index]\n",
    "\n",
    "std_without_index = [create_cassandra_std, read_cassandra_std, \n",
    "                     update_cassandra_std, delete_cassandra_std]\n",
    "std_with_index = [create_cassandra_std_index, read_cassandra_std_index, \n",
    "                  update_cassandra_std_index, delete_cassandra_std_index]\n",
    "\n",
    "x = np.arange(len(actions))\n",
    "width = 0.35  \n",
    "\n",
    "fig, ax = plt.subplots(figsize=(10, 6))\n",
    "\n",
    "bars1 = ax.bar(x - width/2, mean_without_index, width, yerr=std_without_index, label='Sans Index', color='b', capsize=5)\n",
    "bars2 = ax.bar(x + width/2, mean_with_index, width, yerr=std_with_index, label='Avec Index', color='g', capsize=5)\n",
    "\n",
    "ax.set_xlabel('Actions')\n",
    "ax.set_ylabel('Temps moyen (en secondes)')\n",
    "ax.set_title('Comparaison des performances avec et sans indexation (cassandra)')\n",
    "ax.set_xticks(x)\n",
    "ax.set_xticklabels(actions)\n",
    "ax.legend()\n",
    "\n",
    "plt.tight_layout()\n",
    "plt.show()\n"
   ]
  },
  {
   "cell_type": "code",
   "execution_count": null,
   "metadata": {},
   "outputs": [
    {
     "ename": "NameError",
     "evalue": "name 'create_cassandra_massive_mean_2_index' is not defined",
     "output_type": "error",
     "traceback": [
      "\u001b[0;31m---------------------------------------------------------------------------\u001b[0m",
      "\u001b[0;31mNameError\u001b[0m                                 Traceback (most recent call last)",
      "Cell \u001b[0;32mIn[92], line 8\u001b[0m\n\u001b[1;32m      4\u001b[0m actions \u001b[38;5;241m=\u001b[39m [\u001b[38;5;124m'\u001b[39m\u001b[38;5;124mInsert\u001b[39m\u001b[38;5;124m'\u001b[39m, \u001b[38;5;124m'\u001b[39m\u001b[38;5;124mRead\u001b[39m\u001b[38;5;124m'\u001b[39m, \u001b[38;5;124m'\u001b[39m\u001b[38;5;124mUpdate\u001b[39m\u001b[38;5;124m'\u001b[39m, \u001b[38;5;124m'\u001b[39m\u001b[38;5;124mDelete\u001b[39m\u001b[38;5;124m'\u001b[39m]\n\u001b[1;32m      6\u001b[0m mean_without_index \u001b[38;5;241m=\u001b[39m [create_cassandra_massive_mean_2, read_cassandra_massive_mean_2, \n\u001b[1;32m      7\u001b[0m                       update_cassandra_massive_mean_2, delete_cassandra_massive_mean_2]\n\u001b[0;32m----> 8\u001b[0m mean_with_index \u001b[38;5;241m=\u001b[39m [\u001b[43mcreate_cassandra_massive_mean_2_index\u001b[49m, read_cassandra_massive_mean_2_index, \n\u001b[1;32m      9\u001b[0m                    update_cassandra_massive_mean_2_index, delete_cassandra_massive_mean_2_index]\n\u001b[1;32m     11\u001b[0m std_without_index \u001b[38;5;241m=\u001b[39m [create_cassandra_massive_std_2, read_cassandra_massive_std_2, \n\u001b[1;32m     12\u001b[0m                      update_cassandra_massive_std_2, delete_cassandra_massive_std_2]\n\u001b[1;32m     13\u001b[0m std_with_index \u001b[38;5;241m=\u001b[39m [create_cassandra_massive_std_2_index, read_cassandra_massive_std_2_index, \n\u001b[1;32m     14\u001b[0m                   update_cassandra_massive_std_2_index, delete_cassandra_massive_std_2_index]\n",
      "\u001b[0;31mNameError\u001b[0m: name 'create_cassandra_massive_mean_2_index' is not defined"
     ]
    }
   ],
   "source": [
    "actions = ['Insert', 'Read', 'Update', 'Delete']\n",
    "\n",
    "mean_without_index = [create_cassandra_massive_mean_2, read_cassandra_massive_mean_2, \n",
    "                      update_cassandra_massive_mean_2, delete_cassandra_massive_mean_2]\n",
    "mean_with_index = [create_cassandra_massive_mean_2_index, read_cassandra_massive_mean_2_index, \n",
    "                   update_cassandra_massive_mean_2_index, delete_cassandra_massive_mean_2_index]\n",
    "\n",
    "std_without_index = [create_cassandra_massive_std_2, read_cassandra_massive_std_2, \n",
    "                     update_cassandra_massive_std_2, delete_cassandra_massive_std_2]\n",
    "std_with_index = [create_cassandra_massive_std_2_index, read_cassandra_massive_std_2_index, \n",
    "                  update_cassandra_massive_std_2_index, delete_cassandra_massive_std_2_index]\n",
    "\n",
    "x = np.arange(len(actions))\n",
    "width = 0.35  \n",
    "\n",
    "fig, ax = plt.subplots(figsize=(10, 6))\n",
    "\n",
    "bars1 = ax.bar(x - width/2, mean_without_index, width, yerr=std_without_index, label='Sans Index', color='b', capsize=5)\n",
    "bars2 = ax.bar(x + width/2, mean_with_index, width, yerr=std_with_index, label='Avec Index', color='g', capsize=5)\n",
    "\n",
    "ax.set_xlabel('Actions')\n",
    "ax.set_ylabel('Temps moyen (en secondes)')\n",
    "ax.set_title('Comparaison des performances avec et sans indexation (cassandra)')\n",
    "ax.set_xticks(x)\n",
    "ax.set_xticklabels(actions)\n",
    "ax.legend()\n",
    "\n",
    "plt.tight_layout()\n",
    "plt.show()\n"
   ]
  },
  {
   "cell_type": "markdown",
   "metadata": {},
   "source": [
    "# ce qu'il reste \n",
    "\n",
    "# TODO INDEX sur PRIMARY \n",
    "# -> donc filtrer sur le show_id, avec et sans index \n",
    "\n",
    "# TODO CLUSTERING : Le clustering est une autre méthode de distribution des données dans Cassandra, mais cela se fait au sein d'une partition (c'est-à-dire que les données ayant la même clé de partition seront rangées ensemble en fonction de la clé de clustering). Le choix d'une bonne clé de clustering permet d’optimiser la lecture des données dans Cassandra.\n",
    "\n",
    "# TODO : Effectuer des tests de charge : Augmenter le nombre de requêtes ou de transactions simultanées pour tester la scalabilité et la gestion des requêtes par Cassandra. Dans un scénario avec peu de données, SQLite peut sembler plus rapide, mais lorsque la charge augmente, Cassandra sera plus adapté pour gérer des performances à grande échelle\n",
    "\n",
    "# TODO : BATCH c'est quoi ?\n",
    "# TODO : REQUETES COMPLEXES\n",
    "# TODO : JOINS\n",
    "# TODO : REQUETES AVEC FILTRES"
   ]
  },
  {
   "cell_type": "code",
   "execution_count": null,
   "metadata": {
    "id": "Xr4EKrp9SaXl"
   },
   "outputs": [],
   "source": [
    "# TODO Charlotte tu veux dire quoi ?\n",
    "# Tester avec des requêtes plus complexes\n",
    "# Utiliser un dataset plus grand (ça c'est au dessus)\n",
    "#  Ajouter des colonnes à indexer (c'est fait aussi au dessus)\n",
    "# Tous ces TODO n'ont rien changé."
   ]
  },
  {
   "cell_type": "markdown",
   "metadata": {
    "id": "YUKaVNidSaXl"
   },
   "source": [
    "# Fin du notebook"
   ]
  },
  {
   "cell_type": "code",
   "execution_count": null,
   "metadata": {
    "id": "K__CbN_ISaXl"
   },
   "outputs": [],
   "source": [
    "# Tout fermer proprement\n",
    "session.shutdown() # Fermer la connexion Cassandra\n",
    "cluster.shutdown() # Fermer le cluster Cassandra\n",
    "conn.close() # Fermer la connexion SQLite\n",
    "cursor.close() # Fermer le curseur SQLite"
   ]
  },
  {
   "cell_type": "code",
   "execution_count": null,
   "metadata": {},
   "outputs": [],
   "source": [
    "TODO vérifier plus de MySQL "
   ]
  }
 ],
 "metadata": {
  "colab": {
   "collapsed_sections": [
    "zNbLEjRUSaXd",
    "DSa5TnVxSaXf",
    "gyQhyPcqXcdW",
    "joVbr__Z1aEJ"
   ],
   "provenance": []
  },
  "kernelspec": {
   "display_name": "Python 3",
   "language": "python",
   "name": "python3"
  },
  "language_info": {
   "codemirror_mode": {
    "name": "ipython",
    "version": 3
   },
   "file_extension": ".py",
   "mimetype": "text/x-python",
   "name": "python",
   "nbconvert_exporter": "python",
   "pygments_lexer": "ipython3",
   "version": "3.9.6"
  }
 },
 "nbformat": 4,
 "nbformat_minor": 0
}
