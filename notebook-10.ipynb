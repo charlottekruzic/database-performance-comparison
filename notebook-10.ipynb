{
 "cells": [
  {
   "cell_type": "markdown",
   "metadata": {
    "id": "JEXns_C5SaXc"
   },
   "source": [
    "# Projet Traitement et Données Large Échelle\n",
    "\n",
    "Zoé MARQUIS & Charlotte KRUZIC"
   ]
  },
  {
   "cell_type": "markdown",
   "metadata": {
    "id": "zNbLEjRUSaXd"
   },
   "source": [
    "## Comparaison de Performances entre Systèmes Relationnels et NoSQL : Étude de Cas avec le Catalogue Netflix"
   ]
  },
  {
   "cell_type": "markdown",
   "metadata": {
    "id": "wR7GJDOISaXe"
   },
   "source": [
    "Dans ce projet, nous comparons les performances entre un système de base de données relationnel (SQLite) et un système NoSQL (Cassandra), en utilisant le **catalogue Netflix** comme jeu de données. Ce dataset, disponible en Open Data, offre une structure réaliste et adaptée pour explorer les différences entre ces deux approches de gestion de données. L'objectif principal est d'évaluer les performances pour des opérations d'insertion, mise à jour et requêtes complexes, tout en analysant les spécificités du système NoSQL choisi."
   ]
  },
  {
   "cell_type": "markdown",
   "metadata": {
    "id": "ZqbpvhO7SaXe"
   },
   "source": [
    "### Jeu de données\n",
    "\n",
    "Le jeu de données utilisé contient des informations sur les films et séries disponibles sur Netflix, avec les attributs suivants :\n",
    "    - `show_id` : Id unique pour chaque enregistrement\n",
    "    - `title` : Le titre\n",
    "    - `release_year` : L'année de sortie\n",
    "    - `rating` : La classification\n",
    "    - `duration` : La durée ou nombre de saisons (pour les séries)\n",
    "    - `listed_in` : Les catégories\n",
    "\n",
    "TODO : pourquoi ce choix"
   ]
  },
  {
   "cell_type": "markdown",
   "metadata": {
    "id": "KqlM6RB7SaXe"
   },
   "source": [
    "### Schéma de données\n",
    "\n",
    "#### Structure relationnelle (SQLite)\n",
    "\n",
    "Dans SQLite, nous utilisons une structure relationnelle classique avec les attributs définis dans une table principale, où chaque colonne correspond à un type de donnée bien spécifié. Des index sont également créés sur des colonnes clés pour optimiser les performances des requêtes fréquentes.\n",
    "\n",
    "TODO : remplir correctement les tables par rappotr à la suite\n",
    "```sql\n",
    "CREATE TABLE netflix (\n",
    "    show_id VARCHAR(255) PRIMARY KEY,\n",
    "    title VARCHAR(255),\n",
    "    release_year INT,\n",
    "    rating VARCHAR(50),\n",
    "    duration VARCHAR(50),\n",
    "    listed_in VARCHAR(255)\n",
    ");\n",
    "```\n",
    "\n",
    "\n",
    "#### Structure NoSQL (Cassandra)\n",
    "\n",
    "Pour Cassandra, nous adoptons une approche orientée colonnes, en structurant les données pour des accès rapides et efficaces selon les cas d'utilisation spécifiques.\n",
    "La structure NoSQL sera définie comme suit :\n",
    "\n",
    "```sql\n",
    "CREATE TABLE netflix (\n",
    "    show_id TEXT PRIMARY KEY,\n",
    "    title TEXT,\n",
    "    release_year INT,\n",
    "    rating TEXT,\n",
    "    duration TEXT,\n",
    "    listed_in TEXT\n",
    ");\n",
    "```\n",
    "\n",
    "\n",
    "TODO ; checker qu'on fait bien ça par la suite\n",
    "\n"
   ]
  },
  {
   "cell_type": "markdown",
   "metadata": {
    "id": "WT4hifJQSaXe"
   },
   "source": [
    "### Comparaison des schémas\n",
    "Le schéma relationnel est rigide et suit une normalisation stricte pour assurer la cohérence des données, tandis que Cassandra offre plus de flexibilité dans la structure des colonnes, permettant une meilleure scalabilité horizontale.\n",
    "\n",
    "TODO : expliciter ça"
   ]
  },
  {
   "cell_type": "markdown",
   "metadata": {
    "id": "xApu2UauSaXe"
   },
   "source": [
    "TODO : véifier\n",
    "\n",
    "---\n",
    "\n",
    "### Modèle de données de Cassandra\n",
    "\n",
    "Cassandra repose sur un modèle basé sur des colonnes plutôt que sur des documents (comme MongoDB) ou des paires clé-valeur (comme Redis).\n",
    "\n",
    "#### Keyspace\n",
    "Un Keyspace dans Cassandra peut être vu comme un espace de noms, similaire à une base de données dans les systèmes relationnels. Il permet de regrouper plusieurs tables (ou Column Families). Chaque Keyspace définit des propriétés de réplication, comme le nombre de répliques des données.\n",
    "\n",
    "#### Column Family\n",
    "Les Column Families dans Cassandra ressemblent aux tables en SQL, mais avec une flexibilité accrue dans la structure des données. Une Column Family contient plusieurs colonnes, mais contrairement aux tables relationnelles, les colonnes ne doivent pas nécessairement être définies à l'avance. Elles peuvent être ajoutées dynamiquement avec des noms et des valeurs.\n",
    "\n",
    "#### Key\n",
    "Chaque ligne dans une Column Family est identifiée par une clé unique (par exemple, show_id dans votre jeu de données Netflix). Cela permet d'identifier rapidement les enregistrements sans avoir à faire de jointures complexes comme dans une base de données relationnelle.\n",
    "\n",
    "#### Colonnes\n",
    "Dans Cassandra, les données sont stockées sous forme de colonnes avec 3 composants essentiels :\n",
    "\n",
    "- Nom : le nom de la colonne  \n",
    "- Valeur : la donnée elle-même  \n",
    "- Timestamp : un marqueur temporel qui permet de gérer les versions des données (utile pour les mises à jour et les conflits de réplication).  \n",
    "Chaque colonne dans Cassandra est un enregistrement indépendant et peut être insérée, mise à jour ou supprimée sans affecter les autres colonnes dans la même ligne.\n",
    "\n",
    "#### Super Colonnes\n",
    "Les Super Colonnes permettent une structure encore plus flexible et imbriquée, un peu comme les données hiérarchiques. Une Super Colonne est une collection de colonnes et peut être vue comme une ligne composée de plusieurs colonnes nommées. Ce mécanisme est particulièrement utile pour des cas d'utilisation complexes où plusieurs attributs doivent être regroupés sous une même clé."
   ]
  },
  {
   "cell_type": "markdown",
   "metadata": {
    "id": "VceX_rWESaXe"
   },
   "source": [
    "TODO : à vérifier\n",
    "\n",
    "### Choix de Cassandra pour ce projet\n",
    "\n",
    "Cassandra est un système de gestion de base de données NoSQL particulièrement adapté aux applications nécessitant une haute disponibilité et une scalabilité horizontale. Voici les principaux points qui justifient son choix pour ce projet, en comparaison avec d'autres systèmes NoSQL comme MongoDB ou Redis :\n",
    "\n",
    "- **Scalabilité horizontale**  \n",
    "Cassandra est conçu pour être hautement scalable, ce qui signifie qu'il peut facilement gérer de grandes quantités de données en ajoutant simplement plus de nœuds à son cluster, sans interruption de service. Contrairement à des bases comme MongoDB, qui peut rencontrer des limitations de scalabilité avec des configurations complexes de réplication et de sharding, Cassandra simplifie cette gestion.\n",
    "\n",
    "- **Haute disponibilité et tolérance aux pannes**  \n",
    "Cassandra offre une réplication native des données sur plusieurs nœuds, ce qui assure une disponibilité continue même en cas de panne de serveur ou de nœud. Ce mécanisme de réplication est essentiel dans les applications à grande échelle où la perte de données ou l'indisponibilité du service n'est pas acceptable. Ce niveau de résilience n'est pas aussi robuste dans des systèmes comme Redis, qui est plus adapté pour les caches en mémoire.\n",
    "\n",
    "- **Modèle de données flexible**  \n",
    "Cassandra adopte un modèle de données basé sur des colonnes plutôt que sur des documents (MongoDB) ou des paires clé-valeur (Redis), ce qui le rend particulièrement adapté pour les cas où la structure des données peut évoluer au fil du temps. De plus, bien que non relationnel, Cassandra permet une organisation des données en tables et index, offrant plus de structure que des systèmes comme CouchDB.\n",
    "\n",
    "TODO : explication plus détaillée dans la cellule précédente\n",
    "\n",
    "- **Performances optimisées pour les écritures massives**  \n",
    "Cassandra est optimisé pour des opérations d'écriture à grande échelle, ce qui en fait un excellent choix pour des applications générant de grandes quantités de données en continu (comme les logs, les événements ou les analyses de séries temporelles). Contrairement à MongoDB, qui peut être plus performant pour les lectures complexes, Cassandra excelle dans les insertions et les mises à jour rapides.\n",
    "\n",
    "- **Adapté aux cas d'utilisation distribués**\n",
    "Étant un système distribué par nature, Cassandra est idéal pour des architectures distribuées et géographiquement décentralisées. Son approche de la gestion des données et de la réplication est particulièrement utile lorsque les données doivent être distribuées sur des data centers multiples, un point que d'autres bases NoSQL, comme Couchbase, ne gèrent pas aussi efficacement.\n",
    "\n",
    "**En résumé :**\n",
    "Cassandra est un excellent choix pour ce projet en raison de sa capacité à gérer des volumes de données massifs, sa scalabilité horizontale, sa tolérance aux pannes, et ses performances exceptionnelles pour les écritures. Ces caractéristiques en font un candidat idéal pour des applications nécessitant des performances de lecture/écriture rapides et une disponibilité continue, contrairement à d'autres systèmes NoSQL comme MongoDB ou Redis qui peuvent avoir des avantages dans d'autres cas d'usage.\n",
    "\n",
    "\n",
    "\n",
    "**optimisé pour les opérations d'insertion massives.**"
   ]
  },
  {
   "cell_type": "markdown",
   "metadata": {
    "id": "CSf1vpGsSce3"
   },
   "source": [
    "---\n",
    "## Installer les outils"
   ]
  },
  {
   "cell_type": "code",
   "execution_count": 1,
   "metadata": {
    "colab": {
     "base_uri": "https://localhost:8080/"
    },
    "id": "186hCryRIqD6",
    "outputId": "3c35e481-857d-48f9-8a48-49f0cb5b74d4"
   },
   "outputs": [
    {
     "name": "stdout",
     "output_type": "stream",
     "text": [
      "Requirement already satisfied: plotly in ./jupyter_venv/lib/python3.11/site-packages (5.24.1)\n",
      "Requirement already satisfied: tenacity>=6.2.0 in ./jupyter_venv/lib/python3.11/site-packages (from plotly) (9.0.0)\n",
      "Requirement already satisfied: packaging in ./jupyter_venv/lib/python3.11/site-packages (from plotly) (24.2)\n"
     ]
    }
   ],
   "source": [
    "!pip install plotly"
   ]
  },
  {
   "cell_type": "code",
   "execution_count": 2,
   "metadata": {
    "colab": {
     "base_uri": "https://localhost:8080/"
    },
    "id": "GVxxvVptShJM",
    "outputId": "072989a2-00ca-496c-a54f-d7b549f83684"
   },
   "outputs": [
    {
     "name": "stdout",
     "output_type": "stream",
     "text": [
      "Requirement already satisfied: pandas in ./jupyter_venv/lib/python3.11/site-packages (2.2.3)\n",
      "Requirement already satisfied: numpy>=1.23.2 in ./jupyter_venv/lib/python3.11/site-packages (from pandas) (2.1.3)\n",
      "Requirement already satisfied: python-dateutil>=2.8.2 in ./jupyter_venv/lib/python3.11/site-packages (from pandas) (2.9.0.post0)\n",
      "Requirement already satisfied: pytz>=2020.1 in ./jupyter_venv/lib/python3.11/site-packages (from pandas) (2024.2)\n",
      "Requirement already satisfied: tzdata>=2022.7 in ./jupyter_venv/lib/python3.11/site-packages (from pandas) (2024.2)\n",
      "Requirement already satisfied: six>=1.5 in ./jupyter_venv/lib/python3.11/site-packages (from python-dateutil>=2.8.2->pandas) (1.17.0)\n"
     ]
    }
   ],
   "source": [
    "!pip install pandas\n",
    "# pour manipuler des dataframes et charger les données de kaggle"
   ]
  },
  {
   "cell_type": "code",
   "execution_count": 3,
   "metadata": {
    "colab": {
     "base_uri": "https://localhost:8080/"
    },
    "id": "ZQ3l1d5gzcLc",
    "outputId": "ee5a5b42-aa7a-41b1-ece4-aec355632e92"
   },
   "outputs": [
    {
     "name": "stdout",
     "output_type": "stream",
     "text": [
      "Requirement already satisfied: cassandra-driver in ./jupyter_venv/lib/python3.11/site-packages (3.29.2)\n",
      "Requirement already satisfied: geomet<0.3,>=0.1 in ./jupyter_venv/lib/python3.11/site-packages (from cassandra-driver) (0.2.1.post1)\n",
      "Requirement already satisfied: click in ./jupyter_venv/lib/python3.11/site-packages (from geomet<0.3,>=0.1->cassandra-driver) (8.1.7)\n",
      "Requirement already satisfied: six in ./jupyter_venv/lib/python3.11/site-packages (from geomet<0.3,>=0.1->cassandra-driver) (1.17.0)\n"
     ]
    }
   ],
   "source": [
    "!pip install cassandra-driver"
   ]
  },
  {
   "cell_type": "code",
   "execution_count": 4,
   "metadata": {
    "colab": {
     "base_uri": "https://localhost:8080/"
    },
    "id": "TgYL5rsMxcOG",
    "outputId": "97b7d11e-3588-402c-bbd7-55e2f1b14481"
   },
   "outputs": [],
   "source": [
    "# TODO à vérifier des 2 cotés\n",
    "# # 🚨 sur linux \n",
    "# !apt-get update\n",
    "# !apt-get install -y openjdk-11-jdk\n",
    "# !apt-get install libev-dev\n",
    "# !apt-get install cassandra\n",
    "\n",
    "# # 🚨 sur mac\n",
    "# !brew install openjdk@17\n",
    "# !brew install libev\n",
    "# !brew install cassandra\n"
   ]
  },
  {
   "cell_type": "code",
   "execution_count": 5,
   "metadata": {
    "colab": {
     "base_uri": "https://localhost:8080/"
    },
    "id": "DJ3uiRzSTNUB",
    "outputId": "71e9a318-fb38-4150-c9b7-134e79138da4"
   },
   "outputs": [
    {
     "name": "stdout",
     "output_type": "stream",
     "text": [
      "Requirement already satisfied: kagglehub in ./jupyter_venv/lib/python3.11/site-packages (0.3.4)\n",
      "Requirement already satisfied: packaging in ./jupyter_venv/lib/python3.11/site-packages (from kagglehub) (24.2)\n",
      "Requirement already satisfied: requests in ./jupyter_venv/lib/python3.11/site-packages (from kagglehub) (2.32.3)\n",
      "Requirement already satisfied: tqdm in ./jupyter_venv/lib/python3.11/site-packages (from kagglehub) (4.67.1)\n",
      "Requirement already satisfied: charset-normalizer<4,>=2 in ./jupyter_venv/lib/python3.11/site-packages (from requests->kagglehub) (3.4.0)\n",
      "Requirement already satisfied: idna<4,>=2.5 in ./jupyter_venv/lib/python3.11/site-packages (from requests->kagglehub) (3.10)\n",
      "Requirement already satisfied: urllib3<3,>=1.21.1 in ./jupyter_venv/lib/python3.11/site-packages (from requests->kagglehub) (2.2.3)\n",
      "Requirement already satisfied: certifi>=2017.4.17 in ./jupyter_venv/lib/python3.11/site-packages (from requests->kagglehub) (2024.8.30)\n"
     ]
    }
   ],
   "source": [
    "!pip install kagglehub\n",
    "# installer kagglehub pour récupérer le dataset"
   ]
  },
  {
   "cell_type": "code",
   "execution_count": 6,
   "metadata": {
    "colab": {
     "base_uri": "https://localhost:8080/"
    },
    "id": "7mCkktKTUCAw",
    "outputId": "129e5c0b-b98f-44a9-ecc0-1170c0d52916"
   },
   "outputs": [
    {
     "name": "stdout",
     "output_type": "stream",
     "text": [
      "Requirement already satisfied: tabulate in ./jupyter_venv/lib/python3.11/site-packages (0.9.0)\n"
     ]
    }
   ],
   "source": [
    "!pip install tabulate"
   ]
  },
  {
   "cell_type": "markdown",
   "metadata": {
    "id": "DSa5TnVxSaXf"
   },
   "source": [
    "## Importation des données"
   ]
  },
  {
   "cell_type": "code",
   "execution_count": 7,
   "metadata": {
    "colab": {
     "base_uri": "https://localhost:8080/"
    },
    "id": "7EWeXgMVTYUR",
    "outputId": "92b8b7cb-3191-4cdc-dfe8-0435ea2c0220"
   },
   "outputs": [
    {
     "name": "stdout",
     "output_type": "stream",
     "text": [
      "Chemin vers le fichier du dataset :  /Users/zoemarquis/.cache/kagglehub/datasets/shivamb/netflix-shows/versions/5\n"
     ]
    }
   ],
   "source": [
    "import kagglehub\n",
    "\n",
    "path = kagglehub.dataset_download(\"shivamb/netflix-shows\")\n",
    "print(\"Chemin vers le fichier du dataset : \", path)"
   ]
  },
  {
   "cell_type": "code",
   "execution_count": 8,
   "metadata": {
    "colab": {
     "base_uri": "https://localhost:8080/"
    },
    "id": "31NMsovvTYM6",
    "outputId": "d9527294-d00e-490b-b3f3-936eba3790fd"
   },
   "outputs": [
    {
     "name": "stdout",
     "output_type": "stream",
     "text": [
      "Nom du fichier :  ['netflix_titles.csv']\n"
     ]
    }
   ],
   "source": [
    "import os\n",
    "files = os.listdir(path)\n",
    "print(\"Nom du fichier : \", files)"
   ]
  },
  {
   "cell_type": "code",
   "execution_count": 9,
   "metadata": {
    "id": "Bvv23wiLSaXg"
   },
   "outputs": [],
   "source": [
    "import pandas as pd\n",
    "\n",
    "filename = f\"{path}/{files[0]}\"\n",
    "df_initial = pd.read_csv(filename)"
   ]
  },
  {
   "cell_type": "code",
   "execution_count": 10,
   "metadata": {
    "colab": {
     "base_uri": "https://localhost:8080/"
    },
    "id": "_npbZAVzSaXg",
    "outputId": "a455d3b7-8c08-4319-f298-2f0e93c112af"
   },
   "outputs": [
    {
     "name": "stdout",
     "output_type": "stream",
     "text": [
      "+----+-----------+---------+----------------------------------+-------------------------------+-----------------------------------------------------------------------------------------------------------------------------------------------------------------------------------------------------------------------------------------------------------------------------------------------------------------+-----------------------------------------------------------------------+--------------------+----------------+----------+------------+---------------------------------------------------------------+-----------------------------------------------------------------------------------------------------------------------------------------------------------+\n",
      "|    | show_id   | type    | title                            | director                      | cast                                                                                                                                                                                                                                                                                                            | country                                                               | date_added         |   release_year | rating   | duration   | listed_in                                                     | description                                                                                                                                               |\n",
      "|----+-----------+---------+----------------------------------+-------------------------------+-----------------------------------------------------------------------------------------------------------------------------------------------------------------------------------------------------------------------------------------------------------------------------------------------------------------+-----------------------------------------------------------------------+--------------------+----------------+----------+------------+---------------------------------------------------------------+-----------------------------------------------------------------------------------------------------------------------------------------------------------|\n",
      "|  0 | s1        | Movie   | Dick Johnson Is Dead             | Kirsten Johnson               | nan                                                                                                                                                                                                                                                                                                             | United States                                                         | September 25, 2021 |           2020 | PG-13    | 90 min     | Documentaries                                                 | As her father nears the end of his life, filmmaker Kirsten Johnson stages his death in inventive and comical ways to help them both face the inevitable.  |\n",
      "|  1 | s2        | TV Show | Blood & Water                    | nan                           | Ama Qamata, Khosi Ngema, Gail Mabalane, Thabang Molaba, Dillon Windvogel, Natasha Thahane, Arno Greeff, Xolile Tshabalala, Getmore Sithole, Cindy Mahlangu, Ryle De Morny, Greteli Fincham, Sello Maake Ka-Ncube, Odwa Gwanya, Mekaila Mathys, Sandi Schultz, Duane Williams, Shamilla Miller, Patrick Mofokeng | South Africa                                                          | September 24, 2021 |           2021 | TV-MA    | 2 Seasons  | International TV Shows, TV Dramas, TV Mysteries               | After crossing paths at a party, a Cape Town teen sets out to prove whether a private-school swimming star is her sister who was abducted at birth.       |\n",
      "|  2 | s3        | TV Show | Ganglands                        | Julien Leclercq               | Sami Bouajila, Tracy Gotoas, Samuel Jouy, Nabiha Akkari, Sofia Lesaffre, Salim Kechiouche, Noureddine Farihi, Geert Van Rampelberg, Bakary Diombera                                                                                                                                                             | nan                                                                   | September 24, 2021 |           2021 | TV-MA    | 1 Season   | Crime TV Shows, International TV Shows, TV Action & Adventure | To protect his family from a powerful drug lord, skilled thief Mehdi and his expert team of robbers are pulled into a violent and deadly turf war.        |\n",
      "|  3 | s4        | TV Show | Jailbirds New Orleans            | nan                           | nan                                                                                                                                                                                                                                                                                                             | nan                                                                   | September 24, 2021 |           2021 | TV-MA    | 1 Season   | Docuseries, Reality TV                                        | Feuds, flirtations and toilet talk go down among the incarcerated women at the Orleans Justice Center in New Orleans on this gritty reality series.       |\n",
      "|  4 | s5        | TV Show | Kota Factory                     | nan                           | Mayur More, Jitendra Kumar, Ranjan Raj, Alam Khan, Ahsaas Channa, Revathi Pillai, Urvi Singh, Arun Kumar                                                                                                                                                                                                        | India                                                                 | September 24, 2021 |           2021 | TV-MA    | 2 Seasons  | International TV Shows, Romantic TV Shows, TV Comedies        | In a city of coaching centers known to train India’s finest collegiate minds, an earnest but unexceptional student and his friends navigate campus life.  |\n",
      "|  5 | s6        | TV Show | Midnight Mass                    | Mike Flanagan                 | Kate Siegel, Zach Gilford, Hamish Linklater, Henry Thomas, Kristin Lehman, Samantha Sloyan, Igby Rigney, Rahul Kohli, Annarah Cymone, Annabeth Gish, Alex Essoe, Rahul Abburi, Matt Biedel, Michael Trucco, Crystal Balint, Louis Oliver                                                                        | nan                                                                   | September 24, 2021 |           2021 | TV-MA    | 1 Season   | TV Dramas, TV Horror, TV Mysteries                            | The arrival of a charismatic young priest brings glorious miracles, ominous mysteries and renewed religious fervor to a dying town desperate to believe.  |\n",
      "|  6 | s7        | Movie   | My Little Pony: A New Generation | Robert Cullen, José Luis Ucha | Vanessa Hudgens, Kimiko Glenn, James Marsden, Sofia Carson, Liza Koshy, Ken Jeong, Elizabeth Perkins, Jane Krakowski, Michael McKean, Phil LaMarr                                                                                                                                                               | nan                                                                   | September 24, 2021 |           2021 | PG       | 91 min     | Children & Family Movies                                      | Equestria's divided. But a bright-eyed hero believes Earth Ponies, Pegasi and Unicorns should be pals — and, hoof to heart, she’s determined to prove it. |\n",
      "|  7 | s8        | Movie   | Sankofa                          | Haile Gerima                  | Kofi Ghanaba, Oyafunmike Ogunlano, Alexandra Duah, Nick Medley, Mutabaruka, Afemo Omilami, Reggie Carter, Mzuri                                                                                                                                                                                                 | United States, Ghana, Burkina Faso, United Kingdom, Germany, Ethiopia | September 24, 2021 |           1993 | TV-MA    | 125 min    | Dramas, Independent Movies, International Movies              | On a photo shoot in Ghana, an American model slips back in time, becomes enslaved on a plantation and bears witness to the agony of her ancestral past.   |\n",
      "|  8 | s9        | TV Show | The Great British Baking Show    | Andy Devonshire               | Mel Giedroyc, Sue Perkins, Mary Berry, Paul Hollywood                                                                                                                                                                                                                                                           | United Kingdom                                                        | September 24, 2021 |           2021 | TV-14    | 9 Seasons  | British TV Shows, Reality TV                                  | A talented batch of amateur bakers face off in a 10-week competition, whipping up their best dishes in the hopes of being named the U.K.'s best.          |\n",
      "|  9 | s10       | Movie   | The Starling                     | Theodore Melfi                | Melissa McCarthy, Chris O'Dowd, Kevin Kline, Timothy Olyphant, Daveed Diggs, Skyler Gisondo, Laura Harrier, Rosalind Chao, Kimberly Quinn, Loretta Devine, Ravi Kapoor                                                                                                                                          | United States                                                         | September 24, 2021 |           2021 | PG-13    | 104 min    | Comedies, Dramas                                              | A woman adjusting to life after a loss contends with a feisty bird that's taken over her garden — and a husband who's struggling to find a way forward.   |\n",
      "+----+-----------+---------+----------------------------------+-------------------------------+-----------------------------------------------------------------------------------------------------------------------------------------------------------------------------------------------------------------------------------------------------------------------------------------------------------------+-----------------------------------------------------------------------+--------------------+----------------+----------+------------+---------------------------------------------------------------+-----------------------------------------------------------------------------------------------------------------------------------------------------------+\n"
     ]
    }
   ],
   "source": [
    "from tabulate import tabulate\n",
    "\n",
    "print(tabulate(df_initial.head(10), headers='keys', tablefmt='psql'))"
   ]
  },
  {
   "cell_type": "code",
   "execution_count": 11,
   "metadata": {
    "colab": {
     "base_uri": "https://localhost:8080/"
    },
    "id": "LhIN7tF2UP3e",
    "outputId": "dd3f1bd5-2061-4a92-9b5c-d9a706660362"
   },
   "outputs": [
    {
     "name": "stdout",
     "output_type": "stream",
     "text": [
      "Nombre de lignes : 8807\n"
     ]
    }
   ],
   "source": [
    "# afficher le nombre de lignes dans le dataset\n",
    "print(f\"Nombre de lignes : {len(df_initial)}\")"
   ]
  },
  {
   "cell_type": "code",
   "execution_count": 12,
   "metadata": {
    "colab": {
     "base_uri": "https://localhost:8080/"
    },
    "id": "ja5uNKumUP1X",
    "outputId": "85d58bb2-0c66-4f47-c720-ce978e0a9f2e"
   },
   "outputs": [
    {
     "name": "stdout",
     "output_type": "stream",
     "text": [
      "show_id         object\n",
      "type            object\n",
      "title           object\n",
      "director        object\n",
      "cast            object\n",
      "country         object\n",
      "date_added      object\n",
      "release_year     int64\n",
      "rating          object\n",
      "duration        object\n",
      "listed_in       object\n",
      "description     object\n",
      "dtype: object\n"
     ]
    }
   ],
   "source": [
    "# types des colonnes\n",
    "print(df_initial.dtypes)"
   ]
  },
  {
   "cell_type": "code",
   "execution_count": 13,
   "metadata": {
    "id": "QEm7E9xvSaXg"
   },
   "outputs": [],
   "source": [
    "# Convertir la colonne show_id en int en enlevant le préfixe 's' (plus simple pour gérer exactement le meme type de données en Cassandra et MySQL)\n",
    "df_initial['show_id'] = df_initial['show_id'].str.replace('s', '').astype(int).astype(int)\n",
    "\n",
    "df_initial['show_id'] = df_initial['show_id'].astype(int)\n",
    "df_initial['release_year'] = df_initial['release_year'].astype(int)\n",
    "\n",
    "df_initial['type'] = df_initial['title'].astype(str)\n",
    "df_initial['title'] = df_initial['title'].astype(str)\n",
    "df_initial['director'] = df_initial['director'].astype(str)\n",
    "df_initial['cast'] = df_initial['cast'].astype(str)\n",
    "df_initial['country'] = df_initial['country'].astype(str)\n",
    "df_initial['date_added'] = df_initial['date_added'].astype(str)\n",
    "df_initial['rating'] = df_initial['rating'].astype(str)\n",
    "df_initial['duration'] = df_initial['duration'].astype(str)\n",
    "df_initial['listed_in'] = df_initial['listed_in'].astype(str)\n",
    "df_initial['description'] = df_initial['description'].astype(str)"
   ]
  },
  {
   "cell_type": "code",
   "execution_count": 14,
   "metadata": {
    "colab": {
     "base_uri": "https://localhost:8080/"
    },
    "id": "nhGD7JxiUPy_",
    "outputId": "14418a1c-e7a1-4425-ebb9-b36e5164063e"
   },
   "outputs": [
    {
     "name": "stdout",
     "output_type": "stream",
     "text": [
      "show_id          int64\n",
      "type            object\n",
      "title           object\n",
      "director        object\n",
      "cast            object\n",
      "country         object\n",
      "date_added      object\n",
      "release_year     int64\n",
      "rating          object\n",
      "duration        object\n",
      "listed_in       object\n",
      "description     object\n",
      "dtype: object\n"
     ]
    }
   ],
   "source": [
    "# types des colonnes\n",
    "print(df_initial.dtypes)"
   ]
  },
  {
   "cell_type": "code",
   "execution_count": 15,
   "metadata": {
    "id": "9AHwUx8tSaXg"
   },
   "outputs": [],
   "source": [
    "# # est ce qu'il y a des valeurs manquantes ?\n",
    "# print(df_initial.isna().sum())"
   ]
  },
  {
   "cell_type": "code",
   "execution_count": 16,
   "metadata": {
    "id": "t--RyfGWSaXh"
   },
   "outputs": [],
   "source": [
    "# # remplir les valeurs manquantes : TODO supprimer cette cellule ?\n",
    "# df_initial['director'] = df_initial['director'].fillna('')\n",
    "# df_initial['cast'] = df_initial['cast'].fillna('')\n",
    "# df_initial['country'] = df_initial['country'].fillna('')\n",
    "# df_initial['date_added'] = df_initial['date_added'].fillna('')\n",
    "# df_initial['rating'] = df_initial['rating'].fillna('')\n",
    "# df_initial['duration'] = df_initial['duration'].fillna('')\n",
    "\n",
    "# print(df_initial.isna().sum())\n",
    "# TODO : vraiment utile ?"
   ]
  },
  {
   "cell_type": "markdown",
   "metadata": {
    "id": "uDH9Xdn3aRcT"
   },
   "source": [
    "## CRUD : Create, Read, Update, Delete\n",
    "- Create (*Insert*) : Insérer des données dans la base de données.\n",
    "- Read (*Select*) : Récupérer des données.\n",
    "- Update (*Update*) : Modifier des données existantes.\n",
    "- Delete (*Delete*) : Effacer des données."
   ]
  },
  {
   "cell_type": "code",
   "execution_count": 17,
   "metadata": {
    "id": "v-XAjHUPL-Fq"
   },
   "outputs": [],
   "source": [
    "schema = \"\"\"\n",
    "CREATE TABLE IF NOT EXISTS shows (\n",
    "    show_id INT PRIMARY KEY,\n",
    "    title TEXT,\n",
    "    type TEXT,\n",
    "    director TEXT,\n",
    "    cast TEXT,\n",
    "    country TEXT,\n",
    "    date_added TEXT,\n",
    "    release_year INT,\n",
    "    rating TEXT,\n",
    "    duration TEXT,\n",
    "    listed_in TEXT,\n",
    "    description TEXT\n",
    ");\n",
    "\"\"\""
   ]
  },
  {
   "cell_type": "code",
   "execution_count": 18,
   "metadata": {
    "id": "5HsvkRtyOTPO"
   },
   "outputs": [],
   "source": [
    "data_zoe_charlotte = {\n",
    "    'show_id': [0],\n",
    "    'title': ['Zoé & Charlotte'],\n",
    "    'type': ['Movie'],\n",
    "    'director': ['Christopher Nolan'],\n",
    "    'cast': ['Leonardo DiCaprio, Joseph Gordon-Levitt'],\n",
    "    'country': ['USA'],\n",
    "    'date_added': ['2021-01-01'],\n",
    "    'release_year': [2001],\n",
    "    'rating': ['PG-13'],\n",
    "    'duration': ['148 min'],\n",
    "    'listed_in': ['Action, Sci-Fi'],\n",
    "    'description': ['A thief who steals corporate secrets through the use of dream-sharing technology is given the inverse task of planting an idea into the mind of a CEO.']\n",
    "}\n",
    "df_zoe_charlotte = pd.DataFrame(data_zoe_charlotte)"
   ]
  },
  {
   "cell_type": "markdown",
   "metadata": {
    "id": "gyQhyPcqXcdW"
   },
   "source": [
    "### SQLite"
   ]
  },
  {
   "cell_type": "code",
   "execution_count": 19,
   "metadata": {
    "colab": {
     "base_uri": "https://localhost:8080/"
    },
    "id": "czfGeguOZ7zT",
    "outputId": "937e55dc-b9ad-449c-93ad-2fe850ba5215"
   },
   "outputs": [
    {
     "data": {
      "text/plain": [
       "<sqlite3.Cursor at 0x119a7c340>"
      ]
     },
     "execution_count": 19,
     "metadata": {},
     "output_type": "execute_result"
    }
   ],
   "source": [
    "import sqlite3\n",
    "\n",
    "# Créer une base de données SQLite en mémoire\n",
    "conn = sqlite3.connect(':memory:')\n",
    "cursor = conn.cursor()\n",
    "\n",
    "# Supprime la table si elle existe déjà\n",
    "cursor.execute(\"DROP TABLE IF EXISTS shows\")\n",
    "\n",
    "# Créer une table pour les tests CRUD\n",
    "cursor.execute(schema)\n"
   ]
  },
  {
   "cell_type": "code",
   "execution_count": 20,
   "metadata": {
    "id": "v4PSpmxUNXwJ"
   },
   "outputs": [],
   "source": [
    "import time\n",
    "\n",
    "# --- CREATE ---\n",
    "def sqlite_insert(df):\n",
    "    columns = ', '.join(df.columns)\n",
    "    placeholders = ', '.join(['?'] * len(df.columns))\n",
    "    insert_query = f\"INSERT INTO shows ({columns}) VALUES ({placeholders})\"\n",
    "\n",
    "    start_time = time.time()\n",
    "    for _, row in df.iterrows():\n",
    "      cursor.execute(insert_query, tuple(row))\n",
    "    conn.commit()\n",
    "\n",
    "    create_time_sqlite = time.time() - start_time\n",
    "    print(f\"Create Time: {create_time_sqlite:.6f} seconds\")\n",
    "    return create_time_sqlite\n",
    "\n",
    "# --- READ ---\n",
    "def sqlite_read():\n",
    "    start_time = time.time()\n",
    "    cursor.execute(\"SELECT * FROM shows WHERE release_year > 2000\")\n",
    "    result = cursor.fetchall()\n",
    "    read_time_sqlite = time.time() - start_time\n",
    "    print(f\"Read Time: {read_time_sqlite:.6f} seconds\")\n",
    "    print(f\"Queried {len(result)} records\")\n",
    "    return read_time_sqlite\n",
    "\n",
    "# --- UPDATE ---\n",
    "def sqlite_update():\n",
    "    start_time = time.time()\n",
    "    cursor.execute(\"UPDATE shows SET rating='PG' WHERE release_year > 2000\")\n",
    "    conn.commit()\n",
    "    update_time_sqlite = time.time() - start_time\n",
    "    print(f\"Update Time: {update_time_sqlite:.6f} seconds\")\n",
    "    return update_time_sqlite\n",
    "\n",
    "# --- DELETE ---\n",
    "def sqlite_delete():\n",
    "    start_time = time.time()\n",
    "    cursor.execute(\"DELETE FROM shows WHERE release_year > 2000\")\n",
    "    conn.commit()\n",
    "    delete_time_sqlite = time.time() - start_time\n",
    "    print(f\"Delete Time: {delete_time_sqlite:.6f} seconds\")\n",
    "    return delete_time_sqlite"
   ]
  },
  {
   "cell_type": "code",
   "execution_count": 21,
   "metadata": {
    "colab": {
     "base_uri": "https://localhost:8080/"
    },
    "id": "P6d9hz_IZ7wq",
    "outputId": "b2495146-4e11-474d-91ec-f4d1af1cebd1"
   },
   "outputs": [
    {
     "name": "stdout",
     "output_type": "stream",
     "text": [
      "Create Time: 0.000327 seconds\n",
      "Total rows in 'shows' table: 1\n",
      "Read Time: 0.000070 seconds\n",
      "Queried 1 records\n",
      "Update Time: 0.000147 seconds\n",
      "Delete Time: 0.000032 seconds\n"
     ]
    }
   ],
   "source": [
    "# --- CREATE ---\n",
    "create_sqlite = sqlite_insert(df_zoe_charlotte)\n",
    "\n",
    "# Vérifier le nombre de lignes insérées\n",
    "cursor.execute('SELECT COUNT(*) FROM shows')\n",
    "row = cursor.fetchone()\n",
    "print(f\"Total rows in 'shows' table: {row[0]}\")\n",
    "\n",
    "# --- READ ---\n",
    "read_sqlite = sqlite_read()\n",
    "\n",
    "# --- UPDATE ---\n",
    "update_sqlite = sqlite_update()\n",
    "\n",
    "# --- DELETE ---\n",
    "delete_sqlite = sqlite_delete()"
   ]
  },
  {
   "cell_type": "markdown",
   "metadata": {
    "id": "8p6QWjBaUO8t"
   },
   "source": [
    "TODO rédaction : on le fait sur plus de données"
   ]
  },
  {
   "cell_type": "code",
   "execution_count": 22,
   "metadata": {
    "colab": {
     "base_uri": "https://localhost:8080/"
    },
    "id": "o9A5y_wNR7go",
    "outputId": "594defe3-4aa0-4603-e046-2056b579aadb"
   },
   "outputs": [
    {
     "name": "stdout",
     "output_type": "stream",
     "text": [
      "Create Time: 0.104787 seconds\n",
      "Total rows in 'shows' table: 8807\n",
      "Read Time: 0.011197 seconds\n",
      "Queried 8245 records\n",
      "Update Time: 0.004133 seconds\n",
      "Delete Time: 0.002817 seconds\n"
     ]
    }
   ],
   "source": [
    "# --- CREATE MASSIVE ---\n",
    "create_sqlite_massive = sqlite_insert(df_initial)\n",
    "\n",
    "# Vérifier le nombre de lignes insérées\n",
    "cursor.execute('SELECT COUNT(*) FROM shows')\n",
    "row = cursor.fetchone()\n",
    "print(f\"Total rows in 'shows' table: {row[0]}\")\n",
    "\n",
    "# --- READ MASSIVE ---\n",
    "read_sqlite_massive = sqlite_read()\n",
    "\n",
    "# --- UPDATE MASSIVE ---\n",
    "update_sqlite_massive = sqlite_update()\n",
    "\n",
    "# --- DELETE MASSIVE ---\n",
    "delete_sqlite_massive = sqlite_delete()\n"
   ]
  },
  {
   "cell_type": "markdown",
   "metadata": {
    "id": "lvIFGYwhtkfY"
   },
   "source": [
    "### Cassandra"
   ]
  },
  {
   "cell_type": "code",
   "execution_count": 23,
   "metadata": {},
   "outputs": [
    {
     "name": "stdout",
     "output_type": "stream",
     "text": [
      "Datacenter: datacenter1\n",
      "=======================\n",
      "Status=Up/Down\n",
      "|/ State=Normal/Leaving/Joining/Moving\n",
      "--  Address    Load        Tokens  Owns (effective)  Host ID                               Rack \n",
      "UN  127.0.0.1  213,65 KiB  16      100,0%            11c2e131-3642-40ab-a44b-5d5e95f42edb  rack1\n",
      "\n"
     ]
    }
   ],
   "source": [
    "# vérifier l'état actuel du noeud Cassandra\n",
    "!nodetool status"
   ]
  },
  {
   "cell_type": "code",
   "execution_count": 24,
   "metadata": {
    "colab": {
     "base_uri": "https://localhost:8080/",
     "height": 608
    },
    "id": "sZNeaq6fwhS9",
    "outputId": "6b6d4186-8a12-4942-aea8-6806c6ee8835"
   },
   "outputs": [
    {
     "data": {
      "text/plain": [
       "<cassandra.cluster.ResultSet at 0x119800210>"
      ]
     },
     "execution_count": 24,
     "metadata": {},
     "output_type": "execute_result"
    }
   ],
   "source": [
    "from cassandra.cluster import Cluster\n",
    "\n",
    "# Connexion à Cassandra\n",
    "cluster = Cluster(['127.0.0.1'])\n",
    "session = cluster.connect()\n",
    "\n",
    "# Supprime la table avec keyspace si elle existe\n",
    "session.execute(\"\"\"\n",
    "DROP TABLE IF EXISTS netflix.shows;\n",
    "\"\"\")\n",
    "\n",
    "# Créer un Keyspace avec un facteur de réplication de 3\n",
    "session.execute(\"\"\"\n",
    "CREATE KEYSPACE IF NOT EXISTS netflix\n",
    "WITH replication = {'class': 'SimpleStrategy', 'replication_factor': 1};\n",
    "\"\"\")\n",
    "\n",
    "# Changer le Keyspace courant pour 'netflix'\n",
    "session.set_keyspace('netflix')\n",
    "\n",
    "session.execute(schema)\n"
   ]
  },
  {
   "cell_type": "markdown",
   "metadata": {
    "id": "4Df27nDd5-sx"
   },
   "source": [
    "TODO : pour l'instant on crée pas d'index mais on le fait après pour comparer"
   ]
  },
  {
   "cell_type": "code",
   "execution_count": 25,
   "metadata": {
    "id": "o5dNeAZ9tndK"
   },
   "outputs": [],
   "source": [
    "# --- CREATE ---\n",
    "def cassandra_insert(df):\n",
    "    insert_query = session.prepare(\"INSERT INTO shows (show_id, title, director, cast, country, date_added, release_year, rating, duration, listed_in, description) VALUES (?, ?, ?, ?, ?, ?, ?, ?, ?, ?, ?)\")\n",
    "\n",
    "    start_time = time.time()\n",
    "    for _, row in df.iterrows():\n",
    "        session.execute(insert_query, (row['show_id'], row['title'], row['director'], row['cast'], row['country'], row['date_added'], row['release_year'], row['rating'], row['duration'], row['listed_in'], row['description']))\n",
    "    create_time = time.time() - start_time\n",
    "\n",
    "    print(f\"Create Time: {create_time:.6f} seconds\")\n",
    "\n",
    "    return create_time\n",
    "\n",
    "# --- READ ---\n",
    "def cassandra_read():\n",
    "    start_time = time.time()\n",
    "    # On utilise ici ALLOW FILTERING car release_year ne fait pas partie de la clef primaire\n",
    "    result = session.execute(\"SELECT * FROM shows WHERE release_year > 2000 ALLOW FILTERING\")\n",
    "    read_time = time.time() - start_time\n",
    "    print(f\"Read Time: {read_time:.6f} seconds\")\n",
    "    num_records = sum(1 for _ in result)  # Count rows using a generator expression\n",
    "    print(f\"Queried {num_records} records\")\n",
    "    return read_time\n",
    "\n",
    "# --- UPDATE ---\n",
    "def cassandra_update():\n",
    "    # On doit faire select et update car realease_year ne fait pas partie de la clef primaire\n",
    "    start_time = time.time()\n",
    "\n",
    "    select_query = \"SELECT show_id FROM shows WHERE release_year > 2000 ALLOW FILTERING;\"\n",
    "    result = session.execute(select_query)\n",
    "    show_ids_to_update = [row.show_id for row in result]\n",
    "\n",
    "    for show_id in show_ids_to_update:\n",
    "        update_query = f\"UPDATE shows SET rating = 'PG' WHERE show_id = {show_id};\"\n",
    "        session.execute(update_query)\n",
    "\n",
    "    update_time = time.time() - start_time\n",
    "    print(f\"Update Time: {update_time:.6f} seconds\")\n",
    "    return update_time\n",
    "\n",
    "# --- DELETE ---\n",
    "def cassandra_delete():\n",
    "  # Comme pour update\n",
    "    start_time = time.time()\n",
    "\n",
    "    select_query = \"SELECT show_id FROM shows WHERE release_year > 2000 ALLOW FILTERING;\"\n",
    "    result = session.execute(select_query)\n",
    "    show_ids_to_delete = [row.show_id for row in result]\n",
    "\n",
    "    for show_id in show_ids_to_delete:\n",
    "        delete_query = f\"DELETE FROM shows WHERE show_id = {show_id};\"\n",
    "        session.execute(delete_query)\n",
    "\n",
    "    delete_time = time.time() - start_time\n",
    "    print(f\"Delete Time: {delete_time:.6f} seconds\")\n",
    "    return delete_time"
   ]
  },
  {
   "cell_type": "code",
   "execution_count": 26,
   "metadata": {
    "id": "zKDlXe1kKiso"
   },
   "outputs": [
    {
     "name": "stdout",
     "output_type": "stream",
     "text": [
      "Create Time: 0.001101 seconds\n",
      "Total rows in 'shows' table: 1\n",
      "Read Time: 0.000792 seconds\n",
      "Queried 1 records\n",
      "Update Time: 0.000737 seconds\n",
      "Delete Time: 0.000634 seconds\n"
     ]
    }
   ],
   "source": [
    "# --- CREATE ---\n",
    "create_cassandra = cassandra_insert(df_zoe_charlotte)\n",
    "\n",
    "# Vérifier le nombre de lignes insérées\n",
    "result = session.execute('SELECT COUNT(*) FROM shows')\n",
    "row = result.one()\n",
    "print(f\"Total rows in 'shows' table: {row[0]}\")\n",
    "\n",
    "# --- READ ---\n",
    "read_cassandra = cassandra_read()\n",
    "\n",
    "# --- UPDATE ---\n",
    "update_cassandra = cassandra_update()\n",
    "\n",
    "# --- DELETE ---\n",
    "delete_cassandra = cassandra_delete()"
   ]
  },
  {
   "cell_type": "code",
   "execution_count": 27,
   "metadata": {
    "id": "1FT2myQXLKSw"
   },
   "outputs": [
    {
     "name": "stdout",
     "output_type": "stream",
     "text": [
      "Create Time: 1.796478 seconds\n",
      "Total rows in 'shows' table: 8807\n",
      "Read Time: 0.053545 seconds\n",
      "Queried 8245 records\n",
      "Update Time: 1.388977 seconds\n",
      "Delete Time: 1.349756 seconds\n"
     ]
    }
   ],
   "source": [
    "# --- CREATE MASSIVE ---\n",
    "create_cassandra_massive = cassandra_insert(df_initial)\n",
    "\n",
    "# Vérifier le nombre de lignes insérées\n",
    "result = session.execute('SELECT COUNT(*) FROM shows')\n",
    "row = result.one()\n",
    "print(f\"Total rows in 'shows' table: {row[0]}\")\n",
    "\n",
    "# --- READ MASSIVE ---\n",
    "read_cassandra_massive = cassandra_read()\n",
    "\n",
    "# --- UPDATE MASSIVE ---\n",
    "update_cassandra_massive = cassandra_update()\n",
    "\n",
    "# --- DELETE MASSIVE ---\n",
    "delete_cassandra_massive = cassandra_delete()\n"
   ]
  },
  {
   "cell_type": "markdown",
   "metadata": {
    "id": "41x937O1jknt"
   },
   "source": [
    "### Visualisation"
   ]
  },
  {
   "cell_type": "markdown",
   "metadata": {
    "id": "GpmfcQoCEb3L"
   },
   "source": [
    "TODO : rédiger\n",
    "\n",
    " pour faire de réelles stats on va faire les CRUD sur un nombre plus important de donnéer : insérer / lire / update / supprimer sur les données kaggle précédemment chargées"
   ]
  },
  {
   "cell_type": "markdown",
   "metadata": {
    "id": "UOISKDmnIJMP"
   },
   "source": [
    "On a réalisé tout cela avec un seul replicaSet et sans index."
   ]
  },
  {
   "cell_type": "code",
   "execution_count": 28,
   "metadata": {
    "id": "UDTvxHJytnYr"
   },
   "outputs": [],
   "source": [
    "from re import X\n",
    "import plotly.graph_objects as go\n",
    "\n",
    "def affiche_times(set_1, barname_1, set_2, barname_2, titre):\n",
    "  crud_operations = ['Insert', 'Read', 'Update', 'Delete']\n",
    "\n",
    "  fig_simple = go.Figure(data=[\n",
    "      go.Bar(name=barname_1, y=crud_operations, x=set_1, orientation='h'),\n",
    "      go.Bar(name=barname_2, y=crud_operations, x=set_2, orientation='h')\n",
    "  ])\n",
    "\n",
    "  fig_simple.update_layout(barmode='group',\n",
    "                          title=titre,\n",
    "                          xaxis_title=\"Opération CRUD\",\n",
    "                          yaxis_title=\"Temps d'exécution (secondes)\")\n",
    "\n",
    "  fig_simple.show()"
   ]
  },
  {
   "cell_type": "code",
   "execution_count": 29,
   "metadata": {
    "id": "Gh9nxf9HYIDv"
   },
   "outputs": [],
   "source": [
    "# enregistrer\n",
    "\n",
    "sqlite_times_simple = [create_sqlite, read_sqlite, update_sqlite, delete_sqlite]\n",
    "cassandra_times_simple = [create_cassandra, read_cassandra, update_cassandra, delete_cassandra]\n",
    "sqlite_times_massive = [create_sqlite_massive, read_sqlite_massive, update_sqlite_massive, delete_sqlite_massive]\n",
    "cassandra_times_massive = [create_cassandra_massive, read_cassandra_massive, update_cassandra_massive, delete_cassandra_massive]\n"
   ]
  },
  {
   "cell_type": "code",
   "execution_count": 30,
   "metadata": {
    "id": "orJOYuTgY8_0"
   },
   "outputs": [
    {
     "data": {
      "application/vnd.plotly.v1+json": {
       "config": {
        "plotlyServerURL": "https://plot.ly"
       },
       "data": [
        {
         "name": "SQLite",
         "orientation": "h",
         "type": "bar",
         "x": [
          0.00032711029052734375,
          0.00006985664367675781,
          0.0001468658447265625,
          0.00003218650817871094
         ],
         "y": [
          "Insert",
          "Read",
          "Update",
          "Delete"
         ]
        },
        {
         "name": "Cassandra",
         "orientation": "h",
         "type": "bar",
         "x": [
          0.0011010169982910156,
          0.0007920265197753906,
          0.0007369518280029297,
          0.0006339550018310547
         ],
         "y": [
          "Insert",
          "Read",
          "Update",
          "Delete"
         ]
        }
       ],
       "layout": {
        "barmode": "group",
        "template": {
         "data": {
          "bar": [
           {
            "error_x": {
             "color": "#2a3f5f"
            },
            "error_y": {
             "color": "#2a3f5f"
            },
            "marker": {
             "line": {
              "color": "#E5ECF6",
              "width": 0.5
             },
             "pattern": {
              "fillmode": "overlay",
              "size": 10,
              "solidity": 0.2
             }
            },
            "type": "bar"
           }
          ],
          "barpolar": [
           {
            "marker": {
             "line": {
              "color": "#E5ECF6",
              "width": 0.5
             },
             "pattern": {
              "fillmode": "overlay",
              "size": 10,
              "solidity": 0.2
             }
            },
            "type": "barpolar"
           }
          ],
          "carpet": [
           {
            "aaxis": {
             "endlinecolor": "#2a3f5f",
             "gridcolor": "white",
             "linecolor": "white",
             "minorgridcolor": "white",
             "startlinecolor": "#2a3f5f"
            },
            "baxis": {
             "endlinecolor": "#2a3f5f",
             "gridcolor": "white",
             "linecolor": "white",
             "minorgridcolor": "white",
             "startlinecolor": "#2a3f5f"
            },
            "type": "carpet"
           }
          ],
          "choropleth": [
           {
            "colorbar": {
             "outlinewidth": 0,
             "ticks": ""
            },
            "type": "choropleth"
           }
          ],
          "contour": [
           {
            "colorbar": {
             "outlinewidth": 0,
             "ticks": ""
            },
            "colorscale": [
             [
              0,
              "#0d0887"
             ],
             [
              0.1111111111111111,
              "#46039f"
             ],
             [
              0.2222222222222222,
              "#7201a8"
             ],
             [
              0.3333333333333333,
              "#9c179e"
             ],
             [
              0.4444444444444444,
              "#bd3786"
             ],
             [
              0.5555555555555556,
              "#d8576b"
             ],
             [
              0.6666666666666666,
              "#ed7953"
             ],
             [
              0.7777777777777778,
              "#fb9f3a"
             ],
             [
              0.8888888888888888,
              "#fdca26"
             ],
             [
              1,
              "#f0f921"
             ]
            ],
            "type": "contour"
           }
          ],
          "contourcarpet": [
           {
            "colorbar": {
             "outlinewidth": 0,
             "ticks": ""
            },
            "type": "contourcarpet"
           }
          ],
          "heatmap": [
           {
            "colorbar": {
             "outlinewidth": 0,
             "ticks": ""
            },
            "colorscale": [
             [
              0,
              "#0d0887"
             ],
             [
              0.1111111111111111,
              "#46039f"
             ],
             [
              0.2222222222222222,
              "#7201a8"
             ],
             [
              0.3333333333333333,
              "#9c179e"
             ],
             [
              0.4444444444444444,
              "#bd3786"
             ],
             [
              0.5555555555555556,
              "#d8576b"
             ],
             [
              0.6666666666666666,
              "#ed7953"
             ],
             [
              0.7777777777777778,
              "#fb9f3a"
             ],
             [
              0.8888888888888888,
              "#fdca26"
             ],
             [
              1,
              "#f0f921"
             ]
            ],
            "type": "heatmap"
           }
          ],
          "heatmapgl": [
           {
            "colorbar": {
             "outlinewidth": 0,
             "ticks": ""
            },
            "colorscale": [
             [
              0,
              "#0d0887"
             ],
             [
              0.1111111111111111,
              "#46039f"
             ],
             [
              0.2222222222222222,
              "#7201a8"
             ],
             [
              0.3333333333333333,
              "#9c179e"
             ],
             [
              0.4444444444444444,
              "#bd3786"
             ],
             [
              0.5555555555555556,
              "#d8576b"
             ],
             [
              0.6666666666666666,
              "#ed7953"
             ],
             [
              0.7777777777777778,
              "#fb9f3a"
             ],
             [
              0.8888888888888888,
              "#fdca26"
             ],
             [
              1,
              "#f0f921"
             ]
            ],
            "type": "heatmapgl"
           }
          ],
          "histogram": [
           {
            "marker": {
             "pattern": {
              "fillmode": "overlay",
              "size": 10,
              "solidity": 0.2
             }
            },
            "type": "histogram"
           }
          ],
          "histogram2d": [
           {
            "colorbar": {
             "outlinewidth": 0,
             "ticks": ""
            },
            "colorscale": [
             [
              0,
              "#0d0887"
             ],
             [
              0.1111111111111111,
              "#46039f"
             ],
             [
              0.2222222222222222,
              "#7201a8"
             ],
             [
              0.3333333333333333,
              "#9c179e"
             ],
             [
              0.4444444444444444,
              "#bd3786"
             ],
             [
              0.5555555555555556,
              "#d8576b"
             ],
             [
              0.6666666666666666,
              "#ed7953"
             ],
             [
              0.7777777777777778,
              "#fb9f3a"
             ],
             [
              0.8888888888888888,
              "#fdca26"
             ],
             [
              1,
              "#f0f921"
             ]
            ],
            "type": "histogram2d"
           }
          ],
          "histogram2dcontour": [
           {
            "colorbar": {
             "outlinewidth": 0,
             "ticks": ""
            },
            "colorscale": [
             [
              0,
              "#0d0887"
             ],
             [
              0.1111111111111111,
              "#46039f"
             ],
             [
              0.2222222222222222,
              "#7201a8"
             ],
             [
              0.3333333333333333,
              "#9c179e"
             ],
             [
              0.4444444444444444,
              "#bd3786"
             ],
             [
              0.5555555555555556,
              "#d8576b"
             ],
             [
              0.6666666666666666,
              "#ed7953"
             ],
             [
              0.7777777777777778,
              "#fb9f3a"
             ],
             [
              0.8888888888888888,
              "#fdca26"
             ],
             [
              1,
              "#f0f921"
             ]
            ],
            "type": "histogram2dcontour"
           }
          ],
          "mesh3d": [
           {
            "colorbar": {
             "outlinewidth": 0,
             "ticks": ""
            },
            "type": "mesh3d"
           }
          ],
          "parcoords": [
           {
            "line": {
             "colorbar": {
              "outlinewidth": 0,
              "ticks": ""
             }
            },
            "type": "parcoords"
           }
          ],
          "pie": [
           {
            "automargin": true,
            "type": "pie"
           }
          ],
          "scatter": [
           {
            "fillpattern": {
             "fillmode": "overlay",
             "size": 10,
             "solidity": 0.2
            },
            "type": "scatter"
           }
          ],
          "scatter3d": [
           {
            "line": {
             "colorbar": {
              "outlinewidth": 0,
              "ticks": ""
             }
            },
            "marker": {
             "colorbar": {
              "outlinewidth": 0,
              "ticks": ""
             }
            },
            "type": "scatter3d"
           }
          ],
          "scattercarpet": [
           {
            "marker": {
             "colorbar": {
              "outlinewidth": 0,
              "ticks": ""
             }
            },
            "type": "scattercarpet"
           }
          ],
          "scattergeo": [
           {
            "marker": {
             "colorbar": {
              "outlinewidth": 0,
              "ticks": ""
             }
            },
            "type": "scattergeo"
           }
          ],
          "scattergl": [
           {
            "marker": {
             "colorbar": {
              "outlinewidth": 0,
              "ticks": ""
             }
            },
            "type": "scattergl"
           }
          ],
          "scattermapbox": [
           {
            "marker": {
             "colorbar": {
              "outlinewidth": 0,
              "ticks": ""
             }
            },
            "type": "scattermapbox"
           }
          ],
          "scatterpolar": [
           {
            "marker": {
             "colorbar": {
              "outlinewidth": 0,
              "ticks": ""
             }
            },
            "type": "scatterpolar"
           }
          ],
          "scatterpolargl": [
           {
            "marker": {
             "colorbar": {
              "outlinewidth": 0,
              "ticks": ""
             }
            },
            "type": "scatterpolargl"
           }
          ],
          "scatterternary": [
           {
            "marker": {
             "colorbar": {
              "outlinewidth": 0,
              "ticks": ""
             }
            },
            "type": "scatterternary"
           }
          ],
          "surface": [
           {
            "colorbar": {
             "outlinewidth": 0,
             "ticks": ""
            },
            "colorscale": [
             [
              0,
              "#0d0887"
             ],
             [
              0.1111111111111111,
              "#46039f"
             ],
             [
              0.2222222222222222,
              "#7201a8"
             ],
             [
              0.3333333333333333,
              "#9c179e"
             ],
             [
              0.4444444444444444,
              "#bd3786"
             ],
             [
              0.5555555555555556,
              "#d8576b"
             ],
             [
              0.6666666666666666,
              "#ed7953"
             ],
             [
              0.7777777777777778,
              "#fb9f3a"
             ],
             [
              0.8888888888888888,
              "#fdca26"
             ],
             [
              1,
              "#f0f921"
             ]
            ],
            "type": "surface"
           }
          ],
          "table": [
           {
            "cells": {
             "fill": {
              "color": "#EBF0F8"
             },
             "line": {
              "color": "white"
             }
            },
            "header": {
             "fill": {
              "color": "#C8D4E3"
             },
             "line": {
              "color": "white"
             }
            },
            "type": "table"
           }
          ]
         },
         "layout": {
          "annotationdefaults": {
           "arrowcolor": "#2a3f5f",
           "arrowhead": 0,
           "arrowwidth": 1
          },
          "autotypenumbers": "strict",
          "coloraxis": {
           "colorbar": {
            "outlinewidth": 0,
            "ticks": ""
           }
          },
          "colorscale": {
           "diverging": [
            [
             0,
             "#8e0152"
            ],
            [
             0.1,
             "#c51b7d"
            ],
            [
             0.2,
             "#de77ae"
            ],
            [
             0.3,
             "#f1b6da"
            ],
            [
             0.4,
             "#fde0ef"
            ],
            [
             0.5,
             "#f7f7f7"
            ],
            [
             0.6,
             "#e6f5d0"
            ],
            [
             0.7,
             "#b8e186"
            ],
            [
             0.8,
             "#7fbc41"
            ],
            [
             0.9,
             "#4d9221"
            ],
            [
             1,
             "#276419"
            ]
           ],
           "sequential": [
            [
             0,
             "#0d0887"
            ],
            [
             0.1111111111111111,
             "#46039f"
            ],
            [
             0.2222222222222222,
             "#7201a8"
            ],
            [
             0.3333333333333333,
             "#9c179e"
            ],
            [
             0.4444444444444444,
             "#bd3786"
            ],
            [
             0.5555555555555556,
             "#d8576b"
            ],
            [
             0.6666666666666666,
             "#ed7953"
            ],
            [
             0.7777777777777778,
             "#fb9f3a"
            ],
            [
             0.8888888888888888,
             "#fdca26"
            ],
            [
             1,
             "#f0f921"
            ]
           ],
           "sequentialminus": [
            [
             0,
             "#0d0887"
            ],
            [
             0.1111111111111111,
             "#46039f"
            ],
            [
             0.2222222222222222,
             "#7201a8"
            ],
            [
             0.3333333333333333,
             "#9c179e"
            ],
            [
             0.4444444444444444,
             "#bd3786"
            ],
            [
             0.5555555555555556,
             "#d8576b"
            ],
            [
             0.6666666666666666,
             "#ed7953"
            ],
            [
             0.7777777777777778,
             "#fb9f3a"
            ],
            [
             0.8888888888888888,
             "#fdca26"
            ],
            [
             1,
             "#f0f921"
            ]
           ]
          },
          "colorway": [
           "#636efa",
           "#EF553B",
           "#00cc96",
           "#ab63fa",
           "#FFA15A",
           "#19d3f3",
           "#FF6692",
           "#B6E880",
           "#FF97FF",
           "#FECB52"
          ],
          "font": {
           "color": "#2a3f5f"
          },
          "geo": {
           "bgcolor": "white",
           "lakecolor": "white",
           "landcolor": "#E5ECF6",
           "showlakes": true,
           "showland": true,
           "subunitcolor": "white"
          },
          "hoverlabel": {
           "align": "left"
          },
          "hovermode": "closest",
          "mapbox": {
           "style": "light"
          },
          "paper_bgcolor": "white",
          "plot_bgcolor": "#E5ECF6",
          "polar": {
           "angularaxis": {
            "gridcolor": "white",
            "linecolor": "white",
            "ticks": ""
           },
           "bgcolor": "#E5ECF6",
           "radialaxis": {
            "gridcolor": "white",
            "linecolor": "white",
            "ticks": ""
           }
          },
          "scene": {
           "xaxis": {
            "backgroundcolor": "#E5ECF6",
            "gridcolor": "white",
            "gridwidth": 2,
            "linecolor": "white",
            "showbackground": true,
            "ticks": "",
            "zerolinecolor": "white"
           },
           "yaxis": {
            "backgroundcolor": "#E5ECF6",
            "gridcolor": "white",
            "gridwidth": 2,
            "linecolor": "white",
            "showbackground": true,
            "ticks": "",
            "zerolinecolor": "white"
           },
           "zaxis": {
            "backgroundcolor": "#E5ECF6",
            "gridcolor": "white",
            "gridwidth": 2,
            "linecolor": "white",
            "showbackground": true,
            "ticks": "",
            "zerolinecolor": "white"
           }
          },
          "shapedefaults": {
           "line": {
            "color": "#2a3f5f"
           }
          },
          "ternary": {
           "aaxis": {
            "gridcolor": "white",
            "linecolor": "white",
            "ticks": ""
           },
           "baxis": {
            "gridcolor": "white",
            "linecolor": "white",
            "ticks": ""
           },
           "bgcolor": "#E5ECF6",
           "caxis": {
            "gridcolor": "white",
            "linecolor": "white",
            "ticks": ""
           }
          },
          "title": {
           "x": 0.05
          },
          "xaxis": {
           "automargin": true,
           "gridcolor": "white",
           "linecolor": "white",
           "ticks": "",
           "title": {
            "standoff": 15
           },
           "zerolinecolor": "white",
           "zerolinewidth": 2
          },
          "yaxis": {
           "automargin": true,
           "gridcolor": "white",
           "linecolor": "white",
           "ticks": "",
           "title": {
            "standoff": 15
           },
           "zerolinecolor": "white",
           "zerolinewidth": 2
          }
         }
        },
        "title": {
         "text": "Comparaison des performances SQLite et Cassandra (Requêtes simples)"
        },
        "xaxis": {
         "title": {
          "text": "Opération CRUD"
         }
        },
        "yaxis": {
         "title": {
          "text": "Temps d'exécution (secondes)"
         }
        }
       }
      }
     },
     "metadata": {},
     "output_type": "display_data"
    }
   ],
   "source": [
    "affiche_times(sqlite_times_simple, 'SQLite', cassandra_times_simple, 'Cassandra', 'Comparaison des performances SQLite et Cassandra (Requêtes simples)' )"
   ]
  },
  {
   "cell_type": "code",
   "execution_count": 31,
   "metadata": {
    "id": "ssEVKRMTZJWY"
   },
   "outputs": [
    {
     "data": {
      "application/vnd.plotly.v1+json": {
       "config": {
        "plotlyServerURL": "https://plot.ly"
       },
       "data": [
        {
         "name": "SQLite",
         "orientation": "h",
         "type": "bar",
         "x": [
          0.10478687286376953,
          0.01119685173034668,
          0.0041332244873046875,
          0.002816915512084961
         ],
         "y": [
          "Insert",
          "Read",
          "Update",
          "Delete"
         ]
        },
        {
         "name": "Cassandra",
         "orientation": "h",
         "type": "bar",
         "x": [
          1.796478033065796,
          0.05354499816894531,
          1.388976812362671,
          1.3497557640075684
         ],
         "y": [
          "Insert",
          "Read",
          "Update",
          "Delete"
         ]
        }
       ],
       "layout": {
        "barmode": "group",
        "template": {
         "data": {
          "bar": [
           {
            "error_x": {
             "color": "#2a3f5f"
            },
            "error_y": {
             "color": "#2a3f5f"
            },
            "marker": {
             "line": {
              "color": "#E5ECF6",
              "width": 0.5
             },
             "pattern": {
              "fillmode": "overlay",
              "size": 10,
              "solidity": 0.2
             }
            },
            "type": "bar"
           }
          ],
          "barpolar": [
           {
            "marker": {
             "line": {
              "color": "#E5ECF6",
              "width": 0.5
             },
             "pattern": {
              "fillmode": "overlay",
              "size": 10,
              "solidity": 0.2
             }
            },
            "type": "barpolar"
           }
          ],
          "carpet": [
           {
            "aaxis": {
             "endlinecolor": "#2a3f5f",
             "gridcolor": "white",
             "linecolor": "white",
             "minorgridcolor": "white",
             "startlinecolor": "#2a3f5f"
            },
            "baxis": {
             "endlinecolor": "#2a3f5f",
             "gridcolor": "white",
             "linecolor": "white",
             "minorgridcolor": "white",
             "startlinecolor": "#2a3f5f"
            },
            "type": "carpet"
           }
          ],
          "choropleth": [
           {
            "colorbar": {
             "outlinewidth": 0,
             "ticks": ""
            },
            "type": "choropleth"
           }
          ],
          "contour": [
           {
            "colorbar": {
             "outlinewidth": 0,
             "ticks": ""
            },
            "colorscale": [
             [
              0,
              "#0d0887"
             ],
             [
              0.1111111111111111,
              "#46039f"
             ],
             [
              0.2222222222222222,
              "#7201a8"
             ],
             [
              0.3333333333333333,
              "#9c179e"
             ],
             [
              0.4444444444444444,
              "#bd3786"
             ],
             [
              0.5555555555555556,
              "#d8576b"
             ],
             [
              0.6666666666666666,
              "#ed7953"
             ],
             [
              0.7777777777777778,
              "#fb9f3a"
             ],
             [
              0.8888888888888888,
              "#fdca26"
             ],
             [
              1,
              "#f0f921"
             ]
            ],
            "type": "contour"
           }
          ],
          "contourcarpet": [
           {
            "colorbar": {
             "outlinewidth": 0,
             "ticks": ""
            },
            "type": "contourcarpet"
           }
          ],
          "heatmap": [
           {
            "colorbar": {
             "outlinewidth": 0,
             "ticks": ""
            },
            "colorscale": [
             [
              0,
              "#0d0887"
             ],
             [
              0.1111111111111111,
              "#46039f"
             ],
             [
              0.2222222222222222,
              "#7201a8"
             ],
             [
              0.3333333333333333,
              "#9c179e"
             ],
             [
              0.4444444444444444,
              "#bd3786"
             ],
             [
              0.5555555555555556,
              "#d8576b"
             ],
             [
              0.6666666666666666,
              "#ed7953"
             ],
             [
              0.7777777777777778,
              "#fb9f3a"
             ],
             [
              0.8888888888888888,
              "#fdca26"
             ],
             [
              1,
              "#f0f921"
             ]
            ],
            "type": "heatmap"
           }
          ],
          "heatmapgl": [
           {
            "colorbar": {
             "outlinewidth": 0,
             "ticks": ""
            },
            "colorscale": [
             [
              0,
              "#0d0887"
             ],
             [
              0.1111111111111111,
              "#46039f"
             ],
             [
              0.2222222222222222,
              "#7201a8"
             ],
             [
              0.3333333333333333,
              "#9c179e"
             ],
             [
              0.4444444444444444,
              "#bd3786"
             ],
             [
              0.5555555555555556,
              "#d8576b"
             ],
             [
              0.6666666666666666,
              "#ed7953"
             ],
             [
              0.7777777777777778,
              "#fb9f3a"
             ],
             [
              0.8888888888888888,
              "#fdca26"
             ],
             [
              1,
              "#f0f921"
             ]
            ],
            "type": "heatmapgl"
           }
          ],
          "histogram": [
           {
            "marker": {
             "pattern": {
              "fillmode": "overlay",
              "size": 10,
              "solidity": 0.2
             }
            },
            "type": "histogram"
           }
          ],
          "histogram2d": [
           {
            "colorbar": {
             "outlinewidth": 0,
             "ticks": ""
            },
            "colorscale": [
             [
              0,
              "#0d0887"
             ],
             [
              0.1111111111111111,
              "#46039f"
             ],
             [
              0.2222222222222222,
              "#7201a8"
             ],
             [
              0.3333333333333333,
              "#9c179e"
             ],
             [
              0.4444444444444444,
              "#bd3786"
             ],
             [
              0.5555555555555556,
              "#d8576b"
             ],
             [
              0.6666666666666666,
              "#ed7953"
             ],
             [
              0.7777777777777778,
              "#fb9f3a"
             ],
             [
              0.8888888888888888,
              "#fdca26"
             ],
             [
              1,
              "#f0f921"
             ]
            ],
            "type": "histogram2d"
           }
          ],
          "histogram2dcontour": [
           {
            "colorbar": {
             "outlinewidth": 0,
             "ticks": ""
            },
            "colorscale": [
             [
              0,
              "#0d0887"
             ],
             [
              0.1111111111111111,
              "#46039f"
             ],
             [
              0.2222222222222222,
              "#7201a8"
             ],
             [
              0.3333333333333333,
              "#9c179e"
             ],
             [
              0.4444444444444444,
              "#bd3786"
             ],
             [
              0.5555555555555556,
              "#d8576b"
             ],
             [
              0.6666666666666666,
              "#ed7953"
             ],
             [
              0.7777777777777778,
              "#fb9f3a"
             ],
             [
              0.8888888888888888,
              "#fdca26"
             ],
             [
              1,
              "#f0f921"
             ]
            ],
            "type": "histogram2dcontour"
           }
          ],
          "mesh3d": [
           {
            "colorbar": {
             "outlinewidth": 0,
             "ticks": ""
            },
            "type": "mesh3d"
           }
          ],
          "parcoords": [
           {
            "line": {
             "colorbar": {
              "outlinewidth": 0,
              "ticks": ""
             }
            },
            "type": "parcoords"
           }
          ],
          "pie": [
           {
            "automargin": true,
            "type": "pie"
           }
          ],
          "scatter": [
           {
            "fillpattern": {
             "fillmode": "overlay",
             "size": 10,
             "solidity": 0.2
            },
            "type": "scatter"
           }
          ],
          "scatter3d": [
           {
            "line": {
             "colorbar": {
              "outlinewidth": 0,
              "ticks": ""
             }
            },
            "marker": {
             "colorbar": {
              "outlinewidth": 0,
              "ticks": ""
             }
            },
            "type": "scatter3d"
           }
          ],
          "scattercarpet": [
           {
            "marker": {
             "colorbar": {
              "outlinewidth": 0,
              "ticks": ""
             }
            },
            "type": "scattercarpet"
           }
          ],
          "scattergeo": [
           {
            "marker": {
             "colorbar": {
              "outlinewidth": 0,
              "ticks": ""
             }
            },
            "type": "scattergeo"
           }
          ],
          "scattergl": [
           {
            "marker": {
             "colorbar": {
              "outlinewidth": 0,
              "ticks": ""
             }
            },
            "type": "scattergl"
           }
          ],
          "scattermapbox": [
           {
            "marker": {
             "colorbar": {
              "outlinewidth": 0,
              "ticks": ""
             }
            },
            "type": "scattermapbox"
           }
          ],
          "scatterpolar": [
           {
            "marker": {
             "colorbar": {
              "outlinewidth": 0,
              "ticks": ""
             }
            },
            "type": "scatterpolar"
           }
          ],
          "scatterpolargl": [
           {
            "marker": {
             "colorbar": {
              "outlinewidth": 0,
              "ticks": ""
             }
            },
            "type": "scatterpolargl"
           }
          ],
          "scatterternary": [
           {
            "marker": {
             "colorbar": {
              "outlinewidth": 0,
              "ticks": ""
             }
            },
            "type": "scatterternary"
           }
          ],
          "surface": [
           {
            "colorbar": {
             "outlinewidth": 0,
             "ticks": ""
            },
            "colorscale": [
             [
              0,
              "#0d0887"
             ],
             [
              0.1111111111111111,
              "#46039f"
             ],
             [
              0.2222222222222222,
              "#7201a8"
             ],
             [
              0.3333333333333333,
              "#9c179e"
             ],
             [
              0.4444444444444444,
              "#bd3786"
             ],
             [
              0.5555555555555556,
              "#d8576b"
             ],
             [
              0.6666666666666666,
              "#ed7953"
             ],
             [
              0.7777777777777778,
              "#fb9f3a"
             ],
             [
              0.8888888888888888,
              "#fdca26"
             ],
             [
              1,
              "#f0f921"
             ]
            ],
            "type": "surface"
           }
          ],
          "table": [
           {
            "cells": {
             "fill": {
              "color": "#EBF0F8"
             },
             "line": {
              "color": "white"
             }
            },
            "header": {
             "fill": {
              "color": "#C8D4E3"
             },
             "line": {
              "color": "white"
             }
            },
            "type": "table"
           }
          ]
         },
         "layout": {
          "annotationdefaults": {
           "arrowcolor": "#2a3f5f",
           "arrowhead": 0,
           "arrowwidth": 1
          },
          "autotypenumbers": "strict",
          "coloraxis": {
           "colorbar": {
            "outlinewidth": 0,
            "ticks": ""
           }
          },
          "colorscale": {
           "diverging": [
            [
             0,
             "#8e0152"
            ],
            [
             0.1,
             "#c51b7d"
            ],
            [
             0.2,
             "#de77ae"
            ],
            [
             0.3,
             "#f1b6da"
            ],
            [
             0.4,
             "#fde0ef"
            ],
            [
             0.5,
             "#f7f7f7"
            ],
            [
             0.6,
             "#e6f5d0"
            ],
            [
             0.7,
             "#b8e186"
            ],
            [
             0.8,
             "#7fbc41"
            ],
            [
             0.9,
             "#4d9221"
            ],
            [
             1,
             "#276419"
            ]
           ],
           "sequential": [
            [
             0,
             "#0d0887"
            ],
            [
             0.1111111111111111,
             "#46039f"
            ],
            [
             0.2222222222222222,
             "#7201a8"
            ],
            [
             0.3333333333333333,
             "#9c179e"
            ],
            [
             0.4444444444444444,
             "#bd3786"
            ],
            [
             0.5555555555555556,
             "#d8576b"
            ],
            [
             0.6666666666666666,
             "#ed7953"
            ],
            [
             0.7777777777777778,
             "#fb9f3a"
            ],
            [
             0.8888888888888888,
             "#fdca26"
            ],
            [
             1,
             "#f0f921"
            ]
           ],
           "sequentialminus": [
            [
             0,
             "#0d0887"
            ],
            [
             0.1111111111111111,
             "#46039f"
            ],
            [
             0.2222222222222222,
             "#7201a8"
            ],
            [
             0.3333333333333333,
             "#9c179e"
            ],
            [
             0.4444444444444444,
             "#bd3786"
            ],
            [
             0.5555555555555556,
             "#d8576b"
            ],
            [
             0.6666666666666666,
             "#ed7953"
            ],
            [
             0.7777777777777778,
             "#fb9f3a"
            ],
            [
             0.8888888888888888,
             "#fdca26"
            ],
            [
             1,
             "#f0f921"
            ]
           ]
          },
          "colorway": [
           "#636efa",
           "#EF553B",
           "#00cc96",
           "#ab63fa",
           "#FFA15A",
           "#19d3f3",
           "#FF6692",
           "#B6E880",
           "#FF97FF",
           "#FECB52"
          ],
          "font": {
           "color": "#2a3f5f"
          },
          "geo": {
           "bgcolor": "white",
           "lakecolor": "white",
           "landcolor": "#E5ECF6",
           "showlakes": true,
           "showland": true,
           "subunitcolor": "white"
          },
          "hoverlabel": {
           "align": "left"
          },
          "hovermode": "closest",
          "mapbox": {
           "style": "light"
          },
          "paper_bgcolor": "white",
          "plot_bgcolor": "#E5ECF6",
          "polar": {
           "angularaxis": {
            "gridcolor": "white",
            "linecolor": "white",
            "ticks": ""
           },
           "bgcolor": "#E5ECF6",
           "radialaxis": {
            "gridcolor": "white",
            "linecolor": "white",
            "ticks": ""
           }
          },
          "scene": {
           "xaxis": {
            "backgroundcolor": "#E5ECF6",
            "gridcolor": "white",
            "gridwidth": 2,
            "linecolor": "white",
            "showbackground": true,
            "ticks": "",
            "zerolinecolor": "white"
           },
           "yaxis": {
            "backgroundcolor": "#E5ECF6",
            "gridcolor": "white",
            "gridwidth": 2,
            "linecolor": "white",
            "showbackground": true,
            "ticks": "",
            "zerolinecolor": "white"
           },
           "zaxis": {
            "backgroundcolor": "#E5ECF6",
            "gridcolor": "white",
            "gridwidth": 2,
            "linecolor": "white",
            "showbackground": true,
            "ticks": "",
            "zerolinecolor": "white"
           }
          },
          "shapedefaults": {
           "line": {
            "color": "#2a3f5f"
           }
          },
          "ternary": {
           "aaxis": {
            "gridcolor": "white",
            "linecolor": "white",
            "ticks": ""
           },
           "baxis": {
            "gridcolor": "white",
            "linecolor": "white",
            "ticks": ""
           },
           "bgcolor": "#E5ECF6",
           "caxis": {
            "gridcolor": "white",
            "linecolor": "white",
            "ticks": ""
           }
          },
          "title": {
           "x": 0.05
          },
          "xaxis": {
           "automargin": true,
           "gridcolor": "white",
           "linecolor": "white",
           "ticks": "",
           "title": {
            "standoff": 15
           },
           "zerolinecolor": "white",
           "zerolinewidth": 2
          },
          "yaxis": {
           "automargin": true,
           "gridcolor": "white",
           "linecolor": "white",
           "ticks": "",
           "title": {
            "standoff": 15
           },
           "zerolinecolor": "white",
           "zerolinewidth": 2
          }
         }
        },
        "title": {
         "text": "Comparaison des performances SQLite et Cassandra (Requêtes massive)"
        },
        "xaxis": {
         "title": {
          "text": "Opération CRUD"
         }
        },
        "yaxis": {
         "title": {
          "text": "Temps d'exécution (secondes)"
         }
        }
       }
      }
     },
     "metadata": {},
     "output_type": "display_data"
    }
   ],
   "source": [
    "affiche_times(sqlite_times_massive, 'SQLite', cassandra_times_massive, 'Cassandra', 'Comparaison des performances SQLite et Cassandra (Requêtes massive)' )"
   ]
  },
  {
   "cell_type": "markdown",
   "metadata": {
    "id": "OdOZl5SSJz1J"
   },
   "source": [
    "TODO : rédiger commentairte sur le temps\n",
    "\n",
    "pourquoi c'est peut etre normal ?\n",
    "\n",
    "dire que ici cassandra c'est 1 replica set\n",
    "\n",
    "et que y a pas d'index"
   ]
  },
  {
   "cell_type": "markdown",
   "metadata": {
    "id": "rW9m7jU6J21a"
   },
   "source": [
    "# TODO"
   ]
  },
  {
   "cell_type": "markdown",
   "metadata": {
    "id": "6PSbYw-iawfd"
   },
   "source": [
    "## Comparaison des temps de Cassandra avec plusieurs replicaSet"
   ]
  },
  {
   "cell_type": "code",
   "execution_count": 32,
   "metadata": {
    "id": "9QsoMU8UawIC"
   },
   "outputs": [],
   "source": [
    "def create_cassandra_with_replication(replication_factor):\n",
    "    session.execute(\"DROP KEYSPACE IF EXISTS netflix\")\n",
    "    session.execute(\"DROP TABLE IF EXISTS netflix.shows\")\n",
    "\n",
    "    # TODO : Tester d'autres stratégies de réplication\n",
    "    session.execute(f\"\"\"\n",
    "    CREATE KEYSPACE netflix\n",
    "    WITH REPLICATION = {{\n",
    "        'class': 'SimpleStrategy', \n",
    "        'replication_factor': {replication_factor}\n",
    "    }};\n",
    "    \"\"\")\n",
    "    # Utilisée pour les clusters en un seul datacenter. Chaque nœud du cluster conserve une copie des données basées \n",
    "    # sur la clé de partition et les réplique en fonction du facteur de réplication.\n",
    "    session.set_keyspace('netflix')\n",
    "    session.execute(schema)\n",
    "    print(f\"Keyspace créé avec replication_factor = {replication_factor}\")"
   ]
  },
  {
   "cell_type": "code",
   "execution_count": 43,
   "metadata": {},
   "outputs": [
    {
     "name": "stdout",
     "output_type": "stream",
     "text": [
      "\n",
      "Test avec replication_factor = 1 :\n",
      "Keyspace créé avec replication_factor = 1\n",
      "Create Time: 1.734300 seconds\n",
      "Read Time: 0.070005 seconds\n",
      "Queried 8245 records\n",
      "Update Time: 1.396842 seconds\n",
      "Delete Time: 1.351889 seconds\n",
      "Keyspace créé avec replication_factor = 1\n",
      "Create Time: 1.771580 seconds\n",
      "Read Time: 0.046117 seconds\n",
      "Queried 8245 records\n",
      "Update Time: 1.365250 seconds\n",
      "Delete Time: 1.352509 seconds\n",
      "Keyspace créé avec replication_factor = 1\n",
      "Create Time: 1.700629 seconds\n",
      "Read Time: 0.045544 seconds\n",
      "Queried 8245 records\n",
      "Update Time: 1.395620 seconds\n",
      "Delete Time: 1.408263 seconds\n",
      "Keyspace créé avec replication_factor = 1\n",
      "Create Time: 1.700060 seconds\n",
      "Read Time: 0.048151 seconds\n",
      "Queried 8245 records\n",
      "Update Time: 1.376833 seconds\n",
      "Delete Time: 1.343795 seconds\n",
      "Keyspace créé avec replication_factor = 1\n",
      "Create Time: 1.682286 seconds\n",
      "Read Time: 0.046026 seconds\n",
      "Queried 8245 records\n",
      "Update Time: 1.385453 seconds\n",
      "Delete Time: 1.351122 seconds\n",
      "\n",
      "Test avec replication_factor = 2 :\n",
      "Keyspace créé avec replication_factor = 2\n",
      "Create Time: 1.679833 seconds\n",
      "Read Time: 0.045874 seconds\n",
      "Queried 8245 records\n",
      "Update Time: 1.362305 seconds\n",
      "Delete Time: 1.371633 seconds\n",
      "Keyspace créé avec replication_factor = 2\n",
      "Create Time: 1.781260 seconds\n",
      "Read Time: 0.069988 seconds\n",
      "Queried 8245 records\n",
      "Update Time: 1.405737 seconds\n",
      "Delete Time: 1.355112 seconds\n",
      "Keyspace créé avec replication_factor = 2\n",
      "Create Time: 1.703965 seconds\n",
      "Read Time: 0.050927 seconds\n",
      "Queried 8245 records\n",
      "Update Time: 1.355556 seconds\n",
      "Delete Time: 1.337401 seconds\n",
      "Keyspace créé avec replication_factor = 2\n",
      "Create Time: 1.776477 seconds\n",
      "Read Time: 0.047925 seconds\n",
      "Queried 8245 records\n",
      "Update Time: 1.407042 seconds\n",
      "Delete Time: 1.347755 seconds\n",
      "Keyspace créé avec replication_factor = 2\n",
      "Create Time: 1.754437 seconds\n",
      "Read Time: 0.045859 seconds\n",
      "Queried 8245 records\n",
      "Update Time: 1.392695 seconds\n",
      "Delete Time: 1.395243 seconds\n",
      "\n",
      "Test avec replication_factor = 3 :\n",
      "Keyspace créé avec replication_factor = 3\n",
      "Create Time: 1.737467 seconds\n",
      "Read Time: 0.045808 seconds\n",
      "Queried 8245 records\n",
      "Update Time: 1.464505 seconds\n",
      "Delete Time: 1.394972 seconds\n",
      "Keyspace créé avec replication_factor = 3\n",
      "Create Time: 1.757232 seconds\n",
      "Read Time: 0.047648 seconds\n",
      "Queried 8245 records\n",
      "Update Time: 1.375067 seconds\n",
      "Delete Time: 1.350054 seconds\n",
      "Keyspace créé avec replication_factor = 3\n",
      "Create Time: 1.698701 seconds\n",
      "Read Time: 0.070602 seconds\n",
      "Queried 8245 records\n",
      "Update Time: 1.439734 seconds\n",
      "Delete Time: 1.476945 seconds\n",
      "Keyspace créé avec replication_factor = 3\n",
      "Create Time: 1.697571 seconds\n",
      "Read Time: 0.045618 seconds\n",
      "Queried 8245 records\n",
      "Update Time: 1.390328 seconds\n",
      "Delete Time: 1.405859 seconds\n",
      "Keyspace créé avec replication_factor = 3\n",
      "Create Time: 1.826716 seconds\n",
      "Read Time: 0.045507 seconds\n",
      "Queried 8245 records\n",
      "Update Time: 1.454672 seconds\n",
      "Delete Time: 1.364918 seconds\n",
      "\n",
      "Test avec replication_factor = 4 :\n",
      "Keyspace créé avec replication_factor = 4\n",
      "Create Time: 1.752554 seconds\n",
      "Read Time: 0.045297 seconds\n",
      "Queried 8245 records\n",
      "Update Time: 1.460779 seconds\n",
      "Delete Time: 1.380159 seconds\n",
      "Keyspace créé avec replication_factor = 4\n",
      "Create Time: 1.749535 seconds\n",
      "Read Time: 0.055986 seconds\n",
      "Queried 8245 records\n",
      "Update Time: 1.358920 seconds\n",
      "Delete Time: 1.379518 seconds\n",
      "Keyspace créé avec replication_factor = 4\n",
      "Create Time: 1.749524 seconds\n",
      "Read Time: 0.045812 seconds\n",
      "Queried 8245 records\n",
      "Update Time: 1.360049 seconds\n",
      "Delete Time: 1.348745 seconds\n",
      "Keyspace créé avec replication_factor = 4\n",
      "Create Time: 1.737252 seconds\n",
      "Read Time: 0.077499 seconds\n",
      "Queried 8245 records\n",
      "Update Time: 1.391514 seconds\n",
      "Delete Time: 1.408108 seconds\n",
      "Keyspace créé avec replication_factor = 4\n",
      "Create Time: 1.715985 seconds\n",
      "Read Time: 0.046273 seconds\n",
      "Queried 8245 records\n",
      "Update Time: 1.372763 seconds\n",
      "Delete Time: 1.358718 seconds\n",
      "\n",
      "Test avec replication_factor = 5 :\n",
      "Keyspace créé avec replication_factor = 5\n",
      "Create Time: 1.751711 seconds\n",
      "Read Time: 0.046412 seconds\n",
      "Queried 8245 records\n",
      "Update Time: 1.364850 seconds\n",
      "Delete Time: 1.357078 seconds\n",
      "Keyspace créé avec replication_factor = 5\n",
      "Create Time: 1.745237 seconds\n",
      "Read Time: 0.045995 seconds\n",
      "Queried 8245 records\n",
      "Update Time: 1.368915 seconds\n",
      "Delete Time: 1.394592 seconds\n",
      "Keyspace créé avec replication_factor = 5\n",
      "Create Time: 1.710226 seconds\n",
      "Read Time: 0.045753 seconds\n",
      "Queried 8245 records\n",
      "Update Time: 1.395403 seconds\n",
      "Delete Time: 1.353336 seconds\n",
      "Keyspace créé avec replication_factor = 5\n",
      "Create Time: 1.723556 seconds\n",
      "Read Time: 0.046692 seconds\n",
      "Queried 8245 records\n",
      "Update Time: 1.373332 seconds\n",
      "Delete Time: 1.349545 seconds\n",
      "Keyspace créé avec replication_factor = 5\n",
      "Create Time: 1.717382 seconds\n",
      "Read Time: 0.072891 seconds\n",
      "Queried 8245 records\n",
      "Update Time: 1.367485 seconds\n",
      "Delete Time: 1.362378 seconds\n",
      "\n",
      "Test avec replication_factor = 6 :\n",
      "Keyspace créé avec replication_factor = 6\n",
      "Create Time: 1.663951 seconds\n",
      "Read Time: 0.045379 seconds\n",
      "Queried 8245 records\n",
      "Update Time: 1.357492 seconds\n",
      "Delete Time: 1.370209 seconds\n",
      "Keyspace créé avec replication_factor = 6\n",
      "Create Time: 1.656483 seconds\n",
      "Read Time: 0.045607 seconds\n",
      "Queried 8245 records\n",
      "Update Time: 1.362449 seconds\n",
      "Delete Time: 1.351436 seconds\n",
      "Keyspace créé avec replication_factor = 6\n",
      "Create Time: 1.654331 seconds\n",
      "Read Time: 0.045169 seconds\n",
      "Queried 8245 records\n",
      "Update Time: 1.357678 seconds\n",
      "Delete Time: 1.344594 seconds\n",
      "Keyspace créé avec replication_factor = 6\n",
      "Create Time: 1.667269 seconds\n",
      "Read Time: 0.045408 seconds\n",
      "Queried 8245 records\n",
      "Update Time: 1.358730 seconds\n",
      "Delete Time: 1.371725 seconds\n",
      "Keyspace créé avec replication_factor = 6\n",
      "Create Time: 1.671887 seconds\n",
      "Read Time: 0.051792 seconds\n",
      "Queried 8245 records\n",
      "Update Time: 1.372245 seconds\n",
      "Delete Time: 1.360130 seconds\n",
      "\n",
      "Test avec replication_factor = 7 :\n",
      "Keyspace créé avec replication_factor = 7\n",
      "Create Time: 1.758609 seconds\n",
      "Read Time: 0.076452 seconds\n",
      "Queried 8245 records\n",
      "Update Time: 1.363186 seconds\n",
      "Delete Time: 1.346330 seconds\n",
      "Keyspace créé avec replication_factor = 7\n",
      "Create Time: 1.656353 seconds\n",
      "Read Time: 0.045724 seconds\n",
      "Queried 8245 records\n",
      "Update Time: 1.360037 seconds\n",
      "Delete Time: 1.347912 seconds\n",
      "Keyspace créé avec replication_factor = 7\n",
      "Create Time: 1.657435 seconds\n",
      "Read Time: 0.045709 seconds\n",
      "Queried 8245 records\n",
      "Update Time: 1.357149 seconds\n",
      "Delete Time: 1.371365 seconds\n",
      "Keyspace créé avec replication_factor = 7\n",
      "Create Time: 1.671255 seconds\n",
      "Read Time: 0.045426 seconds\n",
      "Queried 8245 records\n",
      "Update Time: 1.370308 seconds\n",
      "Delete Time: 1.344912 seconds\n",
      "Keyspace créé avec replication_factor = 7\n",
      "Create Time: 1.648084 seconds\n",
      "Read Time: 0.045022 seconds\n",
      "Queried 8245 records\n",
      "Update Time: 1.355136 seconds\n",
      "Delete Time: 1.344375 seconds\n",
      "\n",
      "Test avec replication_factor = 8 :\n",
      "Keyspace créé avec replication_factor = 8\n",
      "Create Time: 1.635250 seconds\n",
      "Read Time: 0.045044 seconds\n",
      "Queried 8245 records\n",
      "Update Time: 1.355542 seconds\n",
      "Delete Time: 1.343271 seconds\n",
      "Keyspace créé avec replication_factor = 8\n",
      "Create Time: 1.649191 seconds\n",
      "Read Time: 0.067605 seconds\n",
      "Queried 8245 records\n",
      "Update Time: 1.401526 seconds\n",
      "Delete Time: 1.343337 seconds\n",
      "Keyspace créé avec replication_factor = 8\n",
      "Create Time: 1.657904 seconds\n",
      "Read Time: 0.046384 seconds\n",
      "Queried 8245 records\n",
      "Update Time: 1.365214 seconds\n",
      "Delete Time: 1.376444 seconds\n",
      "Keyspace créé avec replication_factor = 8\n",
      "Create Time: 1.732902 seconds\n",
      "Read Time: 0.046369 seconds\n",
      "Queried 8245 records\n",
      "Update Time: 1.385501 seconds\n",
      "Delete Time: 1.368090 seconds\n",
      "Keyspace créé avec replication_factor = 8\n",
      "Create Time: 1.775454 seconds\n",
      "Read Time: 0.047616 seconds\n",
      "Queried 8245 records\n",
      "Update Time: 1.392717 seconds\n",
      "Delete Time: 1.385357 seconds\n",
      "\n",
      "Test avec replication_factor = 9 :\n",
      "Keyspace créé avec replication_factor = 9\n",
      "Create Time: 1.738666 seconds\n",
      "Read Time: 0.045834 seconds\n",
      "Queried 8245 records\n",
      "Update Time: 1.359641 seconds\n",
      "Delete Time: 1.368175 seconds\n",
      "Keyspace créé avec replication_factor = 9\n",
      "Create Time: 1.647127 seconds\n",
      "Read Time: 0.046519 seconds\n",
      "Queried 8245 records\n",
      "Update Time: 1.357343 seconds\n",
      "Delete Time: 1.349595 seconds\n",
      "Keyspace créé avec replication_factor = 9\n",
      "Create Time: 1.637972 seconds\n",
      "Read Time: 0.070767 seconds\n",
      "Queried 8245 records\n",
      "Update Time: 1.353682 seconds\n",
      "Delete Time: 1.359381 seconds\n",
      "Keyspace créé avec replication_factor = 9\n",
      "Create Time: 1.679669 seconds\n",
      "Read Time: 0.045717 seconds\n",
      "Queried 8245 records\n",
      "Update Time: 1.385889 seconds\n",
      "Delete Time: 1.345191 seconds\n",
      "Keyspace créé avec replication_factor = 9\n",
      "Create Time: 1.708218 seconds\n",
      "Read Time: 0.046737 seconds\n",
      "Queried 8245 records\n",
      "Update Time: 1.389002 seconds\n",
      "Delete Time: 1.353459 seconds\n",
      "\n",
      "Test avec replication_factor = 10 :\n",
      "Keyspace créé avec replication_factor = 10\n",
      "Create Time: 1.649664 seconds\n",
      "Read Time: 0.044831 seconds\n",
      "Queried 8245 records\n",
      "Update Time: 1.359323 seconds\n",
      "Delete Time: 1.349392 seconds\n",
      "Keyspace créé avec replication_factor = 10\n",
      "Create Time: 1.649501 seconds\n",
      "Read Time: 0.044724 seconds\n",
      "Queried 8245 records\n",
      "Update Time: 1.357373 seconds\n",
      "Delete Time: 1.343398 seconds\n",
      "Keyspace créé avec replication_factor = 10\n",
      "Create Time: 1.638705 seconds\n",
      "Read Time: 0.046366 seconds\n",
      "Queried 8245 records\n",
      "Update Time: 1.360397 seconds\n",
      "Delete Time: 1.346866 seconds\n",
      "Keyspace créé avec replication_factor = 10\n",
      "Create Time: 1.646474 seconds\n",
      "Read Time: 0.094358 seconds\n",
      "Queried 8245 records\n",
      "Update Time: 1.358749 seconds\n",
      "Delete Time: 1.339466 seconds\n",
      "Keyspace créé avec replication_factor = 10\n",
      "Create Time: 1.636854 seconds\n",
      "Read Time: 0.046250 seconds\n",
      "Queried 8245 records\n",
      "Update Time: 1.362385 seconds\n",
      "Delete Time: 1.371298 seconds\n",
      "   Replication Factor  Avg Insertion Time  Avg Read Time  Avg Update Time  \\\n",
      "0                   1            1.717771       0.051169         1.383999   \n",
      "1                   2            1.739194       0.052115         1.384667   \n",
      "2                   3            1.743537       0.051037         1.424861   \n",
      "3                   4            1.740970       0.054173         1.388805   \n",
      "4                   5            1.729622       0.051549         1.373997   \n",
      "5                   6            1.662784       0.046671         1.361719   \n",
      "6                   7            1.678347       0.051667         1.361163   \n",
      "7                   8            1.690140       0.050604         1.380100   \n",
      "8                   9            1.682330       0.051115         1.369111   \n",
      "9                  10            1.644240       0.055306         1.359645   \n",
      "\n",
      "   Avg Delete Time  \n",
      "0         1.361515  \n",
      "1         1.361429  \n",
      "2         1.398550  \n",
      "3         1.375050  \n",
      "4         1.363386  \n",
      "5         1.359619  \n",
      "6         1.350979  \n",
      "7         1.363300  \n",
      "8         1.355160  \n",
      "9         1.350084  \n"
     ]
    }
   ],
   "source": [
    "import pandas as pd\n",
    "\n",
    "# Liste des facteurs de réplication à tester\n",
    "replication_factors = [1, 2, 3, 4, 5, 6, 7, 8, 9, 10]\n",
    "\n",
    "# Liste pour stocker les résultats\n",
    "results = []\n",
    "\n",
    "# Nombre d'itérations pour chaque facteur de réplication\n",
    "iterations = 5\n",
    "\n",
    "# Fonction pour effectuer les tests et obtenir le temps (il faut implémenter ces fonctions)\n",
    "def perform_operations(rf):\n",
    "    # Crée une base de données avec le facteur de réplication donné\n",
    "    create_cassandra_with_replication(rf)\n",
    "    \n",
    "    # Mesure les temps pour les différentes opérations\n",
    "    cassandra_time_create = cassandra_insert(df_initial)\n",
    "    cassandra_time_read = cassandra_read()\n",
    "    cassandra_time_update = cassandra_update()\n",
    "    cassandra_time_delete = cassandra_delete()\n",
    "    \n",
    "    return cassandra_time_create, cassandra_time_read, cassandra_time_update, cassandra_time_delete\n",
    "\n",
    "# Boucle sur chaque facteur de réplication\n",
    "for rf in replication_factors:\n",
    "    print(f\"\\nTest avec replication_factor = {rf} :\")\n",
    "    \n",
    "    # Variables pour accumuler les temps\n",
    "    total_create_time = 0\n",
    "    total_read_time = 0\n",
    "    total_update_time = 0\n",
    "    total_delete_time = 0\n",
    "    \n",
    "    # Effectue l'opération 5 fois et calcule les temps\n",
    "    for _ in range(iterations):\n",
    "        cassandra_time_create, cassandra_time_read, cassandra_time_update, cassandra_time_delete = perform_operations(rf)\n",
    "        \n",
    "        total_create_time += cassandra_time_create\n",
    "        total_read_time += cassandra_time_read\n",
    "        total_update_time += cassandra_time_update\n",
    "        total_delete_time += cassandra_time_delete\n",
    "    \n",
    "    # Calculer la moyenne des temps\n",
    "    avg_create_time = total_create_time / iterations\n",
    "    avg_read_time = total_read_time / iterations\n",
    "    avg_update_time = total_update_time / iterations\n",
    "    avg_delete_time = total_delete_time / iterations\n",
    "\n",
    "    # Ajouter les résultats dans la liste\n",
    "    results.append({\n",
    "        'Replication Factor': rf,\n",
    "        'Avg Insertion Time': avg_create_time,\n",
    "        'Avg Read Time': avg_read_time,\n",
    "        'Avg Update Time': avg_update_time,\n",
    "        'Avg Delete Time': avg_delete_time\n",
    "    })\n",
    "\n",
    "# Convertir les résultats en DataFrame pour une analyse facile\n",
    "results_df = pd.DataFrame(results)\n",
    "\n",
    "# Afficher le DataFrame avec les résultats\n",
    "print(results_df)\n"
   ]
  },
  {
   "cell_type": "code",
   "execution_count": null,
   "metadata": {
    "id": "D32dUh8hdp-a"
   },
   "outputs": [
    {
     "name": "stdout",
     "output_type": "stream",
     "text": [
      "\n",
      "Test avec replication_factor = 1 :\n",
      "Keyspace créé avec replication_factor = 1\n",
      "Create Time: 1.721471 seconds\n",
      "Read Time: 0.046622 seconds\n",
      "Queried 8245 records\n",
      "Update Time: 1.361134 seconds\n",
      "Delete Time: 1.407314 seconds\n",
      "\n",
      "Test avec replication_factor = 2 :\n",
      "Keyspace créé avec replication_factor = 2\n",
      "Create Time: 1.773731 seconds\n",
      "Read Time: 0.048626 seconds\n",
      "Queried 8245 records\n",
      "Update Time: 1.381871 seconds\n",
      "Delete Time: 1.355674 seconds\n",
      "\n",
      "Test avec replication_factor = 3 :\n",
      "Keyspace créé avec replication_factor = 3\n",
      "Create Time: 1.715848 seconds\n",
      "Read Time: 0.046755 seconds\n",
      "Queried 8245 records\n",
      "Update Time: 1.509829 seconds\n",
      "Delete Time: 1.411668 seconds\n",
      "\n",
      "Test avec replication_factor = 4 :\n",
      "Keyspace créé avec replication_factor = 4\n",
      "Create Time: 1.712804 seconds\n",
      "Read Time: 0.045266 seconds\n",
      "Queried 8245 records\n",
      "Update Time: 1.452848 seconds\n",
      "Delete Time: 1.352631 seconds\n",
      "\n",
      "Test avec replication_factor = 5 :\n",
      "Keyspace créé avec replication_factor = 5\n",
      "Create Time: 1.805803 seconds\n",
      "Read Time: 0.070003 seconds\n",
      "Queried 8245 records\n",
      "Update Time: 1.369296 seconds\n",
      "Delete Time: 1.372866 seconds\n",
      "\n",
      "Test avec replication_factor = 6 :\n",
      "Keyspace créé avec replication_factor = 6\n",
      "Create Time: 1.876157 seconds\n",
      "Read Time: 0.045830 seconds\n",
      "Queried 8245 records\n",
      "Update Time: 1.367068 seconds\n",
      "Delete Time: 1.419550 seconds\n",
      "\n",
      "Test avec replication_factor = 7 :\n",
      "Keyspace créé avec replication_factor = 7\n",
      "Create Time: 1.695031 seconds\n",
      "Read Time: 0.045588 seconds\n",
      "Queried 8245 records\n",
      "Update Time: 1.476075 seconds\n",
      "Delete Time: 1.388857 seconds\n",
      "\n",
      "Test avec replication_factor = 8 :\n",
      "Keyspace créé avec replication_factor = 8\n",
      "Create Time: 1.855326 seconds\n",
      "Read Time: 0.046129 seconds\n",
      "Queried 8245 records\n",
      "Update Time: 1.482440 seconds\n",
      "Delete Time: 1.350674 seconds\n",
      "\n",
      "Test avec replication_factor = 9 :\n",
      "Keyspace créé avec replication_factor = 9\n",
      "Create Time: 1.813688 seconds\n",
      "Read Time: 0.045812 seconds\n",
      "Queried 8245 records\n",
      "Update Time: 1.365349 seconds\n",
      "Delete Time: 1.349247 seconds\n",
      "\n",
      "Test avec replication_factor = 10 :\n",
      "Keyspace créé avec replication_factor = 10\n",
      "Create Time: 1.722400 seconds\n",
      "Read Time: 0.073731 seconds\n",
      "Queried 8245 records\n",
      "Update Time: 1.384054 seconds\n",
      "Delete Time: 1.402473 seconds\n"
     ]
    }
   ],
   "source": [
    "# replication_factors = [ 1, 2, 3, 4, 5, 6, 7, 8, 9, 10]\n",
    "# results = []\n",
    "\n",
    "# for rf in replication_factors:\n",
    "#     print(f\"\\nTest avec replication_factor = {rf} :\")\n",
    "#     create_cassandra_with_replication(rf)\n",
    "\n",
    "#     cassandra_time_create = cassandra_insert(df_initial)\n",
    "#     cassandra_time_read = cassandra_read()\n",
    "#     cassandra_time_update = cassandra_update()\n",
    "#     cassandra_time_delete = cassandra_delete()\n",
    "\n",
    "#     results.append({\n",
    "#         'Replication Factor': rf,\n",
    "#         'Insertion Time': cassandra_time_create,\n",
    "#         'Read Time': cassandra_time_read,\n",
    "#         'Update Time': cassandra_time_update,\n",
    "#         'Delete Time': cassandra_time_delete\n",
    "#     })\n",
    "\n",
    "# results_df = pd.DataFrame(results)"
   ]
  },
  {
   "cell_type": "code",
   "execution_count": 45,
   "metadata": {
    "id": "3USvZESzdp70"
   },
   "outputs": [
    {
     "data": {
      "application/vnd.plotly.v1+json": {
       "config": {
        "plotlyServerURL": "https://plot.ly"
       },
       "data": [
        {
         "name": "SQLite",
         "orientation": "h",
         "type": "bar",
         "x": [
          0.10478687286376953,
          0.01119685173034668,
          0.0041332244873046875,
          0.002816915512084961
         ],
         "y": [
          "Insert",
          "Read",
          "Update",
          "Delete"
         ]
        },
        {
         "name": "Cassandra (RF=1)",
         "orientation": "h",
         "type": "bar",
         "x": [
          1.7177710056304931,
          0.05116853713989258,
          1.3839994430541993,
          1.361515426635742
         ],
         "y": [
          "Insert",
          "Read",
          "Update",
          "Delete"
         ]
        },
        {
         "name": "Cassandra (RF=2)",
         "orientation": "h",
         "type": "bar",
         "x": [
          1.739194393157959,
          0.0521146297454834,
          1.3846669673919678,
          1.3614287376403809
         ],
         "y": [
          "Insert",
          "Read",
          "Update",
          "Delete"
         ]
        },
        {
         "name": "Cassandra (RF=3)",
         "orientation": "h",
         "type": "bar",
         "x": [
          1.7435373783111572,
          0.05103659629821777,
          1.424861192703247,
          1.3985495090484619
         ],
         "y": [
          "Insert",
          "Read",
          "Update",
          "Delete"
         ]
        },
        {
         "name": "Cassandra (RF=4)",
         "orientation": "h",
         "type": "bar",
         "x": [
          1.7409698963165283,
          0.05417332649230957,
          1.3888049125671387,
          1.3750496864318849
         ],
         "y": [
          "Insert",
          "Read",
          "Update",
          "Delete"
         ]
        },
        {
         "name": "Cassandra (RF=5)",
         "orientation": "h",
         "type": "bar",
         "x": [
          1.7296224594116212,
          0.05154852867126465,
          1.3739970207214356,
          1.3633857727050782
         ],
         "y": [
          "Insert",
          "Read",
          "Update",
          "Delete"
         ]
        },
        {
         "name": "Cassandra (RF=6)",
         "orientation": "h",
         "type": "bar",
         "x": [
          1.6627840995788574,
          0.046670961380004886,
          1.3617187976837157,
          1.3596188068389892
         ],
         "y": [
          "Insert",
          "Read",
          "Update",
          "Delete"
         ]
        },
        {
         "name": "Cassandra (RF=7)",
         "orientation": "h",
         "type": "bar",
         "x": [
          1.6783471584320069,
          0.051666545867919925,
          1.3611631393432617,
          1.3509788513183594
         ],
         "y": [
          "Insert",
          "Read",
          "Update",
          "Delete"
         ]
        },
        {
         "name": "Cassandra (RF=8)",
         "orientation": "h",
         "type": "bar",
         "x": [
          1.6901403427124024,
          0.05060358047485351,
          1.3801000595092774,
          1.3632998943328858
         ],
         "y": [
          "Insert",
          "Read",
          "Update",
          "Delete"
         ]
        },
        {
         "name": "Cassandra (RF=9)",
         "orientation": "h",
         "type": "bar",
         "x": [
          1.6823304653167725,
          0.05111484527587891,
          1.3691113948822022,
          1.3551601886749267
         ],
         "y": [
          "Insert",
          "Read",
          "Update",
          "Delete"
         ]
        },
        {
         "name": "Cassandra (RF=10)",
         "orientation": "h",
         "type": "bar",
         "x": [
          1.6442396640777588,
          0.05530581474304199,
          1.3596453666687012,
          1.350083875656128
         ],
         "y": [
          "Insert",
          "Read",
          "Update",
          "Delete"
         ]
        }
       ],
       "layout": {
        "barmode": "group",
        "template": {
         "data": {
          "bar": [
           {
            "error_x": {
             "color": "#2a3f5f"
            },
            "error_y": {
             "color": "#2a3f5f"
            },
            "marker": {
             "line": {
              "color": "#E5ECF6",
              "width": 0.5
             },
             "pattern": {
              "fillmode": "overlay",
              "size": 10,
              "solidity": 0.2
             }
            },
            "type": "bar"
           }
          ],
          "barpolar": [
           {
            "marker": {
             "line": {
              "color": "#E5ECF6",
              "width": 0.5
             },
             "pattern": {
              "fillmode": "overlay",
              "size": 10,
              "solidity": 0.2
             }
            },
            "type": "barpolar"
           }
          ],
          "carpet": [
           {
            "aaxis": {
             "endlinecolor": "#2a3f5f",
             "gridcolor": "white",
             "linecolor": "white",
             "minorgridcolor": "white",
             "startlinecolor": "#2a3f5f"
            },
            "baxis": {
             "endlinecolor": "#2a3f5f",
             "gridcolor": "white",
             "linecolor": "white",
             "minorgridcolor": "white",
             "startlinecolor": "#2a3f5f"
            },
            "type": "carpet"
           }
          ],
          "choropleth": [
           {
            "colorbar": {
             "outlinewidth": 0,
             "ticks": ""
            },
            "type": "choropleth"
           }
          ],
          "contour": [
           {
            "colorbar": {
             "outlinewidth": 0,
             "ticks": ""
            },
            "colorscale": [
             [
              0,
              "#0d0887"
             ],
             [
              0.1111111111111111,
              "#46039f"
             ],
             [
              0.2222222222222222,
              "#7201a8"
             ],
             [
              0.3333333333333333,
              "#9c179e"
             ],
             [
              0.4444444444444444,
              "#bd3786"
             ],
             [
              0.5555555555555556,
              "#d8576b"
             ],
             [
              0.6666666666666666,
              "#ed7953"
             ],
             [
              0.7777777777777778,
              "#fb9f3a"
             ],
             [
              0.8888888888888888,
              "#fdca26"
             ],
             [
              1,
              "#f0f921"
             ]
            ],
            "type": "contour"
           }
          ],
          "contourcarpet": [
           {
            "colorbar": {
             "outlinewidth": 0,
             "ticks": ""
            },
            "type": "contourcarpet"
           }
          ],
          "heatmap": [
           {
            "colorbar": {
             "outlinewidth": 0,
             "ticks": ""
            },
            "colorscale": [
             [
              0,
              "#0d0887"
             ],
             [
              0.1111111111111111,
              "#46039f"
             ],
             [
              0.2222222222222222,
              "#7201a8"
             ],
             [
              0.3333333333333333,
              "#9c179e"
             ],
             [
              0.4444444444444444,
              "#bd3786"
             ],
             [
              0.5555555555555556,
              "#d8576b"
             ],
             [
              0.6666666666666666,
              "#ed7953"
             ],
             [
              0.7777777777777778,
              "#fb9f3a"
             ],
             [
              0.8888888888888888,
              "#fdca26"
             ],
             [
              1,
              "#f0f921"
             ]
            ],
            "type": "heatmap"
           }
          ],
          "heatmapgl": [
           {
            "colorbar": {
             "outlinewidth": 0,
             "ticks": ""
            },
            "colorscale": [
             [
              0,
              "#0d0887"
             ],
             [
              0.1111111111111111,
              "#46039f"
             ],
             [
              0.2222222222222222,
              "#7201a8"
             ],
             [
              0.3333333333333333,
              "#9c179e"
             ],
             [
              0.4444444444444444,
              "#bd3786"
             ],
             [
              0.5555555555555556,
              "#d8576b"
             ],
             [
              0.6666666666666666,
              "#ed7953"
             ],
             [
              0.7777777777777778,
              "#fb9f3a"
             ],
             [
              0.8888888888888888,
              "#fdca26"
             ],
             [
              1,
              "#f0f921"
             ]
            ],
            "type": "heatmapgl"
           }
          ],
          "histogram": [
           {
            "marker": {
             "pattern": {
              "fillmode": "overlay",
              "size": 10,
              "solidity": 0.2
             }
            },
            "type": "histogram"
           }
          ],
          "histogram2d": [
           {
            "colorbar": {
             "outlinewidth": 0,
             "ticks": ""
            },
            "colorscale": [
             [
              0,
              "#0d0887"
             ],
             [
              0.1111111111111111,
              "#46039f"
             ],
             [
              0.2222222222222222,
              "#7201a8"
             ],
             [
              0.3333333333333333,
              "#9c179e"
             ],
             [
              0.4444444444444444,
              "#bd3786"
             ],
             [
              0.5555555555555556,
              "#d8576b"
             ],
             [
              0.6666666666666666,
              "#ed7953"
             ],
             [
              0.7777777777777778,
              "#fb9f3a"
             ],
             [
              0.8888888888888888,
              "#fdca26"
             ],
             [
              1,
              "#f0f921"
             ]
            ],
            "type": "histogram2d"
           }
          ],
          "histogram2dcontour": [
           {
            "colorbar": {
             "outlinewidth": 0,
             "ticks": ""
            },
            "colorscale": [
             [
              0,
              "#0d0887"
             ],
             [
              0.1111111111111111,
              "#46039f"
             ],
             [
              0.2222222222222222,
              "#7201a8"
             ],
             [
              0.3333333333333333,
              "#9c179e"
             ],
             [
              0.4444444444444444,
              "#bd3786"
             ],
             [
              0.5555555555555556,
              "#d8576b"
             ],
             [
              0.6666666666666666,
              "#ed7953"
             ],
             [
              0.7777777777777778,
              "#fb9f3a"
             ],
             [
              0.8888888888888888,
              "#fdca26"
             ],
             [
              1,
              "#f0f921"
             ]
            ],
            "type": "histogram2dcontour"
           }
          ],
          "mesh3d": [
           {
            "colorbar": {
             "outlinewidth": 0,
             "ticks": ""
            },
            "type": "mesh3d"
           }
          ],
          "parcoords": [
           {
            "line": {
             "colorbar": {
              "outlinewidth": 0,
              "ticks": ""
             }
            },
            "type": "parcoords"
           }
          ],
          "pie": [
           {
            "automargin": true,
            "type": "pie"
           }
          ],
          "scatter": [
           {
            "fillpattern": {
             "fillmode": "overlay",
             "size": 10,
             "solidity": 0.2
            },
            "type": "scatter"
           }
          ],
          "scatter3d": [
           {
            "line": {
             "colorbar": {
              "outlinewidth": 0,
              "ticks": ""
             }
            },
            "marker": {
             "colorbar": {
              "outlinewidth": 0,
              "ticks": ""
             }
            },
            "type": "scatter3d"
           }
          ],
          "scattercarpet": [
           {
            "marker": {
             "colorbar": {
              "outlinewidth": 0,
              "ticks": ""
             }
            },
            "type": "scattercarpet"
           }
          ],
          "scattergeo": [
           {
            "marker": {
             "colorbar": {
              "outlinewidth": 0,
              "ticks": ""
             }
            },
            "type": "scattergeo"
           }
          ],
          "scattergl": [
           {
            "marker": {
             "colorbar": {
              "outlinewidth": 0,
              "ticks": ""
             }
            },
            "type": "scattergl"
           }
          ],
          "scattermapbox": [
           {
            "marker": {
             "colorbar": {
              "outlinewidth": 0,
              "ticks": ""
             }
            },
            "type": "scattermapbox"
           }
          ],
          "scatterpolar": [
           {
            "marker": {
             "colorbar": {
              "outlinewidth": 0,
              "ticks": ""
             }
            },
            "type": "scatterpolar"
           }
          ],
          "scatterpolargl": [
           {
            "marker": {
             "colorbar": {
              "outlinewidth": 0,
              "ticks": ""
             }
            },
            "type": "scatterpolargl"
           }
          ],
          "scatterternary": [
           {
            "marker": {
             "colorbar": {
              "outlinewidth": 0,
              "ticks": ""
             }
            },
            "type": "scatterternary"
           }
          ],
          "surface": [
           {
            "colorbar": {
             "outlinewidth": 0,
             "ticks": ""
            },
            "colorscale": [
             [
              0,
              "#0d0887"
             ],
             [
              0.1111111111111111,
              "#46039f"
             ],
             [
              0.2222222222222222,
              "#7201a8"
             ],
             [
              0.3333333333333333,
              "#9c179e"
             ],
             [
              0.4444444444444444,
              "#bd3786"
             ],
             [
              0.5555555555555556,
              "#d8576b"
             ],
             [
              0.6666666666666666,
              "#ed7953"
             ],
             [
              0.7777777777777778,
              "#fb9f3a"
             ],
             [
              0.8888888888888888,
              "#fdca26"
             ],
             [
              1,
              "#f0f921"
             ]
            ],
            "type": "surface"
           }
          ],
          "table": [
           {
            "cells": {
             "fill": {
              "color": "#EBF0F8"
             },
             "line": {
              "color": "white"
             }
            },
            "header": {
             "fill": {
              "color": "#C8D4E3"
             },
             "line": {
              "color": "white"
             }
            },
            "type": "table"
           }
          ]
         },
         "layout": {
          "annotationdefaults": {
           "arrowcolor": "#2a3f5f",
           "arrowhead": 0,
           "arrowwidth": 1
          },
          "autotypenumbers": "strict",
          "coloraxis": {
           "colorbar": {
            "outlinewidth": 0,
            "ticks": ""
           }
          },
          "colorscale": {
           "diverging": [
            [
             0,
             "#8e0152"
            ],
            [
             0.1,
             "#c51b7d"
            ],
            [
             0.2,
             "#de77ae"
            ],
            [
             0.3,
             "#f1b6da"
            ],
            [
             0.4,
             "#fde0ef"
            ],
            [
             0.5,
             "#f7f7f7"
            ],
            [
             0.6,
             "#e6f5d0"
            ],
            [
             0.7,
             "#b8e186"
            ],
            [
             0.8,
             "#7fbc41"
            ],
            [
             0.9,
             "#4d9221"
            ],
            [
             1,
             "#276419"
            ]
           ],
           "sequential": [
            [
             0,
             "#0d0887"
            ],
            [
             0.1111111111111111,
             "#46039f"
            ],
            [
             0.2222222222222222,
             "#7201a8"
            ],
            [
             0.3333333333333333,
             "#9c179e"
            ],
            [
             0.4444444444444444,
             "#bd3786"
            ],
            [
             0.5555555555555556,
             "#d8576b"
            ],
            [
             0.6666666666666666,
             "#ed7953"
            ],
            [
             0.7777777777777778,
             "#fb9f3a"
            ],
            [
             0.8888888888888888,
             "#fdca26"
            ],
            [
             1,
             "#f0f921"
            ]
           ],
           "sequentialminus": [
            [
             0,
             "#0d0887"
            ],
            [
             0.1111111111111111,
             "#46039f"
            ],
            [
             0.2222222222222222,
             "#7201a8"
            ],
            [
             0.3333333333333333,
             "#9c179e"
            ],
            [
             0.4444444444444444,
             "#bd3786"
            ],
            [
             0.5555555555555556,
             "#d8576b"
            ],
            [
             0.6666666666666666,
             "#ed7953"
            ],
            [
             0.7777777777777778,
             "#fb9f3a"
            ],
            [
             0.8888888888888888,
             "#fdca26"
            ],
            [
             1,
             "#f0f921"
            ]
           ]
          },
          "colorway": [
           "#636efa",
           "#EF553B",
           "#00cc96",
           "#ab63fa",
           "#FFA15A",
           "#19d3f3",
           "#FF6692",
           "#B6E880",
           "#FF97FF",
           "#FECB52"
          ],
          "font": {
           "color": "#2a3f5f"
          },
          "geo": {
           "bgcolor": "white",
           "lakecolor": "white",
           "landcolor": "#E5ECF6",
           "showlakes": true,
           "showland": true,
           "subunitcolor": "white"
          },
          "hoverlabel": {
           "align": "left"
          },
          "hovermode": "closest",
          "mapbox": {
           "style": "light"
          },
          "paper_bgcolor": "white",
          "plot_bgcolor": "#E5ECF6",
          "polar": {
           "angularaxis": {
            "gridcolor": "white",
            "linecolor": "white",
            "ticks": ""
           },
           "bgcolor": "#E5ECF6",
           "radialaxis": {
            "gridcolor": "white",
            "linecolor": "white",
            "ticks": ""
           }
          },
          "scene": {
           "xaxis": {
            "backgroundcolor": "#E5ECF6",
            "gridcolor": "white",
            "gridwidth": 2,
            "linecolor": "white",
            "showbackground": true,
            "ticks": "",
            "zerolinecolor": "white"
           },
           "yaxis": {
            "backgroundcolor": "#E5ECF6",
            "gridcolor": "white",
            "gridwidth": 2,
            "linecolor": "white",
            "showbackground": true,
            "ticks": "",
            "zerolinecolor": "white"
           },
           "zaxis": {
            "backgroundcolor": "#E5ECF6",
            "gridcolor": "white",
            "gridwidth": 2,
            "linecolor": "white",
            "showbackground": true,
            "ticks": "",
            "zerolinecolor": "white"
           }
          },
          "shapedefaults": {
           "line": {
            "color": "#2a3f5f"
           }
          },
          "ternary": {
           "aaxis": {
            "gridcolor": "white",
            "linecolor": "white",
            "ticks": ""
           },
           "baxis": {
            "gridcolor": "white",
            "linecolor": "white",
            "ticks": ""
           },
           "bgcolor": "#E5ECF6",
           "caxis": {
            "gridcolor": "white",
            "linecolor": "white",
            "ticks": ""
           }
          },
          "title": {
           "x": 0.05
          },
          "xaxis": {
           "automargin": true,
           "gridcolor": "white",
           "linecolor": "white",
           "ticks": "",
           "title": {
            "standoff": 15
           },
           "zerolinecolor": "white",
           "zerolinewidth": 2
          },
          "yaxis": {
           "automargin": true,
           "gridcolor": "white",
           "linecolor": "white",
           "ticks": "",
           "title": {
            "standoff": 15
           },
           "zerolinecolor": "white",
           "zerolinewidth": 2
          }
         }
        },
        "title": {
         "text": "Comparaison des performances SQLite et Cassandra (Replica Sets)"
        },
        "xaxis": {
         "title": {
          "text": "Temps d'exécution (secondes)"
         }
        },
        "yaxis": {
         "title": {
          "text": "Opération CRUD"
         }
        }
       }
      }
     },
     "metadata": {},
     "output_type": "display_data"
    }
   ],
   "source": [
    "crud_operations = ['Insert', 'Read', 'Update', 'Delete']\n",
    "\n",
    "fig = go.Figure(data=[\n",
    "    go.Bar(name='SQLite', y=crud_operations, x=sqlite_times_massive, orientation='h')  # SQLite bar\n",
    "])\n",
    "\n",
    "for rf in results_df['Replication Factor'].unique():\n",
    "    rf_data = results_df[results_df['Replication Factor'] == rf]\n",
    "    fig.add_trace(go.Bar(\n",
    "        name=f\"Cassandra (RF={rf})\",\n",
    "        y=crud_operations,\n",
    "        x=[rf_data['Avg Insertion Time'].values[0],\n",
    "           rf_data['Avg Read Time'].values[0],\n",
    "           rf_data['Avg Update Time'].values[0],\n",
    "           rf_data['Avg Delete Time'].values[0]],\n",
    "        orientation='h'\n",
    "    ))\n",
    "\n",
    "fig.update_layout(barmode='group',\n",
    "                  title=\"Comparaison des performances SQLite et Cassandra (Replica Sets)\",\n",
    "                  xaxis_title=\"Temps d'exécution (secondes)\",\n",
    "                  yaxis_title=\"Opération CRUD\")\n",
    "\n",
    "fig.show()"
   ]
  },
  {
   "cell_type": "markdown",
   "metadata": {},
   "source": [
    " SQLite est une base de données embarquée :\n",
    "SQLite est une base de données légère et locale, conçue pour fonctionner sur des systèmes où les ressources sont limitées. Elle est souvent utilisée pour des bases de données petites à moyennes, et elle est optimisée pour être rapide dans des environnements où il n'y a pas de forte concurrence ou de distribution.\n",
    "Comme SQLite est embarquée, elle utilise le même processus que ton application, ce qui peut réduire les frais généraux liés aux appels réseau et aux processus séparés nécessaires pour une base de données distribuée comme Cassandra.\n",
    "\n",
    "Replication et gestion des nœuds dans Cassandra :\n",
    "L'activation de la réplication dans Cassandra, même avec des facteurs de réplication faibles, introduit une complexité supplémentaire. Le fait que Cassandra doive gérer des copies des données sur plusieurs nœuds (et potentiellement attendre des confirmations d'écriture/lecture de ces nœuds) peut ralentir les performances, surtout pour des petites bases de données.\n",
    "Le facteur de réplication dans Cassandra peut augmenter le temps de réponse des écritures et lectures, car les données doivent être synchronisées entre plusieurs nœuds. Dans une petite base de données, cela peut devenir un goulot d'étranglement inutile.\n",
    "\n",
    "\n",
    "Coût de gestion des partitions et de la distribution :\n",
    "Cassandra est conçue pour gérer de grandes quantités de données distribuées sur plusieurs machines. Si ta base de données est petite, Cassandra pourrait avoir un coût supplémentaire lié à la gestion des partitions et des nœuds, ce qui ralentirait les performances comparées à SQLite, qui n'a pas besoin de gérer cette distribution.\n",
    "\n",
    "\n",
    "Caching et optimisation :\n",
    "SQLite peut tirer parti du caching local pour accélérer les lectures, surtout lorsqu'il y a peu de données et que tout peut être chargé en mémoire.\n",
    "Cassandra, d'autre part, peut nécessiter davantage de gestion des caches, de coordination entre les nœuds, et de répartition des données avant de pouvoir renvoyer les résultats d'une requête, ce qui peut rendre le processus plus lent pour des petites bases."
   ]
  },
  {
   "cell_type": "code",
   "execution_count": null,
   "metadata": {},
   "outputs": [],
   "source": [
    "TODO : Effectuer des tests de charge : Augmenter le nombre de requêtes ou de transactions simultanées pour tester la scalabilité et la gestion des requêtes par Cassandra. Dans un scénario avec peu de données, SQLite peut sembler plus rapide, mais lorsque la charge augmente, Cassandra sera plus adapté pour gérer des performances à grande échelle"
   ]
  },
  {
   "cell_type": "markdown",
   "metadata": {},
   "source": [
    "Dans Cassandra, la fragmentation horizontale (ou \"sharding\") se fait automatiquement à partir de la clé de partition que vous définissez dans vos tables. Cassandra distribue les données entre les nœuds en fonction des clés de partition et utilise la réplication pour garantir la résilience des données."
   ]
  },
  {
   "cell_type": "markdown",
   "metadata": {},
   "source": [
    "TODO vérifier valeur print c'est les memes que plot "
   ]
  },
  {
   "cell_type": "markdown",
   "metadata": {},
   "source": [
    "TODO : Le clustering est une autre méthode de distribution des données dans Cassandra, mais cela se fait au sein d'une partition (c'est-à-dire que les données ayant la même clé de partition seront rangées ensemble en fonction de la clé de clustering). Le choix d'une bonne clé de clustering permet d’optimiser la lecture des données dans Cassandra.\n",
    "\n",
    "TODO CLUSTERING "
   ]
  },
  {
   "cell_type": "markdown",
   "metadata": {},
   "source": []
  },
  {
   "cell_type": "markdown",
   "metadata": {},
   "source": [
    "Utiliser une base de données plus grande : Cassandra est mieux adapté pour gérer de grandes quantités de données et pour tirer parti de son architecture distribuée.\n",
    "\n",
    "On va donc augmenter notre jeu de données "
   ]
  },
  {
   "cell_type": "markdown",
   "metadata": {},
   "source": []
  },
  {
   "cell_type": "markdown",
   "metadata": {},
   "source": []
  },
  {
   "cell_type": "markdown",
   "metadata": {},
   "source": []
  },
  {
   "cell_type": "markdown",
   "metadata": {},
   "source": []
  },
  {
   "cell_type": "code",
   "execution_count": null,
   "metadata": {
    "id": "zMput7yPJ8Pf"
   },
   "outputs": [],
   "source": [
    "# TODO : BATCH\n",
    "# TODO : INDEX\n",
    "# TODO : REQUETES COMPLEXES\n",
    "# TODO : JOINS\n",
    "# TODO : REQUETES AVEC FILTRES"
   ]
  },
  {
   "cell_type": "markdown",
   "metadata": {
    "id": "joVbr__Z1aEJ"
   },
   "source": [
    "# CHARLOTTE"
   ]
  },
  {
   "cell_type": "markdown",
   "metadata": {
    "id": "SAxurK-oSaXh"
   },
   "source": [
    "## Augmentation de la taille du jeu de données"
   ]
  },
  {
   "cell_type": "markdown",
   "metadata": {
    "id": "-BJ6a0BHSaXh"
   },
   "source": [
    "TODO rédaction\n",
    "\n",
    "Création d'un dataset plus grand pour voir une réelle différence sur les opérations CRUD.  \n",
    "Création nous même car les sites de création de dataset ne permettent de télécharger que 1000 lignes avec un compte gratuit."
   ]
  },
  {
   "cell_type": "code",
   "execution_count": 38,
   "metadata": {
    "id": "_0fCtTqoSaXh"
   },
   "outputs": [],
   "source": [
    "# more_data = False\n",
    "\n",
    "# if more_data:\n",
    "#     original_df = df_initial\n",
    "\n",
    "#     num_rows = 30000\n",
    "\n",
    "#     def generate_large_column(original_column, size):\n",
    "#         return [random.choice(original_column) for _ in range(size)]\n",
    "\n",
    "#     def generate_show_id(size):\n",
    "#         return [f\"{i+1}\" for i in range(size)]\n",
    "\n",
    "#     generated_data = {}\n",
    "#     generated_data = original_df.to_dict(orient='list')\n",
    "\n",
    "#     for column in original_df.columns:\n",
    "#         if column == \"show_id\":\n",
    "#             generated_data[column].extend(generate_show_id(num_rows - len(original_df)))\n",
    "#         else:\n",
    "#             generated_data[column].extend(generate_large_column(original_df[column].tolist(), num_rows - len(original_df)))\n",
    "\n",
    "\n",
    "#     large_df = pd.DataFrame(generated_data)\n",
    "#     df = large_df.drop_duplicates()\n",
    "\n",
    "#     output_file = \"netflix_titles_large.csv\"\n",
    "#     large_df.to_csv(output_file, index=False)\n",
    "#     print(f\"Dataset généré avec {num_rows} lignes (lignes dupliquées supprimées) et exporté dans {output_file}.\")\n",
    "# else:\n",
    "#     df = df_initial"
   ]
  },
  {
   "cell_type": "code",
   "execution_count": 39,
   "metadata": {
    "id": "e_f1SQ-vSaXj"
   },
   "outputs": [],
   "source": [
    "# plt.figure(figsize=(10, 6))\n",
    "# plt.plot(cassandra_times_update, label=\"Cassandra Update\", marker='o')\n",
    "# plt.plot(mysql_times_update, label=\"MySQL Update\", marker='x')\n",
    "# plt.xlabel(\"Itérations\")\n",
    "# plt.ylabel(\"Temps (secondes)\")\n",
    "# plt.title(\"Benchmark des mises à jour (Update) entre Cassandra et MySQL\")\n",
    "# plt.legend()\n",
    "# plt.grid()\n",
    "# plt.show()"
   ]
  },
  {
   "cell_type": "code",
   "execution_count": 40,
   "metadata": {
    "id": "HaVOtssbSaXj"
   },
   "outputs": [],
   "source": [
    "# plt.figure(figsize=(10, 6))\n",
    "# plt.plot(cassandra_times_delete, label=\"Cassandra Delete\", marker='o')\n",
    "# plt.plot(mysql_times_delete, label=\"MySQL Delete\", marker='x')\n",
    "# plt.xlabel(\"Itérations\")\n",
    "# plt.ylabel(\"Temps (secondes)\")\n",
    "# plt.title(\"Benchmark des suppressions (Delete) entre Cassandra et MySQL\")\n",
    "# plt.legend()\n",
    "# plt.grid()\n",
    "# plt.show()\n"
   ]
  },
  {
   "cell_type": "markdown",
   "metadata": {
    "id": "cnxbRFm4SaXj"
   },
   "source": [
    "## Optimisation par indexation (TODO : Peut-être supprimer cette partie)"
   ]
  },
  {
   "cell_type": "markdown",
   "metadata": {
    "id": "R_T77WVMSaXk"
   },
   "source": [
    "### 1. Ajout d'index"
   ]
  },
  {
   "cell_type": "markdown",
   "metadata": {
    "id": "-nOtYV7qSaXk"
   },
   "source": [
    "TODO : index secondaire ?"
   ]
  },
  {
   "cell_type": "code",
   "execution_count": 41,
   "metadata": {
    "id": "dAOkmSPuSaXk"
   },
   "outputs": [],
   "source": [
    "def cassandra_create_indexes(columns):\n",
    "    start_time = time.time()\n",
    "    for column in columns:\n",
    "        index_query = f\"CREATE INDEX {column}_idx ON shows ({column});\"\n",
    "        cassandra_session.execute(index_query)\n",
    "    cassandra_time = time.time() - start_time\n",
    "    return cassandra_time\n",
    "\n",
    "def mysql_create_indexes(columns):\n",
    "    start_time = time.time()\n",
    "    with mysql_engine.connect() as conn:\n",
    "        conn.execute(text(\"USE TDLE;\"))\n",
    "        for column in columns:\n",
    "            if column == \"rating\":\n",
    "                index_query = f\"CREATE INDEX {column}_idx ON shows ({column}(10));\"\n",
    "            elif column == \"title\":\n",
    "                index_query = f\"CREATE INDEX {column}_idx ON shows ({column}(50));\"\n",
    "            else:\n",
    "                index_query = f\"CREATE INDEX {column}_idx ON shows ({column});\"\n",
    "            #index_query = f\"CREATE INDEX {column}_idx ON shows ({column});\"\n",
    "            conn.execute(text(index_query))\n",
    "    mysql_time = time.time() - start_time\n",
    "    return mysql_time"
   ]
  },
  {
   "cell_type": "markdown",
   "metadata": {
    "id": "i4TX9FzFSaXk"
   },
   "source": [
    "TODO : Mettre les colonnes qu'on utilise pour être indexés.\n",
    "\n",
    "Nous indexons les colonnes que nous utilisons dans les requêtes.\n",
    "La colonne show_id est déjà indexé implicitement comme c'est la clé primaire."
   ]
  },
  {
   "cell_type": "code",
   "execution_count": 42,
   "metadata": {
    "id": "iXV0j0ZcSaXk"
   },
   "outputs": [
    {
     "ename": "NameError",
     "evalue": "name 'cassandra_session' is not defined",
     "output_type": "error",
     "traceback": [
      "\u001b[0;31m---------------------------------------------------------------------------\u001b[0m",
      "\u001b[0;31mNameError\u001b[0m                                 Traceback (most recent call last)",
      "Cell \u001b[0;32mIn[42], line 4\u001b[0m\n\u001b[1;32m      1\u001b[0m \u001b[38;5;66;03m# TODO : Revoir les colonnes à indexer si on change les fonctions du CURL\u001b[39;00m\n\u001b[1;32m      2\u001b[0m \u001b[38;5;66;03m# Toutes les colonnes : [\"show_id\", \"title\", \"director\", \"cast\", \"country\", \"date_added\", \"release_year\", \"rating\", \"duration\", \"listed_in\", \"description\"]\u001b[39;00m\n\u001b[1;32m      3\u001b[0m columns_to_index \u001b[38;5;241m=\u001b[39m [\u001b[38;5;124m\"\u001b[39m\u001b[38;5;124mrelease_year\u001b[39m\u001b[38;5;124m\"\u001b[39m, \u001b[38;5;124m\"\u001b[39m\u001b[38;5;124mrating\u001b[39m\u001b[38;5;124m\"\u001b[39m, \u001b[38;5;124m\"\u001b[39m\u001b[38;5;124mtitle\u001b[39m\u001b[38;5;124m\"\u001b[39m]\n\u001b[0;32m----> 4\u001b[0m cassandra_time_index \u001b[38;5;241m=\u001b[39m \u001b[43mcassandra_create_indexes\u001b[49m\u001b[43m(\u001b[49m\u001b[43mcolumns_to_index\u001b[49m\u001b[43m)\u001b[49m\n\u001b[1;32m      5\u001b[0m mysql_time_index \u001b[38;5;241m=\u001b[39m mysql_create_indexes(columns_to_index)\n\u001b[1;32m      7\u001b[0m \u001b[38;5;28mprint\u001b[39m(\u001b[38;5;124mf\u001b[39m\u001b[38;5;124m\"\u001b[39m\u001b[38;5;124mIndexation time: Cassandra \u001b[39m\u001b[38;5;132;01m{\u001b[39;00mcassandra_time_index\u001b[38;5;132;01m:\u001b[39;00m\u001b[38;5;124m.5f\u001b[39m\u001b[38;5;132;01m}\u001b[39;00m\u001b[38;5;124ms, MySQL \u001b[39m\u001b[38;5;132;01m{\u001b[39;00mmysql_time_index\u001b[38;5;132;01m:\u001b[39;00m\u001b[38;5;124m.5f\u001b[39m\u001b[38;5;132;01m}\u001b[39;00m\u001b[38;5;124ms\u001b[39m\u001b[38;5;124m\"\u001b[39m)\n",
      "Cell \u001b[0;32mIn[41], line 5\u001b[0m, in \u001b[0;36mcassandra_create_indexes\u001b[0;34m(columns)\u001b[0m\n\u001b[1;32m      3\u001b[0m \u001b[38;5;28;01mfor\u001b[39;00m column \u001b[38;5;129;01min\u001b[39;00m columns:\n\u001b[1;32m      4\u001b[0m     index_query \u001b[38;5;241m=\u001b[39m \u001b[38;5;124mf\u001b[39m\u001b[38;5;124m\"\u001b[39m\u001b[38;5;124mCREATE INDEX \u001b[39m\u001b[38;5;132;01m{\u001b[39;00mcolumn\u001b[38;5;132;01m}\u001b[39;00m\u001b[38;5;124m_idx ON shows (\u001b[39m\u001b[38;5;132;01m{\u001b[39;00mcolumn\u001b[38;5;132;01m}\u001b[39;00m\u001b[38;5;124m);\u001b[39m\u001b[38;5;124m\"\u001b[39m\n\u001b[0;32m----> 5\u001b[0m     \u001b[43mcassandra_session\u001b[49m\u001b[38;5;241m.\u001b[39mexecute(index_query)\n\u001b[1;32m      6\u001b[0m cassandra_time \u001b[38;5;241m=\u001b[39m time\u001b[38;5;241m.\u001b[39mtime() \u001b[38;5;241m-\u001b[39m start_time\n\u001b[1;32m      7\u001b[0m \u001b[38;5;28;01mreturn\u001b[39;00m cassandra_time\n",
      "\u001b[0;31mNameError\u001b[0m: name 'cassandra_session' is not defined"
     ]
    }
   ],
   "source": [
    "# TODO : Revoir les colonnes à indexer si on change les fonctions du CURL\n",
    "# Toutes les colonnes : [\"show_id\", \"title\", \"director\", \"cast\", \"country\", \"date_added\", \"release_year\", \"rating\", \"duration\", \"listed_in\", \"description\"]\n",
    "columns_to_index = [\"release_year\", \"rating\", \"title\"]\n",
    "cassandra_time_index = cassandra_create_indexes(columns_to_index)\n",
    "mysql_time_index = mysql_create_indexes(columns_to_index)\n",
    "\n",
    "print(f\"Indexation time: Cassandra {cassandra_time_index:.5f}s, MySQL {mysql_time_index:.5f}s\")"
   ]
  },
  {
   "cell_type": "markdown",
   "metadata": {
    "id": "VsioVMFpSaXk"
   },
   "source": [
    "Indexation des colonnes utilisées dans les filtres, jointures et ordonnancement (ORDER BY).  \n",
    "Seulement ces colonnes sinon le coût de stockage est trop élevé pour rien."
   ]
  },
  {
   "cell_type": "markdown",
   "metadata": {
    "id": "D1NeD-dpSaXk"
   },
   "source": [
    "### 2. Opérations CRUD après indexation"
   ]
  },
  {
   "cell_type": "code",
   "execution_count": null,
   "metadata": {
    "id": "RkWcYhcaSaXk"
   },
   "outputs": [],
   "source": [
    "# Recréation des tables pour avoir toutes les données\n",
    "# TODO : Peut être indexer après l'ajout\n",
    "def recreate_tables_with_indexes():\n",
    "    create_table_cassandra()\n",
    "    cassandra_create_indexes(columns_to_index)\n",
    "\n",
    "    global mysql_engine\n",
    "    mysql_engine = create_table_mysql()\n",
    "    mysql_create_indexes(columns_to_index)\n",
    "\n",
    "    cassandra_time_create = cassandra_insert(df)\n",
    "    mysql_time_create = mysql_insert(df)\n",
    "\n",
    "    return cassandra_time_create, mysql_time_create"
   ]
  },
  {
   "cell_type": "code",
   "execution_count": null,
   "metadata": {
    "id": "SrTpG84YSaXk"
   },
   "outputs": [],
   "source": [
    "cassandra_time_create_idx, mysql_time_create_idx = recreate_tables_with_indexes()\n",
    "print(f\"Create time: Cassandra {cassandra_time_create_idx:.5f}s, MySQL {mysql_time_create_idx:.5f}s\")"
   ]
  },
  {
   "cell_type": "code",
   "execution_count": null,
   "metadata": {
    "id": "UgMCnuTjSaXk"
   },
   "outputs": [],
   "source": [
    "# Vérification des index\n",
    "index_query = \"SELECT * FROM system_schema.indexes WHERE keyspace_name = 'netflix';\"\n",
    "rows = cassandra_session.execute(index_query)\n",
    "print(\"Index existants dans Cassandra :\")\n",
    "for row in rows:\n",
    "    print(row)\n",
    "\n",
    "index_query_mysql = \"SHOW INDEX FROM shows;\"\n",
    "with mysql_engine.connect() as conn:\n",
    "    conn.execute(text(\"USE TDLE;\"))\n",
    "    result = conn.execute(text(index_query_mysql))\n",
    "    print(\"Index existants dans MySQL :\")\n",
    "    for row in result:\n",
    "        print(row)"
   ]
  },
  {
   "cell_type": "code",
   "execution_count": null,
   "metadata": {
    "id": "3OyaNVMLSaXk"
   },
   "outputs": [],
   "source": [
    "cassandra_time_read_idx = cassandra_read_benchmark()\n",
    "mysql_time_read_idx = mysql_read_benchmark()\n",
    "#print(f\"Read time after indexing: Cassandra {sum(cassandra_time_read_idx)/len(cassandra_read_benchmark):.5f}s\")#, MySQL {mysql_time_read:.5f}s\")\n",
    "\n",
    "cassandra_time_update_idx = cassandra_update_benchmark()\n",
    "mysql_time_update_idx = mysql_update_benchmark()\n",
    "#print(f\"Update time after indexing: Cassandra {cassandra_time_update_idx:.5f}s\")#, MySQL {mysql_time_update:.5f}s\")\n",
    "\n",
    "cassandra_time_delete_idx = cassandra_delete_benchmark_with_reset_from_df()\n",
    "mysql_time_delete_idx = mysql_delete_benchmark_with_reset()\n",
    "#print(f\"Delete time after indexing: Cassandra {cassandra_time_delete_idx:.5f}s\")#, MySQL {mysql_time_delete:.5f}s\")\n"
   ]
  },
  {
   "cell_type": "markdown",
   "metadata": {
    "id": "DDqsfjN7SaXk"
   },
   "source": [
    "### Résultats CRUD après indexation"
   ]
  },
  {
   "cell_type": "code",
   "execution_count": null,
   "metadata": {
    "id": "YI8DtJKdSaXk"
   },
   "outputs": [],
   "source": [
    "crud_operations = ['Create', 'Read', 'Update', 'Delete']\n",
    "\n",
    "cassandra_times_after = [\n",
    "    cassandra_time_create_idx,\n",
    "    sum(cassandra_times_read) / len(cassandra_times_read),\n",
    "    sum(cassandra_times_update) / len(cassandra_times_update),\n",
    "    sum(cassandra_times_delete) / len(cassandra_times_delete),\n",
    "]\n",
    "\n",
    "mysql_times_after = [\n",
    "    mysql_time_create_idx,\n",
    "    sum(mysql_times_read) / len(mysql_times_read),\n",
    "    sum(mysql_times_update) / len(mysql_times_update),\n",
    "    sum(mysql_times_delete) / len(mysql_times_delete),\n",
    "]\n",
    "\n",
    "fig = go.Figure()\n",
    "fig.add_trace(go.Bar(x=crud_operations, y=cassandra_times_after, name='Cassandra (Après Indexation)', text=[f\"{t:.2f}s\" for t in cassandra_times_after], textposition='auto'))\n",
    "fig.add_trace(go.Bar(x=crud_operations, y=mysql_times_after, name='MySQL (Après Indexation)', text=[f\"{t:.2f}s\" for t in mysql_times_after], textposition='auto'))\n",
    "\n",
    "fig.update_layout(title=\"Comparaison des performances CRUD après indexation entre Cassandra et MySQL\", xaxis_title=\"Opérations CRUD\", yaxis_title=\"Temps d'exécution (secondes)\", barmode='group', template='plotly_white', legend=dict(title=\"Système de base de données\"))\n",
    "\n",
    "fig.show()\n"
   ]
  },
  {
   "cell_type": "code",
   "execution_count": null,
   "metadata": {
    "id": "-EiV8h_6SaXk"
   },
   "outputs": [],
   "source": [
    "crud_operations = ['Create', 'Read', 'Update', 'Delete']\n",
    "\n",
    "cassandra_times = [\n",
    "    cassandra_time_create,\n",
    "    sum(cassandra_times_read) / len(cassandra_times_read),\n",
    "    sum(cassandra_times_update) / len(cassandra_times_update),\n",
    "    sum(cassandra_times_delete) / len(cassandra_times_delete),\n",
    "]\n",
    "\n",
    "cassandra_times_after = [\n",
    "    cassandra_time_create_idx,\n",
    "    sum(cassandra_time_read_idx) / len(cassandra_time_read_idx),\n",
    "    sum(cassandra_time_update_idx) / len(cassandra_time_update_idx),\n",
    "    sum(cassandra_time_delete_idx) / len(cassandra_time_delete_idx),\n",
    "]\n",
    "\n",
    "mysql_times = [\n",
    "    mysql_time_create,\n",
    "    sum(mysql_times_read) / len(mysql_times_read),\n",
    "    sum(mysql_times_update) / len(mysql_times_update),\n",
    "    sum(mysql_times_delete) / len(mysql_times_delete),\n",
    "]\n",
    "\n",
    "mysql_times_after = [\n",
    "    mysql_time_create_idx,\n",
    "    sum(mysql_time_read_idx) / len(mysql_time_read_idx),\n",
    "    sum(mysql_time_update_idx) / len(mysql_time_update_idx),\n",
    "    sum(mysql_time_delete_idx) / len(mysql_time_delete_idx),\n",
    "]\n",
    "\n",
    "# Cassandra\n",
    "fig_cassandra = go.Figure()\n",
    "\n",
    "fig_cassandra.add_trace(go.Bar(x=crud_operations, y=cassandra_times, name='Cassandra (Avant Indexation)', text=[f\"{t:.2f}s\" for t in cassandra_times], textposition='auto'))\n",
    "fig_cassandra.add_trace(go.Bar(x=crud_operations, y=cassandra_times_after, name='Cassandra (Après Indexation)', text=[f\"{t:.2f}s\" for t in cassandra_times_after], textposition='auto'))\n",
    "\n",
    "fig_cassandra.update_layout(title=\"Comparaison des performances CRUD de Cassandra (Avant vs Après Indexation)\", xaxis_title=\"Opérations CRUD\", yaxis_title=\"Temps d'exécution (secondes)\", barmode='group', template='plotly_white')\n",
    "fig_cassandra.show()\n",
    "\n",
    "# MySQL\n",
    "fig_mysql = go.Figure()\n",
    "\n",
    "fig_mysql.add_trace(go.Bar(x=crud_operations, y=mysql_times, name='MySQL (Avant Indexation)', text=[f\"{t:.2f}s\" for t in mysql_times], textposition='auto'))\n",
    "fig_mysql.add_trace(go.Bar(x=crud_operations, y=mysql_times_after, name='MySQL (Après Indexation)', text=[f\"{t:.2f}s\" for t in mysql_times_after], textposition='auto'))\n",
    "\n",
    "fig_mysql.update_layout( title=\"Comparaison des performances CRUD de MySQL (Avant vs Après Indexation)\", xaxis_title=\"Opérations CRUD\", yaxis_title=\"Temps d'exécution (secondes)\", barmode='group', template='plotly_white')\n",
    "fig_mysql.show()\n"
   ]
  },
  {
   "cell_type": "code",
   "execution_count": null,
   "metadata": {
    "id": "Xr4EKrp9SaXl"
   },
   "outputs": [],
   "source": [
    "\n",
    "# TODO :  Analyser les résultats\n",
    "\n",
    "\n",
    "# TODO : Tester avec des requêtes plus complexes\n",
    "# TODO : Utiliser un dataset plus grand\n",
    "# TODO : Ajouter des colonnes à indexer\n",
    "# Tous ces TODO n'ont rien changé."
   ]
  },
  {
   "cell_type": "markdown",
   "metadata": {
    "id": "Vxbcr5CrSaXl"
   },
   "source": [
    "## Optimisation par réplication/partitionnement"
   ]
  },
  {
   "cell_type": "code",
   "execution_count": null,
   "metadata": {
    "id": "B5w_jrvASaXl"
   },
   "outputs": [],
   "source": [
    "# Recréation des tables pour avoir toutes les données\n",
    "def recreate_tables():\n",
    "    create_table_cassandra()\n",
    "\n",
    "    global mysql_engine\n",
    "    mysql_engine = create_table_mysql()\n",
    "\n",
    "    cassandra_time_create = cassandra_insert(df)\n",
    "    mysql_time_create = mysql_insert(df)\n",
    "\n",
    "    return cassandra_time_create#, mysql_time_create\n",
    "\n",
    "cassandra_time_create = recreate_tables()#, mysql_time_create"
   ]
  },
  {
   "cell_type": "markdown",
   "metadata": {
    "id": "x-tp7Jm5SaXl"
   },
   "source": [
    "### Cassandra - Réplication"
   ]
  },
  {
   "cell_type": "code",
   "execution_count": null,
   "metadata": {
    "id": "NmDf2ycQSaXl"
   },
   "outputs": [],
   "source": [
    "# ZOE OK\n",
    "# def create_keyspace_with_replication(replication_factor):\n",
    "#     cassandra_session.execute(f\"DROP KEYSPACE IF EXISTS netflix;\")\n",
    "\n",
    "#     # TODO : Tester d'autres stratégies de réplication\n",
    "#     cassandra_session.execute(f\"\"\"\n",
    "#     CREATE KEYSPACE netflix\n",
    "#     WITH REPLICATION = {{\n",
    "#         'class': 'SimpleStrategy',\n",
    "#         'replication_factor': {replication_factor}\n",
    "#     }};\n",
    "#     \"\"\")\n",
    "#     cassandra_session.set_keyspace('netflix')\n",
    "#     print(f\"Keyspace créé avec replication_factor = {replication_factor}\")"
   ]
  },
  {
   "cell_type": "markdown",
   "metadata": {
    "id": "xUW06660SaXl"
   },
   "source": [
    "### Cassandra - Test du CRUD"
   ]
  },
  {
   "cell_type": "code",
   "execution_count": null,
   "metadata": {
    "id": "nrMGA-YqSaXl"
   },
   "outputs": [],
   "source": [
    "# ZOE OK\n",
    "# replication_factors = [1, 2, 3] #,4, 5, 6, 7, 8, 9, 10]\n",
    "# results = []\n",
    "\n",
    "# for rf in replication_factors:\n",
    "#     print(f\"\\nTest avec replication_factor = {rf} :\")\n",
    "#     create_keyspace_with_replication(rf)\n",
    "#     create_table_cassandra()\n",
    "#     cassandra_time_create = cassandra_insert(df)\n",
    "#     print(f\"Insertion time: {cassandra_time_create:.5f}s\")\n",
    "#     cassandra_time_read = cassandra_read_benchmark()\n",
    "#     #print(f\" - Read time: {cassandra_time_read:.5f}s\")\n",
    "#     cassandra_time_update = cassandra_update_benchmark()\n",
    "#     #print(f\" - Update time: {cassandra_time_update:.5f}s\")\n",
    "#     cassandra_time_delete = cassandra_delete_benchmark_with_reset_from_df()\n",
    "#     #print(f\" - Delete time: {cassandra_time_delete:.5f}s\")\n",
    "\n",
    "#     results.append({\n",
    "#         'Replication Factor': rf,\n",
    "#         'Insertion Time': cassandra_time_create,\n",
    "#         'Read Time': cassandra_time_read,\n",
    "#         'Update Time': cassandra_time_update,\n",
    "#         'Delete Time': cassandra_time_delete\n",
    "#     })\n",
    "\n",
    "# results_df = pd.DataFrame(results)"
   ]
  },
  {
   "cell_type": "markdown",
   "metadata": {
    "id": "nVM9-fpuSaXl"
   },
   "source": [
    "### Cassandra - Résultats"
   ]
  },
  {
   "cell_type": "code",
   "execution_count": null,
   "metadata": {
    "id": "yYegzpImSaXl"
   },
   "outputs": [],
   "source": [
    "average_times = results_df.iloc[:, 1:].mean()\n",
    "\n",
    "for col in ['Insertion Time', 'Read Time', 'Update Time', 'Delete Time']:\n",
    "    results_df[col] = results_df[col].apply(lambda x: sum(x)/len(x) if isinstance(x, list) else x)\n",
    "\n",
    "average_times = results_df.iloc[:, 1:].mean()\n",
    "\n",
    "fig = go.Figure()\n",
    "\n",
    "\n",
    "for rf in results_df['Replication Factor']:\n",
    "    values = results_df[results_df['Replication Factor'] == rf].iloc[0, 1:].values\n",
    "    values = [float(v) for v in values]\n",
    "\n",
    "    fig.add_trace(go.Bar(x=['Insertion Time', 'Read Time', 'Update Time', 'Delete Time'], y=values, name=f'Replication Factor {rf}', text=[f\"{v:.3f}s\" for v in values], textposition='auto'))\n",
    "\n",
    "fig.update_layout(title=\"Temps d'exécution des opérations CRUD par facteur de réplication\", xaxis_title=\"Opérations CRUD\", yaxis_title=\"Temps d'exécution (secondes)\", barmode='group', template='plotly_white', legend=dict(title=\"Replication Factor\"))\n",
    "\n",
    "fig.show()"
   ]
  },
  {
   "cell_type": "markdown",
   "metadata": {
    "id": "YUKaVNidSaXl"
   },
   "source": [
    "# Fin du notebook"
   ]
  },
  {
   "cell_type": "code",
   "execution_count": null,
   "metadata": {
    "id": "K__CbN_ISaXl"
   },
   "outputs": [],
   "source": [
    "# Tout fermer proprement\n",
    "session.shutdown() # Fermer la connexion Cassandra\n",
    "cluster.shutdown() # Fermer la connexion Cassandra\n",
    "mysql_engine.dispose() # Fermer la connexion MySQL"
   ]
  },
  {
   "cell_type": "markdown",
   "metadata": {
    "id": "pDDEHAUuSaXl"
   },
   "source": [
    "# Sources\n",
    "\n",
    "- http://www-igm.univ-mlv.fr/~dr/XPOSE2010/Cassandra/modele.html"
   ]
  },
  {
   "cell_type": "code",
   "execution_count": null,
   "metadata": {
    "id": "uG05j5i3dvPS"
   },
   "outputs": [],
   "source": []
  }
 ],
 "metadata": {
  "colab": {
   "collapsed_sections": [
    "zNbLEjRUSaXd",
    "DSa5TnVxSaXf",
    "gyQhyPcqXcdW",
    "joVbr__Z1aEJ"
   ],
   "provenance": []
  },
  "kernelspec": {
   "display_name": "jupyter_venv",
   "language": "python",
   "name": "python3"
  },
  "language_info": {
   "codemirror_mode": {
    "name": "ipython",
    "version": 3
   },
   "file_extension": ".py",
   "mimetype": "text/x-python",
   "name": "python",
   "nbconvert_exporter": "python",
   "pygments_lexer": "ipython3",
   "version": "3.11.10"
  }
 },
 "nbformat": 4,
 "nbformat_minor": 0
}
