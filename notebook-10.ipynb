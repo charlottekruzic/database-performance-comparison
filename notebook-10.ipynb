{
 "cells": [
  {
   "cell_type": "markdown",
   "metadata": {
    "id": "JEXns_C5SaXc"
   },
   "source": [
    "# Projet Traitement et Données Large Échelle\n",
    "\n",
    "Zoé MARQUIS & Charlotte KRUZIC"
   ]
  },
  {
   "cell_type": "markdown",
   "metadata": {},
   "source": [
    "## Exécution des scripts d'installation \n",
    "\n",
    "TODO : AJOUTER LE NOM DES FICHIERS BASH UNE FOIS QU'IlS SONT CORRECTS\n",
    "\n",
    "Nous avons initialement exploré la possibilité d'exécuter nos scripts sur Google Colab afin de faciliter l'exécution sans que vous ayez à configurer quoi que ce soit sur votre machine locale. Cependant, Colab présente certaines limitations, notamment l'incapacité de gérer plusieurs réplicas sets, car il ne permet de travailler qu'avec un seul environnement d'exécution.\n",
    "\n",
    "Pour pouvoir simuler plusieurs réplicas sets dans notre projet, nous avons besoin de plusieurs nœuds, ce qui n'est pas possible sur Colab. Nous avons également essayé d'utiliser des solutions gratuites comme Datastax (ou une autre plateforme similaire), mais ces services ne permettaient pas de configurer correctement les réplicas sets, ce qui limitait la flexibilité nécessaire à notre projet.\n",
    "\n",
    "En conséquence, nous avons opté pour une autre solution : créer des fichiers de configuration, comme cela est souvent demandé dans les exercices de type TP MongoDB. Cette approche permet de travailler de manière plus flexible tout en maintenant un contrôle total sur les paramètres des réplicas sets.\n",
    "\n",
    "Une autre remarque importante : le projet a été testé avec Python 3.11, car Python 3.12 a introduit quelques incompatibilités qui ont causé des bugs. Il est donc recommandé d'utiliser Python 3.11 pour éviter ces problèmes."
   ]
  },
  {
   "cell_type": "code",
   "execution_count": null,
   "metadata": {},
   "outputs": [],
   "source": [
    "# TODO : Dire qu'on a utilisé mySQL et pourquoi on a changé"
   ]
  },
  {
   "cell_type": "markdown",
   "metadata": {
    "id": "zNbLEjRUSaXd"
   },
   "source": [
    "## Comparaison de Performances entre Systèmes Relationnels et NoSQL : Étude de Cas avec le Catalogue Netflix"
   ]
  },
  {
   "cell_type": "markdown",
   "metadata": {
    "id": "wR7GJDOISaXe"
   },
   "source": [
    "Dans ce projet, nous comparons les performances entre un système de base de données relationnel (SQLite) et un système NoSQL (Cassandra), en utilisant le **catalogue Netflix** comme jeu de données.   \n",
    "Ce dataset, disponible en Open Data, offre une structure réaliste et adaptée pour explorer les différences entre ces deux approches de gestion de données.   \n",
    "L'objectif principal est d'évaluer les performances pour des opérations d'insertion, mise à jour et requêtes complexes, tout en analysant les spécificités du système NoSQL choisi."
   ]
  },
  {
   "cell_type": "markdown",
   "metadata": {
    "id": "ZqbpvhO7SaXe"
   },
   "source": [
    "### Jeu de données\n",
    "\n",
    "Le jeu de données utilisé contient des informations sur les films et séries disponibles sur Netflix, avec les attributs suivants : \n",
    "- `show_id` : Identifiant unique pour chaque émission ou film. \n",
    "- `type` \n",
    "- `title`\n",
    "- `director` \n",
    "- `cast`\n",
    "- `country`\n",
    "- `date_added` \n",
    "- `release_year` \n",
    "- `rating` \n",
    "- `duration` \n",
    "- `listed_in` \n",
    "- `description`"
   ]
  },
  {
   "cell_type": "markdown",
   "metadata": {
    "id": "KqlM6RB7SaXe"
   },
   "source": [
    "### Schéma de données\n",
    "\n",
    "```sql\n",
    "CREATE TABLE IF NOT EXISTS shows (\n",
    "    show_id INT PRIMARY KEY,\n",
    "    title TEXT,\n",
    "    type TEXT,\n",
    "    director TEXT,\n",
    "    cast TEXT,\n",
    "    country TEXT,\n",
    "    date_added TEXT,\n",
    "    release_year INT,\n",
    "    rating TEXT,\n",
    "    duration TEXT,\n",
    "    listed_in TEXT,\n",
    "    description TEXT\n",
    ");\n",
    "```"
   ]
  },
  {
   "cell_type": "markdown",
   "metadata": {
    "id": "xApu2UauSaXe"
   },
   "source": [
    "\n",
    "---\n",
    "\n",
    "## Fonctionnement de Cassandra\n",
    "Apache Cassandra est un système de gestion de bases de données NoSQL conçu pour gérer de grandes quantités de données réparties sur plusieurs serveurs tout en maintenant une haute disponibilité et une tolérance aux pannes. Contrairement aux bases de données relationnelles, Cassandra suit un modèle décentralisé, ce qui lui permet de scaler facilement et d'offrir une forte résilience.\n",
    "\n",
    "### Modèle de données de Cassandra :\n",
    "\n",
    "Le modèle de données de Cassandra repose sur quelques concepts clés qui diffèrent des systèmes relationnels traditionnels.\n",
    "\n",
    "- **Keyspace** :  \n",
    "Un Keyspace dans Cassandra est l'équivalent d'une base de données dans les systèmes relationnels. Il sert à regrouper des tables (ou Column Families) et définit la stratégie de réplication des données. Par exemple, il spécifie le nombre de répliques à conserver pour chaque donnée afin d'assurer une haute disponibilité et une tolérance aux pannes. La réplication des données dans Cassandra suit des stratégies comme \"SimpleStrategy\" (réplication sur tous les nœuds) ou \"NetworkTopologyStrategy\" (réplication sur des nœuds répartis sur plusieurs centres de données).\n",
    "- **Column Family** :  \n",
    "Une Column Family dans Cassandra est équivalente à une table relationnelle, mais avec une flexibilité plus grande. Chaque Column Family contient plusieurs colonnes, et contrairement aux bases de données relationnelles, les colonnes n'ont pas besoin d'être définies à l'avance. Elles peuvent être ajoutées dynamiquement au fil du temps, ce qui permet d'évoluer facilement sans migrations complexes.\n",
    "- **Key (Clé primaire)** :  \n",
    "Chaque ligne dans une Column Family est identifiée par une clé unique. Cette clé est utilisée pour partitionner et localiser les données efficacement. Elle peut être composée d'un seul champ (clé primaire simple) ou de plusieurs champs (clé primaire composée). Par exemple, dans une table contenant des films, une clé primaire pourrait être show_id (identifiant du film).\n",
    "- **Colonnes** :  \n",
    "Les données dans Cassandra sont stockées sous forme de colonnes. Chaque colonne a trois composants essentiels :\n",
    "    - Nom : Le nom de la colonne (par exemple, title, release_year).\n",
    "    - Valeur : La donnée proprement dite (par exemple, \"Inception\", \"2010\").\n",
    "    - Timestamp : Le timestamp associé à la colonne, qui permet de gérer les versions des données et de résoudre les conflits de réplication, ce qui est essentiel dans un système distribué. Il permet de savoir quelle version d'une colonne est la plus récente.  \n",
    "Ces colonnes sont indépendantes les unes des autres. Cela signifie qu'elles peuvent être insérées, mises à jour ou supprimées sans impacter les autres colonnes dans la même ligne.\n",
    "- **Super Colonnes** :  \n",
    "Les Super Colonnes sont une structure plus avancée dans Cassandra. Elles permettent de regrouper plusieurs colonnes sous un même nom de \"super colonne\". Cela permet de créer des structures hiérarchiques ou imbriquées dans les données, où une super colonne peut contenir plusieurs colonnes. Ce mécanisme est utile pour des cas complexes, mais il est désormais souvent moins utilisé au profit de modèles de données plus simples.\n",
    "\n",
    "Source : \n",
    "- http://www-igm.univ-mlv.fr/~dr/XPOSE2010/Cassandra/modele.html\n",
    "\n",
    "### Architecture de Cassandra :\n",
    "\n",
    "L'architecture de Cassandra est décentralisée et repose sur un modèle peer-to-peer, ce qui signifie qu'il n'y a pas de nœud maître ou de coordination centralisée. Tous les nœuds sont égaux et partagent le même rôle. Cela permet une grande scalabilité et une tolérance aux pannes.\n",
    "\n",
    "- Partitions et Réplication : Cassandra répartit les données entre différents nœuds via un mécanisme de partitionnement basé sur un hash de la clé primaire. Chaque nœud du cluster stocke une portion des données, et des répliques de ces données peuvent être présentes sur plusieurs nœuds, selon la stratégie de réplication définie dans le Keyspace. Cela permet à Cassandra d'assurer une haute disponibilité, même en cas de panne d'un ou plusieurs nœuds.\n",
    "- Consistence et Quorum : Cassandra suit un modèle de consistance configurable, permettant de choisir entre des garanties de consistance fortes ou une consistance plus faible en fonction des besoins. Cela se configure via les paramètres Read Consistency Level et Write Consistency Level. Par exemple, un niveau de consistance QUORUM signifie qu'une opération de lecture ou d'écriture devra être validée par la majorité des répliques d'une donnée avant de réussir.\n",
    "\n",
    "# TODO : ajouter une source\n",
    "\n",
    "### Requêtes et Modèle de Consistance :\n",
    "\n",
    "Les requêtes dans Cassandra utilisent le Cassandra Query Language (CQL), qui ressemble à SQL mais avec des différences significatives adaptées aux particularités du modèle NoSQL.\n",
    "\n",
    "- Clé primaire et partitions : Dans Cassandra, la clé primaire détermine comment les données sont partitionnées et distribuées à travers les nœuds du cluster. Il est essentiel de bien concevoir cette clé pour assurer des performances optimales. La clé primaire peut être composée de :\n",
    "    - Partition key : La clé utilisée pour déterminer la partition sur un nœud.\n",
    "    - Clustering key : La clé qui permet de trier les données au sein d'une même partition.\n",
    "- Sélection et filtrage : Cassandra fonctionne très bien pour les requêtes basées sur la clé primaire. Les requêtes qui filtrent sur d'autres colonnes nécessitent l'utilisation d'index secondaires ou d'une modélisation spécifique des données pour garantir de bonnes performances. Si vous tentez de filtrer sur une colonne sans index, vous recevrez une erreur ALLOW FILTERING, ce qui signifie que la requête pourrait être très coûteuse en termes de performance.\n",
    "\n",
    "### Avantages et Inconvénients de Cassandra :\n",
    "\n",
    "#### Avantages :\n",
    "- Haute scalabilité horizontale (ajout facile de nœuds).\n",
    "- Résilience et tolérance aux pannes grâce à la réplication des données.\n",
    "- Facilité d'ajout de nouvelles colonnes sans affecter les données existantes.\n",
    "#### Inconvénients :\n",
    "- Consistance éventuelle : Cassandra privilégie la disponibilité et la partitionnement des données, parfois au détriment de la consistance immédiate.\n",
    "- Pas de support pour les jointures, les transactions complexes ou les relations entre tables, ce qui oblige à repenser la manière de modéliser les données. Ceci est le cas pour toutes les bases de données NoSQL.\n",
    "\n",
    "### Conclusion :\n",
    "Cassandra est une base de données extrêmement puissante pour les cas d'utilisation à grande échelle et hautement distribués, avec une grande tolérance aux pannes. Cependant, sa conception impose certaines contraintes sur la manière de structurer les données, et une bonne compréhension de son modèle de partitionnement est essentielle pour garantir de bonnes performances. Les applications qui nécessitent des requêtes complexes et des jointures devront probablement repenser leur modèle de données ou utiliser des outils supplémentaires pour effectuer des analyses en dehors de Cassandra."
   ]
  },
  {
   "cell_type": "markdown",
   "metadata": {},
   "source": [
    "## Fonctionnement de SQLite\n",
    "SQLite est une base de données relationnelle légère, autonome et sans serveur, idéale pour les applications qui nécessitent une gestion locale des données sans nécessiter de serveur de base de données externe. Voici les principaux points qui caractérisent son fonctionnement :\n",
    "\n",
    "- Base de données embarquée : Contrairement aux systèmes de gestion de base de données classiques (comme MySQL ou PostgreSQL), SQLite est une base de données embarquée, ce qui signifie qu'elle est directement intégrée dans l'application sans nécessiter de processus serveur séparé. Toutes les données sont stockées dans un fichier unique sur le disque.\n",
    "- Structure relationnelle : SQLite suit le modèle relationnel classique, avec des tables, des colonnes et des lignes. Il prend en charge les requêtes SQL classiques (SELECT, INSERT, UPDATE, DELETE), et permet la gestion des contraintes, des index et des transactions ACID (Atomicité, Cohérence, Isolation, Durabilité).\n",
    "- Pas de gestion de serveur : SQLite ne nécessite pas d'installation de serveur ni de configuration complexe, ce qui simplifie grandement son utilisation pour des applications légères, des prototypes ou des applications mobiles. Cela permet également une gestion plus simple des données localement, sans besoin de se soucier de la gestion d'un serveur distant.\n",
    "- Performance : Bien que très performant pour des opérations locales et des volumes de données modestes, SQLite n'est pas conçu pour les applications à grande échelle nécessitant une scalabilité horizontale ou une haute disponibilité. C'est une excellente solution pour des applications mononucléaires ou pour des projets qui ne nécessitent pas de réplication de données.\n",
    "- Transactions ACID : SQLite assure l'intégrité des données grâce à son modèle transactionnel, ce qui garantit que les opérations sont atomiques et cohérentes. Cependant, sa gestion des transactions simultanées est moins robuste que dans des systèmes plus avancés comme PostgreSQL ou Cassandra.\n",
    "\n",
    "TODO : ajouter une source"
   ]
  },
  {
   "cell_type": "markdown",
   "metadata": {
    "id": "CSf1vpGsSce3"
   },
   "source": [
    "---\n",
    "## Installer les outils"
   ]
  },
  {
   "cell_type": "code",
   "execution_count": null,
   "metadata": {},
   "outputs": [],
   "source": [
    "# TODO : Faire un fichier de requirement pour ca plutot non ?"
   ]
  },
  {
   "cell_type": "code",
   "execution_count": 41,
   "metadata": {
    "colab": {
     "base_uri": "https://localhost:8080/"
    },
    "id": "186hCryRIqD6",
    "outputId": "3c35e481-857d-48f9-8a48-49f0cb5b74d4"
   },
   "outputs": [
    {
     "name": "stdout",
     "output_type": "stream",
     "text": [
      "Requirement already satisfied: plotly in ./jupyter_venv/lib/python3.11/site-packages (5.24.1)\n",
      "Requirement already satisfied: tenacity>=6.2.0 in ./jupyter_venv/lib/python3.11/site-packages (from plotly) (9.0.0)\n",
      "Requirement already satisfied: packaging in ./jupyter_venv/lib/python3.11/site-packages (from plotly) (24.2)\n"
     ]
    }
   ],
   "source": [
    "!pip install plotly "
   ]
  },
  {
   "cell_type": "code",
   "execution_count": 42,
   "metadata": {},
   "outputs": [
    {
     "name": "stdout",
     "output_type": "stream",
     "text": [
      "Requirement already satisfied: matplotlib in ./jupyter_venv/lib/python3.11/site-packages (3.9.3)\n",
      "Requirement already satisfied: contourpy>=1.0.1 in ./jupyter_venv/lib/python3.11/site-packages (from matplotlib) (1.3.1)\n",
      "Requirement already satisfied: cycler>=0.10 in ./jupyter_venv/lib/python3.11/site-packages (from matplotlib) (0.12.1)\n",
      "Requirement already satisfied: fonttools>=4.22.0 in ./jupyter_venv/lib/python3.11/site-packages (from matplotlib) (4.55.1)\n",
      "Requirement already satisfied: kiwisolver>=1.3.1 in ./jupyter_venv/lib/python3.11/site-packages (from matplotlib) (1.4.7)\n",
      "Requirement already satisfied: numpy>=1.23 in ./jupyter_venv/lib/python3.11/site-packages (from matplotlib) (2.1.3)\n",
      "Requirement already satisfied: packaging>=20.0 in ./jupyter_venv/lib/python3.11/site-packages (from matplotlib) (24.2)\n",
      "Requirement already satisfied: pillow>=8 in ./jupyter_venv/lib/python3.11/site-packages (from matplotlib) (11.0.0)\n",
      "Requirement already satisfied: pyparsing>=2.3.1 in ./jupyter_venv/lib/python3.11/site-packages (from matplotlib) (3.2.0)\n",
      "Requirement already satisfied: python-dateutil>=2.7 in ./jupyter_venv/lib/python3.11/site-packages (from matplotlib) (2.9.0.post0)\n",
      "Requirement already satisfied: six>=1.5 in ./jupyter_venv/lib/python3.11/site-packages (from python-dateutil>=2.7->matplotlib) (1.17.0)\n"
     ]
    }
   ],
   "source": [
    "!pip install matplotlib"
   ]
  },
  {
   "cell_type": "code",
   "execution_count": 43,
   "metadata": {
    "colab": {
     "base_uri": "https://localhost:8080/"
    },
    "id": "GVxxvVptShJM",
    "outputId": "072989a2-00ca-496c-a54f-d7b549f83684"
   },
   "outputs": [
    {
     "name": "stdout",
     "output_type": "stream",
     "text": [
      "Requirement already satisfied: pandas in ./jupyter_venv/lib/python3.11/site-packages (2.2.3)\n",
      "Requirement already satisfied: numpy>=1.23.2 in ./jupyter_venv/lib/python3.11/site-packages (from pandas) (2.1.3)\n",
      "Requirement already satisfied: python-dateutil>=2.8.2 in ./jupyter_venv/lib/python3.11/site-packages (from pandas) (2.9.0.post0)\n",
      "Requirement already satisfied: pytz>=2020.1 in ./jupyter_venv/lib/python3.11/site-packages (from pandas) (2024.2)\n",
      "Requirement already satisfied: tzdata>=2022.7 in ./jupyter_venv/lib/python3.11/site-packages (from pandas) (2024.2)\n",
      "Requirement already satisfied: six>=1.5 in ./jupyter_venv/lib/python3.11/site-packages (from python-dateutil>=2.8.2->pandas) (1.17.0)\n"
     ]
    }
   ],
   "source": [
    "!pip install pandas\n",
    "# pour manipuler des dataframes et charger les données de kaggle"
   ]
  },
  {
   "cell_type": "code",
   "execution_count": 44,
   "metadata": {
    "colab": {
     "base_uri": "https://localhost:8080/"
    },
    "id": "ZQ3l1d5gzcLc",
    "outputId": "ee5a5b42-aa7a-41b1-ece4-aec355632e92"
   },
   "outputs": [
    {
     "name": "stdout",
     "output_type": "stream",
     "text": [
      "Requirement already satisfied: cassandra-driver in ./jupyter_venv/lib/python3.11/site-packages (3.29.2)\n",
      "Requirement already satisfied: geomet<0.3,>=0.1 in ./jupyter_venv/lib/python3.11/site-packages (from cassandra-driver) (0.2.1.post1)\n",
      "Requirement already satisfied: click in ./jupyter_venv/lib/python3.11/site-packages (from geomet<0.3,>=0.1->cassandra-driver) (8.1.7)\n",
      "Requirement already satisfied: six in ./jupyter_venv/lib/python3.11/site-packages (from geomet<0.3,>=0.1->cassandra-driver) (1.17.0)\n"
     ]
    }
   ],
   "source": [
    "!pip install cassandra-driver"
   ]
  },
  {
   "cell_type": "code",
   "execution_count": 45,
   "metadata": {
    "colab": {
     "base_uri": "https://localhost:8080/"
    },
    "id": "TgYL5rsMxcOG",
    "outputId": "97b7d11e-3588-402c-bbd7-55e2f1b14481"
   },
   "outputs": [],
   "source": [
    "# TODO à vérifier sur ubuntu et mac e fonctoin de comment on a fait les scripts d'installation\n",
    "# # 🚨 sur linux \n",
    "# !apt-get update\n",
    "# !apt-get install -y openjdk-11-jdk\n",
    "# !apt-get install libev-dev\n",
    "# !apt-get install cassandra\n",
    "\n",
    "# # 🚨 sur mac\n",
    "# !brew install openjdk@17\n",
    "# !brew install libev\n",
    "# !brew install cassandra\n"
   ]
  },
  {
   "cell_type": "code",
   "execution_count": 46,
   "metadata": {
    "colab": {
     "base_uri": "https://localhost:8080/"
    },
    "id": "DJ3uiRzSTNUB",
    "outputId": "71e9a318-fb38-4150-c9b7-134e79138da4"
   },
   "outputs": [
    {
     "name": "stdout",
     "output_type": "stream",
     "text": [
      "Requirement already satisfied: kagglehub in ./jupyter_venv/lib/python3.11/site-packages (0.3.4)\n",
      "Requirement already satisfied: packaging in ./jupyter_venv/lib/python3.11/site-packages (from kagglehub) (24.2)\n",
      "Requirement already satisfied: requests in ./jupyter_venv/lib/python3.11/site-packages (from kagglehub) (2.32.3)\n",
      "Requirement already satisfied: tqdm in ./jupyter_venv/lib/python3.11/site-packages (from kagglehub) (4.67.1)\n",
      "Requirement already satisfied: charset-normalizer<4,>=2 in ./jupyter_venv/lib/python3.11/site-packages (from requests->kagglehub) (3.4.0)\n",
      "Requirement already satisfied: idna<4,>=2.5 in ./jupyter_venv/lib/python3.11/site-packages (from requests->kagglehub) (3.10)\n",
      "Requirement already satisfied: urllib3<3,>=1.21.1 in ./jupyter_venv/lib/python3.11/site-packages (from requests->kagglehub) (2.2.3)\n",
      "Requirement already satisfied: certifi>=2017.4.17 in ./jupyter_venv/lib/python3.11/site-packages (from requests->kagglehub) (2024.8.30)\n"
     ]
    }
   ],
   "source": [
    "!pip install kagglehub\n",
    "# installer kagglehub pour récupérer le dataset"
   ]
  },
  {
   "cell_type": "code",
   "execution_count": 47,
   "metadata": {
    "colab": {
     "base_uri": "https://localhost:8080/"
    },
    "id": "7mCkktKTUCAw",
    "outputId": "129e5c0b-b98f-44a9-ecc0-1170c0d52916"
   },
   "outputs": [
    {
     "name": "stdout",
     "output_type": "stream",
     "text": [
      "Requirement already satisfied: tabulate in ./jupyter_venv/lib/python3.11/site-packages (0.9.0)\n"
     ]
    }
   ],
   "source": [
    "!pip install tabulate"
   ]
  },
  {
   "cell_type": "markdown",
   "metadata": {
    "id": "DSa5TnVxSaXf"
   },
   "source": [
    "## Importation des données"
   ]
  },
  {
   "cell_type": "code",
   "execution_count": null,
   "metadata": {},
   "outputs": [],
   "source": [
    "# TODO : Mettre tous les import ici"
   ]
  },
  {
   "cell_type": "code",
   "execution_count": 48,
   "metadata": {
    "colab": {
     "base_uri": "https://localhost:8080/"
    },
    "id": "7EWeXgMVTYUR",
    "outputId": "92b8b7cb-3191-4cdc-dfe8-0435ea2c0220"
   },
   "outputs": [
    {
     "name": "stdout",
     "output_type": "stream",
     "text": [
      "Chemin vers le fichier du dataset :  /Users/zoemarquis/.cache/kagglehub/datasets/shivamb/netflix-shows/versions/5\n"
     ]
    }
   ],
   "source": [
    "import kagglehub\n",
    "\n",
    "path = kagglehub.dataset_download(\"shivamb/netflix-shows\")\n",
    "print(\"Chemin vers le fichier du dataset : \", path)"
   ]
  },
  {
   "cell_type": "code",
   "execution_count": 49,
   "metadata": {
    "colab": {
     "base_uri": "https://localhost:8080/"
    },
    "id": "31NMsovvTYM6",
    "outputId": "d9527294-d00e-490b-b3f3-936eba3790fd"
   },
   "outputs": [
    {
     "name": "stdout",
     "output_type": "stream",
     "text": [
      "Nom du fichier :  ['netflix_titles.csv']\n"
     ]
    }
   ],
   "source": [
    "import os\n",
    "files = os.listdir(path)\n",
    "print(\"Nom du fichier : \", files)"
   ]
  },
  {
   "cell_type": "code",
   "execution_count": 50,
   "metadata": {
    "id": "Bvv23wiLSaXg"
   },
   "outputs": [],
   "source": [
    "import pandas as pd\n",
    "\n",
    "filename = f\"{path}/{files[0]}\"\n",
    "df_initial = pd.read_csv(filename)"
   ]
  },
  {
   "cell_type": "code",
   "execution_count": 51,
   "metadata": {
    "colab": {
     "base_uri": "https://localhost:8080/"
    },
    "id": "_npbZAVzSaXg",
    "outputId": "a455d3b7-8c08-4319-f298-2f0e93c112af"
   },
   "outputs": [
    {
     "name": "stdout",
     "output_type": "stream",
     "text": [
      "+----+-----------+---------+----------------------------------+-------------------------------+-----------------------------------------------------------------------------------------------------------------------------------------------------------------------------------------------------------------------------------------------------------------------------------------------------------------+-----------------------------------------------------------------------+--------------------+----------------+----------+------------+---------------------------------------------------------------+-----------------------------------------------------------------------------------------------------------------------------------------------------------+\n",
      "|    | show_id   | type    | title                            | director                      | cast                                                                                                                                                                                                                                                                                                            | country                                                               | date_added         |   release_year | rating   | duration   | listed_in                                                     | description                                                                                                                                               |\n",
      "|----+-----------+---------+----------------------------------+-------------------------------+-----------------------------------------------------------------------------------------------------------------------------------------------------------------------------------------------------------------------------------------------------------------------------------------------------------------+-----------------------------------------------------------------------+--------------------+----------------+----------+------------+---------------------------------------------------------------+-----------------------------------------------------------------------------------------------------------------------------------------------------------|\n",
      "|  0 | s1        | Movie   | Dick Johnson Is Dead             | Kirsten Johnson               | nan                                                                                                                                                                                                                                                                                                             | United States                                                         | September 25, 2021 |           2020 | PG-13    | 90 min     | Documentaries                                                 | As her father nears the end of his life, filmmaker Kirsten Johnson stages his death in inventive and comical ways to help them both face the inevitable.  |\n",
      "|  1 | s2        | TV Show | Blood & Water                    | nan                           | Ama Qamata, Khosi Ngema, Gail Mabalane, Thabang Molaba, Dillon Windvogel, Natasha Thahane, Arno Greeff, Xolile Tshabalala, Getmore Sithole, Cindy Mahlangu, Ryle De Morny, Greteli Fincham, Sello Maake Ka-Ncube, Odwa Gwanya, Mekaila Mathys, Sandi Schultz, Duane Williams, Shamilla Miller, Patrick Mofokeng | South Africa                                                          | September 24, 2021 |           2021 | TV-MA    | 2 Seasons  | International TV Shows, TV Dramas, TV Mysteries               | After crossing paths at a party, a Cape Town teen sets out to prove whether a private-school swimming star is her sister who was abducted at birth.       |\n",
      "|  2 | s3        | TV Show | Ganglands                        | Julien Leclercq               | Sami Bouajila, Tracy Gotoas, Samuel Jouy, Nabiha Akkari, Sofia Lesaffre, Salim Kechiouche, Noureddine Farihi, Geert Van Rampelberg, Bakary Diombera                                                                                                                                                             | nan                                                                   | September 24, 2021 |           2021 | TV-MA    | 1 Season   | Crime TV Shows, International TV Shows, TV Action & Adventure | To protect his family from a powerful drug lord, skilled thief Mehdi and his expert team of robbers are pulled into a violent and deadly turf war.        |\n",
      "|  3 | s4        | TV Show | Jailbirds New Orleans            | nan                           | nan                                                                                                                                                                                                                                                                                                             | nan                                                                   | September 24, 2021 |           2021 | TV-MA    | 1 Season   | Docuseries, Reality TV                                        | Feuds, flirtations and toilet talk go down among the incarcerated women at the Orleans Justice Center in New Orleans on this gritty reality series.       |\n",
      "|  4 | s5        | TV Show | Kota Factory                     | nan                           | Mayur More, Jitendra Kumar, Ranjan Raj, Alam Khan, Ahsaas Channa, Revathi Pillai, Urvi Singh, Arun Kumar                                                                                                                                                                                                        | India                                                                 | September 24, 2021 |           2021 | TV-MA    | 2 Seasons  | International TV Shows, Romantic TV Shows, TV Comedies        | In a city of coaching centers known to train India’s finest collegiate minds, an earnest but unexceptional student and his friends navigate campus life.  |\n",
      "|  5 | s6        | TV Show | Midnight Mass                    | Mike Flanagan                 | Kate Siegel, Zach Gilford, Hamish Linklater, Henry Thomas, Kristin Lehman, Samantha Sloyan, Igby Rigney, Rahul Kohli, Annarah Cymone, Annabeth Gish, Alex Essoe, Rahul Abburi, Matt Biedel, Michael Trucco, Crystal Balint, Louis Oliver                                                                        | nan                                                                   | September 24, 2021 |           2021 | TV-MA    | 1 Season   | TV Dramas, TV Horror, TV Mysteries                            | The arrival of a charismatic young priest brings glorious miracles, ominous mysteries and renewed religious fervor to a dying town desperate to believe.  |\n",
      "|  6 | s7        | Movie   | My Little Pony: A New Generation | Robert Cullen, José Luis Ucha | Vanessa Hudgens, Kimiko Glenn, James Marsden, Sofia Carson, Liza Koshy, Ken Jeong, Elizabeth Perkins, Jane Krakowski, Michael McKean, Phil LaMarr                                                                                                                                                               | nan                                                                   | September 24, 2021 |           2021 | PG       | 91 min     | Children & Family Movies                                      | Equestria's divided. But a bright-eyed hero believes Earth Ponies, Pegasi and Unicorns should be pals — and, hoof to heart, she’s determined to prove it. |\n",
      "|  7 | s8        | Movie   | Sankofa                          | Haile Gerima                  | Kofi Ghanaba, Oyafunmike Ogunlano, Alexandra Duah, Nick Medley, Mutabaruka, Afemo Omilami, Reggie Carter, Mzuri                                                                                                                                                                                                 | United States, Ghana, Burkina Faso, United Kingdom, Germany, Ethiopia | September 24, 2021 |           1993 | TV-MA    | 125 min    | Dramas, Independent Movies, International Movies              | On a photo shoot in Ghana, an American model slips back in time, becomes enslaved on a plantation and bears witness to the agony of her ancestral past.   |\n",
      "|  8 | s9        | TV Show | The Great British Baking Show    | Andy Devonshire               | Mel Giedroyc, Sue Perkins, Mary Berry, Paul Hollywood                                                                                                                                                                                                                                                           | United Kingdom                                                        | September 24, 2021 |           2021 | TV-14    | 9 Seasons  | British TV Shows, Reality TV                                  | A talented batch of amateur bakers face off in a 10-week competition, whipping up their best dishes in the hopes of being named the U.K.'s best.          |\n",
      "|  9 | s10       | Movie   | The Starling                     | Theodore Melfi                | Melissa McCarthy, Chris O'Dowd, Kevin Kline, Timothy Olyphant, Daveed Diggs, Skyler Gisondo, Laura Harrier, Rosalind Chao, Kimberly Quinn, Loretta Devine, Ravi Kapoor                                                                                                                                          | United States                                                         | September 24, 2021 |           2021 | PG-13    | 104 min    | Comedies, Dramas                                              | A woman adjusting to life after a loss contends with a feisty bird that's taken over her garden — and a husband who's struggling to find a way forward.   |\n",
      "+----+-----------+---------+----------------------------------+-------------------------------+-----------------------------------------------------------------------------------------------------------------------------------------------------------------------------------------------------------------------------------------------------------------------------------------------------------------+-----------------------------------------------------------------------+--------------------+----------------+----------+------------+---------------------------------------------------------------+-----------------------------------------------------------------------------------------------------------------------------------------------------------+\n"
     ]
    }
   ],
   "source": [
    "from tabulate import tabulate\n",
    "\n",
    "print(tabulate(df_initial.head(10), headers='keys', tablefmt='psql'))"
   ]
  },
  {
   "cell_type": "code",
   "execution_count": 52,
   "metadata": {
    "colab": {
     "base_uri": "https://localhost:8080/"
    },
    "id": "LhIN7tF2UP3e",
    "outputId": "dd3f1bd5-2061-4a92-9b5c-d9a706660362"
   },
   "outputs": [
    {
     "name": "stdout",
     "output_type": "stream",
     "text": [
      "Nombre de lignes : 8807\n"
     ]
    }
   ],
   "source": [
    "# afficher le nombre de lignes dans le dataset\n",
    "print(f\"Nombre de lignes : {len(df_initial)}\")"
   ]
  },
  {
   "cell_type": "code",
   "execution_count": 53,
   "metadata": {
    "colab": {
     "base_uri": "https://localhost:8080/"
    },
    "id": "ja5uNKumUP1X",
    "outputId": "85d58bb2-0c66-4f47-c720-ce978e0a9f2e"
   },
   "outputs": [
    {
     "name": "stdout",
     "output_type": "stream",
     "text": [
      "show_id         object\n",
      "type            object\n",
      "title           object\n",
      "director        object\n",
      "cast            object\n",
      "country         object\n",
      "date_added      object\n",
      "release_year     int64\n",
      "rating          object\n",
      "duration        object\n",
      "listed_in       object\n",
      "description     object\n",
      "dtype: object\n"
     ]
    }
   ],
   "source": [
    "# types des colonnes\n",
    "print(df_initial.dtypes)"
   ]
  },
  {
   "cell_type": "code",
   "execution_count": 54,
   "metadata": {
    "id": "QEm7E9xvSaXg"
   },
   "outputs": [],
   "source": [
    "# Convertir la colonne show_id en int en enlevant le préfixe 's' (plus simple pour gérer exactement le meme type de données en Cassandra et MySQL)\n",
    "df_initial['show_id'] = df_initial['show_id'].str.replace('s', '').astype(int).astype(int)\n",
    "\n",
    "df_initial['show_id'] = df_initial['show_id'].astype(int)\n",
    "df_initial['release_year'] = df_initial['release_year'].astype(int)\n",
    "\n",
    "df_initial['type'] = df_initial['title'].astype(str)\n",
    "df_initial['title'] = df_initial['title'].astype(str)\n",
    "df_initial['director'] = df_initial['director'].astype(str)\n",
    "df_initial['cast'] = df_initial['cast'].astype(str)\n",
    "df_initial['country'] = df_initial['country'].astype(str)\n",
    "df_initial['date_added'] = df_initial['date_added'].astype(str)\n",
    "df_initial['rating'] = df_initial['rating'].astype(str)\n",
    "df_initial['duration'] = df_initial['duration'].astype(str)\n",
    "df_initial['listed_in'] = df_initial['listed_in'].astype(str)\n",
    "df_initial['description'] = df_initial['description'].astype(str)"
   ]
  },
  {
   "cell_type": "code",
   "execution_count": 55,
   "metadata": {
    "colab": {
     "base_uri": "https://localhost:8080/"
    },
    "id": "nhGD7JxiUPy_",
    "outputId": "14418a1c-e7a1-4425-ebb9-b36e5164063e"
   },
   "outputs": [
    {
     "name": "stdout",
     "output_type": "stream",
     "text": [
      "show_id          int64\n",
      "type            object\n",
      "title           object\n",
      "director        object\n",
      "cast            object\n",
      "country         object\n",
      "date_added      object\n",
      "release_year     int64\n",
      "rating          object\n",
      "duration        object\n",
      "listed_in       object\n",
      "description     object\n",
      "dtype: object\n"
     ]
    }
   ],
   "source": [
    "# types des colonnes\n",
    "print(df_initial.dtypes)"
   ]
  },
  {
   "cell_type": "markdown",
   "metadata": {
    "id": "uDH9Xdn3aRcT"
   },
   "source": [
    "## CRUD : Create, Read, Update, Delete\n",
    "- Create (*Insert*) : Insérer des données dans la base de données.\n",
    "- Read (*Select*) : Récupérer des données.\n",
    "- Update (*Update*) : Modifier des données existantes.\n",
    "- Delete (*Delete*) : Effacer des données."
   ]
  },
  {
   "cell_type": "code",
   "execution_count": 56,
   "metadata": {
    "id": "v-XAjHUPL-Fq"
   },
   "outputs": [],
   "source": [
    "schema = \"\"\"\n",
    "CREATE TABLE IF NOT EXISTS shows (\n",
    "    show_id INT PRIMARY KEY,\n",
    "    title TEXT,\n",
    "    type TEXT,\n",
    "    director TEXT,\n",
    "    cast TEXT,\n",
    "    country TEXT,\n",
    "    date_added TEXT,\n",
    "    release_year INT,\n",
    "    rating TEXT,\n",
    "    duration TEXT,\n",
    "    listed_in TEXT,\n",
    "    description TEXT\n",
    ");\n",
    "\"\"\""
   ]
  },
  {
   "cell_type": "code",
   "execution_count": 57,
   "metadata": {
    "id": "5HsvkRtyOTPO"
   },
   "outputs": [],
   "source": [
    "data_zoe_charlotte = {\n",
    "    'show_id': [0],\n",
    "    'title': ['Zoé & Charlotte'],\n",
    "    'type': ['Movie'],\n",
    "    'director': ['Christopher Nolan'],\n",
    "    'cast': ['Leonardo DiCaprio, Joseph Gordon-Levitt'],\n",
    "    'country': ['USA'],\n",
    "    'date_added': ['2021-01-01'],\n",
    "    'release_year': [2001],\n",
    "    'rating': ['PG-13'],\n",
    "    'duration': ['148 min'],\n",
    "    'listed_in': ['Action, Sci-Fi'],\n",
    "    'description': ['A thief who steals corporate secrets through the use of dream-sharing technology is given the inverse task of planting an idea into the mind of a CEO.']\n",
    "}\n",
    "df_zoe_charlotte = pd.DataFrame(data_zoe_charlotte)"
   ]
  },
  {
   "cell_type": "markdown",
   "metadata": {
    "id": "gyQhyPcqXcdW"
   },
   "source": [
    "### SQLite"
   ]
  },
  {
   "cell_type": "code",
   "execution_count": 58,
   "metadata": {
    "colab": {
     "base_uri": "https://localhost:8080/"
    },
    "id": "czfGeguOZ7zT",
    "outputId": "937e55dc-b9ad-449c-93ad-2fe850ba5215"
   },
   "outputs": [],
   "source": [
    "import sqlite3\n",
    "\n",
    "# Créer une base de données SQLite en mémoire\n",
    "conn = sqlite3.connect(':memory:')\n",
    "cursor = conn.cursor()\n",
    "\n",
    "def drop_table_sqlite():\n",
    "    cursor.execute(\"DROP TABLE IF EXISTS shows;\")\n",
    "    conn.commit()\n",
    "\n",
    "def create_table_sqlite():\n",
    "    # Crée ta table ici\n",
    "    cursor.execute(schema)\n",
    "    conn.commit()\n",
    "\n",
    "drop_table_sqlite()\n",
    "create_table_sqlite()\n"
   ]
  },
  {
   "cell_type": "code",
   "execution_count": 59,
   "metadata": {
    "id": "v4PSpmxUNXwJ"
   },
   "outputs": [],
   "source": [
    "import time\n",
    "\n",
    "# --- CREATE ---\n",
    "def sqlite_insert(df):\n",
    "    drop_table_sqlite()\n",
    "    create_table_sqlite()\n",
    "    columns = ', '.join(df.columns)\n",
    "    placeholders = ', '.join(['?'] * len(df.columns))\n",
    "    insert_query = f\"INSERT INTO shows ({columns}) VALUES ({placeholders})\"\n",
    "\n",
    "    start_time = time.time()\n",
    "    for _, row in df.iterrows():\n",
    "      cursor.execute(insert_query, tuple(row))\n",
    "    conn.commit()\n",
    "\n",
    "    create_time_sqlite = time.time() - start_time\n",
    "    print(f\"Create Time: {create_time_sqlite:.6f} seconds\")\n",
    "    return create_time_sqlite\n",
    "\n",
    "# --- READ ---\n",
    "def sqlite_read(df):\n",
    "    # drop_table_sqlite()\n",
    "    # create_table_sqlite()\n",
    "    sqlite_insert(df)\n",
    "    start_time = time.time()\n",
    "    cursor.execute(\"SELECT * FROM shows WHERE release_year > 2000\")\n",
    "    result = cursor.fetchall()\n",
    "    read_time_sqlite = time.time() - start_time\n",
    "    print(f\"Read Time: {read_time_sqlite:.6f} seconds\")\n",
    "    print(f\"Queried {len(result)} records\")\n",
    "    return read_time_sqlite\n",
    "\n",
    "# --- UPDATE ---\n",
    "def sqlite_update(df):\n",
    "    # drop_table_sqlite()\n",
    "    # create_table_sqlite()\n",
    "    sqlite_insert(df)\n",
    "    start_time = time.time()\n",
    "    cursor.execute(\"UPDATE shows SET rating='PG' WHERE release_year > 2000\")\n",
    "    conn.commit()\n",
    "    update_time_sqlite = time.time() - start_time\n",
    "    print(f\"Update Time: {update_time_sqlite:.6f} seconds\")\n",
    "    return update_time_sqlite\n",
    "\n",
    "# --- DELETE ---\n",
    "def sqlite_delete(df):\n",
    "    # drop_table_sqlite()\n",
    "    # create_table_sqlite()\n",
    "    sqlite_insert(df)\n",
    "    start_time = time.time()\n",
    "    cursor.execute(\"DELETE FROM shows WHERE release_year > 2000\")\n",
    "    conn.commit()\n",
    "    delete_time_sqlite = time.time() - start_time\n",
    "    print(f\"Delete Time: {delete_time_sqlite:.6f} seconds\")\n",
    "    return delete_time_sqlite"
   ]
  },
  {
   "cell_type": "code",
   "execution_count": 60,
   "metadata": {},
   "outputs": [
    {
     "name": "stdout",
     "output_type": "stream",
     "text": [
      "Create Time: 0.000187 seconds\n",
      "Create Time: 0.000088 seconds\n",
      "Create Time: 0.000118 seconds\n",
      "Create Time: 0.000230 seconds\n",
      "Create Time: 0.000159 seconds\n",
      "CREATE: Mean Time = 0.000156s, Std Time = 0.000050s\n",
      "Total rows in 'shows' table: 1\n",
      "Create Time: 0.000070 seconds\n",
      "Read Time: 0.000014 seconds\n",
      "Queried 1 records\n",
      "Create Time: 0.000045 seconds\n",
      "Read Time: 0.000015 seconds\n",
      "Queried 1 records\n",
      "Create Time: 0.000037 seconds\n",
      "Read Time: 0.000009 seconds\n",
      "Queried 1 records\n",
      "Create Time: 0.000032 seconds\n",
      "Read Time: 0.000009 seconds\n",
      "Queried 1 records\n",
      "Create Time: 0.000031 seconds\n",
      "Read Time: 0.000008 seconds\n",
      "Queried 1 records\n",
      "READ: Mean Time = 0.000011s, Std Time = 0.000003s\n",
      "Create Time: 0.000038 seconds\n",
      "Update Time: 0.000007 seconds\n",
      "Create Time: 0.000033 seconds\n",
      "Update Time: 0.000005 seconds\n",
      "Create Time: 0.000031 seconds\n",
      "Update Time: 0.000005 seconds\n",
      "Create Time: 0.000031 seconds\n",
      "Update Time: 0.000004 seconds\n",
      "Create Time: 0.000029 seconds\n",
      "Update Time: 0.000004 seconds\n",
      "UPDATE: Mean Time = 0.000005s, Std Time = 0.000001s\n",
      "Create Time: 0.000033 seconds\n",
      "Delete Time: 0.000007 seconds\n",
      "Create Time: 0.000031 seconds\n",
      "Delete Time: 0.000004 seconds\n",
      "Create Time: 0.000029 seconds\n",
      "Delete Time: 0.000004 seconds\n",
      "Create Time: 0.000028 seconds\n",
      "Delete Time: 0.000004 seconds\n",
      "Create Time: 0.000030 seconds\n",
      "Delete Time: 0.000004 seconds\n",
      "DELETE: Mean Time = 0.000005s, Std Time = 0.000001s\n"
     ]
    }
   ],
   "source": [
    "import numpy as np\n",
    "\n",
    "# Fonction pour effectuer une opération plusieurs fois et calculer la moyenne et l'écart-type\n",
    "def benchmark_operation(func, *args):\n",
    "    times = []\n",
    "    for _ in range(5):  # Effectuer 5 itérations\n",
    "        times.append(func(*args))  # Exécuter la fonction avec les arguments\n",
    "    \n",
    "    # Calculer la moyenne et l'écart-type\n",
    "    mean_time = np.mean(times)\n",
    "    std_time = np.std(times)\n",
    "    return mean_time, std_time\n",
    "\n",
    "# --- CREATE ---\n",
    "create_sqlite_mean, create_sqlite_std = benchmark_operation(sqlite_insert, df_zoe_charlotte)\n",
    "print(f\"CREATE: Mean Time = {create_sqlite_mean:.6f}s, Std Time = {create_sqlite_std:.6f}s\")\n",
    "\n",
    "# Vérifier le nombre de lignes insérées\n",
    "cursor.execute('SELECT COUNT(*) FROM shows')\n",
    "row = cursor.fetchone()\n",
    "print(f\"Total rows in 'shows' table: {row[0]}\")\n",
    "\n",
    "# --- READ ---\n",
    "read_sqlite_mean, read_sqlite_std = benchmark_operation(sqlite_read, df_zoe_charlotte)\n",
    "print(f\"READ: Mean Time = {read_sqlite_mean:.6f}s, Std Time = {read_sqlite_std:.6f}s\")\n",
    "\n",
    "# --- UPDATE ---\n",
    "update_sqlite_mean, update_sqlite_std = benchmark_operation(sqlite_update, df_zoe_charlotte)\n",
    "print(f\"UPDATE: Mean Time = {update_sqlite_mean:.6f}s, Std Time = {update_sqlite_std:.6f}s\")\n",
    "\n",
    "# --- DELETE ---\n",
    "delete_sqlite_mean, delete_sqlite_std = benchmark_operation(sqlite_delete, df_zoe_charlotte)\n",
    "print(f\"DELETE: Mean Time = {delete_sqlite_mean:.6f}s, Std Time = {delete_sqlite_std:.6f}s\")"
   ]
  },
  {
   "cell_type": "markdown",
   "metadata": {
    "id": "8p6QWjBaUO8t"
   },
   "source": [
    "##### Test d'insertion avec une ligne de DataFrame\n",
    "Nous avons d'abord testé l'insertion d'une seule ligne de données extraite d'un DataFrame dans notre base de données. Cette étape permet de vérifier que l'insertion fonctionne correctement sur un cas simple, avant de passer à l'insertion de l'ensemble du DataFrame.\n",
    "\n",
    "À ce stade, l'insertion a été réalisée avec succès sur une ligne de données, ce qui nous permet d'assurer que la logique de base est correcte. Nous allons maintenant procéder à l'insertion du DataFrame complet pour tester la gestion de plusieurs lignes et évaluer les performances d'insertion à plus grande échelle."
   ]
  },
  {
   "cell_type": "code",
   "execution_count": 61,
   "metadata": {},
   "outputs": [
    {
     "name": "stdout",
     "output_type": "stream",
     "text": [
      "Create Time: 0.111055 seconds\n",
      "Create Time: 0.111093 seconds\n",
      "Create Time: 0.106047 seconds\n",
      "Create Time: 0.109397 seconds\n",
      "Create Time: 0.108058 seconds\n",
      "CREATE: Mean Time = 0.109130s, Std Time = 0.001912s\n",
      "Total rows in 'shows' table: 8807\n",
      "Create Time: 0.106777 seconds\n",
      "Read Time: 0.011844 seconds\n",
      "Queried 8245 records\n",
      "Create Time: 0.108336 seconds\n",
      "Read Time: 0.011031 seconds\n",
      "Queried 8245 records\n",
      "Create Time: 0.109694 seconds\n",
      "Read Time: 0.010957 seconds\n",
      "Queried 8245 records\n",
      "Create Time: 0.110255 seconds\n",
      "Read Time: 0.010739 seconds\n",
      "Queried 8245 records\n",
      "Create Time: 0.106996 seconds\n",
      "Read Time: 0.047389 seconds\n",
      "Queried 8245 records\n",
      "READ: Mean Time = 0.018392s, Std Time = 0.014503s\n",
      "Create Time: 0.111202 seconds\n",
      "Update Time: 0.003526 seconds\n",
      "Create Time: 0.108670 seconds\n",
      "Update Time: 0.003861 seconds\n",
      "Create Time: 0.110433 seconds\n",
      "Update Time: 0.003617 seconds\n",
      "Create Time: 0.110527 seconds\n",
      "Update Time: 0.003540 seconds\n",
      "Create Time: 0.111088 seconds\n",
      "Update Time: 0.003636 seconds\n",
      "UPDATE: Mean Time = 0.003636s, Std Time = 0.000120s\n",
      "Create Time: 0.109772 seconds\n",
      "Delete Time: 0.002852 seconds\n",
      "Create Time: 0.109586 seconds\n",
      "Delete Time: 0.002851 seconds\n",
      "Create Time: 0.108757 seconds\n",
      "Delete Time: 0.002845 seconds\n",
      "Create Time: 0.106740 seconds\n",
      "Delete Time: 0.002948 seconds\n",
      "Create Time: 0.107674 seconds\n",
      "Delete Time: 0.002875 seconds\n",
      "DELETE: Mean Time = 0.002874s, Std Time = 0.000038s\n"
     ]
    }
   ],
   "source": [
    "# --- CREATE ---\n",
    "create_sqlite_massive_mean, create_sqlite_massive_std = benchmark_operation(sqlite_insert, df_initial)\n",
    "print(f\"CREATE: Mean Time = {create_sqlite_massive_mean:.6f}s, Std Time = {create_sqlite_massive_std:.6f}s\")\n",
    "\n",
    "# Vérifier le nombre de lignes insérées\n",
    "cursor.execute('SELECT COUNT(*) FROM shows')\n",
    "row = cursor.fetchone()\n",
    "print(f\"Total rows in 'shows' table: {row[0]}\")\n",
    "\n",
    "# --- READ ---\n",
    "read_sqlite_massive_mean, read_sqlite_massive_std = benchmark_operation(sqlite_read, df_initial)\n",
    "print(f\"READ: Mean Time = {read_sqlite_massive_mean:.6f}s, Std Time = {read_sqlite_massive_std:.6f}s\")\n",
    "\n",
    "# --- UPDATE ---\n",
    "update_sqlite_massive_mean, update_sqlite_massive_std = benchmark_operation(sqlite_update, df_initial)\n",
    "print(f\"UPDATE: Mean Time = {update_sqlite_massive_mean:.6f}s, Std Time = {update_sqlite_massive_std:.6f}s\")\n",
    "\n",
    "# --- DELETE ---\n",
    "delete_sqlite_massive_mean, delete_sqlite_massive_std = benchmark_operation(sqlite_delete, df_initial)\n",
    "print(f\"DELETE: Mean Time = {delete_sqlite_massive_mean:.6f}s, Std Time = {delete_sqlite_massive_std:.6f}s\")"
   ]
  },
  {
   "cell_type": "markdown",
   "metadata": {
    "id": "lvIFGYwhtkfY"
   },
   "source": [
    "### Cassandra"
   ]
  },
  {
   "cell_type": "code",
   "execution_count": 62,
   "metadata": {},
   "outputs": [
    {
     "name": "stdout",
     "output_type": "stream",
     "text": [
      "Datacenter: datacenter1\n",
      "=======================\n",
      "Status=Up/Down\n",
      "|/ State=Normal/Leaving/Joining/Moving\n",
      "--  Address    Load        Tokens  Owns (effective)  Host ID                               Rack \n",
      "UN  127.0.0.1  741,02 KiB  16      100,0%            11c2e131-3642-40ab-a44b-5d5e95f42edb  rack1\n",
      "\n"
     ]
    }
   ],
   "source": [
    "# vérifier l'état actuel du noeud Cassandra\n",
    "!nodetool status"
   ]
  },
  {
   "cell_type": "code",
   "execution_count": 63,
   "metadata": {
    "colab": {
     "base_uri": "https://localhost:8080/",
     "height": 608
    },
    "id": "sZNeaq6fwhS9",
    "outputId": "6b6d4186-8a12-4942-aea8-6806c6ee8835"
   },
   "outputs": [
    {
     "name": "stdout",
     "output_type": "stream",
     "text": [
      "replication factor = 1\n"
     ]
    }
   ],
   "source": [
    "from cassandra.cluster import Cluster\n",
    "\n",
    "# Connexion à Cassandra\n",
    "cluster = Cluster(['127.0.0.1'])\n",
    "session = cluster.connect()\n",
    "\n",
    "\n",
    "def drop_table_cassandra():\n",
    "    session.execute(\"\"\"\n",
    "        DROP TABLE IF EXISTS netflix.shows;\n",
    "        \"\"\")\n",
    "    session.execute(\"\"\"\n",
    "        DROP KEYSPACE IF EXISTS netflix;\n",
    "        \"\"\")\n",
    "\n",
    "def create_table_cassandra(replication_factor):\n",
    "    session.execute(f\"\"\"\n",
    "        CREATE KEYSPACE netflix\n",
    "        WITH REPLICATION = {{\n",
    "            'class': 'SimpleStrategy', \n",
    "            'replication_factor': {replication_factor}\n",
    "        }};\n",
    "        \"\"\")\n",
    "    session.set_keyspace('netflix')\n",
    "    session.execute(schema)\n",
    "    print(f\"replication factor = {replication_factor}\")\n",
    "\n",
    "     \n",
    "drop_table_cassandra()\n",
    "create_table_cassandra(1)"
   ]
  },
  {
   "cell_type": "markdown",
   "metadata": {
    "id": "4Df27nDd5-sx"
   },
   "source": [
    "##### Test sans index\n",
    "Pour l'instant, nous effectuons les tests sans index. Cette approche nous permettra d'évaluer les performances de base. Nous ajouterons ensuite des index pour comparer les résultats et analyser l'impact sur les performances des requêtes."
   ]
  },
  {
   "cell_type": "code",
   "execution_count": 64,
   "metadata": {
    "id": "o5dNeAZ9tndK"
   },
   "outputs": [],
   "source": [
    "# --- CREATE ---\n",
    "def cassandra_insert(*args):\n",
    "    df = args[0]  # Premier argument, qui est le DataFrame\n",
    "    nb_repl = args[1]  # Deuxième argument, qui est le nombre de répliques\n",
    "\n",
    "    drop_table_cassandra()\n",
    "    create_table_cassandra(nb_repl)\n",
    "\n",
    "    insert_query = session.prepare(\"INSERT INTO shows (show_id, title, director, cast, country, date_added, release_year, rating, duration, listed_in, description) VALUES (?, ?, ?, ?, ?, ?, ?, ?, ?, ?, ?)\")\n",
    "\n",
    "    start_time = time.time()\n",
    "    for _, row in df.iterrows():\n",
    "        session.execute(insert_query, (row['show_id'], row['title'], row['director'], row['cast'], row['country'], row['date_added'], row['release_year'], row['rating'], row['duration'], row['listed_in'], row['description']))\n",
    "    create_time = time.time() - start_time\n",
    "\n",
    "    print(f\"Create Time: {create_time:.6f} seconds\")\n",
    "\n",
    "    return create_time\n",
    "\n",
    "# --- READ ---\n",
    "def cassandra_read(*args):\n",
    "    df = args[0]  # Premier argument, qui est le DataFrame\n",
    "    nb_repl = args[1]  # Deuxième argument, qui est le nombre de répliques\n",
    "\n",
    "    # drop_table_cassandra()\n",
    "    # create_table_cassandra(nb_repl)\n",
    "    cassandra_insert(df, nb_repl)\n",
    "\n",
    "    start_time = time.time()\n",
    "    # On utilise ici ALLOW FILTERING car release_year ne fait pas partie de la clef primaire\n",
    "    result = session.execute(\"SELECT * FROM shows WHERE release_year > 2000 ALLOW FILTERING\")\n",
    "    read_time = time.time() - start_time\n",
    "    print(f\"Read Time: {read_time:.6f} seconds\")\n",
    "    num_records = sum(1 for _ in result)  # Count rows using a generator expression\n",
    "    print(f\"Queried {num_records} records\")\n",
    "    return read_time\n",
    "\n",
    "# --- UPDATE ---\n",
    "def cassandra_update(*args):\n",
    "    df = args[0]  # Premier argument, qui est le DataFrame\n",
    "    nb_repl = args[1]  # Deuxième argument, qui est le nombre de répliques\n",
    "\n",
    "    # drop_table_cassandra()\n",
    "    # create_table_cassandra(nb_repl)\n",
    "    cassandra_insert(df, nb_repl)\n",
    "\n",
    "    # On doit faire select et update car realease_year ne fait pas partie de la clef primaire\n",
    "    start_time = time.time()\n",
    "\n",
    "    select_query = \"SELECT show_id FROM shows WHERE release_year > 2000 ALLOW FILTERING;\"\n",
    "    result = session.execute(select_query)\n",
    "    show_ids_to_update = [row.show_id for row in result]\n",
    "\n",
    "    for show_id in show_ids_to_update:\n",
    "        update_query = f\"UPDATE shows SET rating = 'PG' WHERE show_id = {show_id};\"\n",
    "        session.execute(update_query)\n",
    "\n",
    "    update_time = time.time() - start_time\n",
    "    print(f\"Update Time: {update_time:.6f} seconds\")\n",
    "    return update_time\n",
    "\n",
    "# --- DELETE ---\n",
    "def cassandra_delete(*args):\n",
    "    df = args[0]  # Premier argument, qui est le DataFrame\n",
    "    nb_repl = args[1]  # Deuxième argument, qui est le nombre de répliques\n",
    "\n",
    "    # drop_table_cassandra()\n",
    "    # create_table_cassandra(nb_repl)\n",
    "    cassandra_insert(df, nb_repl)\n",
    "    \n",
    "    # Comme pour update\n",
    "    start_time = time.time()\n",
    "\n",
    "    select_query = \"SELECT show_id FROM shows WHERE release_year > 2000 ALLOW FILTERING;\"\n",
    "    result = session.execute(select_query)\n",
    "    show_ids_to_delete = [row.show_id for row in result]\n",
    "\n",
    "    for show_id in show_ids_to_delete:\n",
    "        delete_query = f\"DELETE FROM shows WHERE show_id = {show_id};\"\n",
    "        session.execute(delete_query)\n",
    "\n",
    "    delete_time = time.time() - start_time\n",
    "    print(f\"Delete Time: {delete_time:.6f} seconds\")\n",
    "    return delete_time"
   ]
  },
  {
   "cell_type": "code",
   "execution_count": 65,
   "metadata": {},
   "outputs": [
    {
     "name": "stdout",
     "output_type": "stream",
     "text": [
      "replication factor = 1\n",
      "Create Time: 0.001218 seconds\n",
      "replication factor = 1\n",
      "Create Time: 0.001161 seconds\n",
      "replication factor = 1\n",
      "Create Time: 0.001053 seconds\n",
      "replication factor = 1\n",
      "Create Time: 0.000629 seconds\n",
      "replication factor = 1\n",
      "Create Time: 0.000526 seconds\n",
      "CREATE: Mean Time = 0.000917s, Std Time = 0.000284s\n",
      "Total rows in 'shows' table: 1\n",
      "replication factor = 1\n",
      "Create Time: 0.000590 seconds\n",
      "Read Time: 0.000666 seconds\n",
      "Queried 1 records\n",
      "replication factor = 1\n",
      "Create Time: 0.000467 seconds\n",
      "Read Time: 0.000726 seconds\n",
      "Queried 1 records\n",
      "replication factor = 1\n",
      "Create Time: 0.000515 seconds\n",
      "Read Time: 0.000525 seconds\n",
      "Queried 1 records\n",
      "replication factor = 1\n",
      "Create Time: 0.000406 seconds\n",
      "Read Time: 0.000488 seconds\n",
      "Queried 1 records\n",
      "replication factor = 1\n",
      "Create Time: 0.000920 seconds\n",
      "Read Time: 0.000694 seconds\n",
      "Queried 1 records\n",
      "READ: Mean Time = 0.000620s, Std Time = 0.000095s\n",
      "replication factor = 1\n",
      "Create Time: 0.001608 seconds\n",
      "Update Time: 0.001703 seconds\n",
      "replication factor = 1\n",
      "Create Time: 0.000816 seconds\n",
      "Update Time: 0.001320 seconds\n",
      "replication factor = 1\n",
      "Create Time: 0.000663 seconds\n",
      "Update Time: 0.001302 seconds\n",
      "replication factor = 1\n",
      "Create Time: 0.000876 seconds\n",
      "Update Time: 0.001263 seconds\n",
      "replication factor = 1\n",
      "Create Time: 0.000659 seconds\n",
      "Update Time: 0.000828 seconds\n",
      "UPDATE: Mean Time = 0.001283s, Std Time = 0.000278s\n",
      "replication factor = 1\n",
      "Create Time: 0.000588 seconds\n",
      "Delete Time: 0.000652 seconds\n",
      "replication factor = 1\n",
      "Create Time: 0.001690 seconds\n",
      "Delete Time: 0.001841 seconds\n",
      "replication factor = 1\n",
      "Create Time: 0.000747 seconds\n",
      "Delete Time: 0.001081 seconds\n",
      "replication factor = 1\n",
      "Create Time: 0.001508 seconds\n",
      "Delete Time: 0.002545 seconds\n",
      "replication factor = 1\n",
      "Create Time: 0.000684 seconds\n",
      "Delete Time: 0.001162 seconds\n",
      "DELETE: Mean Time = 0.001456s, Std Time = 0.000664s\n"
     ]
    }
   ],
   "source": [
    "# --- CREATE ---\n",
    "create_cassandra_mean, create_cassandra_std = benchmark_operation(cassandra_insert, df_zoe_charlotte, 1)\n",
    "print(f\"CREATE: Mean Time = {create_cassandra_mean:.6f}s, Std Time = {create_cassandra_std:.6f}s\")\n",
    "\n",
    "# Vérifier le nombre de lignes insérées\n",
    "result = session.execute('SELECT COUNT(*) FROM shows')\n",
    "row = result.one()\n",
    "print(f\"Total rows in 'shows' table: {row[0]}\")\n",
    "\n",
    "# --- READ ---\n",
    "read_cassandra_mean, read_cassandra_std = benchmark_operation(cassandra_read, df_zoe_charlotte, 1)\n",
    "print(f\"READ: Mean Time = {read_cassandra_mean:.6f}s, Std Time = {read_cassandra_std:.6f}s\")\n",
    "\n",
    "# --- UPDATE ---\n",
    "update_cassandra_mean, update_cassandra_std = benchmark_operation(cassandra_update, df_zoe_charlotte, 1)\n",
    "print(f\"UPDATE: Mean Time = {update_cassandra_mean:.6f}s, Std Time = {update_cassandra_std:.6f}s\")\n",
    "\n",
    "# --- DELETE ---\n",
    "delete_cassandra_mean, delete_cassandra_std = benchmark_operation(cassandra_delete, df_zoe_charlotte, 1)\n",
    "print(f\"DELETE: Mean Time = {delete_cassandra_mean:.6f}s, Std Time = {delete_cassandra_std:.6f}s\")"
   ]
  },
  {
   "cell_type": "code",
   "execution_count": 66,
   "metadata": {},
   "outputs": [
    {
     "name": "stdout",
     "output_type": "stream",
     "text": [
      "replication factor = 1\n",
      "Create Time: 1.811433 seconds\n",
      "replication factor = 1\n",
      "Create Time: 1.842828 seconds\n",
      "replication factor = 1\n",
      "Create Time: 1.807117 seconds\n",
      "replication factor = 1\n",
      "Create Time: 1.790678 seconds\n",
      "replication factor = 1\n",
      "Create Time: 1.834518 seconds\n",
      "CREATE: Mean Time = 1.817315s, Std Time = 0.018947s\n",
      "Total rows in 'shows' table: 562\n",
      "replication factor = 1\n",
      "Create Time: 1.803080 seconds\n",
      "Read Time: 0.047011 seconds\n",
      "Queried 8245 records\n",
      "replication factor = 1\n",
      "Create Time: 1.818190 seconds\n",
      "Read Time: 0.046902 seconds\n",
      "Queried 8245 records\n",
      "replication factor = 1\n",
      "Create Time: 1.801459 seconds\n",
      "Read Time: 0.046239 seconds\n",
      "Queried 8245 records\n",
      "replication factor = 1\n",
      "Create Time: 1.760066 seconds\n",
      "Read Time: 0.046883 seconds\n",
      "Queried 8245 records\n",
      "replication factor = 1\n",
      "Create Time: 1.750541 seconds\n",
      "Read Time: 0.046913 seconds\n",
      "Queried 8245 records\n",
      "READ: Mean Time = 0.046790s, Std Time = 0.000279s\n",
      "replication factor = 1\n",
      "Create Time: 1.793012 seconds\n",
      "Update Time: 1.357597 seconds\n",
      "replication factor = 1\n",
      "Create Time: 1.755822 seconds\n",
      "Update Time: 1.359507 seconds\n",
      "replication factor = 1\n",
      "Create Time: 1.778569 seconds\n",
      "Update Time: 1.364573 seconds\n",
      "replication factor = 1\n",
      "Create Time: 1.906295 seconds\n",
      "Update Time: 1.357670 seconds\n",
      "replication factor = 1\n",
      "Create Time: 1.791060 seconds\n",
      "Update Time: 1.357396 seconds\n",
      "UPDATE: Mean Time = 1.359349s, Std Time = 0.002721s\n",
      "replication factor = 1\n",
      "Create Time: 1.745338 seconds\n",
      "Delete Time: 1.339987 seconds\n",
      "replication factor = 1\n",
      "Create Time: 1.739393 seconds\n",
      "Delete Time: 1.344388 seconds\n",
      "replication factor = 1\n",
      "Create Time: 1.794506 seconds\n",
      "Delete Time: 1.390112 seconds\n",
      "replication factor = 1\n",
      "Create Time: 1.754440 seconds\n",
      "Delete Time: 1.421396 seconds\n",
      "replication factor = 1\n",
      "Create Time: 1.786092 seconds\n",
      "Delete Time: 1.352644 seconds\n",
      "DELETE: Mean Time = 1.369705s, Std Time = 0.031316s\n"
     ]
    }
   ],
   "source": [
    "# --- CREATE ---\n",
    "create_cassandra_massive_mean, create_cassandra_massive_std = benchmark_operation(cassandra_insert, df_initial, 1)\n",
    "print(f\"CREATE: Mean Time = {create_cassandra_massive_mean:.6f}s, Std Time = {create_cassandra_massive_std:.6f}s\")\n",
    "\n",
    "# Vérifier le nombre de lignes insérées\n",
    "cursor.execute('SELECT COUNT(*) FROM shows')\n",
    "row = cursor.fetchone()\n",
    "print(f\"Total rows in 'shows' table: {row[0]}\")\n",
    "\n",
    "# --- READ ---\n",
    "read_cassandra_massive_mean, read_cassandra_massive_std = benchmark_operation(cassandra_read, df_initial, 1)\n",
    "print(f\"READ: Mean Time = {read_cassandra_massive_mean:.6f}s, Std Time = {read_cassandra_massive_std:.6f}s\")\n",
    "\n",
    "# --- UPDATE ---\n",
    "update_cassandra_massive_mean, update_cassandra_massive_std = benchmark_operation(cassandra_update, df_initial, 1)\n",
    "print(f\"UPDATE: Mean Time = {update_cassandra_massive_mean:.6f}s, Std Time = {update_cassandra_massive_std:.6f}s\")\n",
    "\n",
    "# --- DELETE ---\n",
    "delete_cassandra_massive_mean, delete_cassandra_massive_std = benchmark_operation(cassandra_delete, df_initial, 1)\n",
    "print(f\"DELETE: Mean Time = {delete_cassandra_massive_mean:.6f}s, Std Time = {delete_cassandra_massive_std:.6f}s\")"
   ]
  },
  {
   "cell_type": "markdown",
   "metadata": {
    "id": "41x937O1jknt"
   },
   "source": [
    "### Visualisation\n",
    "Nous avons d'abord testé avec un seul replicaSet et sans index, en insérant une seule ligne de données pour simplifier les tests.\n",
    "\n",
    "Ensuite, pour obtenir des statistiques plus réalistes, nous avons effectué des opérations CRUD sur un volume de données plus important, en utilisant les données de Kaggle précédemment chargées. \n",
    "\n",
    "Chaque action (insertion, lecture, mise à jour, suppression) a été réalisée cinq fois, et nous avons calculé la moyenne et l'écart-type pour chaque opération afin d'effectuer un benchmarking précis."
   ]
  },
  {
   "cell_type": "code",
   "execution_count": 67,
   "metadata": {},
   "outputs": [
    {
     "data": {
      "image/png": "[encoded data removed]",
      "text/plain": [
       "<Figure size 1000x600 with 1 Axes>"
      ]
     },
     "metadata": {},
     "output_type": "display_data"
    }
   ],
   "source": [
    "import matplotlib.pyplot as plt\n",
    "import numpy as np\n",
    "\n",
    "# Valeurs de temps pour SQLite\n",
    "sqlite_times = {\n",
    "    'CREATE': (create_sqlite_mean, create_sqlite_std),\n",
    "    'READ': (read_sqlite_mean, read_sqlite_std),\n",
    "    'UPDATE': (update_sqlite_mean, update_sqlite_std),\n",
    "    'DELETE': (delete_sqlite_mean, delete_sqlite_std)\n",
    "}\n",
    "\n",
    "# Valeurs de temps pour Cassandra avec 1 réplicat\n",
    "cassandra_times = {\n",
    "    'CREATE': (create_cassandra_mean, create_cassandra_std),\n",
    "    'READ': (read_cassandra_mean, read_cassandra_std),\n",
    "    'UPDATE': (update_cassandra_mean, update_cassandra_std),\n",
    "    'DELETE': (delete_cassandra_mean, delete_cassandra_std)\n",
    "}\n",
    "\n",
    "operations = ['CREATE', 'READ', 'UPDATE', 'DELETE']\n",
    "\n",
    "sqlite_means = [sqlite_times[op][0] for op in operations]\n",
    "sqlite_stds = [sqlite_times[op][1] for op in operations]\n",
    "\n",
    "cassandra_means = [cassandra_times[op][0] for op in operations]\n",
    "cassandra_stds = [cassandra_times[op][1] for op in operations]\n",
    "\n",
    "y = np.arange(len(operations))\n",
    "height = 0.35\n",
    "fig, ax = plt.subplots(figsize=(10, 6))\n",
    "\n",
    "bars1 = ax.barh(y - height / 2, sqlite_means, height, xerr=sqlite_stds, label='SQLite', capsize=5)\n",
    "bars2 = ax.barh(y + height / 2, cassandra_means, height, xerr=cassandra_stds, label='Cassandra (1 réplicat)', capsize=5)\n",
    "\n",
    "ax.set_xlabel('Temps (secondes)')\n",
    "ax.set_ylabel('Opérations')\n",
    "ax.set_title('Comparaison des performances de SQLite et Cassandra avec 1 réplicat')\n",
    "ax.set_yticks(y)\n",
    "ax.set_yticklabels(operations)\n",
    "ax.legend()\n",
    "\n",
    "def add_values(bars):\n",
    "    for bar in bars:\n",
    "        xval = bar.get_width()\n",
    "        ax.text(xval, bar.get_y() + bar.get_height() / 2, f'{xval:.6f}', va='center', ha='left')\n",
    "\n",
    "add_values(bars1)\n",
    "add_values(bars2)\n",
    "\n",
    "plt.tight_layout()\n",
    "plt.show()\n"
   ]
  },
  {
   "cell_type": "markdown",
   "metadata": {},
   "source": [
    "TODO rédaction comme analyse de la visualisation \n",
    "cassandra bien plus long \n",
    "\n",
    "regardons avec plus de données "
   ]
  },
  {
   "cell_type": "code",
   "execution_count": 68,
   "metadata": {},
   "outputs": [
    {
     "data": {
      "image/png": "[encoded data removed]",
      "text/plain": [
       "<Figure size 1000x600 with 1 Axes>"
      ]
     },
     "metadata": {},
     "output_type": "display_data"
    }
   ],
   "source": [
    "sqlite_times = {\n",
    "    'CREATE': (create_sqlite_massive_mean, create_sqlite_massive_std),\n",
    "    'READ': (read_sqlite_massive_mean, read_sqlite_massive_std),\n",
    "    'UPDATE': (update_sqlite_massive_mean, update_sqlite_massive_std),\n",
    "    'DELETE': (delete_sqlite_massive_mean, delete_sqlite_massive_std)\n",
    "}\n",
    "\n",
    "cassandra_times = {\n",
    "    'CREATE': (create_cassandra_massive_mean, create_cassandra_massive_std),\n",
    "    'READ': (read_cassandra_massive_mean, read_cassandra_massive_std),\n",
    "    'UPDATE': (update_cassandra_massive_mean, update_cassandra_massive_std),\n",
    "    'DELETE': (delete_cassandra_massive_mean, delete_cassandra_massive_std)\n",
    "}\n",
    "\n",
    "operations = ['CREATE', 'READ', 'UPDATE', 'DELETE']\n",
    "\n",
    "sqlite_means = [sqlite_times[op][0] for op in operations]\n",
    "sqlite_stds = [sqlite_times[op][1] for op in operations]\n",
    "\n",
    "cassandra_means = [cassandra_times[op][0] for op in operations]\n",
    "cassandra_stds = [cassandra_times[op][1] for op in operations]\n",
    "\n",
    "y = np.arange(len(operations))\n",
    "height = 0.35\n",
    "fig, ax = plt.subplots(figsize=(10, 6))\n",
    "\n",
    "bars1 = ax.barh(y - height / 2, sqlite_means, height, xerr=sqlite_stds, label='SQLite', capsize=5)\n",
    "bars2 = ax.barh(y + height / 2, cassandra_means, height, xerr=cassandra_stds, label='Cassandra (1 réplicat)', capsize=5)\n",
    "\n",
    "ax.set_xlabel('Temps (secondes)')\n",
    "ax.set_ylabel('Opérations')\n",
    "ax.set_title('Comparaison des performances de SQLite et Cassandra avec 1 réplicat')\n",
    "ax.set_yticks(y)\n",
    "ax.set_yticklabels(operations)\n",
    "ax.legend()\n",
    "\n",
    "def add_values(bars):\n",
    "    for bar in bars:\n",
    "        xval = bar.get_width()\n",
    "        ax.text(xval, bar.get_y() + bar.get_height() / 2, f'{xval:.6f}', va='center', ha='left')\n",
    "\n",
    "add_values(bars1)\n",
    "add_values(bars2)\n",
    "\n",
    "plt.tight_layout()\n",
    "plt.show()"
   ]
  },
  {
   "cell_type": "markdown",
   "metadata": {
    "id": "OdOZl5SSJz1J"
   },
   "source": [
    "TODO : rédiger commentairte sur le temps ici sur données massif (8k)\n",
    "pourquoi c'est peut etre normal ?\n",
    "rappel que ici cassandra c'est 1 replica set\n",
    "et que y a pas d'index\n",
    "\n",
    "idée d'explications : \n",
    "\n",
    "- SQLite est une base de données embarquée :\n",
    "SQLite est une base de données légère et locale, conçue pour fonctionner sur des systèmes où les ressources sont limitées. Elle est souvent utilisée pour des bases de données petites à moyennes, et elle est optimisée pour être rapide dans des environnements où il n'y a pas de forte concurrence ou de distribution.\n",
    "Comme SQLite est embarquée, elle utilise le même processus que ton application, ce qui peut réduire les frais généraux liés aux appels réseau et aux processus séparés nécessaires pour une base de données distribuée comme Cassandra.\n",
    "\n",
    "- Replication et gestion des nœuds dans Cassandra :\n",
    "L'activation de la réplication dans Cassandra, même avec des facteurs de réplication faibles, introduit une complexité supplémentaire. Le fait que Cassandra doive gérer des copies des données sur plusieurs nœuds (et potentiellement attendre des confirmations d'écriture/lecture de ces nœuds) peut ralentir les performances, surtout pour des petites bases de données.\n",
    "Le facteur de réplication dans Cassandra peut augmenter le temps de réponse des écritures et lectures, car les données doivent être synchronisées entre plusieurs nœuds. Dans une petite base de données, cela peut devenir un goulot d'étranglement inutile.\n",
    "\n",
    "\n",
    "- Coût de gestion des partitions et de la distribution :\n",
    "Cassandra est conçue pour gérer de grandes quantités de données distribuées sur plusieurs machines. Si ta base de données est petite, Cassandra pourrait avoir un coût supplémentaire lié à la gestion des partitions et des nœuds, ce qui ralentirait les performances comparées à SQLite, qui n'a pas besoin de gérer cette distribution.\n",
    "\n",
    "\n",
    "- Caching et optimisation :\n",
    "SQLite peut tirer parti du caching local pour accélérer les lectures, surtout lorsqu'il y a peu de données et que tout peut être chargé en mémoire.\n",
    "Cassandra, d'autre part, peut nécessiter davantage de gestion des caches, de coordination entre les nœuds, et de répartition des données avant de pouvoir renvoyer les résultats d'une requête, ce qui peut rendre le processus plus lent pour des petites bases."
   ]
  },
  {
   "cell_type": "markdown",
   "metadata": {
    "id": "6PSbYw-iawfd"
   },
   "source": [
    "## Comparaison des temps de Cassandra avec plusieurs replicaSet"
   ]
  },
  {
   "cell_type": "markdown",
   "metadata": {},
   "source": [
    "##### Qu'est ce que *SimpleStrategy*\n",
    "Description : Réplique les données de manière linéaire sur les n nœuds du cluster, où n est le replication_factor.\n",
    "- Avantages :\n",
    "    - Simple à configurer.\n",
    "    - Adapté aux environnements de test ou aux clusters d'une seule région.\n",
    "- Inconvénients :\n",
    "    - Pas optimisé pour les déploiements multi-régions.\n",
    "    - Répartition des réplicas pas toujours équilibrée en cas de cluster complexe."
   ]
  },
  {
   "cell_type": "code",
   "execution_count": 69,
   "metadata": {},
   "outputs": [
    {
     "name": "stdout",
     "output_type": "stream",
     "text": [
      "replication factor = 2\n",
      "Create Time: 1.772885 seconds\n",
      "replication factor = 2\n",
      "Create Time: 1.887327 seconds\n",
      "replication factor = 2\n",
      "Create Time: 1.766648 seconds\n",
      "replication factor = 2\n",
      "Create Time: 1.853099 seconds\n",
      "replication factor = 2\n",
      "Create Time: 1.923713 seconds\n",
      "CREATE: Mean Time = 1.840734s, Std Time = 0.062131s\n",
      "replication factor = 2\n",
      "Create Time: 1.828217 seconds\n",
      "Read Time: 0.048476 seconds\n",
      "Queried 8245 records\n",
      "replication factor = 2\n",
      "Create Time: 1.879296 seconds\n",
      "Read Time: 0.046617 seconds\n",
      "Queried 8245 records\n",
      "replication factor = 2\n",
      "Create Time: 1.843858 seconds\n",
      "Read Time: 0.050630 seconds\n",
      "Queried 8245 records\n",
      "replication factor = 2\n",
      "Create Time: 1.809161 seconds\n",
      "Read Time: 0.047029 seconds\n",
      "Queried 8245 records\n",
      "replication factor = 2\n",
      "Create Time: 1.805730 seconds\n",
      "Read Time: 0.047034 seconds\n",
      "Queried 8245 records\n",
      "READ: Mean Time = 0.047957s, Std Time = 0.001478s\n",
      "replication factor = 2\n",
      "Create Time: 1.885078 seconds\n",
      "Update Time: 1.359259 seconds\n",
      "replication factor = 2\n",
      "Create Time: 1.839927 seconds\n",
      "Update Time: 1.361886 seconds\n",
      "replication factor = 2\n",
      "Create Time: 1.811318 seconds\n",
      "Update Time: 1.383509 seconds\n",
      "replication factor = 2\n",
      "Create Time: 1.871826 seconds\n",
      "Update Time: 1.411370 seconds\n",
      "replication factor = 2\n",
      "Create Time: 1.845226 seconds\n",
      "Update Time: 1.362715 seconds\n",
      "UPDATE: Mean Time = 1.375748s, Std Time = 0.019814s\n",
      "replication factor = 2\n",
      "Create Time: 1.818357 seconds\n",
      "Delete Time: 1.410712 seconds\n",
      "replication factor = 2\n",
      "Create Time: 1.780691 seconds\n",
      "Delete Time: 1.358252 seconds\n",
      "replication factor = 2\n",
      "Create Time: 1.893689 seconds\n",
      "Delete Time: 1.422529 seconds\n",
      "replication factor = 2\n",
      "Create Time: 1.931273 seconds\n",
      "Delete Time: 1.396028 seconds\n",
      "replication factor = 2\n",
      "Create Time: 1.743054 seconds\n",
      "Delete Time: 1.348772 seconds\n",
      "DELETE: Mean Time = 1.387259s, Std Time = 0.028961s\n"
     ]
    }
   ],
   "source": [
    "# 2 replicas\n",
    "# --- CREATE ---\n",
    "create_cassandra_massive_mean_2, create_cassandra_massive_std_2 = benchmark_operation(cassandra_insert, df_initial, 2)\n",
    "print(f\"CREATE: Mean Time = {create_cassandra_massive_mean_2:.6f}s, Std Time = {create_cassandra_massive_std_2:.6f}s\")\n",
    "\n",
    "# --- READ ---\n",
    "read_cassandra_massive_mean_2, read_cassandra_massive_std_2 = benchmark_operation(cassandra_read, df_initial, 2)\n",
    "print(f\"READ: Mean Time = {read_cassandra_massive_mean_2:.6f}s, Std Time = {read_cassandra_massive_std_2:.6f}s\")\n",
    "\n",
    "# --- UPDATE ---\n",
    "update_cassandra_massive_mean_2, update_cassandra_massive_std_2 = benchmark_operation(cassandra_update, df_initial, 2)\n",
    "print(f\"UPDATE: Mean Time = {update_cassandra_massive_mean_2:.6f}s, Std Time = {update_cassandra_massive_std_2:.6f}s\")\n",
    "\n",
    "# --- DELETE ---\n",
    "delete_cassandra_massive_mean_2, delete_cassandra_massive_std_2 = benchmark_operation(cassandra_delete, df_initial, 2)\n",
    "print(f\"DELETE: Mean Time = {delete_cassandra_massive_mean_2:.6f}s, Std Time = {delete_cassandra_massive_std_2:.6f}s\")"
   ]
  },
  {
   "cell_type": "code",
   "execution_count": 70,
   "metadata": {},
   "outputs": [
    {
     "name": "stdout",
     "output_type": "stream",
     "text": [
      "replication factor = 3\n",
      "Create Time: 1.735063 seconds\n",
      "replication factor = 3\n",
      "Create Time: 1.739342 seconds\n",
      "replication factor = 3\n",
      "Create Time: 1.744607 seconds\n",
      "replication factor = 3\n",
      "Create Time: 1.753484 seconds\n",
      "replication factor = 3\n",
      "Create Time: 1.792760 seconds\n",
      "CREATE: Mean Time = 1.753051s, Std Time = 0.020784s\n",
      "replication factor = 3\n",
      "Create Time: 1.742356 seconds\n",
      "Read Time: 0.045789 seconds\n",
      "Queried 8245 records\n",
      "replication factor = 3\n",
      "Create Time: 1.733712 seconds\n",
      "Read Time: 0.045592 seconds\n",
      "Queried 8245 records\n",
      "replication factor = 3\n",
      "Create Time: 1.744261 seconds\n",
      "Read Time: 0.085726 seconds\n",
      "Queried 8245 records\n",
      "replication factor = 3\n",
      "Create Time: 1.840737 seconds\n",
      "Read Time: 0.047935 seconds\n",
      "Queried 8245 records\n",
      "replication factor = 3\n",
      "Create Time: 1.861296 seconds\n",
      "Read Time: 0.051246 seconds\n",
      "Queried 8245 records\n",
      "READ: Mean Time = 0.055257s, Std Time = 0.015370s\n",
      "replication factor = 3\n",
      "Create Time: 1.851602 seconds\n",
      "Update Time: 1.414924 seconds\n",
      "replication factor = 3\n",
      "Create Time: 1.845337 seconds\n",
      "Update Time: 1.460832 seconds\n",
      "replication factor = 3\n",
      "Create Time: 1.812837 seconds\n",
      "Update Time: 1.450514 seconds\n",
      "replication factor = 3\n",
      "Create Time: 1.862242 seconds\n",
      "Update Time: 1.402878 seconds\n",
      "replication factor = 3\n",
      "Create Time: 1.956459 seconds\n",
      "Update Time: 1.376162 seconds\n",
      "UPDATE: Mean Time = 1.421062s, Std Time = 0.031092s\n",
      "replication factor = 3\n",
      "Create Time: 1.844713 seconds\n",
      "Delete Time: 1.402528 seconds\n",
      "replication factor = 3\n",
      "Create Time: 1.845411 seconds\n",
      "Delete Time: 1.356446 seconds\n",
      "replication factor = 3\n",
      "Create Time: 1.820508 seconds\n",
      "Delete Time: 1.419756 seconds\n",
      "replication factor = 3\n",
      "Create Time: 1.852905 seconds\n",
      "Delete Time: 1.371525 seconds\n",
      "replication factor = 3\n",
      "Create Time: 1.842640 seconds\n",
      "Delete Time: 1.358672 seconds\n",
      "DELETE: Mean Time = 1.381785s, Std Time = 0.025114s\n"
     ]
    }
   ],
   "source": [
    "# 3 replicas\n",
    "# --- CREATE ---\n",
    "create_cassandra_massive_mean_3, create_cassandra_massive_std_3 = benchmark_operation(cassandra_insert, df_initial, 3)\n",
    "print(f\"CREATE: Mean Time = {create_cassandra_massive_mean_3:.6f}s, Std Time = {create_cassandra_massive_std_3:.6f}s\")\n",
    "\n",
    "# --- READ ---\n",
    "read_cassandra_massive_mean_3, read_cassandra_massive_std_3 = benchmark_operation(cassandra_read, df_initial, 3)\n",
    "print(f\"READ: Mean Time = {read_cassandra_massive_mean_3:.6f}s, Std Time = {read_cassandra_massive_std_3:.6f}s\")\n",
    "\n",
    "# --- UPDATE ---\n",
    "update_cassandra_massive_mean_3, update_cassandra_massive_std_3 = benchmark_operation(cassandra_update, df_initial, 3)\n",
    "print(f\"UPDATE: Mean Time = {update_cassandra_massive_mean_3:.6f}s, Std Time = {update_cassandra_massive_std_3:.6f}s\")\n",
    "\n",
    "# --- DELETE ---\n",
    "delete_cassandra_massive_mean_3, delete_cassandra_massive_std_3 = benchmark_operation(cassandra_delete, df_initial, 3)\n",
    "print(f\"DELETE: Mean Time = {delete_cassandra_massive_mean_3:.6f}s, Std Time = {delete_cassandra_massive_std_3:.6f}s\")\n"
   ]
  },
  {
   "cell_type": "code",
   "execution_count": 71,
   "metadata": {},
   "outputs": [],
   "source": [
    "# # 4 replicas\n",
    "# # --- CREATE ---\n",
    "# create_cassandra_massive_mean_4, create_cassandra_massive_std_4 = benchmark_operation(cassandra_insert, df_initial, 4)\n",
    "# print(f\"CREATE: Mean Time = {create_cassandra_massive_mean_4:.6f}s, Std Time = {create_cassandra_massive_std_4:.6f}s\")\n",
    "\n",
    "# # --- READ ---\n",
    "# read_cassandra_massive_mean_4, read_cassandra_massive_std_4 = benchmark_operation(cassandra_read, df_initial, 4)\n",
    "# print(f\"READ: Mean Time = {read_cassandra_massive_mean_4:.6f}s, Std Time = {read_cassandra_massive_std_4:.6f}s\")\n",
    "\n",
    "# # --- UPDATE ---\n",
    "# update_cassandra_massive_mean_4, update_cassandra_massive_std_4 = benchmark_operation(cassandra_update, df_initial, 4)\n",
    "# print(f\"UPDATE: Mean Time = {update_cassandra_massive_mean_4:.6f}s, Std Time = {update_cassandra_massive_std_4:.6f}s\")\n",
    "\n",
    "# # --- DELETE ---\n",
    "# delete_cassandra_massive_mean_4, delete_cassandra_massive_std_4 = benchmark_operation(cassandra_delete, df_initial, 4)\n",
    "# print(f\"DELETE: Mean Time = {delete_cassandra_massive_mean_4:.6f}s, Std Time = {delete_cassandra_massive_std_4:.6f}s\")"
   ]
  },
  {
   "cell_type": "code",
   "execution_count": 72,
   "metadata": {},
   "outputs": [],
   "source": [
    "# # 5 replicas\n",
    "# # --- CREATE ---\n",
    "# create_cassandra_massive_mean_5, create_cassandra_massive_std_5 = benchmark_operation(cassandra_insert, df_initial, 5)\n",
    "# print(f\"CREATE: Mean Time = {create_cassandra_massive_mean_5:.6f}s, Std Time = {create_cassandra_massive_std_5:.6f}s\")\n",
    "\n",
    "# # --- READ ---\n",
    "# read_cassandra_massive_mean_5, read_cassandra_massive_std_5 = benchmark_operation(cassandra_read, df_initial, 5)\n",
    "# print(f\"READ: Mean Time = {read_cassandra_massive_mean_5:.6f}s, Std Time = {read_cassandra_massive_std_5:.6f}s\")\n",
    "\n",
    "# # --- UPDATE ---\n",
    "# update_cassandra_massive_mean_5, update_cassandra_massive_std_5 = benchmark_operation(cassandra_update, df_initial, 5)\n",
    "# print(f\"UPDATE: Mean Time = {update_cassandra_massive_mean_5:.6f}s, Std Time = {update_cassandra_massive_std_5:.6f}s\")\n",
    "\n",
    "# # --- DELETE ---\n",
    "# delete_cassandra_massive_mean_5, delete_cassandra_massive_std_5 = benchmark_operation(cassandra_delete, df_initial, 5)\n",
    "# print(f\"DELETE: Mean Time = {delete_cassandra_massive_mean_5:.6f}s, Std Time = {delete_cassandra_massive_std_5:.6f}s\")"
   ]
  },
  {
   "cell_type": "code",
   "execution_count": 73,
   "metadata": {},
   "outputs": [
    {
     "data": {
      "image/png": "[encoded data removed]",
      "text/plain": [
       "<Figure size 1000x600 with 1 Axes>"
      ]
     },
     "metadata": {},
     "output_type": "display_data"
    }
   ],
   "source": [
    "# Valeurs de temps pour SQLite\n",
    "sqlite_times = {\n",
    "    'CREATE': (create_sqlite_massive_mean, create_sqlite_massive_std),\n",
    "    'READ': (read_sqlite_massive_mean, read_sqlite_massive_std),\n",
    "    'UPDATE': (update_sqlite_massive_mean, update_sqlite_massive_std),\n",
    "    'DELETE': (delete_sqlite_massive_mean, delete_sqlite_massive_std)\n",
    "}\n",
    "\n",
    "# Valeurs de temps pour Cassandra avec 1 réplicat\n",
    "cassandra_times = {\n",
    "    'CREATE': (create_cassandra_massive_mean, create_cassandra_massive_std),\n",
    "    'READ': (read_cassandra_massive_mean, read_cassandra_massive_std),\n",
    "    'UPDATE': (update_cassandra_massive_mean, update_cassandra_massive_std),\n",
    "    'DELETE': (delete_cassandra_massive_mean, delete_cassandra_massive_std)\n",
    "}\n",
    "\n",
    "cassandra_times_2 = {\n",
    "    'CREATE': (create_cassandra_massive_mean_2, create_cassandra_massive_std_2),\n",
    "    'READ': (read_cassandra_massive_mean_2, read_cassandra_massive_std_2),\n",
    "    'UPDATE': (update_cassandra_massive_mean_2, update_cassandra_massive_std_2),\n",
    "    'DELETE': (delete_cassandra_massive_mean_2, delete_cassandra_massive_std_2)\n",
    "}\n",
    "\n",
    "cassandra_times_3 = {\n",
    "    'CREATE': (create_cassandra_massive_mean_3, create_cassandra_massive_std_3),\n",
    "    'READ': (read_cassandra_massive_mean_3, read_cassandra_massive_std_3),\n",
    "    'UPDATE': (update_cassandra_massive_mean_3, update_cassandra_massive_std_3),\n",
    "    'DELETE': (delete_cassandra_massive_mean_3, delete_cassandra_massive_std_3)\n",
    "}\n",
    "\n",
    "# cassandra_times_4 = {\n",
    "#     'CREATE': (create_cassandra_massive_mean_4, create_cassandra_massive_std_4),\n",
    "#     'READ': (read_cassandra_massive_mean_4, read_cassandra_massive_std_4),\n",
    "#     'UPDATE': (update_cassandra_massive_mean_4, update_cassandra_massive_std_4),\n",
    "#     'DELETE': (delete_cassandra_massive_mean_4, delete_cassandra_massive_std_4)\n",
    "# }\n",
    "\n",
    "# cassandra_times_5 = {\n",
    "#     'CREATE': (create_cassandra_massive_mean_5, create_cassandra_massive_std_5),\n",
    "#     'READ': (read_cassandra_massive_mean_5, read_cassandra_massive_std_5),\n",
    "#     'UPDATE': (update_cassandra_massive_mean_5, update_cassandra_massive_std_5),\n",
    "#     'DELETE': (delete_cassandra_massive_mean_5, delete_cassandra_massive_std_5)\n",
    "# }\n",
    "\n",
    "operations = ['CREATE', 'READ', 'UPDATE', 'DELETE']\n",
    "\n",
    "# Extraire les temps moyens et écarts-types pour chaque système\n",
    "sqlite_means = [sqlite_times[op][0] for op in operations]\n",
    "sqlite_stds = [sqlite_times[op][1] for op in operations]\n",
    "\n",
    "cassandra_means = [cassandra_times[op][0] for op in operations]\n",
    "cassandra_stds = [cassandra_times[op][1] for op in operations]\n",
    "\n",
    "cassandra_means_2 = [cassandra_times_2[op][0] for op in operations]\n",
    "cassandra_stds_2 = [cassandra_times_2[op][1] for op in operations]\n",
    "\n",
    "cassandra_means_3 = [cassandra_times_3[op][0] for op in operations]\n",
    "cassandra_stds_3 = [cassandra_times_3[op][1] for op in operations]\n",
    "\n",
    "# cassandra_means_4 = [cassandra_times_4[op][0] for op in operations]\n",
    "# cassandra_stds_4 = [cassandra_times_4[op][1] for op in operations]\n",
    "\n",
    "# cassandra_means_5 = [cassandra_times_5[op][0] for op in operations]\n",
    "# cassandra_stds_5 = [cassandra_times_5[op][1] for op in operations]\n",
    "\n",
    "y = np.arange(len(operations))\n",
    "height = 0.1\n",
    "fig, ax = plt.subplots(figsize=(10, 6))\n",
    "\n",
    "bars1 = ax.barh(y - 2.5 * height, sqlite_means, height, xerr=sqlite_stds, label='SQLite', capsize=5)\n",
    "bars2 = ax.barh(y - 1.5 * height, cassandra_means, height, xerr=cassandra_stds, label='Cassandra (1 réplicat)', capsize=5)\n",
    "bars3 = ax.barh(y - 0.5 * height, cassandra_means_2, height, xerr=cassandra_stds_2, label='Cassandra (2 réplicats)', capsize=5)\n",
    "bars4 = ax.barh(y + 0.5 * height, cassandra_means_3, height, xerr=cassandra_stds_2, label='Cassandra (3 réplicats)', capsize=5)\n",
    "# bars5 = ax.barh(y + 1.5 * height, cassandra_means_4, height, xerr=cassandra_stds_2, label='Cassandra (4 réplicats)', capsize=5)\n",
    "# bars6 = ax.barh(y + 2.5 * height, cassandra_means_5, height, xerr=cassandra_stds_2, label='Cassandra (5 réplicats)', capsize=5)\n",
    "\n",
    "ax.set_xlabel('Temps (secondes)')\n",
    "ax.set_ylabel('Opérations')\n",
    "ax.set_title('Comparaison des performances de SQLite et Cassandra avec plusieurs réplicats')\n",
    "ax.set_yticks(y)\n",
    "ax.set_yticklabels(operations)\n",
    "ax.legend()\n",
    "\n",
    "def add_values(bars):\n",
    "    for bar in bars:\n",
    "        xval = bar.get_width()\n",
    "        ax.text(xval, bar.get_y() + bar.get_height() / 2, f'{xval:.6f}', va='center', ha='left')\n",
    "\n",
    "add_values(bars1)\n",
    "add_values(bars2)\n",
    "add_values(bars3)\n",
    "add_values(bars4)\n",
    "# add_values(bars5)\n",
    "# add_values(bars6)\n",
    "\n",
    "plt.tight_layout()\n",
    "plt.show()"
   ]
  },
  {
   "cell_type": "markdown",
   "metadata": {},
   "source": [
    "TODO commenter \n",
    "\n",
    "expliquer les temps : \n",
    "\n",
    "Pourquoi essayer plusieurs niveaux de réplication ?\n",
    "Impact sur les performances des lectures : Plus vous avez de répliques, plus Cassandra doit examiner plusieurs nœuds pour répondre à une requête de lecture. Cela peut augmenter la latence en fonction du niveau de réplication et de la manière dont les nœuds sont répartis.\n",
    "Impact sur les écritures : En fonction de la configuration de réplication, chaque écriture doit être propagée vers plusieurs nœuds. Cela peut augmenter le temps d'insertion ou d'update, surtout en cas de faible cohérence (si un niveau de cohérence faible est choisi).\n",
    "Tolérance aux pannes : Un nombre plus élevé de répliques permet à Cassandra de maintenir la disponibilité même en cas de panne de certains nœuds. Cependant, cela peut aussi introduire des coûts en termes de latence et de consommation de ressources.\n",
    "\n",
    "TODO on peut essayer par la suite pas avec 1 2 3 mais genre 1 5 10 ?"
   ]
  },
  {
   "cell_type": "markdown",
   "metadata": {
    "id": "SAxurK-oSaXh"
   },
   "source": [
    "# Création d'un dataset plus grand"
   ]
  },
  {
   "cell_type": "markdown",
   "metadata": {},
   "source": [
    "Utiliser une base de données plus grande : Cassandra est mieux adapté pour gérer de grandes quantités de données et pour tirer parti de son architecture distribuée.\n",
    "On va donc augmenter notre jeu de données "
   ]
  },
  {
   "cell_type": "markdown",
   "metadata": {
    "id": "-BJ6a0BHSaXh"
   },
   "source": [
    "On crée nous même ce dataset car les sites de création de dataset ne permettent de télécharger que 1000 lignes avec un compte gratuit."
   ]
  },
  {
   "cell_type": "code",
   "execution_count": 74,
   "metadata": {},
   "outputs": [
    {
     "data": {
      "text/plain": [
       "(8807, 12)"
      ]
     },
     "execution_count": 74,
     "metadata": {},
     "output_type": "execute_result"
    }
   ],
   "source": [
    "df_initial.shape"
   ]
  },
  {
   "cell_type": "code",
   "execution_count": 75,
   "metadata": {
    "id": "_0fCtTqoSaXh"
   },
   "outputs": [
    {
     "name": "stdout",
     "output_type": "stream",
     "text": [
      "Les IDs sont uniques.\n",
      "Dataset généré avec 30000 lignes (lignes dupliquées supprimées) et exporté dans netflix_titles_large.csv.\n"
     ]
    }
   ],
   "source": [
    "import pandas as pd\n",
    "import random\n",
    "\n",
    "# Activer ou désactiver la génération de données supplémentaires\n",
    "more_data = True\n",
    "\n",
    "if more_data:\n",
    "    # Charger le dataset initial\n",
    "    original_df = df_initial  # Remplace par ton DataFrame de départ\n",
    "\n",
    "    # Nombre total de lignes souhaitées\n",
    "    num_rows = 30000\n",
    "\n",
    "    # Fonction pour générer des colonnes supplémentaires à partir de données existantes\n",
    "    def generate_large_column(original_column, size):\n",
    "        return [random.choice(original_column) for _ in range(size)]\n",
    "\n",
    "    # Fonction pour générer des IDs uniques\n",
    "    def generate_unique_show_id(existing_ids, size):\n",
    "        start_id = max(existing_ids) + 1 if existing_ids else 1\n",
    "        return [f\"{i}\" for i in range(start_id, start_id + size)]\n",
    "\n",
    "    # Générer les données pour chaque colonne\n",
    "    generated_data = original_df.to_dict(orient='list')  # Convertir en dictionnaire de colonnes\n",
    "\n",
    "    # Assurer l'unicité des IDs\n",
    "    existing_ids = set(map(int, original_df[\"show_id\"].tolist()))  # Obtenir les IDs existants\n",
    "    new_ids = generate_unique_show_id(existing_ids, num_rows - len(original_df))\n",
    "    generated_data[\"show_id\"].extend(new_ids)\n",
    "\n",
    "    # Générer les autres colonnes\n",
    "    for column in original_df.columns:\n",
    "        if column != \"show_id\":  # Ne pas regénérer la colonne show_id\n",
    "            generated_data[column].extend(generate_large_column(original_df[column].tolist(), num_rows - len(original_df)))\n",
    "\n",
    "    # Créer un DataFrame à partir des données générées\n",
    "    large_df = pd.DataFrame(generated_data)\n",
    "\n",
    "    # Supprimer les doublons éventuels (vérifie toutes les colonnes)\n",
    "    large_df = large_df.drop_duplicates()\n",
    "\n",
    "    # Remplacer les NaN explicitement pour chaque colonne\n",
    "    for column in large_df.columns:\n",
    "        if large_df[column].isnull().any():\n",
    "            if large_df[column].dtype == \"object\":\n",
    "                large_df[column].fillna(\"Unknown\", inplace=True)  # Texte : remplacer par 'Unknown'\n",
    "            else:\n",
    "                large_df[column].fillna(0, inplace=True)  # Numérique : remplacer par 0\n",
    "\n",
    "    # Supprimer les doublons éventuels (vérifie toutes les colonnes)\n",
    "    large_df = large_df.drop_duplicates()\n",
    "\n",
    "    # Vérifie qu'il n'y a pas de doublons dans 'show_id'\n",
    "    if large_df[\"show_id\"].duplicated().any():\n",
    "        print(\"Attention : Des doublons existent dans la colonne 'show_id'.\")\n",
    "    else:\n",
    "        print(\"Les IDs sont uniques.\")\n",
    "\n",
    "    # Sauvegarder le dataset dans un fichier CSV\n",
    "    output_file = \"netflix_titles_large.csv\"\n",
    "    large_df.to_csv(output_file, index=False)\n",
    "    print(f\"Dataset généré avec {len(large_df)} lignes (lignes dupliquées supprimées) et exporté dans {output_file}.\")\n"
   ]
  },
  {
   "cell_type": "code",
   "execution_count": 76,
   "metadata": {},
   "outputs": [
    {
     "data": {
      "text/plain": [
       "(30000, 12)"
      ]
     },
     "execution_count": 76,
     "metadata": {},
     "output_type": "execute_result"
    }
   ],
   "source": [
    "large_df.shape"
   ]
  },
  {
   "cell_type": "code",
   "execution_count": 77,
   "metadata": {},
   "outputs": [],
   "source": [
    "# Caster correctement les colonnes \n",
    "large_df['show_id'] = large_df['show_id'].astype(int)\n",
    "\n",
    "large_df['show_id'] = large_df['show_id'].astype(int)\n",
    "large_df['release_year'] = large_df['release_year'].astype(int)\n",
    "\n",
    "large_df['type'] = large_df['title'].astype(str)\n",
    "large_df['title'] = large_df['title'].astype(str)\n",
    "large_df['director'] = large_df['director'].astype(str)\n",
    "large_df['cast'] = large_df['cast'].astype(str)\n",
    "large_df['country'] = large_df['country'].astype(str)\n",
    "large_df['date_added'] = large_df['date_added'].astype(str)\n",
    "large_df['rating'] = large_df['rating'].astype(str)\n",
    "large_df['duration'] = large_df['duration'].astype(str)\n",
    "large_df['listed_in'] = large_df['listed_in'].astype(str)\n",
    "large_df['description'] = large_df['description'].astype(str)"
   ]
  },
  {
   "cell_type": "code",
   "execution_count": 78,
   "metadata": {},
   "outputs": [
    {
     "name": "stdout",
     "output_type": "stream",
     "text": [
      "Create Time: 0.415347 seconds\n",
      "Create Time: 0.404760 seconds\n",
      "Create Time: 0.407491 seconds\n",
      "Create Time: 0.398600 seconds\n",
      "Create Time: 0.444137 seconds\n",
      "CREATE: Mean Time = 0.414067s, Std Time = 0.015968s\n",
      "Total rows in 'shows' table: 30000\n",
      "Create Time: 0.402089 seconds\n",
      "Read Time: 0.043437 seconds\n",
      "Queried 28080 records\n",
      "Create Time: 0.396932 seconds\n",
      "Read Time: 0.039958 seconds\n",
      "Queried 28080 records\n",
      "Create Time: 0.402828 seconds\n",
      "Read Time: 0.039350 seconds\n",
      "Queried 28080 records\n",
      "Create Time: 0.400717 seconds\n",
      "Read Time: 0.038369 seconds\n",
      "Queried 28080 records\n",
      "Create Time: 0.414822 seconds\n",
      "Read Time: 0.040183 seconds\n",
      "Queried 28080 records\n",
      "READ: Mean Time = 0.040259s, Std Time = 0.001709s\n",
      "Create Time: 0.427595 seconds\n",
      "Update Time: 0.016202 seconds\n",
      "Create Time: 0.410552 seconds\n",
      "Update Time: 0.013802 seconds\n",
      "Create Time: 0.404849 seconds\n",
      "Update Time: 0.013832 seconds\n",
      "Create Time: 0.402564 seconds\n",
      "Update Time: 0.015461 seconds\n",
      "Create Time: 0.474854 seconds\n",
      "Update Time: 0.014902 seconds\n",
      "UPDATE: Mean Time = 0.014840s, Std Time = 0.000932s\n",
      "Create Time: 0.403839 seconds\n",
      "Delete Time: 0.012080 seconds\n",
      "Create Time: 0.414462 seconds\n",
      "Delete Time: 0.011312 seconds\n",
      "Create Time: 0.426296 seconds\n",
      "Delete Time: 0.011998 seconds\n",
      "Create Time: 0.418686 seconds\n",
      "Delete Time: 0.011987 seconds\n",
      "Create Time: 0.416976 seconds\n",
      "Delete Time: 0.012455 seconds\n",
      "DELETE: Mean Time = 0.011966s, Std Time = 0.000369s\n"
     ]
    }
   ],
   "source": [
    "# sqlite \n",
    "# --- CREATE ---\n",
    "create_sqlite_massive_mean, create_sqlite_massive_std = benchmark_operation(sqlite_insert, large_df)\n",
    "print(f\"CREATE: Mean Time = {create_sqlite_massive_mean:.6f}s, Std Time = {create_sqlite_massive_std:.6f}s\")\n",
    "\n",
    "# Vérifier le nombre de lignes insérées\n",
    "cursor.execute('SELECT COUNT(*) FROM shows')\n",
    "row = cursor.fetchone()\n",
    "print(f\"Total rows in 'shows' table: {row[0]}\")\n",
    "\n",
    "# --- READ ---\n",
    "read_sqlite_massive_mean, read_sqlite_massive_std = benchmark_operation(sqlite_read, large_df)\n",
    "print(f\"READ: Mean Time = {read_sqlite_massive_mean:.6f}s, Std Time = {read_sqlite_massive_std:.6f}s\")\n",
    "\n",
    "# --- UPDATE ---\n",
    "update_sqlite_massive_mean, update_sqlite_massive_std = benchmark_operation(sqlite_update, large_df)\n",
    "print(f\"UPDATE: Mean Time = {update_sqlite_massive_mean:.6f}s, Std Time = {update_sqlite_massive_std:.6f}s\")\n",
    "\n",
    "# --- DELETE ---\n",
    "delete_sqlite_massive_mean, delete_sqlite_massive_std = benchmark_operation(sqlite_delete, large_df)\n",
    "print(f\"DELETE: Mean Time = {delete_sqlite_massive_mean:.6f}s, Std Time = {delete_sqlite_massive_std:.6f}s\")"
   ]
  },
  {
   "cell_type": "code",
   "execution_count": 80,
   "metadata": {},
   "outputs": [
    {
     "name": "stdout",
     "output_type": "stream",
     "text": [
      "replication factor = 1\n",
      "Create Time: 6.182222 seconds\n",
      "replication factor = 1\n",
      "Create Time: 6.163453 seconds\n",
      "replication factor = 1\n",
      "Create Time: 5.988399 seconds\n",
      "replication factor = 1\n",
      "Create Time: 6.031092 seconds\n",
      "replication factor = 1\n",
      "Create Time: 5.949257 seconds\n",
      "CREATE: Mean Time = 6.062885s, Std Time = 0.093622s\n",
      "Total rows in 'shows' table: 30000\n",
      "replication factor = 1\n",
      "Create Time: 6.060622 seconds\n",
      "Read Time: 0.112518 seconds\n",
      "Queried 28080 records\n",
      "replication factor = 1\n",
      "Create Time: 6.115662 seconds\n",
      "Read Time: 0.050046 seconds\n",
      "Queried 28080 records\n",
      "replication factor = 1\n",
      "Create Time: 6.058109 seconds\n",
      "Read Time: 0.047249 seconds\n",
      "Queried 28080 records\n",
      "replication factor = 1\n",
      "Create Time: 5.986995 seconds\n",
      "Read Time: 0.049161 seconds\n",
      "Queried 28080 records\n",
      "replication factor = 1\n",
      "Create Time: 6.696344 seconds\n",
      "Read Time: 0.049408 seconds\n",
      "Queried 28080 records\n",
      "READ: Mean Time = 0.061676s, Std Time = 0.025438s\n",
      "replication factor = 1\n",
      "Create Time: 6.106449 seconds\n",
      "Update Time: 4.683200 seconds\n",
      "replication factor = 1\n",
      "Create Time: 5.988287 seconds\n",
      "Update Time: 4.678160 seconds\n",
      "replication factor = 1\n",
      "Create Time: 5.991212 seconds\n",
      "Update Time: 4.676710 seconds\n",
      "replication factor = 1\n",
      "Create Time: 6.039602 seconds\n",
      "Update Time: 4.673341 seconds\n",
      "replication factor = 1\n",
      "Create Time: 5.995374 seconds\n",
      "Update Time: 4.675918 seconds\n",
      "UPDATE: Mean Time = 4.677466s, Std Time = 0.003266s\n",
      "replication factor = 1\n",
      "Create Time: 6.102311 seconds\n",
      "Delete Time: 4.633752 seconds\n",
      "replication factor = 1\n",
      "Create Time: 5.992878 seconds\n",
      "Delete Time: 4.594452 seconds\n",
      "replication factor = 1\n",
      "Create Time: 6.000939 seconds\n",
      "Delete Time: 4.652287 seconds\n",
      "replication factor = 1\n",
      "Create Time: 6.041769 seconds\n",
      "Delete Time: 4.636827 seconds\n",
      "replication factor = 1\n",
      "Create Time: 6.002191 seconds\n",
      "Delete Time: 4.638989 seconds\n",
      "DELETE: Mean Time = 4.631261s, Std Time = 0.019462s\n",
      "replication factor = 2\n",
      "Create Time: 6.005191 seconds\n",
      "replication factor = 2\n",
      "Create Time: 6.035287 seconds\n",
      "replication factor = 2\n",
      "Create Time: 5.986279 seconds\n",
      "replication factor = 2\n",
      "Create Time: 5.962472 seconds\n",
      "replication factor = 2\n",
      "Create Time: 5.983547 seconds\n",
      "CREATE: Mean Time = 5.994555s, Std Time = 0.024459s\n",
      "Total rows in 'shows' table: 1920\n",
      "replication factor = 2\n",
      "Create Time: 6.030713 seconds\n",
      "Read Time: 0.046665 seconds\n",
      "Queried 28080 records\n",
      "replication factor = 2\n",
      "Create Time: 5.986774 seconds\n",
      "Read Time: 0.047288 seconds\n",
      "Queried 28080 records\n",
      "replication factor = 2\n",
      "Create Time: 6.011302 seconds\n",
      "Read Time: 0.046970 seconds\n",
      "Queried 28080 records\n",
      "replication factor = 2\n",
      "Create Time: 6.032045 seconds\n",
      "Read Time: 0.086934 seconds\n",
      "Queried 28080 records\n",
      "replication factor = 2\n",
      "Create Time: 6.020759 seconds\n",
      "Read Time: 0.047207 seconds\n",
      "Queried 28080 records\n",
      "READ: Mean Time = 0.055013s, Std Time = 0.015962s\n",
      "replication factor = 2\n",
      "Create Time: 5.995731 seconds\n",
      "Update Time: 4.682684 seconds\n",
      "replication factor = 2\n",
      "Create Time: 6.023360 seconds\n",
      "Update Time: 4.674558 seconds\n",
      "replication factor = 2\n",
      "Create Time: 5.976492 seconds\n",
      "Update Time: 4.642028 seconds\n",
      "replication factor = 2\n",
      "Create Time: 6.020741 seconds\n",
      "Update Time: 4.668705 seconds\n",
      "replication factor = 2\n",
      "Create Time: 5.979093 seconds\n",
      "Update Time: 4.673956 seconds\n",
      "UPDATE: Mean Time = 4.668386s, Std Time = 0.013917s\n",
      "replication factor = 2\n",
      "Create Time: 6.069382 seconds\n",
      "Delete Time: 4.670327 seconds\n",
      "replication factor = 2\n",
      "Create Time: 6.205213 seconds\n",
      "Delete Time: 4.679894 seconds\n",
      "replication factor = 2\n",
      "Create Time: 6.270751 seconds\n",
      "Delete Time: 4.730297 seconds\n",
      "replication factor = 2\n",
      "Create Time: 6.293879 seconds\n",
      "Delete Time: 4.763298 seconds\n",
      "replication factor = 2\n",
      "Create Time: 6.272268 seconds\n",
      "Delete Time: 4.792714 seconds\n",
      "DELETE: Mean Time = 4.727306s, Std Time = 0.047068s\n",
      "replication factor = 3\n",
      "Create Time: 6.111444 seconds\n",
      "replication factor = 3\n",
      "Create Time: 5.960956 seconds\n",
      "replication factor = 3\n",
      "Create Time: 6.050711 seconds\n",
      "replication factor = 3\n",
      "Create Time: 5.970751 seconds\n",
      "replication factor = 3\n",
      "Create Time: 5.981979 seconds\n",
      "CREATE: Mean Time = 6.015168s, Std Time = 0.057525s\n",
      "Total rows in 'shows' table: 1920\n",
      "replication factor = 3\n",
      "Create Time: 6.027838 seconds\n",
      "Read Time: 0.046941 seconds\n",
      "Queried 28080 records\n",
      "replication factor = 3\n",
      "Create Time: 5.942950 seconds\n",
      "Read Time: 0.046257 seconds\n",
      "Queried 28080 records\n",
      "replication factor = 3\n",
      "Create Time: 5.985217 seconds\n",
      "Read Time: 0.046294 seconds\n",
      "Queried 28080 records\n",
      "replication factor = 3\n",
      "Create Time: 5.986969 seconds\n",
      "Read Time: 0.046730 seconds\n",
      "Queried 28080 records\n",
      "replication factor = 3\n",
      "Create Time: 5.995705 seconds\n",
      "Read Time: 0.046967 seconds\n",
      "Queried 28080 records\n",
      "READ: Mean Time = 0.046638s, Std Time = 0.000307s\n",
      "replication factor = 3\n",
      "Create Time: 5.970526 seconds\n",
      "Update Time: 4.703228 seconds\n",
      "replication factor = 3\n",
      "Create Time: 6.008450 seconds\n",
      "Update Time: 4.672678 seconds\n",
      "replication factor = 3\n",
      "Create Time: 5.985542 seconds\n",
      "Update Time: 4.675014 seconds\n",
      "replication factor = 3\n",
      "Create Time: 6.019765 seconds\n",
      "Update Time: 4.637696 seconds\n",
      "replication factor = 3\n",
      "Create Time: 5.992441 seconds\n",
      "Update Time: 4.675209 seconds\n",
      "UPDATE: Mean Time = 4.672765s, Std Time = 0.020827s\n",
      "replication factor = 3\n",
      "Create Time: 5.982217 seconds\n",
      "Delete Time: 4.637307 seconds\n",
      "replication factor = 3\n",
      "Create Time: 6.030293 seconds\n",
      "Delete Time: 4.630231 seconds\n",
      "replication factor = 3\n",
      "Create Time: 5.971071 seconds\n",
      "Delete Time: 4.634966 seconds\n",
      "replication factor = 3\n",
      "Create Time: 5.990069 seconds\n",
      "Delete Time: 4.597995 seconds\n",
      "replication factor = 3\n",
      "Create Time: 6.035275 seconds\n",
      "Delete Time: 4.632472 seconds\n",
      "DELETE: Mean Time = 4.626594s, Std Time = 0.014495s\n"
     ]
    }
   ],
   "source": [
    "# Cassandra\n",
    "\n",
    "# 1 replica\n",
    "# --- CREATE ---\n",
    "create_cassandra_mean, create_cassandra_std = benchmark_operation(cassandra_insert, large_df, 1)\n",
    "print(f\"CREATE: Mean Time = {create_cassandra_mean:.6f}s, Std Time = {create_cassandra_std:.6f}s\")\n",
    "\n",
    "# Vérifier le nombre de lignes insérées\n",
    "result = session.execute('SELECT COUNT(*) FROM shows')\n",
    "row = result.one()\n",
    "print(f\"Total rows in 'shows' table: {row[0]}\")\n",
    "\n",
    "# --- READ ---\n",
    "read_cassandra_mean, read_cassandra_std = benchmark_operation(cassandra_read, large_df, 1)\n",
    "print(f\"READ: Mean Time = {read_cassandra_mean:.6f}s, Std Time = {read_cassandra_std:.6f}s\")\n",
    "\n",
    "# --- UPDATE ---\n",
    "update_cassandra_mean, update_cassandra_std = benchmark_operation(cassandra_update, large_df, 1)\n",
    "print(f\"UPDATE: Mean Time = {update_cassandra_mean:.6f}s, Std Time = {update_cassandra_std:.6f}s\")\n",
    "\n",
    "# --- DELETE ---\n",
    "delete_cassandra_mean, delete_cassandra_std = benchmark_operation(cassandra_delete, large_df, 1)\n",
    "print(f\"DELETE: Mean Time = {delete_cassandra_mean:.6f}s, Std Time = {delete_cassandra_std:.6f}s\")\n"
   ]
  },
  {
   "cell_type": "code",
   "execution_count": null,
   "metadata": {},
   "outputs": [],
   "source": [
    "# 2 replicas\n",
    "# --- CREATE ---\n",
    "create_cassandra_massive_mean_2, create_cassandra_massive_std_2 = benchmark_operation(cassandra_insert, large_df, 2)\n",
    "print(f\"CREATE: Mean Time = {create_cassandra_massive_mean_2:.6f}s, Std Time = {create_cassandra_massive_std_2:.6f}s\")\n",
    "\n",
    "# Vérifier le nombre de lignes insérées\n",
    "cursor.execute('SELECT COUNT(*) FROM shows')\n",
    "row = cursor.fetchone()\n",
    "print(f\"Total rows in 'shows' table: {row[0]}\")\n",
    "\n",
    "# --- READ ---\n",
    "read_cassandra_massive_mean_2, read_cassandra_massive_std_2 = benchmark_operation(cassandra_read, large_df, 2)\n",
    "print(f\"READ: Mean Time = {read_cassandra_massive_mean_2:.6f}s, Std Time = {read_cassandra_massive_std_2:.6f}s\")\n",
    "\n",
    "# --- UPDATE ---\n",
    "update_cassandra_massive_mean_2, update_cassandra_massive_std_2 = benchmark_operation(cassandra_update, large_df, 2)\n",
    "print(f\"UPDATE: Mean Time = {update_cassandra_massive_mean_2:.6f}s, Std Time = {update_cassandra_massive_std_2:.6f}s\")\n",
    "\n",
    "# --- DELETE ---\n",
    "delete_cassandra_massive_mean_2, delete_cassandra_massive_std_2 = benchmark_operation(cassandra_delete, large_df, 2)\n",
    "print(f\"DELETE: Mean Time = {delete_cassandra_massive_mean_2:.6f}s, Std Time = {delete_cassandra_massive_std_2:.6f}s\")\n"
   ]
  },
  {
   "cell_type": "code",
   "execution_count": null,
   "metadata": {},
   "outputs": [],
   "source": [
    "# 3 replicas\n",
    "# --- CREATE ---\n",
    "create_cassandra_massive_mean_3, create_cassandra_massive_std_3 = benchmark_operation(cassandra_insert, large_df, 3)\n",
    "print(f\"CREATE: Mean Time = {create_cassandra_massive_mean_3:.6f}s, Std Time = {create_cassandra_massive_std_3:.6f}s\")\n",
    "\n",
    "# Vérifier le nombre de lignes insérées\n",
    "cursor.execute('SELECT COUNT(*) FROM shows')\n",
    "row = cursor.fetchone()\n",
    "print(f\"Total rows in 'shows' table: {row[0]}\")\n",
    "\n",
    "# --- READ ---\n",
    "read_cassandra_massive_mean_3, read_cassandra_massive_std_3 = benchmark_operation(cassandra_read, large_df, 3)\n",
    "print(f\"READ: Mean Time = {read_cassandra_massive_mean_3:.6f}s, Std Time = {read_cassandra_massive_std_3:.6f}s\")\n",
    "\n",
    "# --- UPDATE ---\n",
    "update_cassandra_massive_mean_3, update_cassandra_massive_std_3 = benchmark_operation(cassandra_update, large_df, 3)\n",
    "print(f\"UPDATE: Mean Time = {update_cassandra_massive_mean_3:.6f}s, Std Time = {update_cassandra_massive_std_3:.6f}s\")\n",
    "\n",
    "# --- DELETE ---\n",
    "delete_cassandra_massive_mean_3, delete_cassandra_massive_std_3 = benchmark_operation(cassandra_delete, large_df, 3)\n",
    "print(f\"DELETE: Mean Time = {delete_cassandra_massive_mean_3:.6f}s, Std Time = {delete_cassandra_massive_std_3:.6f}s\")\n",
    "\n"
   ]
  },
  {
   "cell_type": "code",
   "execution_count": null,
   "metadata": {},
   "outputs": [],
   "source": [
    "\n",
    "# # 4 replicas\n",
    "# # --- CREATE ---\n",
    "# create_cassandra_massive_mean_4, create_cassandra_massive_std_4 = benchmark_operation(cassandra_insert, large_df, 4)\n",
    "# print(f\"CREATE: Mean Time = {create_cassandra_massive_mean_4:.6f}s, Std Time = {create_cassandra_massive_std_4:.6f}s\")\n",
    "\n",
    "# # Vérifier le nombre de lignes insérées\n",
    "# cursor.execute('SELECT COUNT(*) FROM shows')\n",
    "# row = cursor.fetchone()\n",
    "# print(f\"Total rows in 'shows' table: {row[0]}\")\n",
    "\n",
    "# # --- READ ---\n",
    "# read_cassandra_massive_mean_4, read_cassandra_massive_std_4 = benchmark_operation(cassandra_read, large_df, 4)\n",
    "# print(f\"READ: Mean Time = {read_cassandra_massive_mean_4:.6f}s, Std Time = {read_cassandra_massive_std_4:.6f}s\")\n",
    "\n",
    "# # --- UPDATE ---\n",
    "# update_cassandra_massive_mean_4, update_cassandra_massive_std_4 = benchmark_operation(cassandra_update, large_df, 4)\n",
    "# print(f\"UPDATE: Mean Time = {update_cassandra_massive_mean_4:.6f}s, Std Time = {update_cassandra_massive_std_4:.6f}s\")\n",
    "\n",
    "# # --- DELETE ---\n",
    "# delete_cassandra_massive_mean_4, delete_cassandra_massive_std_4 = benchmark_operation(cassandra_delete, large_df, 4)\n",
    "# print(f\"DELETE: Mean Time = {delete_cassandra_massive_mean_4:.6f}s, Std Time = {delete_cassandra_massive_std_4:.6f}s\")\n",
    "\n",
    "# # 5 replicas\n",
    "# # --- CREATE ---\n",
    "# create_cassandra_massive_mean_5, create_cassandra_massive_std_5 = benchmark_operation(cassandra_insert, large_df, 5)\n",
    "# print(f\"CREATE: Mean Time = {create_cassandra_massive_mean_5:.6f}s, Std Time = {create_cassandra_massive_std_5:.6f}s\")\n",
    "\n",
    "# # Vérifier le nombre de lignes insérées\n",
    "# cursor.execute('SELECT COUNT(*) FROM shows')\n",
    "# row = cursor.fetchone()\n",
    "# print(f\"Total rows in 'shows' table: {row[0]}\")\n",
    "\n",
    "# # --- READ ---\n",
    "# read_cassandra_massive_mean_5, read_cassandra_massive_std_5 = benchmark_operation(cassandra_read, large_df, 5)\n",
    "# print(f\"READ: Mean Time = {read_cassandra_massive_mean_5:.6f}s, Std Time = {read_cassandra_massive_std_5:.6f}s\")\n",
    "\n",
    "# # --- UPDATE ---\n",
    "# update_cassandra_massive_mean_5, update_cassandra_massive_std_5 = benchmark_operation(cassandra_update, large_df, 5)\n",
    "# print(f\"UPDATE: Mean Time = {update_cassandra_massive_mean_5:.6f}s, Std Time = {update_cassandra_massive_std_5:.6f}s\")\n",
    "\n",
    "# # --- DELETE ---\n",
    "# delete_cassandra_massive_mean_5, delete_cassandra_massive_std_5 = benchmark_operation(cassandra_delete, large_df, 5)\n",
    "# print(f\"DELETE: Mean Time = {delete_cassandra_massive_mean_5:.6f}s, Std Time = {delete_cassandra_massive_std_5:.6f}s\")"
   ]
  },
  {
   "cell_type": "markdown",
   "metadata": {},
   "source": [
    "## Visualisation"
   ]
  },
  {
   "cell_type": "code",
   "execution_count": 81,
   "metadata": {},
   "outputs": [
    {
     "data": {
      "image/png": "[encoded data removed]",
      "text/plain": [
       "<Figure size 1000x600 with 1 Axes>"
      ]
     },
     "metadata": {},
     "output_type": "display_data"
    }
   ],
   "source": [
    "sqlite_times = {\n",
    "    'CREATE': (create_sqlite_massive_mean, create_sqlite_massive_std),\n",
    "    'READ': (read_sqlite_massive_mean, read_sqlite_massive_std),\n",
    "    'UPDATE': (update_sqlite_massive_mean, update_sqlite_massive_std),\n",
    "    'DELETE': (delete_sqlite_massive_mean, delete_sqlite_massive_std)\n",
    "}\n",
    "\n",
    "cassandra_times = {\n",
    "    'CREATE': (create_cassandra_massive_mean, create_cassandra_massive_std),\n",
    "    'READ': (read_cassandra_massive_mean, read_cassandra_massive_std),\n",
    "    'UPDATE': (update_cassandra_massive_mean, update_cassandra_massive_std),\n",
    "    'DELETE': (delete_cassandra_massive_mean, delete_cassandra_massive_std)\n",
    "}\n",
    "\n",
    "cassandra_times_2 = {\n",
    "    'CREATE': (create_cassandra_massive_mean_2, create_cassandra_massive_std_2),\n",
    "    'READ': (read_cassandra_massive_mean_2, read_cassandra_massive_std_2),\n",
    "    'UPDATE': (update_cassandra_massive_mean_2, update_cassandra_massive_std_2),\n",
    "    'DELETE': (delete_cassandra_massive_mean_2, delete_cassandra_massive_std_2)\n",
    "}\n",
    "\n",
    "cassandra_times_3 = {\n",
    "    'CREATE': (create_cassandra_massive_mean_3, create_cassandra_massive_std_3),\n",
    "    'READ': (read_cassandra_massive_mean_3, read_cassandra_massive_std_3),\n",
    "    'UPDATE': (update_cassandra_massive_mean_3, update_cassandra_massive_std_3),\n",
    "    'DELETE': (delete_cassandra_massive_mean_3, delete_cassandra_massive_std_3)\n",
    "}\n",
    "\n",
    "# cassandra_times_4 = {\n",
    "#     'CREATE': (create_cassandra_massive_mean_4, create_cassandra_massive_std_4),\n",
    "#     'READ': (read_cassandra_massive_mean_4, read_cassandra_massive_std_4),\n",
    "#     'UPDATE': (update_cassandra_massive_mean_4, update_cassandra_massive_std_4),\n",
    "#     'DELETE': (delete_cassandra_massive_mean_4, delete_cassandra_massive_std_4)\n",
    "# }\n",
    "\n",
    "# cassandra_times_5 = {\n",
    "#     'CREATE': (create_cassandra_massive_mean_5, create_cassandra_massive_std_5),\n",
    "#     'READ': (read_cassandra_massive_mean_5, read_cassandra_massive_std_5),\n",
    "#     'UPDATE': (update_cassandra_massive_mean_5, update_cassandra_massive_std_5),\n",
    "#     'DELETE': (delete_cassandra_massive_mean_5, delete_cassandra_massive_std_5)\n",
    "# }\n",
    "\n",
    "operations = ['CREATE', 'READ', 'UPDATE', 'DELETE']\n",
    "\n",
    "# Extraire les temps moyens et écarts-types pour chaque système\n",
    "sqlite_means = [sqlite_times[op][0] for op in operations]\n",
    "sqlite_stds = [sqlite_times[op][1] for op in operations]\n",
    "\n",
    "cassandra_means = [cassandra_times[op][0] for op in operations]\n",
    "cassandra_stds = [cassandra_times[op][1] for op in operations]\n",
    "\n",
    "cassandra_means_2 = [cassandra_times_2[op][0] for op in operations]\n",
    "cassandra_stds_2 = [cassandra_times_2[op][1] for op in operations]\n",
    "\n",
    "cassandra_means_3 = [cassandra_times_3[op][0] for op in operations]\n",
    "cassandra_stds_3 = [cassandra_times_3[op][1] for op in operations]\n",
    "\n",
    "# cassandra_means_4 = [cassandra_times_4[op][0] for op in operations]\n",
    "# cassandra_stds_4 = [cassandra_times_4[op][1] for op in operations]\n",
    "\n",
    "# cassandra_means_5 = [cassandra_times_5[op][0] for op in operations]\n",
    "# cassandra_stds_5 = [cassandra_times_5[op][1] for op in operations]\n",
    "\n",
    "y = np.arange(len(operations))\n",
    "height = 0.1\n",
    "fig, ax = plt.subplots(figsize=(10, 6))\n",
    "\n",
    "bars1 = ax.barh(y - 2.5 * height, sqlite_means, height, xerr=sqlite_stds, label='SQLite', capsize=5)\n",
    "bars2 = ax.barh(y - 1.5 * height, cassandra_means, height, xerr=cassandra_stds, label='Cassandra (1 réplicat)', capsize=5)\n",
    "bars3 = ax.barh(y - 0.5 * height, cassandra_means_2, height, xerr=cassandra_stds_2, label='Cassandra (2 réplicats)', capsize=5)\n",
    "bars4 = ax.barh(y + 0.5 * height, cassandra_means_3, height, xerr=cassandra_stds_2, label='Cassandra (3 réplicats)', capsize=5)\n",
    "# bars5 = ax.barh(y + 1.5 * height, cassandra_means_4, height, xerr=cassandra_stds_2, label='Cassandra (4 réplicats)', capsize=5)\n",
    "# bars6 = ax.barh(y + 2.5 * height, cassandra_means_5, height, xerr=cassandra_stds_2, label='Cassandra (5 réplicats)', capsize=5)\n",
    "\n",
    "ax.set_xlabel('Temps (secondes)')\n",
    "ax.set_ylabel('Opérations')\n",
    "ax.set_title('Comparaison des performances de SQLite et Cassandra avec plusieurs réplicats sur données plus massives')\n",
    "ax.set_yticks(y)\n",
    "ax.set_yticklabels(operations)\n",
    "ax.legend()\n",
    "\n",
    "def add_values(bars):\n",
    "    for bar in bars:\n",
    "        xval = bar.get_width()\n",
    "        ax.text(xval, bar.get_y() + bar.get_height() / 2, f'{xval:.6f}', va='center', ha='left')\n",
    "\n",
    "add_values(bars1)\n",
    "add_values(bars2)\n",
    "add_values(bars3)\n",
    "add_values(bars4)\n",
    "# add_values(bars5)\n",
    "# add_values(bars6)\n",
    "\n",
    "plt.tight_layout()\n",
    "plt.show()"
   ]
  },
  {
   "cell_type": "markdown",
   "metadata": {},
   "source": [
    "TODO commenter la visualisation aussi \n",
    "\n",
    "On voit bien que 1 replica Set bien plus rapide que plus : y a déjà un commentaire là dessus en haut"
   ]
  },
  {
   "cell_type": "markdown",
   "metadata": {},
   "source": [
    "# Comparaison avec / sans index"
   ]
  },
  {
   "cell_type": "markdown",
   "metadata": {},
   "source": [
    "### Index secondaires (clés secondaires)\n",
    "\n",
    "\n",
    "Dans Cassandra, la commande `CREATE INDEX` permet de créer des index secondaires, qui ne sont pas des clés primaires. Cela permet de filtrer les données sur des colonnes autres que la partition key ou les clustering keys.\n",
    "\n",
    "#### Avantages des index secondaires\n",
    "\n",
    "- Facilite les filtres sur des colonnes non clés : Vous pouvez filtrer sur des colonnes autres que la partition key ou les clustering keys, ce qui rend les requêtes plus flexibles.\n",
    "- Accès plus rapide aux données : Les index secondaires optimisent les requêtes qui filtrent sur certaines colonnes spécifiques, réduisant le nombre de partitions à examiner.\n",
    "\n",
    "#### Inconvénients des index secondaires\n",
    "\n",
    "- Risque de surcharge de performance : Sur de grandes tables, si une colonne contient beaucoup de valeurs distinctes, l'index peut devenir lourd et ralentir les performances des écritures et lectures.\n",
    "- Structure distribuée moins efficace : Les index secondaires sont distribués, mais leur gestion est moins performante que les clés primaires, surtout sur des colonnes avec une haute cardinalité.\n",
    "- Limitations d'usage : Les index secondaires sont mieux utilisés sur des colonnes avec faible cardinalité. Il est déconseillé de les utiliser pour des colonnes ayant une forte cardinalité ou pour des filtres complexes impliquant plusieurs colonnes.\n",
    "- `ALLOW FILTERING` : Parfois, pour exécuter une requête avec un index secondaire, vous devrez utiliser `ALLOW FILTERING`, ce qui peut nuire aux performances en scannant une grande partie des données."
   ]
  },
  {
   "cell_type": "code",
   "execution_count": 82,
   "metadata": {},
   "outputs": [
    {
     "name": "stdout",
     "output_type": "stream",
     "text": [
      "Indexation time: Cassandra 0.12535s, SQLite 0.00052s\n"
     ]
    }
   ],
   "source": [
    "def cassandra_create_indexes(columns):\n",
    "    start_time = time.time()\n",
    "    for column in columns:\n",
    "        index_query = f\"CREATE INDEX {column}_idx ON shows ({column});\"\n",
    "        session.execute(index_query)\n",
    "    cassandra_time = time.time() - start_time\n",
    "    return cassandra_time\n",
    "\n",
    "\n",
    "def sqlite_create_indexes(columns):\n",
    "    # drop les index\n",
    "    for column in columns:\n",
    "        index_query = f\"DROP INDEX IF EXISTS {column}_idx;\"\n",
    "        cursor.execute(index_query)\n",
    "\n",
    "    start_time = time.time()\n",
    "    for column in columns:\n",
    "        # Créer une requête SQL pour chaque colonne\n",
    "        index_query = f\"CREATE INDEX IF NOT EXISTS {column}_idx ON shows ({column});\"\n",
    "        cursor.execute(index_query)\n",
    "    sqlite_time = time.time() - start_time\n",
    "    return sqlite_time\n",
    "\n",
    "columns_to_index = [\"release_year\"]\n",
    "cassandra_time_index = cassandra_create_indexes(columns_to_index)\n",
    "sqlite_time_index = sqlite_create_indexes(columns_to_index)\n",
    "\n",
    "print(f\"Indexation time: Cassandra {cassandra_time_index:.5f}s, SQLite {sqlite_time_index:.5f}s\")"
   ]
  },
  {
   "cell_type": "code",
   "execution_count": 83,
   "metadata": {},
   "outputs": [],
   "source": [
    "# Fonctions pour CRUD SQLite avec index\n",
    "\n",
    "# --- CREATE ---\n",
    "def sqlite_insert_index(df):\n",
    "    drop_table_sqlite()\n",
    "    create_table_sqlite()\n",
    "    sqlite_create_indexes(columns_to_index)\n",
    "\n",
    "    columns = ', '.join(df.columns)\n",
    "    placeholders = ', '.join(['?'] * len(df.columns))\n",
    "    insert_query = f\"INSERT INTO shows ({columns}) VALUES ({placeholders})\"\n",
    "\n",
    "    start_time = time.time()\n",
    "    for _, row in df.iterrows():\n",
    "      cursor.execute(insert_query, tuple(row))\n",
    "    conn.commit()\n",
    "\n",
    "    create_time_sqlite = time.time() - start_time\n",
    "    print(f\"Create Time: {create_time_sqlite:.6f} seconds\")\n",
    "    return create_time_sqlite\n",
    "\n",
    "# --- READ ---\n",
    "def sqlite_read_index(df):\n",
    "    sqlite_insert_index(df)\n",
    "    start_time = time.time()\n",
    "    cursor.execute(\"SELECT * FROM shows WHERE release_year > 2000\")\n",
    "    result = cursor.fetchall()\n",
    "    read_time_sqlite = time.time() - start_time\n",
    "    print(f\"Read Time: {read_time_sqlite:.6f} seconds\")\n",
    "    print(f\"Queried {len(result)} records\")\n",
    "    return read_time_sqlite\n",
    "\n",
    "# --- UPDATE ---\n",
    "def sqlite_update_index(df):\n",
    "    sqlite_insert_index(df)\n",
    "    start_time = time.time()\n",
    "    cursor.execute(\"UPDATE shows SET rating='PG' WHERE release_year > 2000\")\n",
    "    conn.commit()\n",
    "    update_time_sqlite = time.time() - start_time\n",
    "    print(f\"Update Time: {update_time_sqlite:.6f} seconds\")\n",
    "    return update_time_sqlite\n",
    "\n",
    "# --- DELETE ---\n",
    "def sqlite_delete_index(df):\n",
    "    sqlite_insert_index(df)\n",
    "    start_time = time.time()\n",
    "    cursor.execute(\"DELETE FROM shows WHERE release_year > 2000\")\n",
    "    conn.commit()\n",
    "    delete_time_sqlite = time.time() - start_time\n",
    "    print(f\"Delete Time: {delete_time_sqlite:.6f} seconds\")\n",
    "    return delete_time_sqlite"
   ]
  },
  {
   "cell_type": "code",
   "execution_count": 84,
   "metadata": {},
   "outputs": [],
   "source": [
    "# Fonctions pour CRUD Cassandra avec index\n",
    "# --- CREATE ---\n",
    "def cassandra_insert_index(*args):\n",
    "    df = args[0]  # Premier argument, qui est le DataFrame\n",
    "    nb_repl = args[1]  # Deuxième argument, qui est le nombre de répliques\n",
    "\n",
    "    drop_table_cassandra()\n",
    "    create_table_cassandra(nb_repl)\n",
    "    cassandra_create_indexes(columns_to_index)\n",
    "\n",
    "    insert_query = session.prepare(\"INSERT INTO shows (show_id, title, director, cast, country, date_added, release_year, rating, duration, listed_in, description) VALUES (?, ?, ?, ?, ?, ?, ?, ?, ?, ?, ?)\")\n",
    "\n",
    "    start_time = time.time()\n",
    "    for _, row in df.iterrows():\n",
    "        session.execute(insert_query, (row['show_id'], row['title'], row['director'], row['cast'], row['country'], row['date_added'], row['release_year'], row['rating'], row['duration'], row['listed_in'], row['description']))\n",
    "    create_time = time.time() - start_time\n",
    "\n",
    "    print(f\"Create Time: {create_time:.6f} seconds\")\n",
    "\n",
    "    return create_time\n",
    "\n",
    "\n",
    "# --- READ ---\n",
    "def cassandra_read_index(*args):\n",
    "    df = args[0]  # Premier argument, qui est le DataFrame\n",
    "    nb_repl = args[1]  # Deuxième argument, qui est le nombre de répliques\n",
    "    cassandra_insert_index(df, nb_repl)\n",
    "\n",
    "    # allow filtering car clef secondaire, pas primaire \n",
    "    start_time = time.time()\n",
    "    result = session.execute('SELECT * FROM shows WHERE release_year > 2000 ALLOW FILTERING ;')\n",
    "    read_time = time.time() - start_time\n",
    "    print(f\"Read time with index: {read_time:.5f}s\")\n",
    "    num_records = sum(1 for _ in result)\n",
    "    print(f\"Number of records: {num_records}\")\n",
    "    return read_time \n",
    "\n",
    "\n",
    "# --- UPDATE ---\n",
    "def cassandra_update_index(*args):\n",
    "    df = args[0]  # Premier argument, qui est le DataFrame\n",
    "    nb_repl = args[1]  # Deuxième argument, qui est le nombre de répliques\n",
    "    cassandra_insert_index(df, nb_repl)\n",
    "\n",
    "    start_time = time.time()\n",
    "    update_query = \"UPDATE shows SET rating = 'PG' WHERE release_year > 2000;\"\n",
    "    session.execute(update_query)\n",
    "    update_time = time.time() - start_time\n",
    "    print(f\"Update time with index: {update_time:.5f}s\")\n",
    "    return update_time\n",
    "\n",
    "\n",
    "# --- DELETE ---\n",
    "def cassandra_delete_index(*args):\n",
    "    df = args[0]  # Premier argument, qui est le DataFrame\n",
    "    nb_repl = args[1]  # Deuxième argument, qui est le nombre de répliques\n",
    "    cassandra_insert_index(df, nb_repl)\n",
    "\n",
    "    start_time = time.time()\n",
    "    delete_query = \"DELETE FROM shows WHERE release_year > 2000;\"\n",
    "    session.execute(delete_query)\n",
    "    delete_time = time.time() - start_time\n",
    "    print(f\"Delete time with index: {delete_time:.5f}s\")\n",
    "    return delete_time"
   ]
  },
  {
   "cell_type": "code",
   "execution_count": 86,
   "metadata": {},
   "outputs": [
    {
     "name": "stdout",
     "output_type": "stream",
     "text": [
      "Create Time: 0.397215 seconds\n",
      "Create Time: 0.384399 seconds\n",
      "Create Time: 0.447198 seconds\n",
      "Create Time: 0.396894 seconds\n",
      "Create Time: 0.397068 seconds\n",
      "CREATE: Mean Time = 0.404555s, Std Time = 0.021878s\n",
      "Total rows in 'shows' table: 30000\n",
      "Create Time: 0.396960 seconds\n",
      "Read Time: 0.046580 seconds\n",
      "Queried 28080 records\n",
      "Create Time: 0.397216 seconds\n",
      "Read Time: 0.046911 seconds\n",
      "Queried 28080 records\n",
      "Create Time: 0.394831 seconds\n",
      "Read Time: 0.046943 seconds\n",
      "Queried 28080 records\n",
      "Create Time: 0.387253 seconds\n",
      "Read Time: 0.044581 seconds\n",
      "Queried 28080 records\n",
      "Create Time: 0.394779 seconds\n",
      "Read Time: 0.046340 seconds\n",
      "Queried 28080 records\n",
      "READ: Mean Time = 0.046271s, Std Time = 0.000874s\n",
      "Create Time: 0.392384 seconds\n",
      "Update Time: 0.019863 seconds\n",
      "Create Time: 0.389882 seconds\n",
      "Update Time: 0.019429 seconds\n",
      "Create Time: 0.397377 seconds\n",
      "Update Time: 0.020080 seconds\n",
      "Create Time: 0.388646 seconds\n",
      "Update Time: 0.019813 seconds\n",
      "Create Time: 0.390862 seconds\n",
      "Update Time: 0.019521 seconds\n",
      "UPDATE: Mean Time = 0.019741s, Std Time = 0.000237s\n",
      "Create Time: 0.386451 seconds\n",
      "Delete Time: 0.019491 seconds\n",
      "Create Time: 0.383135 seconds\n",
      "Delete Time: 0.019607 seconds\n",
      "Create Time: 0.392091 seconds\n",
      "Delete Time: 0.035422 seconds\n",
      "Create Time: 0.421592 seconds\n",
      "Delete Time: 0.020406 seconds\n",
      "Create Time: 0.438547 seconds\n",
      "Delete Time: 0.020439 seconds\n",
      "DELETE: Mean Time = 0.023073s, Std Time = 0.006187s\n"
     ]
    }
   ],
   "source": [
    "# sqlite \n",
    "# --- CREATE ---\n",
    "create_sqlite_massive_mean_index, create_sqlite_massive_std_index = benchmark_operation(sqlite_insert_index, large_df)\n",
    "print(f\"CREATE: Mean Time = {create_sqlite_massive_mean_index:.6f}s, Std Time = {create_sqlite_massive_std_index:.6f}s\")\n",
    "\n",
    "# Vérifier le nombre de lignes insérées\n",
    "cursor.execute('SELECT COUNT(*) FROM shows')\n",
    "row = cursor.fetchone()\n",
    "print(f\"Total rows in 'shows' table: {row[0]}\")\n",
    "\n",
    "# --- READ ---\n",
    "read_sqlite_massive_mean_index, read_sqlite_massive_std_index = benchmark_operation(sqlite_read_index, large_df)\n",
    "print(f\"READ: Mean Time = {read_sqlite_massive_mean_index:.6f}s, Std Time = {read_sqlite_massive_std_index:.6f}s\")\n",
    "\n",
    "# --- UPDATE ---\n",
    "update_sqlite_massive_mean_index, update_sqlite_massive_std_index = benchmark_operation(sqlite_update_index, large_df)\n",
    "print(f\"UPDATE: Mean Time = {update_sqlite_massive_mean_index:.6f}s, Std Time = {update_sqlite_massive_std_index:.6f}s\")\n",
    "\n",
    "# --- DELETE ---\n",
    "delete_sqlite_massive_mean_index, delete_sqlite_massive_std_index = benchmark_operation(sqlite_delete_index, large_df)\n",
    "print(f\"DELETE: Mean Time = {delete_sqlite_massive_mean_index:.6f}s, Std Time = {delete_sqlite_massive_std_index:.6f}s\")"
   ]
  },
  {
   "cell_type": "code",
   "execution_count": 93,
   "metadata": {},
   "outputs": [
    {
     "name": "stdout",
     "output_type": "stream",
     "text": [
      "replication factor = 1\n",
      "Create Time: 6.414343 seconds\n",
      "replication factor = 1\n",
      "Create Time: 6.007161 seconds\n",
      "replication factor = 1\n",
      "Create Time: 5.996218 seconds\n",
      "replication factor = 1\n",
      "Create Time: 6.011371 seconds\n",
      "replication factor = 1\n",
      "Create Time: 6.012089 seconds\n",
      "CREATE: Mean Time = 6.088236s, Std Time = 0.163152s\n",
      "replication factor = 1\n",
      "Create Time: 6.012352 seconds\n",
      "Read time with index: 0.04644s\n",
      "Number of records: 28080\n",
      "replication factor = 1\n",
      "Create Time: 6.067628 seconds\n",
      "Read time with index: 0.04662s\n",
      "Number of records: 28080\n",
      "replication factor = 1\n",
      "Create Time: 6.106524 seconds\n",
      "Read time with index: 0.05102s\n",
      "Number of records: 28080\n",
      "replication factor = 1\n",
      "Create Time: 6.269100 seconds\n",
      "Read time with index: 0.04724s\n",
      "Number of records: 28080\n",
      "replication factor = 1\n",
      "Create Time: 6.139978 seconds\n",
      "Read time with index: 0.04765s\n",
      "Number of records: 28080\n",
      "READ: Mean Time = 0.047796s, Std Time = 0.001668s\n",
      "replication factor = 1\n",
      "Create Time: 6.294482 seconds\n"
     ]
    },
    {
     "ename": "InvalidRequest",
     "evalue": "Error from server: code=2200 [Invalid query] message=\"Some partition key parts are missing: show_id\"",
     "output_type": "error",
     "traceback": [
      "\u001b[0;31m---------------------------------------------------------------------------\u001b[0m",
      "\u001b[0;31mInvalidRequest\u001b[0m                            Traceback (most recent call last)",
      "Cell \u001b[0;32mIn[93], line 13\u001b[0m\n\u001b[1;32m     10\u001b[0m \u001b[38;5;28mprint\u001b[39m(\u001b[38;5;124mf\u001b[39m\u001b[38;5;124m\"\u001b[39m\u001b[38;5;124mREAD: Mean Time = \u001b[39m\u001b[38;5;132;01m{\u001b[39;00mread_cassandra_mean_index\u001b[38;5;132;01m:\u001b[39;00m\u001b[38;5;124m.6f\u001b[39m\u001b[38;5;132;01m}\u001b[39;00m\u001b[38;5;124ms, Std Time = \u001b[39m\u001b[38;5;132;01m{\u001b[39;00mread_cassandra_std_index\u001b[38;5;132;01m:\u001b[39;00m\u001b[38;5;124m.6f\u001b[39m\u001b[38;5;132;01m}\u001b[39;00m\u001b[38;5;124ms\u001b[39m\u001b[38;5;124m\"\u001b[39m)\n\u001b[1;32m     12\u001b[0m \u001b[38;5;66;03m# --- UPDATE ---\u001b[39;00m\n\u001b[0;32m---> 13\u001b[0m update_cassandra_mean_index, update_cassandra_std_index \u001b[38;5;241m=\u001b[39m \u001b[43mbenchmark_operation\u001b[49m\u001b[43m(\u001b[49m\u001b[43mcassandra_update_index\u001b[49m\u001b[43m,\u001b[49m\u001b[43m \u001b[49m\u001b[43mlarge_df\u001b[49m\u001b[43m,\u001b[49m\u001b[43m \u001b[49m\u001b[38;5;241;43m1\u001b[39;49m\u001b[43m)\u001b[49m\n\u001b[1;32m     14\u001b[0m \u001b[38;5;28mprint\u001b[39m(\u001b[38;5;124mf\u001b[39m\u001b[38;5;124m\"\u001b[39m\u001b[38;5;124mUPDATE: Mean Time = \u001b[39m\u001b[38;5;132;01m{\u001b[39;00mupdate_cassandra_mean_index\u001b[38;5;132;01m:\u001b[39;00m\u001b[38;5;124m.6f\u001b[39m\u001b[38;5;132;01m}\u001b[39;00m\u001b[38;5;124ms, Std Time = \u001b[39m\u001b[38;5;132;01m{\u001b[39;00mupdate_cassandra_std_index\u001b[38;5;132;01m:\u001b[39;00m\u001b[38;5;124m.6f\u001b[39m\u001b[38;5;132;01m}\u001b[39;00m\u001b[38;5;124ms\u001b[39m\u001b[38;5;124m\"\u001b[39m)\n\u001b[1;32m     16\u001b[0m \u001b[38;5;66;03m# --- DELETE ---\u001b[39;00m\n",
      "Cell \u001b[0;32mIn[60], line 7\u001b[0m, in \u001b[0;36mbenchmark_operation\u001b[0;34m(func, *args)\u001b[0m\n\u001b[1;32m      5\u001b[0m times \u001b[38;5;241m=\u001b[39m []\n\u001b[1;32m      6\u001b[0m \u001b[38;5;28;01mfor\u001b[39;00m _ \u001b[38;5;129;01min\u001b[39;00m \u001b[38;5;28mrange\u001b[39m(\u001b[38;5;241m5\u001b[39m):  \u001b[38;5;66;03m# Effectuer 5 itérations\u001b[39;00m\n\u001b[0;32m----> 7\u001b[0m     times\u001b[38;5;241m.\u001b[39mappend(\u001b[43mfunc\u001b[49m\u001b[43m(\u001b[49m\u001b[38;5;241;43m*\u001b[39;49m\u001b[43margs\u001b[49m\u001b[43m)\u001b[49m)  \u001b[38;5;66;03m# Exécuter la fonction avec les arguments\u001b[39;00m\n\u001b[1;32m      9\u001b[0m \u001b[38;5;66;03m# Calculer la moyenne et l'écart-type\u001b[39;00m\n\u001b[1;32m     10\u001b[0m mean_time \u001b[38;5;241m=\u001b[39m np\u001b[38;5;241m.\u001b[39mmean(times)\n",
      "Cell \u001b[0;32mIn[84], line 47\u001b[0m, in \u001b[0;36mcassandra_update_index\u001b[0;34m(*args)\u001b[0m\n\u001b[1;32m     45\u001b[0m start_time \u001b[38;5;241m=\u001b[39m time\u001b[38;5;241m.\u001b[39mtime()\n\u001b[1;32m     46\u001b[0m update_query \u001b[38;5;241m=\u001b[39m \u001b[38;5;124m\"\u001b[39m\u001b[38;5;124mUPDATE shows SET rating = \u001b[39m\u001b[38;5;124m'\u001b[39m\u001b[38;5;124mPG\u001b[39m\u001b[38;5;124m'\u001b[39m\u001b[38;5;124m WHERE release_year > 2000;\u001b[39m\u001b[38;5;124m\"\u001b[39m\n\u001b[0;32m---> 47\u001b[0m \u001b[43msession\u001b[49m\u001b[38;5;241;43m.\u001b[39;49m\u001b[43mexecute\u001b[49m\u001b[43m(\u001b[49m\u001b[43mupdate_query\u001b[49m\u001b[43m)\u001b[49m\n\u001b[1;32m     48\u001b[0m update_time \u001b[38;5;241m=\u001b[39m time\u001b[38;5;241m.\u001b[39mtime() \u001b[38;5;241m-\u001b[39m start_time\n\u001b[1;32m     49\u001b[0m \u001b[38;5;28mprint\u001b[39m(\u001b[38;5;124mf\u001b[39m\u001b[38;5;124m\"\u001b[39m\u001b[38;5;124mUpdate time with index: \u001b[39m\u001b[38;5;132;01m{\u001b[39;00mupdate_time\u001b[38;5;132;01m:\u001b[39;00m\u001b[38;5;124m.5f\u001b[39m\u001b[38;5;132;01m}\u001b[39;00m\u001b[38;5;124ms\u001b[39m\u001b[38;5;124m\"\u001b[39m)\n",
      "File \u001b[0;32m~/Documents/projet tdle /projet_TDLE/jupyter_venv/lib/python3.11/site-packages/cassandra/cluster.py:2677\u001b[0m, in \u001b[0;36mSession.execute\u001b[0;34m(self, query, parameters, timeout, trace, custom_payload, execution_profile, paging_state, host, execute_as)\u001b[0m\n\u001b[1;32m   2634\u001b[0m \u001b[38;5;28;01mdef\u001b[39;00m \u001b[38;5;21mexecute\u001b[39m(\u001b[38;5;28mself\u001b[39m, query, parameters\u001b[38;5;241m=\u001b[39m\u001b[38;5;28;01mNone\u001b[39;00m, timeout\u001b[38;5;241m=\u001b[39m_NOT_SET, trace\u001b[38;5;241m=\u001b[39m\u001b[38;5;28;01mFalse\u001b[39;00m,\n\u001b[1;32m   2635\u001b[0m             custom_payload\u001b[38;5;241m=\u001b[39m\u001b[38;5;28;01mNone\u001b[39;00m, execution_profile\u001b[38;5;241m=\u001b[39mEXEC_PROFILE_DEFAULT,\n\u001b[1;32m   2636\u001b[0m             paging_state\u001b[38;5;241m=\u001b[39m\u001b[38;5;28;01mNone\u001b[39;00m, host\u001b[38;5;241m=\u001b[39m\u001b[38;5;28;01mNone\u001b[39;00m, execute_as\u001b[38;5;241m=\u001b[39m\u001b[38;5;28;01mNone\u001b[39;00m):\n\u001b[1;32m   2637\u001b[0m \u001b[38;5;250m    \u001b[39m\u001b[38;5;124;03m\"\"\"\u001b[39;00m\n\u001b[1;32m   2638\u001b[0m \u001b[38;5;124;03m    Execute the given query and synchronously wait for the response.\u001b[39;00m\n\u001b[1;32m   2639\u001b[0m \n\u001b[0;32m   (...)\u001b[0m\n\u001b[1;32m   2674\u001b[0m \u001b[38;5;124;03m    on a DSE cluster.\u001b[39;00m\n\u001b[1;32m   2675\u001b[0m \u001b[38;5;124;03m    \"\"\"\u001b[39;00m\n\u001b[0;32m-> 2677\u001b[0m     \u001b[38;5;28;01mreturn\u001b[39;00m \u001b[38;5;28;43mself\u001b[39;49m\u001b[38;5;241;43m.\u001b[39;49m\u001b[43mexecute_async\u001b[49m\u001b[43m(\u001b[49m\u001b[43mquery\u001b[49m\u001b[43m,\u001b[49m\u001b[43m \u001b[49m\u001b[43mparameters\u001b[49m\u001b[43m,\u001b[49m\u001b[43m \u001b[49m\u001b[43mtrace\u001b[49m\u001b[43m,\u001b[49m\u001b[43m \u001b[49m\u001b[43mcustom_payload\u001b[49m\u001b[43m,\u001b[49m\u001b[43m \u001b[49m\u001b[43mtimeout\u001b[49m\u001b[43m,\u001b[49m\u001b[43m \u001b[49m\u001b[43mexecution_profile\u001b[49m\u001b[43m,\u001b[49m\u001b[43m \u001b[49m\u001b[43mpaging_state\u001b[49m\u001b[43m,\u001b[49m\u001b[43m \u001b[49m\u001b[43mhost\u001b[49m\u001b[43m,\u001b[49m\u001b[43m \u001b[49m\u001b[43mexecute_as\u001b[49m\u001b[43m)\u001b[49m\u001b[38;5;241;43m.\u001b[39;49m\u001b[43mresult\u001b[49m\u001b[43m(\u001b[49m\u001b[43m)\u001b[49m\n",
      "File \u001b[0;32m~/Documents/projet tdle /projet_TDLE/jupyter_venv/lib/python3.11/site-packages/cassandra/cluster.py:4956\u001b[0m, in \u001b[0;36mResponseFuture.result\u001b[0;34m(self)\u001b[0m\n\u001b[1;32m   4954\u001b[0m     \u001b[38;5;28;01mreturn\u001b[39;00m ResultSet(\u001b[38;5;28mself\u001b[39m, \u001b[38;5;28mself\u001b[39m\u001b[38;5;241m.\u001b[39m_final_result)\n\u001b[1;32m   4955\u001b[0m \u001b[38;5;28;01melse\u001b[39;00m:\n\u001b[0;32m-> 4956\u001b[0m     \u001b[38;5;28;01mraise\u001b[39;00m \u001b[38;5;28mself\u001b[39m\u001b[38;5;241m.\u001b[39m_final_exception\n",
      "\u001b[0;31mInvalidRequest\u001b[0m: Error from server: code=2200 [Invalid query] message=\"Some partition key parts are missing: show_id\""
     ]
    }
   ],
   "source": [
    "# Cassandra\n",
    "\n",
    "# 1 replica\n",
    "# --- CREATE ---\n",
    "create_cassandra_mean_index, create_cassandra_std_index = benchmark_operation(cassandra_insert_index, large_df, 1)\n",
    "print(f\"CREATE: Mean Time = {create_cassandra_mean_index:.6f}s, Std Time = {create_cassandra_std_index:.6f}s\")\n",
    "\n",
    "# --- READ ---\n",
    "read_cassandra_mean_index, read_cassandra_std_index = benchmark_operation(cassandra_read_index, large_df, 1)\n",
    "print(f\"READ: Mean Time = {read_cassandra_mean_index:.6f}s, Std Time = {read_cassandra_std_index:.6f}s\")\n",
    "\n",
    "# --- UPDATE ---\n",
    "update_cassandra_mean_index, update_cassandra_std_index = benchmark_operation(cassandra_update_index, large_df, 1)\n",
    "print(f\"UPDATE: Mean Time = {update_cassandra_mean_index:.6f}s, Std Time = {update_cassandra_std_index:.6f}s\")\n",
    "\n",
    "# --- DELETE ---\n",
    "delete_cassandra_mean_index, delete_cassandra_std_index = benchmark_operation(cassandra_delete_index, large_df, 1)\n",
    "print(f\"DELETE: Mean Time = {delete_cassandra_mean_index:.6f}s, Std Time = {delete_cassandra_std_index:.6f}s\")\n",
    "\n",
    "# 2 replicas\n",
    "# --- CREATE ---\n",
    "create_cassandra_massive_mean_2_index, create_cassandra_massive_std_2_index = benchmark_operation(cassandra_insert_index, large_df, 2)\n",
    "print(f\"CREATE: Mean Time = {create_cassandra_massive_mean_2_index:.6f}s, Std Time = {create_cassandra_massive_std_2_index:.6f}s\")\n",
    "\n",
    "# Vérifier le nombre de lignes insérées\n",
    "cursor.execute('SELECT COUNT(*) FROM shows')\n",
    "row = cursor.fetchone()\n",
    "print(f\"Total rows in 'shows' table: {row[0]}\")\n",
    "\n",
    "# --- READ ---\n",
    "read_cassandra_massive_mean_2_index, read_cassandra_massive_std_2_index = benchmark_operation(cassandra_read_index, large_df, 2)\n",
    "print(f\"READ: Mean Time = {read_cassandra_massive_mean_2_index:.6f}s, Std Time = {read_cassandra_massive_std_2_index:.6f}s\")\n",
    "\n",
    "# --- UPDATE ---\n",
    "update_cassandra_massive_mean_2_index, update_cassandra_massive_std_2_index = benchmark_operation(cassandra_update_index, large_df, 2)\n",
    "print(f\"UPDATE: Mean Time = {update_cassandra_massive_mean_2_index:.6f}s, Std Time = {update_cassandra_massive_std_2_index:.6f}s\")\n",
    "\n",
    "# --- DELETE ---\n",
    "delete_cassandra_massive_mean_2_index, delete_cassandra_massive_std_2_index = benchmark_operation(cassandra_delete_index, large_df, 2)\n",
    "print(f\"DELETE: Mean Time = {delete_cassandra_massive_mean_2_index:.6f}s, Std Time = {delete_cassandra_massive_std_2_index:.6f}s\")\n",
    "\n",
    "# # 3 replicas\n",
    "# # --- CREATE ---\n",
    "# create_cassandra_massive_mean_3_index, create_cassandra_massive_std_3_index = benchmark_operation(cassandra_insert_index, large_df, 3)\n",
    "# print(f\"CREATE: Mean Time = {create_cassandra_massive_mean_3_index:.6f}s, Std Time = {create_cassandra_massive_std_3_index:.6f}s\")\n",
    "\n",
    "# # Vérifier le nombre de lignes insérées\n",
    "# cursor.execute('SELECT COUNT(*) FROM shows')\n",
    "# row = cursor.fetchone()\n",
    "# print(f\"Total rows in 'shows' table: {row[0]}\")\n",
    "\n",
    "# # --- READ ---\n",
    "# read_cassandra_massive_mean_3_index, read_cassandra_massive_std_3_index = benchmark_operation(cassandra_read_index, large_df, 3)\n",
    "# print(f\"READ: Mean Time = {read_cassandra_massive_mean_3_index:.6f}s, Std Time = {read_cassandra_massive_std_3_index:.6f}s\")\n",
    "\n",
    "# # --- UPDATE ---\n",
    "# update_cassandra_massive_mean_3_index, update_cassandra_massive_std_3_index = benchmark_operation(cassandra_update_index, large_df, 3)\n",
    "# print(f\"UPDATE: Mean Time = {update_cassandra_massive_mean_3_index:.6f}s, Std Time = {update_cassandra_massive_std_3_index:.6f}s\")\n",
    "\n",
    "# # --- DELETE ---\n",
    "# delete_cassandra_massive_mean_3_index, delete_cassandra_massive_std_3_index = benchmark_operation(cassandra_delete_index, large_df, 3)\n",
    "# print(f\"DELETE: Mean Time = {delete_cassandra_massive_mean_3_index:.6f}s, Std Time = {delete_cassandra_massive_std_3_index:.6f}s\")\n",
    "\n",
    "\n",
    "# # 4 replicas\n",
    "# # --- CREATE ---\n",
    "# create_cassandra_massive_mean_4_index, create_cassandra_massive_std_4_index = benchmark_operation(cassandra_insert_index, large_df, 4)\n",
    "# print(f\"CREATE: Mean Time = {create_cassandra_massive_mean_4_index:.6f}s, Std Time = {create_cassandra_massive_std_4_index:.6f}s\")\n",
    "\n",
    "# # Vérifier le nombre de lignes insérées\n",
    "# cursor.execute('SELECT COUNT(*) FROM shows')\n",
    "# row = cursor.fetchone()\n",
    "# print(f\"Total rows in 'shows' table: {row[0]}\")\n",
    "\n",
    "# # --- READ ---\n",
    "# read_cassandra_massive_mean_4_index, read_cassandra_massive_std_4_index = benchmark_operation(cassandra_read_index, large_df, 4)\n",
    "# print(f\"READ: Mean Time = {read_cassandra_massive_mean_4_index:.6f}s, Std Time = {read_cassandra_massive_std_4_index:.6f}s\")\n",
    "\n",
    "# # --- UPDATE ---\n",
    "# update_cassandra_massive_mean_4_index, update_cassandra_massive_std_4_index = benchmark_operation(cassandra_update_index, large_df, 4)\n",
    "# print(f\"UPDATE: Mean Time = {update_cassandra_massive_mean_4_index:.6f}s, Std Time = {update_cassandra_massive_std_4_index:.6f}s\")\n",
    "\n",
    "# # --- DELETE ---\n",
    "# delete_cassandra_massive_mean_4_index, delete_cassandra_massive_std_4_index = benchmark_operation(cassandra_delete_index, large_df, 4)\n",
    "# print(f\"DELETE: Mean Time = {delete_cassandra_massive_mean_4_index:.6f}s, Std Time = {delete_cassandra_massive_std_4_index:.6f}s\")\n",
    "\n",
    "# # 5 replicas\n",
    "# # --- CREATE ---\n",
    "# create_cassandra_massive_mean_5_index, create_cassandra_massive_std_5_index = benchmark_operation(cassandra_insert_index, large_df, 5)\n",
    "# print(f\"CREATE: Mean Time = {create_cassandra_massive_mean_5_index:.6f}s, Std Time = {create_cassandra_massive_std_5_index:.6f}s\")\n",
    "\n",
    "# # Vérifier le nombre de lignes insérées\n",
    "# cursor.execute('SELECT COUNT(*) FROM shows')\n",
    "# row = cursor.fetchone()\n",
    "# print(f\"Total rows in 'shows' table: {row[0]}\")\n",
    "\n",
    "# # --- READ ---\n",
    "# read_cassandra_massive_mean_5_index, read_cassandra_massive_std_5_index = benchmark_operation(cassandra_read_index, large_df, 5)\n",
    "# print(f\"READ: Mean Time = {read_cassandra_massive_mean_5_index:.6f}s, Std Time = {read_cassandra_massive_std_5_index:.6f}s\")\n",
    "\n",
    "# # --- UPDATE ---\n",
    "# update_cassandra_massive_mean_5_index, update_cassandra_massive_std_5_index = benchmark_operation(cassandra_update_index, large_df, 5)\n",
    "# print(f\"UPDATE: Mean Time = {update_cassandra_massive_mean_5_index:.6f}s, Std Time = {update_cassandra_massive_std_5_index:.6f}s\")\n",
    "\n",
    "# # --- DELETE ---\n",
    "# delete_cassandra_massive_mean_5_index, delete_cassandra_massive_std_5_index = benchmark_operation(cassandra_delete_index, large_df, 5)\n",
    "# print(f\"DELETE: Mean Time = {delete_cassandra_massive_mean_5_index:.6f}s, Std Time = {delete_cassandra_massive_std_5_index:.6f}s\")"
   ]
  },
  {
   "cell_type": "code",
   "execution_count": null,
   "metadata": {},
   "outputs": [],
   "source": [
    "# TODO : afficher différences temps avec et sans index pour chaque "
   ]
  },
  {
   "cell_type": "code",
   "execution_count": null,
   "metadata": {},
   "outputs": [
    {
     "data": {
      "image/png": "[encoded data removed]",
      "text/plain": [
       "<Figure size 1000x600 with 1 Axes>"
      ]
     },
     "metadata": {},
     "output_type": "display_data"
    }
   ],
   "source": [
    "import matplotlib.pyplot as plt\n",
    "import numpy as np\n",
    "\n",
    "actions = ['Insert', 'Read', 'Update', 'Delete']\n",
    "\n",
    "mean_without_index = [create_sqlite_massive_mean, read_sqlite_massive_mean, \n",
    "                      update_sqlite_massive_mean, delete_sqlite_massive_mean]\n",
    "mean_with_index = [create_sqlite_massive_mean_index, read_sqlite_massive_mean_index, \n",
    "                   update_sqlite_massive_mean_index, delete_sqlite_massive_mean_index]\n",
    "\n",
    "std_without_index = [create_sqlite_massive_std, read_sqlite_massive_std, \n",
    "                     update_sqlite_massive_std, delete_sqlite_massive_std]\n",
    "std_with_index = [create_sqlite_massive_std_index, read_sqlite_massive_std_index, \n",
    "                  update_sqlite_massive_std_index, delete_sqlite_massive_std_index]\n",
    "\n",
    "x = np.arange(len(actions))\n",
    "width = 0.35  \n",
    "\n",
    "fig, ax = plt.subplots(figsize=(10, 6))\n",
    "\n",
    "bars1 = ax.bar(x - width/2, mean_without_index, width, yerr=std_without_index, label='Sans Index', color='b', capsize=5)\n",
    "bars2 = ax.bar(x + width/2, mean_with_index, width, yerr=std_with_index, label='Avec Index', color='g', capsize=5)\n",
    "\n",
    "ax.set_xlabel('Actions')\n",
    "ax.set_ylabel('Temps moyen (en secondes)')\n",
    "ax.set_title('Comparaison des performances avec et sans indexation (SQLite)')\n",
    "ax.set_xticks(x)\n",
    "ax.set_xticklabels(actions)\n",
    "ax.legend()\n",
    "\n",
    "plt.tight_layout()\n",
    "plt.show()\n"
   ]
  },
  {
   "cell_type": "code",
   "execution_count": null,
   "metadata": {},
   "outputs": [],
   "source": [
    "import matplotlib.pyplot as plt\n",
    "import numpy as np\n",
    "\n",
    "actions = ['Insert', 'Read', 'Update', 'Delete']\n",
    "\n",
    "mean_without_index = [create_cassandra_mean, read_cassandra_mean, \n",
    "                      update_cassandra_mean, delete_cassandra_mean]\n",
    "mean_with_index = [create_cassandra_mean_index, read_cassandra_mean_index, \n",
    "                   update_cassandra_mean_index, delete_cassandra_mean_index]\n",
    "\n",
    "std_without_index = [create_cassandra_std, read_cassandra_std, \n",
    "                     update_cassandra_std, delete_cassandra_std]\n",
    "std_with_index = [create_cassandra_std_index, read_cassandra_std_index, \n",
    "                  update_cassandra_std_index, delete_cassandra_std_index]\n",
    "\n",
    "x = np.arange(len(actions))\n",
    "width = 0.35  \n",
    "\n",
    "fig, ax = plt.subplots(figsize=(10, 6))\n",
    "\n",
    "bars1 = ax.bar(x - width/2, mean_without_index, width, yerr=std_without_index, label='Sans Index', color='b', capsize=5)\n",
    "bars2 = ax.bar(x + width/2, mean_with_index, width, yerr=std_with_index, label='Avec Index', color='g', capsize=5)\n",
    "\n",
    "ax.set_xlabel('Actions')\n",
    "ax.set_ylabel('Temps moyen (en secondes)')\n",
    "ax.set_title('Comparaison des performances avec et sans indexation (cassandra)')\n",
    "ax.set_xticks(x)\n",
    "ax.set_xticklabels(actions)\n",
    "ax.legend()\n",
    "\n",
    "plt.tight_layout()\n",
    "plt.show()\n"
   ]
  },
  {
   "cell_type": "code",
   "execution_count": null,
   "metadata": {},
   "outputs": [
    {
     "ename": "NameError",
     "evalue": "name 'create_cassandra_massive_mean_2_index' is not defined",
     "output_type": "error",
     "traceback": [
      "\u001b[0;31m---------------------------------------------------------------------------\u001b[0m",
      "\u001b[0;31mNameError\u001b[0m                                 Traceback (most recent call last)",
      "Cell \u001b[0;32mIn[92], line 8\u001b[0m\n\u001b[1;32m      4\u001b[0m actions \u001b[38;5;241m=\u001b[39m [\u001b[38;5;124m'\u001b[39m\u001b[38;5;124mInsert\u001b[39m\u001b[38;5;124m'\u001b[39m, \u001b[38;5;124m'\u001b[39m\u001b[38;5;124mRead\u001b[39m\u001b[38;5;124m'\u001b[39m, \u001b[38;5;124m'\u001b[39m\u001b[38;5;124mUpdate\u001b[39m\u001b[38;5;124m'\u001b[39m, \u001b[38;5;124m'\u001b[39m\u001b[38;5;124mDelete\u001b[39m\u001b[38;5;124m'\u001b[39m]\n\u001b[1;32m      6\u001b[0m mean_without_index \u001b[38;5;241m=\u001b[39m [create_cassandra_massive_mean_2, read_cassandra_massive_mean_2, \n\u001b[1;32m      7\u001b[0m                       update_cassandra_massive_mean_2, delete_cassandra_massive_mean_2]\n\u001b[0;32m----> 8\u001b[0m mean_with_index \u001b[38;5;241m=\u001b[39m [\u001b[43mcreate_cassandra_massive_mean_2_index\u001b[49m, read_cassandra_massive_mean_2_index, \n\u001b[1;32m      9\u001b[0m                    update_cassandra_massive_mean_2_index, delete_cassandra_massive_mean_2_index]\n\u001b[1;32m     11\u001b[0m std_without_index \u001b[38;5;241m=\u001b[39m [create_cassandra_massive_std_2, read_cassandra_massive_std_2, \n\u001b[1;32m     12\u001b[0m                      update_cassandra_massive_std_2, delete_cassandra_massive_std_2]\n\u001b[1;32m     13\u001b[0m std_with_index \u001b[38;5;241m=\u001b[39m [create_cassandra_massive_std_2_index, read_cassandra_massive_std_2_index, \n\u001b[1;32m     14\u001b[0m                   update_cassandra_massive_std_2_index, delete_cassandra_massive_std_2_index]\n",
      "\u001b[0;31mNameError\u001b[0m: name 'create_cassandra_massive_mean_2_index' is not defined"
     ]
    }
   ],
   "source": [
    "import matplotlib.pyplot as plt\n",
    "import numpy as np\n",
    "\n",
    "actions = ['Insert', 'Read', 'Update', 'Delete']\n",
    "\n",
    "mean_without_index = [create_cassandra_massive_mean_2, read_cassandra_massive_mean_2, \n",
    "                      update_cassandra_massive_mean_2, delete_cassandra_massive_mean_2]\n",
    "mean_with_index = [create_cassandra_massive_mean_2_index, read_cassandra_massive_mean_2_index, \n",
    "                   update_cassandra_massive_mean_2_index, delete_cassandra_massive_mean_2_index]\n",
    "\n",
    "std_without_index = [create_cassandra_massive_std_2, read_cassandra_massive_std_2, \n",
    "                     update_cassandra_massive_std_2, delete_cassandra_massive_std_2]\n",
    "std_with_index = [create_cassandra_massive_std_2_index, read_cassandra_massive_std_2_index, \n",
    "                  update_cassandra_massive_std_2_index, delete_cassandra_massive_std_2_index]\n",
    "\n",
    "x = np.arange(len(actions))\n",
    "width = 0.35  \n",
    "\n",
    "fig, ax = plt.subplots(figsize=(10, 6))\n",
    "\n",
    "bars1 = ax.bar(x - width/2, mean_without_index, width, yerr=std_without_index, label='Sans Index', color='b', capsize=5)\n",
    "bars2 = ax.bar(x + width/2, mean_with_index, width, yerr=std_with_index, label='Avec Index', color='g', capsize=5)\n",
    "\n",
    "ax.set_xlabel('Actions')\n",
    "ax.set_ylabel('Temps moyen (en secondes)')\n",
    "ax.set_title('Comparaison des performances avec et sans indexation (cassandra)')\n",
    "ax.set_xticks(x)\n",
    "ax.set_xticklabels(actions)\n",
    "ax.legend()\n",
    "\n",
    "plt.tight_layout()\n",
    "plt.show()\n"
   ]
  },
  {
   "cell_type": "markdown",
   "metadata": {},
   "source": [
    "# ce qu'il reste \n",
    "\n",
    "# TODO INDEX sur PRIMARY \n",
    "# -> donc filtrer sur le show_id, avec et sans index \n",
    "\n",
    "# TODO CLUSTERING : Le clustering est une autre méthode de distribution des données dans Cassandra, mais cela se fait au sein d'une partition (c'est-à-dire que les données ayant la même clé de partition seront rangées ensemble en fonction de la clé de clustering). Le choix d'une bonne clé de clustering permet d’optimiser la lecture des données dans Cassandra.\n",
    "\n",
    "# TODO : Effectuer des tests de charge : Augmenter le nombre de requêtes ou de transactions simultanées pour tester la scalabilité et la gestion des requêtes par Cassandra. Dans un scénario avec peu de données, SQLite peut sembler plus rapide, mais lorsque la charge augmente, Cassandra sera plus adapté pour gérer des performances à grande échelle\n",
    "\n",
    "# TODO : BATCH c'est quoi ?\n",
    "# TODO : REQUETES COMPLEXES\n",
    "# TODO : JOINS\n",
    "# TODO : REQUETES AVEC FILTRES"
   ]
  },
  {
   "cell_type": "code",
   "execution_count": null,
   "metadata": {
    "id": "Xr4EKrp9SaXl"
   },
   "outputs": [],
   "source": [
    "# TODO Charlotte tu veux dire quoi ?\n",
    "# Tester avec des requêtes plus complexes\n",
    "# Utiliser un dataset plus grand (ça c'est au dessus)\n",
    "#  Ajouter des colonnes à indexer (c'est fait aussi au dessus)\n",
    "# Tous ces TODO n'ont rien changé."
   ]
  },
  {
   "cell_type": "markdown",
   "metadata": {
    "id": "YUKaVNidSaXl"
   },
   "source": [
    "# Fin du notebook"
   ]
  },
  {
   "cell_type": "code",
   "execution_count": null,
   "metadata": {
    "id": "K__CbN_ISaXl"
   },
   "outputs": [],
   "source": [
    "# Tout fermer proprement\n",
    "session.shutdown() # Fermer la connexion Cassandra\n",
    "cluster.shutdown() # Fermer le cluster Cassandra\n",
    "conn.close() # Fermer la connexion SQLite\n",
    "cursor.close() # Fermer le curseur SQLite"
   ]
  }
 ],
 "metadata": {
  "colab": {
   "collapsed_sections": [
    "zNbLEjRUSaXd",
    "DSa5TnVxSaXf",
    "gyQhyPcqXcdW",
    "joVbr__Z1aEJ"
   ],
   "provenance": []
  },
  "kernelspec": {
   "display_name": "jupyter_venv",
   "language": "python",
   "name": "python3"
  },
  "language_info": {
   "codemirror_mode": {
    "name": "ipython",
    "version": 3
   },
   "file_extension": ".py",
   "mimetype": "text/x-python",
   "name": "python",
   "nbconvert_exporter": "python",
   "pygments_lexer": "ipython3",
   "version": "3.11.10"
  }
 },
 "nbformat": 4,
 "nbformat_minor": 0
}
