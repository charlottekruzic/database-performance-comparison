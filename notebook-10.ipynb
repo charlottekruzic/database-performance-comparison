{
 "cells": [
  {
   "cell_type": "markdown",
   "metadata": {
    "id": "JEXns_C5SaXc"
   },
   "source": [
    "# Projet Traitement et Données Large Échelle\n",
    "\n",
    "Zoé MARQUIS & Charlotte KRUZIC"
   ]
  },
  {
   "cell_type": "markdown",
   "metadata": {
    "id": "zNbLEjRUSaXd"
   },
   "source": [
    "## Comparaison de Performances entre Systèmes Relationnels et NoSQL : Étude de Cas avec le Catalogue Netflix"
   ]
  },
  {
   "cell_type": "markdown",
   "metadata": {
    "id": "wR7GJDOISaXe"
   },
   "source": [
    "Dans ce projet, nous comparons les performances entre un système de base de données relationnel (SQLite) et un système NoSQL (Cassandra), en utilisant le **catalogue Netflix** comme jeu de données. Ce dataset, disponible en Open Data, offre une structure réaliste et adaptée pour explorer les différences entre ces deux approches de gestion de données. L'objectif principal est d'évaluer les performances pour des opérations d'insertion, mise à jour et requêtes complexes, tout en analysant les spécificités du système NoSQL choisi."
   ]
  },
  {
   "cell_type": "markdown",
   "metadata": {
    "id": "ZqbpvhO7SaXe"
   },
   "source": [
    "### Jeu de données\n",
    "\n",
    "Le jeu de données utilisé contient des informations sur les films et séries disponibles sur Netflix, avec les attributs suivants :\n",
    "    - `show_id` : Id unique pour chaque enregistrement\n",
    "    - `title` : Le titre\n",
    "    - `release_year` : L'année de sortie\n",
    "    - `rating` : La classification\n",
    "    - `duration` : La durée ou nombre de saisons (pour les séries)\n",
    "    - `listed_in` : Les catégories\n",
    "\n",
    "TODO : pourquoi ce choix"
   ]
  },
  {
   "cell_type": "markdown",
   "metadata": {
    "id": "KqlM6RB7SaXe"
   },
   "source": [
    "### Schéma de données\n",
    "\n",
    "#### Structure relationnelle (SQLite)\n",
    "\n",
    "Dans SQLite, nous utilisons une structure relationnelle classique avec les attributs définis dans une table principale, où chaque colonne correspond à un type de donnée bien spécifié. Des index sont également créés sur des colonnes clés pour optimiser les performances des requêtes fréquentes.\n",
    "\n",
    "TODO : remplir correctement les tables par rappotr à la suite\n",
    "```sql\n",
    "CREATE TABLE netflix (\n",
    "    show_id VARCHAR(255) PRIMARY KEY,\n",
    "    title VARCHAR(255),\n",
    "    release_year INT,\n",
    "    rating VARCHAR(50),\n",
    "    duration VARCHAR(50),\n",
    "    listed_in VARCHAR(255)\n",
    ");\n",
    "```\n",
    "\n",
    "\n",
    "#### Structure NoSQL (Cassandra)\n",
    "\n",
    "Pour Cassandra, nous adoptons une approche orientée colonnes, en structurant les données pour des accès rapides et efficaces selon les cas d'utilisation spécifiques.\n",
    "La structure NoSQL sera définie comme suit :\n",
    "\n",
    "```sql\n",
    "CREATE TABLE netflix (\n",
    "    show_id TEXT PRIMARY KEY,\n",
    "    title TEXT,\n",
    "    release_year INT,\n",
    "    rating TEXT,\n",
    "    duration TEXT,\n",
    "    listed_in TEXT\n",
    ");\n",
    "```\n",
    "\n",
    "\n",
    "TODO ; checker qu'on fait bien ça par la suite\n",
    "\n"
   ]
  },
  {
   "cell_type": "markdown",
   "metadata": {
    "id": "WT4hifJQSaXe"
   },
   "source": [
    "### Comparaison des schémas\n",
    "Le schéma relationnel est rigide et suit une normalisation stricte pour assurer la cohérence des données, tandis que Cassandra offre plus de flexibilité dans la structure des colonnes, permettant une meilleure scalabilité horizontale.\n",
    "\n",
    "TODO : expliciter ça"
   ]
  },
  {
   "cell_type": "markdown",
   "metadata": {
    "id": "xApu2UauSaXe"
   },
   "source": [
    "TODO : véifier\n",
    "\n",
    "---\n",
    "\n",
    "### Modèle de données de Cassandra\n",
    "\n",
    "Cassandra repose sur un modèle basé sur des colonnes plutôt que sur des documents (comme MongoDB) ou des paires clé-valeur (comme Redis).\n",
    "\n",
    "#### Keyspace\n",
    "Un Keyspace dans Cassandra peut être vu comme un espace de noms, similaire à une base de données dans les systèmes relationnels. Il permet de regrouper plusieurs tables (ou Column Families). Chaque Keyspace définit des propriétés de réplication, comme le nombre de répliques des données.\n",
    "\n",
    "#### Column Family\n",
    "Les Column Families dans Cassandra ressemblent aux tables en SQL, mais avec une flexibilité accrue dans la structure des données. Une Column Family contient plusieurs colonnes, mais contrairement aux tables relationnelles, les colonnes ne doivent pas nécessairement être définies à l'avance. Elles peuvent être ajoutées dynamiquement avec des noms et des valeurs.\n",
    "\n",
    "#### Key\n",
    "Chaque ligne dans une Column Family est identifiée par une clé unique (par exemple, show_id dans votre jeu de données Netflix). Cela permet d'identifier rapidement les enregistrements sans avoir à faire de jointures complexes comme dans une base de données relationnelle.\n",
    "\n",
    "#### Colonnes\n",
    "Dans Cassandra, les données sont stockées sous forme de colonnes avec 3 composants essentiels :\n",
    "\n",
    "- Nom : le nom de la colonne  \n",
    "- Valeur : la donnée elle-même  \n",
    "- Timestamp : un marqueur temporel qui permet de gérer les versions des données (utile pour les mises à jour et les conflits de réplication).  \n",
    "Chaque colonne dans Cassandra est un enregistrement indépendant et peut être insérée, mise à jour ou supprimée sans affecter les autres colonnes dans la même ligne.\n",
    "\n",
    "#### Super Colonnes\n",
    "Les Super Colonnes permettent une structure encore plus flexible et imbriquée, un peu comme les données hiérarchiques. Une Super Colonne est une collection de colonnes et peut être vue comme une ligne composée de plusieurs colonnes nommées. Ce mécanisme est particulièrement utile pour des cas d'utilisation complexes où plusieurs attributs doivent être regroupés sous une même clé."
   ]
  },
  {
   "cell_type": "markdown",
   "metadata": {
    "id": "VceX_rWESaXe"
   },
   "source": [
    "TODO : à vérifier\n",
    "\n",
    "### Choix de Cassandra pour ce projet\n",
    "\n",
    "Cassandra est un système de gestion de base de données NoSQL particulièrement adapté aux applications nécessitant une haute disponibilité et une scalabilité horizontale. Voici les principaux points qui justifient son choix pour ce projet, en comparaison avec d'autres systèmes NoSQL comme MongoDB ou Redis :\n",
    "\n",
    "- **Scalabilité horizontale**  \n",
    "Cassandra est conçu pour être hautement scalable, ce qui signifie qu'il peut facilement gérer de grandes quantités de données en ajoutant simplement plus de nœuds à son cluster, sans interruption de service. Contrairement à des bases comme MongoDB, qui peut rencontrer des limitations de scalabilité avec des configurations complexes de réplication et de sharding, Cassandra simplifie cette gestion.\n",
    "\n",
    "- **Haute disponibilité et tolérance aux pannes**  \n",
    "Cassandra offre une réplication native des données sur plusieurs nœuds, ce qui assure une disponibilité continue même en cas de panne de serveur ou de nœud. Ce mécanisme de réplication est essentiel dans les applications à grande échelle où la perte de données ou l'indisponibilité du service n'est pas acceptable. Ce niveau de résilience n'est pas aussi robuste dans des systèmes comme Redis, qui est plus adapté pour les caches en mémoire.\n",
    "\n",
    "- **Modèle de données flexible**  \n",
    "Cassandra adopte un modèle de données basé sur des colonnes plutôt que sur des documents (MongoDB) ou des paires clé-valeur (Redis), ce qui le rend particulièrement adapté pour les cas où la structure des données peut évoluer au fil du temps. De plus, bien que non relationnel, Cassandra permet une organisation des données en tables et index, offrant plus de structure que des systèmes comme CouchDB.\n",
    "\n",
    "TODO : explication plus détaillée dans la cellule précédente\n",
    "\n",
    "- **Performances optimisées pour les écritures massives**  \n",
    "Cassandra est optimisé pour des opérations d'écriture à grande échelle, ce qui en fait un excellent choix pour des applications générant de grandes quantités de données en continu (comme les logs, les événements ou les analyses de séries temporelles). Contrairement à MongoDB, qui peut être plus performant pour les lectures complexes, Cassandra excelle dans les insertions et les mises à jour rapides.\n",
    "\n",
    "- **Adapté aux cas d'utilisation distribués**\n",
    "Étant un système distribué par nature, Cassandra est idéal pour des architectures distribuées et géographiquement décentralisées. Son approche de la gestion des données et de la réplication est particulièrement utile lorsque les données doivent être distribuées sur des data centers multiples, un point que d'autres bases NoSQL, comme Couchbase, ne gèrent pas aussi efficacement.\n",
    "\n",
    "**En résumé :**\n",
    "Cassandra est un excellent choix pour ce projet en raison de sa capacité à gérer des volumes de données massifs, sa scalabilité horizontale, sa tolérance aux pannes, et ses performances exceptionnelles pour les écritures. Ces caractéristiques en font un candidat idéal pour des applications nécessitant des performances de lecture/écriture rapides et une disponibilité continue, contrairement à d'autres systèmes NoSQL comme MongoDB ou Redis qui peuvent avoir des avantages dans d'autres cas d'usage.\n",
    "\n",
    "\n",
    "\n",
    "**optimisé pour les opérations d'insertion massives.**"
   ]
  },
  {
   "cell_type": "markdown",
   "metadata": {
    "id": "CSf1vpGsSce3"
   },
   "source": [
    "---\n",
    "## Installer les outils"
   ]
  },
  {
   "cell_type": "code",
   "execution_count": 1,
   "metadata": {
    "colab": {
     "base_uri": "https://localhost:8080/"
    },
    "id": "186hCryRIqD6",
    "outputId": "3c35e481-857d-48f9-8a48-49f0cb5b74d4"
   },
   "outputs": [
    {
     "name": "stdout",
     "output_type": "stream",
     "text": [
      "Requirement already satisfied: plotly in ./jupyter_venv/lib/python3.11/site-packages (5.24.1)\n",
      "Requirement already satisfied: tenacity>=6.2.0 in ./jupyter_venv/lib/python3.11/site-packages (from plotly) (9.0.0)\n",
      "Requirement already satisfied: packaging in ./jupyter_venv/lib/python3.11/site-packages (from plotly) (24.2)\n"
     ]
    }
   ],
   "source": [
    "!pip install plotly "
   ]
  },
  {
   "cell_type": "code",
   "execution_count": null,
   "metadata": {},
   "outputs": [],
   "source": [
    "!pip install matplotlib"
   ]
  },
  {
   "cell_type": "code",
   "execution_count": 2,
   "metadata": {
    "colab": {
     "base_uri": "https://localhost:8080/"
    },
    "id": "GVxxvVptShJM",
    "outputId": "072989a2-00ca-496c-a54f-d7b549f83684"
   },
   "outputs": [
    {
     "name": "stdout",
     "output_type": "stream",
     "text": [
      "Requirement already satisfied: pandas in ./jupyter_venv/lib/python3.11/site-packages (2.2.3)\n",
      "Requirement already satisfied: numpy>=1.23.2 in ./jupyter_venv/lib/python3.11/site-packages (from pandas) (2.1.3)\n",
      "Requirement already satisfied: python-dateutil>=2.8.2 in ./jupyter_venv/lib/python3.11/site-packages (from pandas) (2.9.0.post0)\n",
      "Requirement already satisfied: pytz>=2020.1 in ./jupyter_venv/lib/python3.11/site-packages (from pandas) (2024.2)\n",
      "Requirement already satisfied: tzdata>=2022.7 in ./jupyter_venv/lib/python3.11/site-packages (from pandas) (2024.2)\n",
      "Requirement already satisfied: six>=1.5 in ./jupyter_venv/lib/python3.11/site-packages (from python-dateutil>=2.8.2->pandas) (1.17.0)\n"
     ]
    }
   ],
   "source": [
    "!pip install pandas\n",
    "# pour manipuler des dataframes et charger les données de kaggle"
   ]
  },
  {
   "cell_type": "code",
   "execution_count": 3,
   "metadata": {
    "colab": {
     "base_uri": "https://localhost:8080/"
    },
    "id": "ZQ3l1d5gzcLc",
    "outputId": "ee5a5b42-aa7a-41b1-ece4-aec355632e92"
   },
   "outputs": [
    {
     "name": "stdout",
     "output_type": "stream",
     "text": [
      "Requirement already satisfied: cassandra-driver in ./jupyter_venv/lib/python3.11/site-packages (3.29.2)\n",
      "Requirement already satisfied: geomet<0.3,>=0.1 in ./jupyter_venv/lib/python3.11/site-packages (from cassandra-driver) (0.2.1.post1)\n",
      "Requirement already satisfied: click in ./jupyter_venv/lib/python3.11/site-packages (from geomet<0.3,>=0.1->cassandra-driver) (8.1.7)\n",
      "Requirement already satisfied: six in ./jupyter_venv/lib/python3.11/site-packages (from geomet<0.3,>=0.1->cassandra-driver) (1.17.0)\n"
     ]
    }
   ],
   "source": [
    "!pip install cassandra-driver"
   ]
  },
  {
   "cell_type": "code",
   "execution_count": 4,
   "metadata": {
    "colab": {
     "base_uri": "https://localhost:8080/"
    },
    "id": "TgYL5rsMxcOG",
    "outputId": "97b7d11e-3588-402c-bbd7-55e2f1b14481"
   },
   "outputs": [],
   "source": [
    "# TODO à vérifier des 2 cotés\n",
    "# # 🚨 sur linux \n",
    "# !apt-get update\n",
    "# !apt-get install -y openjdk-11-jdk\n",
    "# !apt-get install libev-dev\n",
    "# !apt-get install cassandra\n",
    "\n",
    "# # 🚨 sur mac\n",
    "# !brew install openjdk@17\n",
    "# !brew install libev\n",
    "# !brew install cassandra\n"
   ]
  },
  {
   "cell_type": "code",
   "execution_count": 5,
   "metadata": {
    "colab": {
     "base_uri": "https://localhost:8080/"
    },
    "id": "DJ3uiRzSTNUB",
    "outputId": "71e9a318-fb38-4150-c9b7-134e79138da4"
   },
   "outputs": [
    {
     "name": "stdout",
     "output_type": "stream",
     "text": [
      "Requirement already satisfied: kagglehub in ./jupyter_venv/lib/python3.11/site-packages (0.3.4)\n",
      "Requirement already satisfied: packaging in ./jupyter_venv/lib/python3.11/site-packages (from kagglehub) (24.2)\n",
      "Requirement already satisfied: requests in ./jupyter_venv/lib/python3.11/site-packages (from kagglehub) (2.32.3)\n",
      "Requirement already satisfied: tqdm in ./jupyter_venv/lib/python3.11/site-packages (from kagglehub) (4.67.1)\n",
      "Requirement already satisfied: charset-normalizer<4,>=2 in ./jupyter_venv/lib/python3.11/site-packages (from requests->kagglehub) (3.4.0)\n",
      "Requirement already satisfied: idna<4,>=2.5 in ./jupyter_venv/lib/python3.11/site-packages (from requests->kagglehub) (3.10)\n",
      "Requirement already satisfied: urllib3<3,>=1.21.1 in ./jupyter_venv/lib/python3.11/site-packages (from requests->kagglehub) (2.2.3)\n",
      "Requirement already satisfied: certifi>=2017.4.17 in ./jupyter_venv/lib/python3.11/site-packages (from requests->kagglehub) (2024.8.30)\n"
     ]
    }
   ],
   "source": [
    "!pip install kagglehub\n",
    "# installer kagglehub pour récupérer le dataset"
   ]
  },
  {
   "cell_type": "code",
   "execution_count": 6,
   "metadata": {
    "colab": {
     "base_uri": "https://localhost:8080/"
    },
    "id": "7mCkktKTUCAw",
    "outputId": "129e5c0b-b98f-44a9-ecc0-1170c0d52916"
   },
   "outputs": [
    {
     "name": "stdout",
     "output_type": "stream",
     "text": [
      "Requirement already satisfied: tabulate in ./jupyter_venv/lib/python3.11/site-packages (0.9.0)\n"
     ]
    }
   ],
   "source": [
    "!pip install tabulate"
   ]
  },
  {
   "cell_type": "markdown",
   "metadata": {
    "id": "DSa5TnVxSaXf"
   },
   "source": [
    "## Importation des données"
   ]
  },
  {
   "cell_type": "code",
   "execution_count": 7,
   "metadata": {
    "colab": {
     "base_uri": "https://localhost:8080/"
    },
    "id": "7EWeXgMVTYUR",
    "outputId": "92b8b7cb-3191-4cdc-dfe8-0435ea2c0220"
   },
   "outputs": [
    {
     "name": "stdout",
     "output_type": "stream",
     "text": [
      "Chemin vers le fichier du dataset :  /Users/zoemarquis/.cache/kagglehub/datasets/shivamb/netflix-shows/versions/5\n"
     ]
    }
   ],
   "source": [
    "import kagglehub\n",
    "\n",
    "path = kagglehub.dataset_download(\"shivamb/netflix-shows\")\n",
    "print(\"Chemin vers le fichier du dataset : \", path)"
   ]
  },
  {
   "cell_type": "code",
   "execution_count": 8,
   "metadata": {
    "colab": {
     "base_uri": "https://localhost:8080/"
    },
    "id": "31NMsovvTYM6",
    "outputId": "d9527294-d00e-490b-b3f3-936eba3790fd"
   },
   "outputs": [
    {
     "name": "stdout",
     "output_type": "stream",
     "text": [
      "Nom du fichier :  ['netflix_titles.csv']\n"
     ]
    }
   ],
   "source": [
    "import os\n",
    "files = os.listdir(path)\n",
    "print(\"Nom du fichier : \", files)"
   ]
  },
  {
   "cell_type": "code",
   "execution_count": 9,
   "metadata": {
    "id": "Bvv23wiLSaXg"
   },
   "outputs": [],
   "source": [
    "import pandas as pd\n",
    "\n",
    "filename = f\"{path}/{files[0]}\"\n",
    "df_initial = pd.read_csv(filename)"
   ]
  },
  {
   "cell_type": "code",
   "execution_count": 10,
   "metadata": {
    "colab": {
     "base_uri": "https://localhost:8080/"
    },
    "id": "_npbZAVzSaXg",
    "outputId": "a455d3b7-8c08-4319-f298-2f0e93c112af"
   },
   "outputs": [
    {
     "name": "stdout",
     "output_type": "stream",
     "text": [
      "+----+-----------+---------+----------------------------------+-------------------------------+-----------------------------------------------------------------------------------------------------------------------------------------------------------------------------------------------------------------------------------------------------------------------------------------------------------------+-----------------------------------------------------------------------+--------------------+----------------+----------+------------+---------------------------------------------------------------+-----------------------------------------------------------------------------------------------------------------------------------------------------------+\n",
      "|    | show_id   | type    | title                            | director                      | cast                                                                                                                                                                                                                                                                                                            | country                                                               | date_added         |   release_year | rating   | duration   | listed_in                                                     | description                                                                                                                                               |\n",
      "|----+-----------+---------+----------------------------------+-------------------------------+-----------------------------------------------------------------------------------------------------------------------------------------------------------------------------------------------------------------------------------------------------------------------------------------------------------------+-----------------------------------------------------------------------+--------------------+----------------+----------+------------+---------------------------------------------------------------+-----------------------------------------------------------------------------------------------------------------------------------------------------------|\n",
      "|  0 | s1        | Movie   | Dick Johnson Is Dead             | Kirsten Johnson               | nan                                                                                                                                                                                                                                                                                                             | United States                                                         | September 25, 2021 |           2020 | PG-13    | 90 min     | Documentaries                                                 | As her father nears the end of his life, filmmaker Kirsten Johnson stages his death in inventive and comical ways to help them both face the inevitable.  |\n",
      "|  1 | s2        | TV Show | Blood & Water                    | nan                           | Ama Qamata, Khosi Ngema, Gail Mabalane, Thabang Molaba, Dillon Windvogel, Natasha Thahane, Arno Greeff, Xolile Tshabalala, Getmore Sithole, Cindy Mahlangu, Ryle De Morny, Greteli Fincham, Sello Maake Ka-Ncube, Odwa Gwanya, Mekaila Mathys, Sandi Schultz, Duane Williams, Shamilla Miller, Patrick Mofokeng | South Africa                                                          | September 24, 2021 |           2021 | TV-MA    | 2 Seasons  | International TV Shows, TV Dramas, TV Mysteries               | After crossing paths at a party, a Cape Town teen sets out to prove whether a private-school swimming star is her sister who was abducted at birth.       |\n",
      "|  2 | s3        | TV Show | Ganglands                        | Julien Leclercq               | Sami Bouajila, Tracy Gotoas, Samuel Jouy, Nabiha Akkari, Sofia Lesaffre, Salim Kechiouche, Noureddine Farihi, Geert Van Rampelberg, Bakary Diombera                                                                                                                                                             | nan                                                                   | September 24, 2021 |           2021 | TV-MA    | 1 Season   | Crime TV Shows, International TV Shows, TV Action & Adventure | To protect his family from a powerful drug lord, skilled thief Mehdi and his expert team of robbers are pulled into a violent and deadly turf war.        |\n",
      "|  3 | s4        | TV Show | Jailbirds New Orleans            | nan                           | nan                                                                                                                                                                                                                                                                                                             | nan                                                                   | September 24, 2021 |           2021 | TV-MA    | 1 Season   | Docuseries, Reality TV                                        | Feuds, flirtations and toilet talk go down among the incarcerated women at the Orleans Justice Center in New Orleans on this gritty reality series.       |\n",
      "|  4 | s5        | TV Show | Kota Factory                     | nan                           | Mayur More, Jitendra Kumar, Ranjan Raj, Alam Khan, Ahsaas Channa, Revathi Pillai, Urvi Singh, Arun Kumar                                                                                                                                                                                                        | India                                                                 | September 24, 2021 |           2021 | TV-MA    | 2 Seasons  | International TV Shows, Romantic TV Shows, TV Comedies        | In a city of coaching centers known to train India’s finest collegiate minds, an earnest but unexceptional student and his friends navigate campus life.  |\n",
      "|  5 | s6        | TV Show | Midnight Mass                    | Mike Flanagan                 | Kate Siegel, Zach Gilford, Hamish Linklater, Henry Thomas, Kristin Lehman, Samantha Sloyan, Igby Rigney, Rahul Kohli, Annarah Cymone, Annabeth Gish, Alex Essoe, Rahul Abburi, Matt Biedel, Michael Trucco, Crystal Balint, Louis Oliver                                                                        | nan                                                                   | September 24, 2021 |           2021 | TV-MA    | 1 Season   | TV Dramas, TV Horror, TV Mysteries                            | The arrival of a charismatic young priest brings glorious miracles, ominous mysteries and renewed religious fervor to a dying town desperate to believe.  |\n",
      "|  6 | s7        | Movie   | My Little Pony: A New Generation | Robert Cullen, José Luis Ucha | Vanessa Hudgens, Kimiko Glenn, James Marsden, Sofia Carson, Liza Koshy, Ken Jeong, Elizabeth Perkins, Jane Krakowski, Michael McKean, Phil LaMarr                                                                                                                                                               | nan                                                                   | September 24, 2021 |           2021 | PG       | 91 min     | Children & Family Movies                                      | Equestria's divided. But a bright-eyed hero believes Earth Ponies, Pegasi and Unicorns should be pals — and, hoof to heart, she’s determined to prove it. |\n",
      "|  7 | s8        | Movie   | Sankofa                          | Haile Gerima                  | Kofi Ghanaba, Oyafunmike Ogunlano, Alexandra Duah, Nick Medley, Mutabaruka, Afemo Omilami, Reggie Carter, Mzuri                                                                                                                                                                                                 | United States, Ghana, Burkina Faso, United Kingdom, Germany, Ethiopia | September 24, 2021 |           1993 | TV-MA    | 125 min    | Dramas, Independent Movies, International Movies              | On a photo shoot in Ghana, an American model slips back in time, becomes enslaved on a plantation and bears witness to the agony of her ancestral past.   |\n",
      "|  8 | s9        | TV Show | The Great British Baking Show    | Andy Devonshire               | Mel Giedroyc, Sue Perkins, Mary Berry, Paul Hollywood                                                                                                                                                                                                                                                           | United Kingdom                                                        | September 24, 2021 |           2021 | TV-14    | 9 Seasons  | British TV Shows, Reality TV                                  | A talented batch of amateur bakers face off in a 10-week competition, whipping up their best dishes in the hopes of being named the U.K.'s best.          |\n",
      "|  9 | s10       | Movie   | The Starling                     | Theodore Melfi                | Melissa McCarthy, Chris O'Dowd, Kevin Kline, Timothy Olyphant, Daveed Diggs, Skyler Gisondo, Laura Harrier, Rosalind Chao, Kimberly Quinn, Loretta Devine, Ravi Kapoor                                                                                                                                          | United States                                                         | September 24, 2021 |           2021 | PG-13    | 104 min    | Comedies, Dramas                                              | A woman adjusting to life after a loss contends with a feisty bird that's taken over her garden — and a husband who's struggling to find a way forward.   |\n",
      "+----+-----------+---------+----------------------------------+-------------------------------+-----------------------------------------------------------------------------------------------------------------------------------------------------------------------------------------------------------------------------------------------------------------------------------------------------------------+-----------------------------------------------------------------------+--------------------+----------------+----------+------------+---------------------------------------------------------------+-----------------------------------------------------------------------------------------------------------------------------------------------------------+\n"
     ]
    }
   ],
   "source": [
    "from tabulate import tabulate\n",
    "\n",
    "print(tabulate(df_initial.head(10), headers='keys', tablefmt='psql'))"
   ]
  },
  {
   "cell_type": "code",
   "execution_count": 11,
   "metadata": {
    "colab": {
     "base_uri": "https://localhost:8080/"
    },
    "id": "LhIN7tF2UP3e",
    "outputId": "dd3f1bd5-2061-4a92-9b5c-d9a706660362"
   },
   "outputs": [
    {
     "name": "stdout",
     "output_type": "stream",
     "text": [
      "Nombre de lignes : 8807\n"
     ]
    }
   ],
   "source": [
    "# afficher le nombre de lignes dans le dataset\n",
    "print(f\"Nombre de lignes : {len(df_initial)}\")"
   ]
  },
  {
   "cell_type": "code",
   "execution_count": 12,
   "metadata": {
    "colab": {
     "base_uri": "https://localhost:8080/"
    },
    "id": "ja5uNKumUP1X",
    "outputId": "85d58bb2-0c66-4f47-c720-ce978e0a9f2e"
   },
   "outputs": [
    {
     "name": "stdout",
     "output_type": "stream",
     "text": [
      "show_id         object\n",
      "type            object\n",
      "title           object\n",
      "director        object\n",
      "cast            object\n",
      "country         object\n",
      "date_added      object\n",
      "release_year     int64\n",
      "rating          object\n",
      "duration        object\n",
      "listed_in       object\n",
      "description     object\n",
      "dtype: object\n"
     ]
    }
   ],
   "source": [
    "# types des colonnes\n",
    "print(df_initial.dtypes)"
   ]
  },
  {
   "cell_type": "code",
   "execution_count": 13,
   "metadata": {
    "id": "QEm7E9xvSaXg"
   },
   "outputs": [],
   "source": [
    "# Convertir la colonne show_id en int en enlevant le préfixe 's' (plus simple pour gérer exactement le meme type de données en Cassandra et MySQL)\n",
    "df_initial['show_id'] = df_initial['show_id'].str.replace('s', '').astype(int).astype(int)\n",
    "\n",
    "df_initial['show_id'] = df_initial['show_id'].astype(int)\n",
    "df_initial['release_year'] = df_initial['release_year'].astype(int)\n",
    "\n",
    "df_initial['type'] = df_initial['title'].astype(str)\n",
    "df_initial['title'] = df_initial['title'].astype(str)\n",
    "df_initial['director'] = df_initial['director'].astype(str)\n",
    "df_initial['cast'] = df_initial['cast'].astype(str)\n",
    "df_initial['country'] = df_initial['country'].astype(str)\n",
    "df_initial['date_added'] = df_initial['date_added'].astype(str)\n",
    "df_initial['rating'] = df_initial['rating'].astype(str)\n",
    "df_initial['duration'] = df_initial['duration'].astype(str)\n",
    "df_initial['listed_in'] = df_initial['listed_in'].astype(str)\n",
    "df_initial['description'] = df_initial['description'].astype(str)"
   ]
  },
  {
   "cell_type": "code",
   "execution_count": 14,
   "metadata": {
    "colab": {
     "base_uri": "https://localhost:8080/"
    },
    "id": "nhGD7JxiUPy_",
    "outputId": "14418a1c-e7a1-4425-ebb9-b36e5164063e"
   },
   "outputs": [
    {
     "name": "stdout",
     "output_type": "stream",
     "text": [
      "show_id          int64\n",
      "type            object\n",
      "title           object\n",
      "director        object\n",
      "cast            object\n",
      "country         object\n",
      "date_added      object\n",
      "release_year     int64\n",
      "rating          object\n",
      "duration        object\n",
      "listed_in       object\n",
      "description     object\n",
      "dtype: object\n"
     ]
    }
   ],
   "source": [
    "# types des colonnes\n",
    "print(df_initial.dtypes)"
   ]
  },
  {
   "cell_type": "markdown",
   "metadata": {
    "id": "uDH9Xdn3aRcT"
   },
   "source": [
    "## CRUD : Create, Read, Update, Delete\n",
    "- Create (*Insert*) : Insérer des données dans la base de données.\n",
    "- Read (*Select*) : Récupérer des données.\n",
    "- Update (*Update*) : Modifier des données existantes.\n",
    "- Delete (*Delete*) : Effacer des données."
   ]
  },
  {
   "cell_type": "code",
   "execution_count": 15,
   "metadata": {
    "id": "v-XAjHUPL-Fq"
   },
   "outputs": [],
   "source": [
    "schema = \"\"\"\n",
    "CREATE TABLE IF NOT EXISTS shows (\n",
    "    show_id INT PRIMARY KEY,\n",
    "    title TEXT,\n",
    "    type TEXT,\n",
    "    director TEXT,\n",
    "    cast TEXT,\n",
    "    country TEXT,\n",
    "    date_added TEXT,\n",
    "    release_year INT,\n",
    "    rating TEXT,\n",
    "    duration TEXT,\n",
    "    listed_in TEXT,\n",
    "    description TEXT\n",
    ");\n",
    "\"\"\""
   ]
  },
  {
   "cell_type": "code",
   "execution_count": 16,
   "metadata": {
    "id": "5HsvkRtyOTPO"
   },
   "outputs": [],
   "source": [
    "data_zoe_charlotte = {\n",
    "    'show_id': [0],\n",
    "    'title': ['Zoé & Charlotte'],\n",
    "    'type': ['Movie'],\n",
    "    'director': ['Christopher Nolan'],\n",
    "    'cast': ['Leonardo DiCaprio, Joseph Gordon-Levitt'],\n",
    "    'country': ['USA'],\n",
    "    'date_added': ['2021-01-01'],\n",
    "    'release_year': [2001],\n",
    "    'rating': ['PG-13'],\n",
    "    'duration': ['148 min'],\n",
    "    'listed_in': ['Action, Sci-Fi'],\n",
    "    'description': ['A thief who steals corporate secrets through the use of dream-sharing technology is given the inverse task of planting an idea into the mind of a CEO.']\n",
    "}\n",
    "df_zoe_charlotte = pd.DataFrame(data_zoe_charlotte)"
   ]
  },
  {
   "cell_type": "markdown",
   "metadata": {
    "id": "gyQhyPcqXcdW"
   },
   "source": [
    "### SQLite"
   ]
  },
  {
   "cell_type": "code",
   "execution_count": 17,
   "metadata": {
    "colab": {
     "base_uri": "https://localhost:8080/"
    },
    "id": "czfGeguOZ7zT",
    "outputId": "937e55dc-b9ad-449c-93ad-2fe850ba5215"
   },
   "outputs": [],
   "source": [
    "import sqlite3\n",
    "\n",
    "# Créer une base de données SQLite en mémoire\n",
    "conn = sqlite3.connect(':memory:')\n",
    "cursor = conn.cursor()\n",
    "\n",
    "def drop_table_sqlite():\n",
    "    cursor.execute(\"DROP TABLE IF EXISTS shows;\")\n",
    "    conn.commit()\n",
    "\n",
    "def create_table_sqlite():\n",
    "    # Crée ta table ici\n",
    "    cursor.execute(schema)\n",
    "    conn.commit()\n",
    "\n",
    "drop_table_sqlite()\n",
    "create_table_sqlite()\n"
   ]
  },
  {
   "cell_type": "code",
   "execution_count": null,
   "metadata": {
    "id": "v4PSpmxUNXwJ"
   },
   "outputs": [],
   "source": [
    "import time\n",
    "\n",
    "# --- CREATE ---\n",
    "def sqlite_insert(df):\n",
    "    drop_table_sqlite()\n",
    "    create_table_sqlite()\n",
    "    columns = ', '.join(df.columns)\n",
    "    placeholders = ', '.join(['?'] * len(df.columns))\n",
    "    insert_query = f\"INSERT INTO shows ({columns}) VALUES ({placeholders})\"\n",
    "\n",
    "    start_time = time.time()\n",
    "    for _, row in df.iterrows():\n",
    "      cursor.execute(insert_query, tuple(row))\n",
    "    conn.commit()\n",
    "\n",
    "    create_time_sqlite = time.time() - start_time\n",
    "    print(f\"Create Time: {create_time_sqlite:.6f} seconds\")\n",
    "    return create_time_sqlite\n",
    "\n",
    "# --- READ ---\n",
    "def sqlite_read(df):\n",
    "    # drop_table_sqlite()\n",
    "    # create_table_sqlite()\n",
    "    sqlite_insert(df)\n",
    "    start_time = time.time()\n",
    "    cursor.execute(\"SELECT * FROM shows WHERE release_year > 2000\")\n",
    "    result = cursor.fetchall()\n",
    "    read_time_sqlite = time.time() - start_time\n",
    "    print(f\"Read Time: {read_time_sqlite:.6f} seconds\")\n",
    "    print(f\"Queried {len(result)} records\")\n",
    "    return read_time_sqlite\n",
    "\n",
    "# --- UPDATE ---\n",
    "def sqlite_update(df):\n",
    "    # drop_table_sqlite()\n",
    "    # create_table_sqlite()\n",
    "    sqlite_insert(df)\n",
    "    start_time = time.time()\n",
    "    cursor.execute(\"UPDATE shows SET rating='PG' WHERE release_year > 2000\")\n",
    "    conn.commit()\n",
    "    update_time_sqlite = time.time() - start_time\n",
    "    print(f\"Update Time: {update_time_sqlite:.6f} seconds\")\n",
    "    return update_time_sqlite\n",
    "\n",
    "# --- DELETE ---\n",
    "def sqlite_delete(df):\n",
    "    # drop_table_sqlite()\n",
    "    # create_table_sqlite()\n",
    "    sqlite_insert(df)\n",
    "    start_time = time.time()\n",
    "    cursor.execute(\"DELETE FROM shows WHERE release_year > 2000\")\n",
    "    conn.commit()\n",
    "    delete_time_sqlite = time.time() - start_time\n",
    "    print(f\"Delete Time: {delete_time_sqlite:.6f} seconds\")\n",
    "    return delete_time_sqlite"
   ]
  },
  {
   "cell_type": "code",
   "execution_count": 19,
   "metadata": {},
   "outputs": [
    {
     "name": "stdout",
     "output_type": "stream",
     "text": [
      "Create Time: 0.000321 seconds\n",
      "Create Time: 0.000414 seconds\n",
      "Create Time: 0.000084 seconds\n",
      "Create Time: 0.000049 seconds\n",
      "Create Time: 0.000049 seconds\n",
      "CREATE: Mean Time = 0.000183s, Std Time = 0.000154s\n",
      "Total rows in 'shows' table: 1\n",
      "Create Time: 0.000044 seconds\n",
      "Read Time: 0.000010 seconds\n",
      "Queried 1 records\n",
      "Create Time: 0.000036 seconds\n",
      "Read Time: 0.000012 seconds\n",
      "Queried 1 records\n",
      "Create Time: 0.000034 seconds\n",
      "Read Time: 0.000009 seconds\n",
      "Queried 1 records\n",
      "Create Time: 0.000031 seconds\n",
      "Read Time: 0.000008 seconds\n",
      "Queried 1 records\n",
      "Create Time: 0.000032 seconds\n",
      "Read Time: 0.000008 seconds\n",
      "Queried 1 records\n",
      "READ: Mean Time = 0.000009s, Std Time = 0.000002s\n",
      "Create Time: 0.000035 seconds\n",
      "Update Time: 0.000007 seconds\n",
      "Create Time: 0.000032 seconds\n",
      "Update Time: 0.000005 seconds\n",
      "Create Time: 0.000032 seconds\n",
      "Update Time: 0.000005 seconds\n",
      "Create Time: 0.000030 seconds\n",
      "Update Time: 0.000004 seconds\n",
      "Create Time: 0.000028 seconds\n",
      "Update Time: 0.000004 seconds\n",
      "UPDATE: Mean Time = 0.000005s, Std Time = 0.000001s\n",
      "Create Time: 0.000035 seconds\n",
      "Delete Time: 0.000005 seconds\n",
      "Create Time: 0.000033 seconds\n",
      "Delete Time: 0.000005 seconds\n",
      "Create Time: 0.000031 seconds\n",
      "Delete Time: 0.000005 seconds\n",
      "Create Time: 0.000029 seconds\n",
      "Delete Time: 0.000004 seconds\n",
      "Create Time: 0.000028 seconds\n",
      "Delete Time: 0.000004 seconds\n",
      "DELETE: Mean Time = 0.000005s, Std Time = 0.000001s\n"
     ]
    }
   ],
   "source": [
    "import numpy as np\n",
    "\n",
    "# Fonction pour effectuer une opération plusieurs fois et calculer la moyenne et l'écart-type\n",
    "def benchmark_operation(func, *args):\n",
    "    times = []\n",
    "    for _ in range(5):  # Effectuer 5 itérations\n",
    "        times.append(func(*args))  # Exécuter la fonction avec les arguments\n",
    "    \n",
    "    # Calculer la moyenne et l'écart-type\n",
    "    mean_time = np.mean(times)\n",
    "    std_time = np.std(times)\n",
    "    return mean_time, std_time\n",
    "\n",
    "# --- CREATE ---\n",
    "create_sqlite_mean, create_sqlite_std = benchmark_operation(sqlite_insert, df_zoe_charlotte)\n",
    "print(f\"CREATE: Mean Time = {create_sqlite_mean:.6f}s, Std Time = {create_sqlite_std:.6f}s\")\n",
    "\n",
    "# Vérifier le nombre de lignes insérées\n",
    "cursor.execute('SELECT COUNT(*) FROM shows')\n",
    "row = cursor.fetchone()\n",
    "print(f\"Total rows in 'shows' table: {row[0]}\")\n",
    "\n",
    "# --- READ ---\n",
    "read_sqlite_mean, read_sqlite_std = benchmark_operation(sqlite_read, df_zoe_charlotte)\n",
    "print(f\"READ: Mean Time = {read_sqlite_mean:.6f}s, Std Time = {read_sqlite_std:.6f}s\")\n",
    "\n",
    "# --- UPDATE ---\n",
    "update_sqlite_mean, update_sqlite_std = benchmark_operation(sqlite_update, df_zoe_charlotte)\n",
    "print(f\"UPDATE: Mean Time = {update_sqlite_mean:.6f}s, Std Time = {update_sqlite_std:.6f}s\")\n",
    "\n",
    "# --- DELETE ---\n",
    "delete_sqlite_mean, delete_sqlite_std = benchmark_operation(sqlite_delete, df_zoe_charlotte)\n",
    "print(f\"DELETE: Mean Time = {delete_sqlite_mean:.6f}s, Std Time = {delete_sqlite_std:.6f}s\")"
   ]
  },
  {
   "cell_type": "markdown",
   "metadata": {
    "id": "8p6QWjBaUO8t"
   },
   "source": [
    "TODO rédaction : on le fait sur plus de données"
   ]
  },
  {
   "cell_type": "code",
   "execution_count": 37,
   "metadata": {},
   "outputs": [
    {
     "name": "stdout",
     "output_type": "stream",
     "text": [
      "Create Time: 0.107551 seconds\n",
      "Create Time: 0.100729 seconds\n",
      "Create Time: 0.100750 seconds\n",
      "Create Time: 0.103986 seconds\n",
      "Create Time: 0.100439 seconds\n",
      "CREATE: Mean Time = 0.102691s, Std Time = 0.002756s\n",
      "Total rows in 'shows' table: 8807\n",
      "Create Time: 0.132303 seconds\n",
      "Read Time: 0.011685 seconds\n",
      "Queried 8245 records\n",
      "Create Time: 0.104780 seconds\n",
      "Read Time: 0.010905 seconds\n",
      "Queried 8245 records\n",
      "Create Time: 0.107852 seconds\n",
      "Read Time: 0.010951 seconds\n",
      "Queried 8245 records\n",
      "Create Time: 0.105957 seconds\n",
      "Read Time: 0.012354 seconds\n",
      "Queried 8245 records\n",
      "Create Time: 0.104264 seconds\n",
      "Read Time: 0.010425 seconds\n",
      "Queried 8245 records\n",
      "READ: Mean Time = 0.011264s, Std Time = 0.000678s\n",
      "Create Time: 0.103975 seconds\n",
      "Update Time: 0.004322 seconds\n",
      "Create Time: 0.143630 seconds\n",
      "Update Time: 0.005383 seconds\n",
      "Create Time: 0.109570 seconds\n",
      "Update Time: 0.004888 seconds\n",
      "Create Time: 0.102506 seconds\n",
      "Update Time: 0.003925 seconds\n",
      "Create Time: 0.103371 seconds\n",
      "Update Time: 0.004276 seconds\n",
      "UPDATE: Mean Time = 0.004559s, Std Time = 0.000515s\n",
      "Create Time: 0.103184 seconds\n",
      "Delete Time: 0.002951 seconds\n",
      "Create Time: 0.102730 seconds\n",
      "Delete Time: 0.003183 seconds\n",
      "Create Time: 0.102409 seconds\n",
      "Delete Time: 0.003219 seconds\n",
      "Create Time: 0.102670 seconds\n",
      "Delete Time: 0.002931 seconds\n",
      "Create Time: 0.100276 seconds\n",
      "Delete Time: 0.002875 seconds\n",
      "DELETE: Mean Time = 0.003032s, Std Time = 0.000141s\n"
     ]
    }
   ],
   "source": [
    "# --- CREATE ---\n",
    "create_sqlite_massive_mean, create_sqlite_massive_std = benchmark_operation(sqlite_insert, df_initial)\n",
    "print(f\"CREATE: Mean Time = {create_sqlite_massive_mean:.6f}s, Std Time = {create_sqlite_massive_std:.6f}s\")\n",
    "\n",
    "# Vérifier le nombre de lignes insérées\n",
    "cursor.execute('SELECT COUNT(*) FROM shows')\n",
    "row = cursor.fetchone()\n",
    "print(f\"Total rows in 'shows' table: {row[0]}\")\n",
    "\n",
    "# --- READ ---\n",
    "read_sqlite_massive_mean, read_sqlite_massive_std = benchmark_operation(sqlite_read, df_initial)\n",
    "print(f\"READ: Mean Time = {read_sqlite_massive_mean:.6f}s, Std Time = {read_sqlite_massive_std:.6f}s\")\n",
    "\n",
    "# --- UPDATE ---\n",
    "update_sqlite_massive_mean, update_sqlite_massive_std = benchmark_operation(sqlite_update, df_initial)\n",
    "print(f\"UPDATE: Mean Time = {update_sqlite_massive_mean:.6f}s, Std Time = {update_sqlite_massive_std:.6f}s\")\n",
    "\n",
    "# --- DELETE ---\n",
    "delete_sqlite_massive_mean, delete_sqlite_massive_std = benchmark_operation(sqlite_delete, df_initial)\n",
    "print(f\"DELETE: Mean Time = {delete_sqlite_massive_mean:.6f}s, Std Time = {delete_sqlite_massive_std:.6f}s\")"
   ]
  },
  {
   "cell_type": "markdown",
   "metadata": {
    "id": "lvIFGYwhtkfY"
   },
   "source": [
    "### Cassandra"
   ]
  },
  {
   "cell_type": "code",
   "execution_count": 21,
   "metadata": {},
   "outputs": [
    {
     "name": "stdout",
     "output_type": "stream",
     "text": [
      "Datacenter: datacenter1\n",
      "=======================\n",
      "Status=Up/Down\n",
      "|/ State=Normal/Leaving/Joining/Moving\n",
      "--  Address    Load        Tokens  Owns (effective)  Host ID                               Rack \n",
      "UN  127.0.0.1  393,05 KiB  16      100,0%            11c2e131-3642-40ab-a44b-5d5e95f42edb  rack1\n",
      "\n"
     ]
    }
   ],
   "source": [
    "# vérifier l'état actuel du noeud Cassandra\n",
    "!nodetool status"
   ]
  },
  {
   "cell_type": "code",
   "execution_count": 22,
   "metadata": {
    "colab": {
     "base_uri": "https://localhost:8080/",
     "height": 608
    },
    "id": "sZNeaq6fwhS9",
    "outputId": "6b6d4186-8a12-4942-aea8-6806c6ee8835"
   },
   "outputs": [
    {
     "name": "stdout",
     "output_type": "stream",
     "text": [
      "replication factor = 1\n"
     ]
    }
   ],
   "source": [
    "from cassandra.cluster import Cluster\n",
    "\n",
    "# Connexion à Cassandra\n",
    "cluster = Cluster(['127.0.0.1'])\n",
    "session = cluster.connect()\n",
    "\n",
    "\n",
    "def drop_table_cassandra():\n",
    "    session.execute(\"\"\"\n",
    "        DROP TABLE IF EXISTS netflix.shows;\n",
    "        \"\"\")\n",
    "    session.execute(\"\"\"\n",
    "        DROP KEYSPACE IF EXISTS netflix;\n",
    "        \"\"\")\n",
    "\n",
    "def create_table_cassandra(replication_factor):\n",
    "    session.execute(f\"\"\"\n",
    "        CREATE KEYSPACE netflix\n",
    "        WITH REPLICATION = {{\n",
    "            'class': 'SimpleStrategy', \n",
    "            'replication_factor': {replication_factor}\n",
    "        }};\n",
    "        \"\"\")\n",
    "    session.set_keyspace('netflix')\n",
    "    session.execute(schema)\n",
    "    print(f\"replication factor = {replication_factor}\")\n",
    "\n",
    "     \n",
    "drop_table_cassandra()\n",
    "create_table_cassandra(1)"
   ]
  },
  {
   "cell_type": "markdown",
   "metadata": {
    "id": "4Df27nDd5-sx"
   },
   "source": [
    "TODO : pour l'instant on crée pas d'index mais on le fait après pour comparer"
   ]
  },
  {
   "cell_type": "code",
   "execution_count": null,
   "metadata": {
    "id": "o5dNeAZ9tndK"
   },
   "outputs": [],
   "source": [
    "# --- CREATE ---\n",
    "def cassandra_insert(*args):\n",
    "    df = args[0]  # Premier argument, qui est le DataFrame\n",
    "    nb_repl = args[1]  # Deuxième argument, qui est le nombre de répliques\n",
    "\n",
    "    drop_table_cassandra()\n",
    "    create_table_cassandra(nb_repl)\n",
    "\n",
    "    insert_query = session.prepare(\"INSERT INTO shows (show_id, title, director, cast, country, date_added, release_year, rating, duration, listed_in, description) VALUES (?, ?, ?, ?, ?, ?, ?, ?, ?, ?, ?)\")\n",
    "\n",
    "    start_time = time.time()\n",
    "    for _, row in df.iterrows():\n",
    "        session.execute(insert_query, (row['show_id'], row['title'], row['director'], row['cast'], row['country'], row['date_added'], row['release_year'], row['rating'], row['duration'], row['listed_in'], row['description']))\n",
    "    create_time = time.time() - start_time\n",
    "\n",
    "    print(f\"Create Time: {create_time:.6f} seconds\")\n",
    "\n",
    "    return create_time\n",
    "\n",
    "# --- READ ---\n",
    "def cassandra_read(*args):\n",
    "    df = args[0]  # Premier argument, qui est le DataFrame\n",
    "    nb_repl = args[1]  # Deuxième argument, qui est le nombre de répliques\n",
    "\n",
    "    # drop_table_cassandra()\n",
    "    # create_table_cassandra(nb_repl)\n",
    "    cassandra_insert(df, nb_repl)\n",
    "\n",
    "    start_time = time.time()\n",
    "    # On utilise ici ALLOW FILTERING car release_year ne fait pas partie de la clef primaire\n",
    "    result = session.execute(\"SELECT * FROM shows WHERE release_year > 2000 ALLOW FILTERING\")\n",
    "    read_time = time.time() - start_time\n",
    "    print(f\"Read Time: {read_time:.6f} seconds\")\n",
    "    num_records = sum(1 for _ in result)  # Count rows using a generator expression\n",
    "    print(f\"Queried {num_records} records\")\n",
    "    return read_time\n",
    "\n",
    "# --- UPDATE ---\n",
    "def cassandra_update(*args):\n",
    "    df = args[0]  # Premier argument, qui est le DataFrame\n",
    "    nb_repl = args[1]  # Deuxième argument, qui est le nombre de répliques\n",
    "\n",
    "    # drop_table_cassandra()\n",
    "    # create_table_cassandra(nb_repl)\n",
    "    cassandra_insert(df, nb_repl)\n",
    "\n",
    "    # On doit faire select et update car realease_year ne fait pas partie de la clef primaire\n",
    "    start_time = time.time()\n",
    "\n",
    "    select_query = \"SELECT show_id FROM shows WHERE release_year > 2000 ALLOW FILTERING;\"\n",
    "    result = session.execute(select_query)\n",
    "    show_ids_to_update = [row.show_id for row in result]\n",
    "\n",
    "    for show_id in show_ids_to_update:\n",
    "        update_query = f\"UPDATE shows SET rating = 'PG' WHERE show_id = {show_id};\"\n",
    "        session.execute(update_query)\n",
    "\n",
    "    update_time = time.time() - start_time\n",
    "    print(f\"Update Time: {update_time:.6f} seconds\")\n",
    "    return update_time\n",
    "\n",
    "# --- DELETE ---\n",
    "def cassandra_delete(*args):\n",
    "    df = args[0]  # Premier argument, qui est le DataFrame\n",
    "    nb_repl = args[1]  # Deuxième argument, qui est le nombre de répliques\n",
    "\n",
    "    # drop_table_cassandra()\n",
    "    # create_table_cassandra(nb_repl)\n",
    "    cassandra_insert(df, nb_repl)\n",
    "    \n",
    "    # Comme pour update\n",
    "    start_time = time.time()\n",
    "\n",
    "    select_query = \"SELECT show_id FROM shows WHERE release_year > 2000 ALLOW FILTERING;\"\n",
    "    result = session.execute(select_query)\n",
    "    show_ids_to_delete = [row.show_id for row in result]\n",
    "\n",
    "    for show_id in show_ids_to_delete:\n",
    "        delete_query = f\"DELETE FROM shows WHERE show_id = {show_id};\"\n",
    "        session.execute(delete_query)\n",
    "\n",
    "    delete_time = time.time() - start_time\n",
    "    print(f\"Delete Time: {delete_time:.6f} seconds\")\n",
    "    return delete_time"
   ]
  },
  {
   "cell_type": "code",
   "execution_count": 30,
   "metadata": {},
   "outputs": [
    {
     "name": "stdout",
     "output_type": "stream",
     "text": [
      "replication factor = 1\n",
      "Create Time: 0.000594 seconds\n",
      "replication factor = 1\n",
      "Create Time: 0.000540 seconds\n",
      "replication factor = 1\n",
      "Create Time: 0.001224 seconds\n",
      "replication factor = 1\n",
      "Create Time: 0.000670 seconds\n",
      "replication factor = 1\n",
      "Create Time: 0.001062 seconds\n",
      "CREATE: Mean Time = 0.000818s, Std Time = 0.000273s\n",
      "Total rows in 'shows' table: 1\n",
      "replication factor = 1\n",
      "replication factor = 1\n",
      "Create Time: 0.001285 seconds\n",
      "Read Time: 0.000701 seconds\n",
      "Queried 1 records\n",
      "replication factor = 1\n",
      "replication factor = 1\n",
      "Create Time: 0.000952 seconds\n",
      "Read Time: 0.000694 seconds\n",
      "Queried 1 records\n",
      "replication factor = 1\n",
      "replication factor = 1\n",
      "Create Time: 0.000631 seconds\n",
      "Read Time: 0.000919 seconds\n",
      "Queried 1 records\n",
      "replication factor = 1\n",
      "replication factor = 1\n",
      "Create Time: 0.000719 seconds\n",
      "Read Time: 0.000831 seconds\n",
      "Queried 1 records\n",
      "replication factor = 1\n",
      "replication factor = 1\n",
      "Create Time: 0.001834 seconds\n",
      "Read Time: 0.002246 seconds\n",
      "Queried 1 records\n",
      "READ: Mean Time = 0.001078s, Std Time = 0.000590s\n",
      "replication factor = 1\n",
      "replication factor = 1\n",
      "Create Time: 0.001524 seconds\n",
      "Update Time: 0.002066 seconds\n",
      "replication factor = 1\n",
      "replication factor = 1\n",
      "Create Time: 0.001800 seconds\n",
      "Update Time: 0.001287 seconds\n",
      "replication factor = 1\n",
      "replication factor = 1\n",
      "Create Time: 0.001763 seconds\n",
      "Update Time: 0.002200 seconds\n",
      "replication factor = 1\n",
      "replication factor = 1\n",
      "Create Time: 0.000683 seconds\n",
      "Update Time: 0.000993 seconds\n",
      "replication factor = 1\n",
      "replication factor = 1\n",
      "Create Time: 0.000835 seconds\n",
      "Update Time: 0.000793 seconds\n",
      "UPDATE: Mean Time = 0.001468s, Std Time = 0.000567s\n",
      "replication factor = 1\n",
      "replication factor = 1\n",
      "Create Time: 0.001689 seconds\n",
      "Delete Time: 0.002390 seconds\n",
      "replication factor = 1\n",
      "replication factor = 1\n",
      "Create Time: 0.000775 seconds\n",
      "Delete Time: 0.000767 seconds\n",
      "replication factor = 1\n",
      "replication factor = 1\n",
      "Create Time: 0.001566 seconds\n",
      "Delete Time: 0.002379 seconds\n",
      "replication factor = 1\n",
      "replication factor = 1\n",
      "Create Time: 0.001211 seconds\n",
      "Delete Time: 0.001979 seconds\n",
      "replication factor = 1\n",
      "replication factor = 1\n",
      "Create Time: 0.000974 seconds\n",
      "Delete Time: 0.001405 seconds\n",
      "DELETE: Mean Time = 0.001784s, Std Time = 0.000622s\n"
     ]
    }
   ],
   "source": [
    "# --- CREATE ---\n",
    "create_cassandra_mean, create_cassandra_std = benchmark_operation(cassandra_insert, df_zoe_charlotte, 1)\n",
    "print(f\"CREATE: Mean Time = {create_cassandra_mean:.6f}s, Std Time = {create_cassandra_std:.6f}s\")\n",
    "\n",
    "# Vérifier le nombre de lignes insérées\n",
    "result = session.execute('SELECT COUNT(*) FROM shows')\n",
    "row = result.one()\n",
    "print(f\"Total rows in 'shows' table: {row[0]}\")\n",
    "\n",
    "# --- READ ---\n",
    "read_cassandra_mean, read_cassandra_std = benchmark_operation(cassandra_read, df_zoe_charlotte, 1)\n",
    "print(f\"READ: Mean Time = {read_cassandra_mean:.6f}s, Std Time = {read_cassandra_std:.6f}s\")\n",
    "\n",
    "# --- UPDATE ---\n",
    "update_cassandra_mean, update_cassandra_std = benchmark_operation(cassandra_update, df_zoe_charlotte, 1)\n",
    "print(f\"UPDATE: Mean Time = {update_cassandra_mean:.6f}s, Std Time = {update_cassandra_std:.6f}s\")\n",
    "\n",
    "# --- DELETE ---\n",
    "delete_cassandra_mean, delete_cassandra_std = benchmark_operation(cassandra_delete, df_zoe_charlotte, 1)\n",
    "print(f\"DELETE: Mean Time = {delete_cassandra_mean:.6f}s, Std Time = {delete_cassandra_std:.6f}s\")"
   ]
  },
  {
   "cell_type": "code",
   "execution_count": 31,
   "metadata": {},
   "outputs": [
    {
     "name": "stdout",
     "output_type": "stream",
     "text": [
      "replication factor = 1\n",
      "Create Time: 1.747217 seconds\n",
      "replication factor = 1\n",
      "Create Time: 1.692610 seconds\n",
      "replication factor = 1\n",
      "Create Time: 1.738333 seconds\n",
      "replication factor = 1\n",
      "Create Time: 1.700396 seconds\n",
      "replication factor = 1\n",
      "Create Time: 1.752409 seconds\n",
      "CREATE: Mean Time = 1.726193s, Std Time = 0.024779s\n",
      "Total rows in 'shows' table: 562\n",
      "replication factor = 1\n",
      "replication factor = 1\n",
      "Create Time: 1.697603 seconds\n",
      "Read Time: 0.046372 seconds\n",
      "Queried 8245 records\n",
      "replication factor = 1\n",
      "replication factor = 1\n",
      "Create Time: 1.687152 seconds\n",
      "Read Time: 0.045708 seconds\n",
      "Queried 8245 records\n",
      "replication factor = 1\n",
      "replication factor = 1\n",
      "Create Time: 1.698241 seconds\n",
      "Read Time: 0.050937 seconds\n",
      "Queried 8245 records\n",
      "replication factor = 1\n",
      "replication factor = 1\n",
      "Create Time: 1.691481 seconds\n",
      "Read Time: 0.045989 seconds\n",
      "Queried 8245 records\n",
      "replication factor = 1\n",
      "replication factor = 1\n",
      "Create Time: 1.702868 seconds\n",
      "Read Time: 0.045994 seconds\n",
      "Queried 8245 records\n",
      "READ: Mean Time = 0.047000s, Std Time = 0.001980s\n",
      "replication factor = 1\n",
      "replication factor = 1\n",
      "Create Time: 1.682728 seconds\n",
      "Update Time: 1.382737 seconds\n",
      "replication factor = 1\n",
      "replication factor = 1\n",
      "Create Time: 1.694792 seconds\n",
      "Update Time: 1.361527 seconds\n",
      "replication factor = 1\n",
      "replication factor = 1\n",
      "Create Time: 1.731006 seconds\n",
      "Update Time: 1.358758 seconds\n",
      "replication factor = 1\n",
      "replication factor = 1\n",
      "Create Time: 1.696148 seconds\n",
      "Update Time: 1.377070 seconds\n",
      "replication factor = 1\n",
      "replication factor = 1\n",
      "Create Time: 1.705097 seconds\n",
      "Update Time: 1.416770 seconds\n",
      "UPDATE: Mean Time = 1.379372s, Std Time = 0.020778s\n",
      "replication factor = 1\n",
      "replication factor = 1\n",
      "Create Time: 1.753076 seconds\n",
      "Delete Time: 1.353776 seconds\n",
      "replication factor = 1\n",
      "replication factor = 1\n",
      "Create Time: 1.675123 seconds\n",
      "Delete Time: 1.366022 seconds\n",
      "replication factor = 1\n",
      "replication factor = 1\n",
      "Create Time: 1.682457 seconds\n",
      "Delete Time: 1.343796 seconds\n",
      "replication factor = 1\n",
      "replication factor = 1\n",
      "Create Time: 1.677202 seconds\n",
      "Delete Time: 1.343773 seconds\n",
      "replication factor = 1\n",
      "replication factor = 1\n",
      "Create Time: 1.689462 seconds\n",
      "Delete Time: 1.365670 seconds\n",
      "DELETE: Mean Time = 1.354607s, Std Time = 0.009876s\n"
     ]
    }
   ],
   "source": [
    "# --- CREATE ---\n",
    "create_cassandra_massive_mean, create_cassandra_massive_std = benchmark_operation(cassandra_insert, df_initial, 1)\n",
    "print(f\"CREATE: Mean Time = {create_cassandra_massive_mean:.6f}s, Std Time = {create_cassandra_massive_std:.6f}s\")\n",
    "\n",
    "# Vérifier le nombre de lignes insérées\n",
    "cursor.execute('SELECT COUNT(*) FROM shows')\n",
    "row = cursor.fetchone()\n",
    "print(f\"Total rows in 'shows' table: {row[0]}\")\n",
    "\n",
    "# --- READ ---\n",
    "read_cassandra_massive_mean, read_cassandra_massive_std = benchmark_operation(cassandra_read, df_initial, 1)\n",
    "print(f\"READ: Mean Time = {read_cassandra_massive_mean:.6f}s, Std Time = {read_cassandra_massive_std:.6f}s\")\n",
    "\n",
    "# --- UPDATE ---\n",
    "update_cassandra_massive_mean, update_cassandra_massive_std = benchmark_operation(cassandra_update, df_initial, 1)\n",
    "print(f\"UPDATE: Mean Time = {update_cassandra_massive_mean:.6f}s, Std Time = {update_cassandra_massive_std:.6f}s\")\n",
    "\n",
    "# --- DELETE ---\n",
    "delete_cassandra_massive_mean, delete_cassandra_massive_std = benchmark_operation(cassandra_delete, df_initial, 1)\n",
    "print(f\"DELETE: Mean Time = {delete_cassandra_massive_mean:.6f}s, Std Time = {delete_cassandra_massive_std:.6f}s\")"
   ]
  },
  {
   "cell_type": "markdown",
   "metadata": {
    "id": "41x937O1jknt"
   },
   "source": [
    "### Visualisation"
   ]
  },
  {
   "cell_type": "markdown",
   "metadata": {
    "id": "GpmfcQoCEb3L"
   },
   "source": [
    "TODO : rédiger\n",
    "\n",
    " pour faire de réelles stats on va faire les CRUD sur un nombre plus important de donnéer : insérer / lire / update / supprimer sur les données kaggle précédemment chargées"
   ]
  },
  {
   "cell_type": "markdown",
   "metadata": {
    "id": "UOISKDmnIJMP"
   },
   "source": [
    "On a réalisé tout cela avec un seul replicaSet et sans index."
   ]
  },
  {
   "cell_type": "code",
   "execution_count": 39,
   "metadata": {},
   "outputs": [
    {
     "data": {
      "image/png": "[encoded data removed]",
      "text/plain": [
       "<Figure size 1000x600 with 1 Axes>"
      ]
     },
     "metadata": {},
     "output_type": "display_data"
    }
   ],
   "source": [
    "import matplotlib.pyplot as plt\n",
    "import numpy as np\n",
    "\n",
    "# Valeurs de temps pour SQLite\n",
    "sqlite_times = {\n",
    "    'CREATE': (create_sqlite_mean, create_sqlite_std),\n",
    "    'READ': (read_sqlite_mean, read_sqlite_std),\n",
    "    'UPDATE': (update_sqlite_mean, update_sqlite_std),\n",
    "    'DELETE': (delete_sqlite_mean, delete_sqlite_std)\n",
    "}\n",
    "\n",
    "# Valeurs de temps pour Cassandra avec 1 réplicat\n",
    "cassandra_times = {\n",
    "    'CREATE': (create_cassandra_mean, create_cassandra_std),\n",
    "    'READ': (read_cassandra_mean, read_cassandra_std),\n",
    "    'UPDATE': (update_cassandra_mean, update_cassandra_std),\n",
    "    'DELETE': (delete_cassandra_mean, delete_cassandra_std)\n",
    "}\n",
    "\n",
    "# Extraire les opérations\n",
    "operations = ['CREATE', 'READ', 'UPDATE', 'DELETE']\n",
    "\n",
    "# Extraire les temps moyens et écarts-types pour chaque système\n",
    "sqlite_means = [sqlite_times[op][0] for op in operations]\n",
    "sqlite_stds = [sqlite_times[op][1] for op in operations]\n",
    "\n",
    "cassandra_means = [cassandra_times[op][0] for op in operations]\n",
    "cassandra_stds = [cassandra_times[op][1] for op in operations]\n",
    "\n",
    "# Position des barres sur l'axe y\n",
    "y = np.arange(len(operations))\n",
    "\n",
    "# Largeur des barres\n",
    "height = 0.35\n",
    "\n",
    "# Créer un graphique horizontal\n",
    "fig, ax = plt.subplots(figsize=(10, 6))\n",
    "\n",
    "# Tracer les barres pour SQLite\n",
    "bars1 = ax.barh(y - height / 2, sqlite_means, height, xerr=sqlite_stds, label='SQLite', capsize=5)\n",
    "\n",
    "# Tracer les barres pour Cassandra\n",
    "bars2 = ax.barh(y + height / 2, cassandra_means, height, xerr=cassandra_stds, label='Cassandra (1 réplicat)', capsize=5)\n",
    "\n",
    "# Ajouter des labels et des titres\n",
    "ax.set_xlabel('Temps (secondes)')\n",
    "ax.set_ylabel('Opérations')\n",
    "ax.set_title('Comparaison des performances de SQLite et Cassandra avec 1 réplicat')\n",
    "ax.set_yticks(y)\n",
    "ax.set_yticklabels(operations)\n",
    "ax.legend()\n",
    "\n",
    "# Afficher les valeurs sur les barres\n",
    "def add_values(bars):\n",
    "    for bar in bars:\n",
    "        xval = bar.get_width()\n",
    "        ax.text(xval, bar.get_y() + bar.get_height() / 2, f'{xval:.6f}', va='center', ha='left')\n",
    "\n",
    "add_values(bars1)\n",
    "add_values(bars2)\n",
    "\n",
    "# Afficher le graphique\n",
    "plt.tight_layout()\n",
    "plt.show()\n"
   ]
  },
  {
   "cell_type": "code",
   "execution_count": 40,
   "metadata": {},
   "outputs": [
    {
     "data": {
      "image/png": "[encoded data removed]",
      "text/plain": [
       "<Figure size 1000x600 with 1 Axes>"
      ]
     },
     "metadata": {},
     "output_type": "display_data"
    }
   ],
   "source": [
    "import matplotlib.pyplot as plt\n",
    "import numpy as np\n",
    "\n",
    "# Valeurs de temps pour SQLite\n",
    "sqlite_times = {\n",
    "    'CREATE': (create_sqlite_massive_mean, create_sqlite_massive_std),\n",
    "    'READ': (read_sqlite_massive_mean, read_sqlite_massive_std),\n",
    "    'UPDATE': (update_sqlite_massive_mean, update_sqlite_massive_std),\n",
    "    'DELETE': (delete_sqlite_massive_mean, delete_sqlite_massive_std)\n",
    "}\n",
    "\n",
    "# Valeurs de temps pour Cassandra avec 1 réplicat\n",
    "cassandra_times = {\n",
    "    'CREATE': (create_cassandra_massive_mean, create_cassandra_massive_std),\n",
    "    'READ': (read_cassandra_massive_mean, read_cassandra_massive_std),\n",
    "    'UPDATE': (update_cassandra_massive_mean, update_cassandra_massive_std),\n",
    "    'DELETE': (delete_cassandra_massive_mean, delete_cassandra_massive_std)\n",
    "}\n",
    "\n",
    "# Extraire les opérations\n",
    "operations = ['CREATE', 'READ', 'UPDATE', 'DELETE']\n",
    "\n",
    "# Extraire les temps moyens et écarts-types pour chaque système\n",
    "sqlite_means = [sqlite_times[op][0] for op in operations]\n",
    "sqlite_stds = [sqlite_times[op][1] for op in operations]\n",
    "\n",
    "cassandra_means = [cassandra_times[op][0] for op in operations]\n",
    "cassandra_stds = [cassandra_times[op][1] for op in operations]\n",
    "\n",
    "# Position des barres sur l'axe y\n",
    "y = np.arange(len(operations))\n",
    "\n",
    "# Largeur des barres\n",
    "height = 0.35\n",
    "\n",
    "# Créer un graphique horizontal\n",
    "fig, ax = plt.subplots(figsize=(10, 6))\n",
    "\n",
    "# Tracer les barres pour SQLite\n",
    "bars1 = ax.barh(y - height / 2, sqlite_means, height, xerr=sqlite_stds, label='SQLite', capsize=5)\n",
    "\n",
    "# Tracer les barres pour Cassandra\n",
    "bars2 = ax.barh(y + height / 2, cassandra_means, height, xerr=cassandra_stds, label='Cassandra (1 réplicat)', capsize=5)\n",
    "\n",
    "# Ajouter des labels et des titres\n",
    "ax.set_xlabel('Temps (secondes)')\n",
    "ax.set_ylabel('Opérations')\n",
    "ax.set_title('Comparaison des performances de SQLite et Cassandra avec 1 réplicat')\n",
    "ax.set_yticks(y)\n",
    "ax.set_yticklabels(operations)\n",
    "ax.legend()\n",
    "\n",
    "# Afficher les valeurs sur les barres\n",
    "def add_values(bars):\n",
    "    for bar in bars:\n",
    "        xval = bar.get_width()\n",
    "        ax.text(xval, bar.get_y() + bar.get_height() / 2, f'{xval:.6f}', va='center', ha='left')\n",
    "\n",
    "add_values(bars1)\n",
    "add_values(bars2)\n",
    "\n",
    "# Afficher le graphique\n",
    "plt.tight_layout()\n",
    "plt.show()\n",
    "\n"
   ]
  },
  {
   "cell_type": "markdown",
   "metadata": {
    "id": "OdOZl5SSJz1J"
   },
   "source": [
    "TODO : rédiger commentairte sur le temps\n",
    "\n",
    "pourquoi c'est peut etre normal ?\n",
    "\n",
    "dire que ici cassandra c'est 1 replica set\n",
    "\n",
    "et que y a pas d'index\n",
    "\n",
    "on va faire sur notre dataset de 8k données\n",
    "\n",
    "puis plus "
   ]
  },
  {
   "cell_type": "markdown",
   "metadata": {
    "id": "rW9m7jU6J21a"
   },
   "source": [
    "# TODO"
   ]
  },
  {
   "cell_type": "markdown",
   "metadata": {
    "id": "6PSbYw-iawfd"
   },
   "source": [
    "## Comparaison des temps de Cassandra avec plusieurs replicaSet"
   ]
  },
  {
   "cell_type": "markdown",
   "metadata": {},
   "source": [
    "##### SimpleStrategy\n",
    "\n",
    "Description : Réplique les données de manière linéaire sur les n nœuds du cluster, où n est le replication_factor.\n",
    "Avantages :\n",
    "Simple à configurer.\n",
    "Adapté aux environnements de test ou aux clusters d'une seule région.\n",
    "Inconvénients :\n",
    "Pas optimisé pour les déploiements multi-régions.\n",
    "Répartition des réplicas pas toujours équilibrée en cas de cluster complexe."
   ]
  },
  {
   "cell_type": "code",
   "execution_count": 41,
   "metadata": {},
   "outputs": [
    {
     "name": "stdout",
     "output_type": "stream",
     "text": [
      "replication factor = 2\n",
      "Create Time: 1.745304 seconds\n",
      "replication factor = 2\n",
      "Create Time: 1.707139 seconds\n",
      "replication factor = 2\n",
      "Create Time: 1.711835 seconds\n",
      "replication factor = 2\n",
      "Create Time: 1.842410 seconds\n",
      "replication factor = 2\n",
      "Create Time: 1.741716 seconds\n",
      "CREATE: Mean Time = 1.749681s, Std Time = 0.048833s\n",
      "Total rows in 'shows' table: 562\n",
      "replication factor = 2\n",
      "replication factor = 2\n",
      "Create Time: 1.800242 seconds\n",
      "Read Time: 0.078779 seconds\n",
      "Queried 8245 records\n",
      "replication factor = 2\n",
      "replication factor = 2\n",
      "Create Time: 1.803719 seconds\n",
      "Read Time: 0.049444 seconds\n",
      "Queried 8245 records\n",
      "replication factor = 2\n",
      "replication factor = 2\n",
      "Create Time: 1.746903 seconds\n",
      "Read Time: 0.046023 seconds\n",
      "Queried 8245 records\n",
      "replication factor = 2\n",
      "replication factor = 2\n",
      "Create Time: 1.703241 seconds\n",
      "Read Time: 0.045632 seconds\n",
      "Queried 8245 records\n",
      "replication factor = 2\n",
      "replication factor = 2\n",
      "Create Time: 1.726092 seconds\n",
      "Read Time: 0.046065 seconds\n",
      "Queried 8245 records\n",
      "READ: Mean Time = 0.053189s, Std Time = 0.012869s\n",
      "replication factor = 2\n",
      "replication factor = 2\n",
      "Create Time: 1.706594 seconds\n",
      "Update Time: 1.392301 seconds\n",
      "replication factor = 2\n",
      "replication factor = 2\n",
      "Create Time: 1.743394 seconds\n",
      "Update Time: 1.456772 seconds\n",
      "replication factor = 2\n",
      "replication factor = 2\n",
      "Create Time: 1.727683 seconds\n",
      "Update Time: 1.357185 seconds\n",
      "replication factor = 2\n",
      "replication factor = 2\n",
      "Create Time: 1.693899 seconds\n",
      "Update Time: 1.461473 seconds\n",
      "replication factor = 2\n",
      "replication factor = 2\n",
      "Create Time: 1.857541 seconds\n",
      "Update Time: 1.463819 seconds\n",
      "UPDATE: Mean Time = 1.426310s, Std Time = 0.043603s\n",
      "replication factor = 2\n",
      "replication factor = 2\n",
      "Create Time: 1.816580 seconds\n",
      "Delete Time: 1.427924 seconds\n",
      "replication factor = 2\n",
      "replication factor = 2\n",
      "Create Time: 1.761986 seconds\n",
      "Delete Time: 1.418656 seconds\n",
      "replication factor = 2\n",
      "replication factor = 2\n",
      "Create Time: 1.722799 seconds\n",
      "Delete Time: 1.348775 seconds\n",
      "replication factor = 2\n",
      "replication factor = 2\n",
      "Create Time: 1.731733 seconds\n",
      "Delete Time: 1.408197 seconds\n",
      "replication factor = 2\n",
      "replication factor = 2\n",
      "Create Time: 1.766435 seconds\n",
      "Delete Time: 1.377551 seconds\n",
      "DELETE: Mean Time = 1.396221s, Std Time = 0.029160s\n"
     ]
    }
   ],
   "source": [
    "# 2 replicas\n",
    "# --- CREATE ---\n",
    "create_cassandra_massive_mean_2, create_cassandra_massive_std_2 = benchmark_operation(cassandra_insert, df_initial, 2)\n",
    "print(f\"CREATE: Mean Time = {create_cassandra_massive_mean_2:.6f}s, Std Time = {create_cassandra_massive_std_2:.6f}s\")\n",
    "\n",
    "# Vérifier le nombre de lignes insérées\n",
    "cursor.execute('SELECT COUNT(*) FROM shows')\n",
    "row = cursor.fetchone()\n",
    "print(f\"Total rows in 'shows' table: {row[0]}\")\n",
    "\n",
    "# --- READ ---\n",
    "read_cassandra_massive_mean_2, read_cassandra_massive_std_2 = benchmark_operation(cassandra_read, df_initial, 2)\n",
    "print(f\"READ: Mean Time = {read_cassandra_massive_mean_2:.6f}s, Std Time = {read_cassandra_massive_std_2:.6f}s\")\n",
    "\n",
    "# --- UPDATE ---\n",
    "update_cassandra_massive_mean_2, update_cassandra_massive_std_2 = benchmark_operation(cassandra_update, df_initial, 2)\n",
    "print(f\"UPDATE: Mean Time = {update_cassandra_massive_mean_2:.6f}s, Std Time = {update_cassandra_massive_std_2:.6f}s\")\n",
    "\n",
    "# --- DELETE ---\n",
    "delete_cassandra_massive_mean_2, delete_cassandra_massive_std_2 = benchmark_operation(cassandra_delete, df_initial, 2)\n",
    "print(f\"DELETE: Mean Time = {delete_cassandra_massive_mean_2:.6f}s, Std Time = {delete_cassandra_massive_std_2:.6f}s\")"
   ]
  },
  {
   "cell_type": "code",
   "execution_count": 42,
   "metadata": {},
   "outputs": [
    {
     "name": "stdout",
     "output_type": "stream",
     "text": [
      "replication factor = 3\n",
      "Create Time: 1.782714 seconds\n",
      "replication factor = 3\n",
      "Create Time: 1.755740 seconds\n",
      "replication factor = 3\n",
      "Create Time: 1.822694 seconds\n",
      "replication factor = 3\n",
      "Create Time: 1.782735 seconds\n",
      "replication factor = 3\n",
      "Create Time: 1.782409 seconds\n",
      "CREATE: Mean Time = 1.785258s, Std Time = 0.021418s\n",
      "Total rows in 'shows' table: 562\n",
      "replication factor = 3\n",
      "replication factor = 3\n",
      "Create Time: 1.685507 seconds\n",
      "Read Time: 0.044858 seconds\n",
      "Queried 8245 records\n",
      "replication factor = 3\n",
      "replication factor = 3\n",
      "Create Time: 1.679447 seconds\n",
      "Read Time: 0.045426 seconds\n",
      "Queried 8245 records\n",
      "replication factor = 3\n",
      "replication factor = 3\n",
      "Create Time: 1.710593 seconds\n",
      "Read Time: 0.045599 seconds\n",
      "Queried 8245 records\n",
      "replication factor = 3\n",
      "replication factor = 3\n",
      "Create Time: 1.803528 seconds\n",
      "Read Time: 0.045728 seconds\n",
      "Queried 8245 records\n",
      "replication factor = 3\n",
      "replication factor = 3\n",
      "Create Time: 1.886075 seconds\n",
      "Read Time: 0.046317 seconds\n",
      "Queried 8245 records\n",
      "READ: Mean Time = 0.045586s, Std Time = 0.000471s\n",
      "replication factor = 3\n",
      "replication factor = 3\n",
      "Create Time: 1.721771 seconds\n",
      "Update Time: 1.433282 seconds\n",
      "replication factor = 3\n",
      "replication factor = 3\n",
      "Create Time: 1.704442 seconds\n",
      "Update Time: 1.365718 seconds\n",
      "replication factor = 3\n",
      "replication factor = 3\n",
      "Create Time: 1.853149 seconds\n",
      "Update Time: 1.387382 seconds\n",
      "replication factor = 3\n",
      "replication factor = 3\n",
      "Create Time: 1.800703 seconds\n",
      "Update Time: 1.413149 seconds\n",
      "replication factor = 3\n",
      "replication factor = 3\n",
      "Create Time: 1.790301 seconds\n",
      "Update Time: 1.412847 seconds\n",
      "UPDATE: Mean Time = 1.402476s, Std Time = 0.023450s\n",
      "replication factor = 3\n",
      "replication factor = 3\n",
      "Create Time: 1.705747 seconds\n",
      "Delete Time: 1.403985 seconds\n",
      "replication factor = 3\n",
      "replication factor = 3\n",
      "Create Time: 1.724939 seconds\n",
      "Delete Time: 1.349204 seconds\n",
      "replication factor = 3\n",
      "replication factor = 3\n",
      "Create Time: 1.736685 seconds\n",
      "Delete Time: 1.401827 seconds\n",
      "replication factor = 3\n",
      "replication factor = 3\n",
      "Create Time: 1.816471 seconds\n",
      "Delete Time: 1.446722 seconds\n",
      "replication factor = 3\n",
      "replication factor = 3\n",
      "Create Time: 1.884717 seconds\n",
      "Delete Time: 1.435659 seconds\n",
      "DELETE: Mean Time = 1.407479s, Std Time = 0.033983s\n"
     ]
    }
   ],
   "source": [
    "# 3 replicas\n",
    "# --- CREATE ---\n",
    "create_cassandra_massive_mean_3, create_cassandra_massive_std_3 = benchmark_operation(cassandra_insert, df_initial, 3)\n",
    "print(f\"CREATE: Mean Time = {create_cassandra_massive_mean_3:.6f}s, Std Time = {create_cassandra_massive_std_3:.6f}s\")\n",
    "\n",
    "# Vérifier le nombre de lignes insérées\n",
    "cursor.execute('SELECT COUNT(*) FROM shows')\n",
    "row = cursor.fetchone()\n",
    "print(f\"Total rows in 'shows' table: {row[0]}\")\n",
    "\n",
    "# --- READ ---\n",
    "read_cassandra_massive_mean_3, read_cassandra_massive_std_3 = benchmark_operation(cassandra_read, df_initial, 3)\n",
    "print(f\"READ: Mean Time = {read_cassandra_massive_mean_3:.6f}s, Std Time = {read_cassandra_massive_std_3:.6f}s\")\n",
    "\n",
    "# --- UPDATE ---\n",
    "update_cassandra_massive_mean_3, update_cassandra_massive_std_3 = benchmark_operation(cassandra_update, df_initial, 3)\n",
    "print(f\"UPDATE: Mean Time = {update_cassandra_massive_mean_3:.6f}s, Std Time = {update_cassandra_massive_std_3:.6f}s\")\n",
    "\n",
    "# --- DELETE ---\n",
    "delete_cassandra_massive_mean_3, delete_cassandra_massive_std_3 = benchmark_operation(cassandra_delete, df_initial, 3)\n",
    "print(f\"DELETE: Mean Time = {delete_cassandra_massive_mean_3:.6f}s, Std Time = {delete_cassandra_massive_std_3:.6f}s\")\n"
   ]
  },
  {
   "cell_type": "code",
   "execution_count": 43,
   "metadata": {},
   "outputs": [
    {
     "name": "stdout",
     "output_type": "stream",
     "text": [
      "replication factor = 4\n",
      "Create Time: 1.744867 seconds\n",
      "replication factor = 4\n",
      "Create Time: 1.759112 seconds\n",
      "replication factor = 4\n",
      "Create Time: 1.777291 seconds\n",
      "replication factor = 4\n",
      "Create Time: 1.807430 seconds\n",
      "replication factor = 4\n",
      "Create Time: 1.732333 seconds\n",
      "CREATE: Mean Time = 1.764207s, Std Time = 0.026288s\n",
      "Total rows in 'shows' table: 562\n",
      "replication factor = 4\n",
      "replication factor = 4\n",
      "Create Time: 1.737721 seconds\n",
      "Read Time: 0.048121 seconds\n",
      "Queried 8245 records\n",
      "replication factor = 4\n",
      "replication factor = 4\n",
      "Create Time: 1.728588 seconds\n",
      "Read Time: 0.047152 seconds\n",
      "Queried 8245 records\n",
      "replication factor = 4\n",
      "replication factor = 4\n",
      "Create Time: 1.745517 seconds\n",
      "Read Time: 0.046397 seconds\n",
      "Queried 8245 records\n",
      "replication factor = 4\n",
      "replication factor = 4\n",
      "Create Time: 1.790584 seconds\n",
      "Read Time: 0.048117 seconds\n",
      "Queried 8245 records\n",
      "replication factor = 4\n",
      "replication factor = 4\n",
      "Create Time: 1.777908 seconds\n",
      "Read Time: 0.083915 seconds\n",
      "Queried 8245 records\n",
      "READ: Mean Time = 0.054740s, Std Time = 0.014602s\n",
      "replication factor = 4\n",
      "replication factor = 4\n",
      "Create Time: 1.734644 seconds\n",
      "Update Time: 1.370796 seconds\n",
      "replication factor = 4\n",
      "replication factor = 4\n",
      "Create Time: 1.707229 seconds\n",
      "Update Time: 1.363352 seconds\n",
      "replication factor = 4\n",
      "replication factor = 4\n",
      "Create Time: 1.691871 seconds\n",
      "Update Time: 1.391140 seconds\n",
      "replication factor = 4\n",
      "replication factor = 4\n",
      "Create Time: 1.689553 seconds\n",
      "Update Time: 1.363823 seconds\n",
      "replication factor = 4\n",
      "replication factor = 4\n",
      "Create Time: 1.683899 seconds\n",
      "Update Time: 1.357852 seconds\n",
      "UPDATE: Mean Time = 1.369393s, Std Time = 0.011624s\n",
      "replication factor = 4\n",
      "replication factor = 4\n",
      "Create Time: 1.693277 seconds\n",
      "Delete Time: 1.342980 seconds\n",
      "replication factor = 4\n",
      "replication factor = 4\n",
      "Create Time: 1.687016 seconds\n",
      "Delete Time: 1.372288 seconds\n",
      "replication factor = 4\n",
      "replication factor = 4\n",
      "Create Time: 1.672380 seconds\n",
      "Delete Time: 1.342751 seconds\n",
      "replication factor = 4\n",
      "replication factor = 4\n",
      "Create Time: 1.684347 seconds\n",
      "Delete Time: 1.346797 seconds\n",
      "replication factor = 4\n",
      "replication factor = 4\n",
      "Create Time: 1.675026 seconds\n",
      "Delete Time: 1.375786 seconds\n",
      "DELETE: Mean Time = 1.356120s, Std Time = 0.014741s\n"
     ]
    }
   ],
   "source": [
    "# 4 replicas\n",
    "# --- CREATE ---\n",
    "create_cassandra_massive_mean_4, create_cassandra_massive_std_4 = benchmark_operation(cassandra_insert, df_initial, 4)\n",
    "print(f\"CREATE: Mean Time = {create_cassandra_massive_mean_4:.6f}s, Std Time = {create_cassandra_massive_std_4:.6f}s\")\n",
    "\n",
    "# Vérifier le nombre de lignes insérées\n",
    "cursor.execute('SELECT COUNT(*) FROM shows')\n",
    "row = cursor.fetchone()\n",
    "print(f\"Total rows in 'shows' table: {row[0]}\")\n",
    "\n",
    "# --- READ ---\n",
    "read_cassandra_massive_mean_4, read_cassandra_massive_std_4 = benchmark_operation(cassandra_read, df_initial, 4)\n",
    "print(f\"READ: Mean Time = {read_cassandra_massive_mean_4:.6f}s, Std Time = {read_cassandra_massive_std_4:.6f}s\")\n",
    "\n",
    "# --- UPDATE ---\n",
    "update_cassandra_massive_mean_4, update_cassandra_massive_std_4 = benchmark_operation(cassandra_update, df_initial, 4)\n",
    "print(f\"UPDATE: Mean Time = {update_cassandra_massive_mean_4:.6f}s, Std Time = {update_cassandra_massive_std_4:.6f}s\")\n",
    "\n",
    "# --- DELETE ---\n",
    "delete_cassandra_massive_mean_4, delete_cassandra_massive_std_4 = benchmark_operation(cassandra_delete, df_initial, 4)\n",
    "print(f\"DELETE: Mean Time = {delete_cassandra_massive_mean_4:.6f}s, Std Time = {delete_cassandra_massive_std_4:.6f}s\")"
   ]
  },
  {
   "cell_type": "code",
   "execution_count": 44,
   "metadata": {},
   "outputs": [
    {
     "name": "stdout",
     "output_type": "stream",
     "text": [
      "replication factor = 5\n",
      "Create Time: 1.672374 seconds\n",
      "replication factor = 5\n",
      "Create Time: 1.709487 seconds\n",
      "replication factor = 5\n",
      "Create Time: 1.679229 seconds\n",
      "replication factor = 5\n",
      "Create Time: 1.682058 seconds\n",
      "replication factor = 5\n",
      "Create Time: 1.704225 seconds\n",
      "CREATE: Mean Time = 1.689475s, Std Time = 0.014632s\n",
      "Total rows in 'shows' table: 562\n",
      "replication factor = 5\n",
      "replication factor = 5\n",
      "Create Time: 1.669531 seconds\n",
      "Read Time: 0.045381 seconds\n",
      "Queried 8245 records\n",
      "replication factor = 5\n",
      "replication factor = 5\n",
      "Create Time: 1.692845 seconds\n",
      "Read Time: 0.050436 seconds\n",
      "Queried 8245 records\n",
      "replication factor = 5\n",
      "replication factor = 5\n",
      "Create Time: 1.662019 seconds\n",
      "Read Time: 0.045634 seconds\n",
      "Queried 8245 records\n",
      "replication factor = 5\n",
      "replication factor = 5\n",
      "Create Time: 1.732315 seconds\n",
      "Read Time: 0.045127 seconds\n",
      "Queried 8245 records\n",
      "replication factor = 5\n",
      "replication factor = 5\n",
      "Create Time: 1.669031 seconds\n",
      "Read Time: 0.045554 seconds\n",
      "Queried 8245 records\n",
      "READ: Mean Time = 0.046426s, Std Time = 0.002012s\n",
      "replication factor = 5\n",
      "replication factor = 5\n",
      "Create Time: 1.680284 seconds\n",
      "Update Time: 1.354976 seconds\n",
      "replication factor = 5\n",
      "replication factor = 5\n",
      "Create Time: 1.669068 seconds\n",
      "Update Time: 1.385681 seconds\n",
      "replication factor = 5\n",
      "replication factor = 5\n",
      "Create Time: 1.707243 seconds\n",
      "Update Time: 1.358765 seconds\n",
      "replication factor = 5\n",
      "replication factor = 5\n",
      "Create Time: 1.679827 seconds\n",
      "Update Time: 1.354945 seconds\n",
      "replication factor = 5\n",
      "replication factor = 5\n",
      "Create Time: 1.673042 seconds\n",
      "Update Time: 1.385122 seconds\n",
      "UPDATE: Mean Time = 1.367898s, Std Time = 0.014360s\n",
      "replication factor = 5\n",
      "replication factor = 5\n",
      "Create Time: 1.667219 seconds\n",
      "Delete Time: 1.342688 seconds\n",
      "replication factor = 5\n",
      "replication factor = 5\n",
      "Create Time: 1.668505 seconds\n",
      "Delete Time: 1.333748 seconds\n",
      "replication factor = 5\n",
      "replication factor = 5\n",
      "Create Time: 1.695583 seconds\n",
      "Delete Time: 1.370313 seconds\n",
      "replication factor = 5\n",
      "replication factor = 5\n",
      "Create Time: 1.680007 seconds\n",
      "Delete Time: 1.346725 seconds\n",
      "replication factor = 5\n",
      "replication factor = 5\n",
      "Create Time: 1.680606 seconds\n",
      "Delete Time: 1.341562 seconds\n",
      "DELETE: Mean Time = 1.347007s, Std Time = 0.012388s\n"
     ]
    }
   ],
   "source": [
    "# 5 replicas\n",
    "# --- CREATE ---\n",
    "create_cassandra_massive_mean_5, create_cassandra_massive_std_5 = benchmark_operation(cassandra_insert, df_initial, 5)\n",
    "print(f\"CREATE: Mean Time = {create_cassandra_massive_mean_5:.6f}s, Std Time = {create_cassandra_massive_std_5:.6f}s\")\n",
    "\n",
    "# Vérifier le nombre de lignes insérées\n",
    "cursor.execute('SELECT COUNT(*) FROM shows')\n",
    "row = cursor.fetchone()\n",
    "print(f\"Total rows in 'shows' table: {row[0]}\")\n",
    "\n",
    "# --- READ ---\n",
    "read_cassandra_massive_mean_5, read_cassandra_massive_std_5 = benchmark_operation(cassandra_read, df_initial, 5)\n",
    "print(f\"READ: Mean Time = {read_cassandra_massive_mean_5:.6f}s, Std Time = {read_cassandra_massive_std_5:.6f}s\")\n",
    "\n",
    "# --- UPDATE ---\n",
    "update_cassandra_massive_mean_5, update_cassandra_massive_std_5 = benchmark_operation(cassandra_update, df_initial, 5)\n",
    "print(f\"UPDATE: Mean Time = {update_cassandra_massive_mean_5:.6f}s, Std Time = {update_cassandra_massive_std_5:.6f}s\")\n",
    "\n",
    "# --- DELETE ---\n",
    "delete_cassandra_massive_mean_5, delete_cassandra_massive_std_5 = benchmark_operation(cassandra_delete, df_initial, 5)\n",
    "print(f\"DELETE: Mean Time = {delete_cassandra_massive_mean_5:.6f}s, Std Time = {delete_cassandra_massive_std_5:.6f}s\")"
   ]
  },
  {
   "cell_type": "code",
   "execution_count": 60,
   "metadata": {},
   "outputs": [
    {
     "data": {
      "image/png": "[encoded data removed]",
      "text/plain": [
       "<Figure size 1000x600 with 1 Axes>"
      ]
     },
     "metadata": {},
     "output_type": "display_data"
    }
   ],
   "source": [
    "import matplotlib.pyplot as plt\n",
    "import numpy as np\n",
    "\n",
    "# Valeurs de temps pour SQLite\n",
    "sqlite_times = {\n",
    "    'CREATE': (create_sqlite_massive_mean, create_sqlite_massive_std),\n",
    "    'READ': (read_sqlite_massive_mean, read_sqlite_massive_std),\n",
    "    'UPDATE': (update_sqlite_massive_mean, update_sqlite_massive_std),\n",
    "    'DELETE': (delete_sqlite_massive_mean, delete_sqlite_massive_std)\n",
    "}\n",
    "\n",
    "# Valeurs de temps pour Cassandra avec 1 réplicat\n",
    "cassandra_times = {\n",
    "    'CREATE': (create_cassandra_massive_mean, create_cassandra_massive_std),\n",
    "    'READ': (read_cassandra_massive_mean, read_cassandra_massive_std),\n",
    "    'UPDATE': (update_cassandra_massive_mean, update_cassandra_massive_std),\n",
    "    'DELETE': (delete_cassandra_massive_mean, delete_cassandra_massive_std)\n",
    "}\n",
    "\n",
    "cassandra_times_2 = {\n",
    "    'CREATE': (create_cassandra_massive_mean_2, create_cassandra_massive_std_2),\n",
    "    'READ': (read_cassandra_massive_mean_2, read_cassandra_massive_std_2),\n",
    "    'UPDATE': (update_cassandra_massive_mean_2, update_cassandra_massive_std_2),\n",
    "    'DELETE': (delete_cassandra_massive_mean_2, delete_cassandra_massive_std_2)\n",
    "}\n",
    "\n",
    "\n",
    "cassandra_times_3 = {\n",
    "    'CREATE': (create_cassandra_massive_mean_3, create_cassandra_massive_std_3),\n",
    "    'READ': (read_cassandra_massive_mean_3, read_cassandra_massive_std_3),\n",
    "    'UPDATE': (update_cassandra_massive_mean_3, update_cassandra_massive_std_3),\n",
    "    'DELETE': (delete_cassandra_massive_mean_3, delete_cassandra_massive_std_3)\n",
    "}\n",
    "\n",
    "\n",
    "cassandra_times_4 = {\n",
    "    'CREATE': (create_cassandra_massive_mean_4, create_cassandra_massive_std_4),\n",
    "    'READ': (read_cassandra_massive_mean_4, read_cassandra_massive_std_4),\n",
    "    'UPDATE': (update_cassandra_massive_mean_4, update_cassandra_massive_std_4),\n",
    "    'DELETE': (delete_cassandra_massive_mean_4, delete_cassandra_massive_std_4)\n",
    "}\n",
    "\n",
    "\n",
    "cassandra_times_5 = {\n",
    "    'CREATE': (create_cassandra_massive_mean_5, create_cassandra_massive_std_5),\n",
    "    'READ': (read_cassandra_massive_mean_5, read_cassandra_massive_std_5),\n",
    "    'UPDATE': (update_cassandra_massive_mean_5, update_cassandra_massive_std_5),\n",
    "    'DELETE': (delete_cassandra_massive_mean_5, delete_cassandra_massive_std_5)\n",
    "}\n",
    "\n",
    "# Extraire les opérations\n",
    "operations = ['CREATE', 'READ', 'UPDATE', 'DELETE']\n",
    "\n",
    "# Extraire les temps moyens et écarts-types pour chaque système\n",
    "sqlite_means = [sqlite_times[op][0] for op in operations]\n",
    "sqlite_stds = [sqlite_times[op][1] for op in operations]\n",
    "\n",
    "cassandra_means = [cassandra_times[op][0] for op in operations]\n",
    "cassandra_stds = [cassandra_times[op][1] for op in operations]\n",
    "\n",
    "cassandra_means_2 = [cassandra_times_2[op][0] for op in operations]\n",
    "cassandra_stds_2 = [cassandra_times_2[op][1] for op in operations]\n",
    "\n",
    "cassandra_means_3 = [cassandra_times_3[op][0] for op in operations]\n",
    "cassandra_stds_3 = [cassandra_times_3[op][1] for op in operations]\n",
    "\n",
    "cassandra_means_4 = [cassandra_times_4[op][0] for op in operations]\n",
    "cassandra_stds_4 = [cassandra_times_4[op][1] for op in operations]\n",
    "\n",
    "cassandra_means_5 = [cassandra_times_5[op][0] for op in operations]\n",
    "cassandra_stds_5 = [cassandra_times_5[op][1] for op in operations]\n",
    "\n",
    "# Position des barres sur l'axe y\n",
    "y = np.arange(len(operations))\n",
    "\n",
    "# Largeur des barres\n",
    "height = 0.1\n",
    "\n",
    "# Créer un graphique horizontal\n",
    "fig, ax = plt.subplots(figsize=(10, 6))\n",
    "\n",
    "# Tracer les barres pour SQLite et Cassandra avec réplicats\n",
    "bars1 = ax.barh(y - 2.5 * height, sqlite_means, height, xerr=sqlite_stds, label='SQLite', capsize=5)\n",
    "bars2 = ax.barh(y - 1.5 * height, cassandra_means, height, xerr=cassandra_stds, label='Cassandra (1 réplicat)', capsize=5)\n",
    "bars3 = ax.barh(y - 0.5 * height, cassandra_means_2, height, xerr=cassandra_stds_2, label='Cassandra (2 réplicats)', capsize=5)\n",
    "\n",
    "# Ajouter des barres supplémentaires pour les autres réplicats si nécessaire\n",
    "bars4 = ax.barh(y + 0.5 * height, cassandra_means_3, height, xerr=cassandra_stds_2, label='Cassandra (3 réplicats)', capsize=5)\n",
    "bars5 = ax.barh(y + 1.5 * height, cassandra_means_4, height, xerr=cassandra_stds_2, label='Cassandra (4 réplicats)', capsize=5)\n",
    "bars6 = ax.barh(y + 2.5 * height, cassandra_means_5, height, xerr=cassandra_stds_2, label='Cassandra (5 réplicats)', capsize=5)\n",
    "\n",
    "# Ajouter des labels et des titres\n",
    "ax.set_xlabel('Temps (secondes)')\n",
    "ax.set_ylabel('Opérations')\n",
    "ax.set_title('Comparaison des performances de SQLite et Cassandra avec plusieurs réplicats')\n",
    "ax.set_yticks(y)\n",
    "ax.set_yticklabels(operations)\n",
    "ax.legend()\n",
    "\n",
    "# Afficher les valeurs sur les barres\n",
    "def add_values(bars):\n",
    "    for bar in bars:\n",
    "        xval = bar.get_width()\n",
    "        ax.text(xval, bar.get_y() + bar.get_height() / 2, f'{xval:.6f}', va='center', ha='left')\n",
    "\n",
    "add_values(bars1)\n",
    "add_values(bars2)\n",
    "add_values(bars3)\n",
    "add_values(bars4)\n",
    "add_values(bars5)\n",
    "add_values(bars6)\n",
    "\n",
    "# Afficher le graphique\n",
    "plt.tight_layout()\n",
    "plt.show()"
   ]
  },
  {
   "cell_type": "code",
   "execution_count": null,
   "metadata": {},
   "outputs": [],
   "source": []
  },
  {
   "cell_type": "code",
   "execution_count": null,
   "metadata": {},
   "outputs": [],
   "source": []
  },
  {
   "cell_type": "markdown",
   "metadata": {},
   "source": [
    " SQLite est une base de données embarquée :\n",
    "SQLite est une base de données légère et locale, conçue pour fonctionner sur des systèmes où les ressources sont limitées. Elle est souvent utilisée pour des bases de données petites à moyennes, et elle est optimisée pour être rapide dans des environnements où il n'y a pas de forte concurrence ou de distribution.\n",
    "Comme SQLite est embarquée, elle utilise le même processus que ton application, ce qui peut réduire les frais généraux liés aux appels réseau et aux processus séparés nécessaires pour une base de données distribuée comme Cassandra.\n",
    "\n",
    "Replication et gestion des nœuds dans Cassandra :\n",
    "L'activation de la réplication dans Cassandra, même avec des facteurs de réplication faibles, introduit une complexité supplémentaire. Le fait que Cassandra doive gérer des copies des données sur plusieurs nœuds (et potentiellement attendre des confirmations d'écriture/lecture de ces nœuds) peut ralentir les performances, surtout pour des petites bases de données.\n",
    "Le facteur de réplication dans Cassandra peut augmenter le temps de réponse des écritures et lectures, car les données doivent être synchronisées entre plusieurs nœuds. Dans une petite base de données, cela peut devenir un goulot d'étranglement inutile.\n",
    "\n",
    "\n",
    "Coût de gestion des partitions et de la distribution :\n",
    "Cassandra est conçue pour gérer de grandes quantités de données distribuées sur plusieurs machines. Si ta base de données est petite, Cassandra pourrait avoir un coût supplémentaire lié à la gestion des partitions et des nœuds, ce qui ralentirait les performances comparées à SQLite, qui n'a pas besoin de gérer cette distribution.\n",
    "\n",
    "\n",
    "Caching et optimisation :\n",
    "SQLite peut tirer parti du caching local pour accélérer les lectures, surtout lorsqu'il y a peu de données et que tout peut être chargé en mémoire.\n",
    "Cassandra, d'autre part, peut nécessiter davantage de gestion des caches, de coordination entre les nœuds, et de répartition des données avant de pouvoir renvoyer les résultats d'une requête, ce qui peut rendre le processus plus lent pour des petites bases."
   ]
  },
  {
   "cell_type": "markdown",
   "metadata": {},
   "source": [
    "TODO : Effectuer des tests de charge : Augmenter le nombre de requêtes ou de transactions simultanées pour tester la scalabilité et la gestion des requêtes par Cassandra. Dans un scénario avec peu de données, SQLite peut sembler plus rapide, mais lorsque la charge augmente, Cassandra sera plus adapté pour gérer des performances à grande échelle"
   ]
  },
  {
   "cell_type": "markdown",
   "metadata": {},
   "source": [
    "Dans Cassandra, la fragmentation horizontale (ou \"sharding\") se fait automatiquement à partir de la clé de partition que vous définissez dans vos tables. Cassandra distribue les données entre les nœuds en fonction des clés de partition et utilise la réplication pour garantir la résilience des données."
   ]
  },
  {
   "cell_type": "markdown",
   "metadata": {},
   "source": [
    "TODO vérifier valeur print c'est les memes que plot "
   ]
  },
  {
   "cell_type": "markdown",
   "metadata": {},
   "source": [
    "TODO : Le clustering est une autre méthode de distribution des données dans Cassandra, mais cela se fait au sein d'une partition (c'est-à-dire que les données ayant la même clé de partition seront rangées ensemble en fonction de la clé de clustering). Le choix d'une bonne clé de clustering permet d’optimiser la lecture des données dans Cassandra.\n",
    "\n",
    "TODO CLUSTERING "
   ]
  },
  {
   "cell_type": "markdown",
   "metadata": {},
   "source": []
  },
  {
   "cell_type": "markdown",
   "metadata": {},
   "source": [
    "Utiliser une base de données plus grande : Cassandra est mieux adapté pour gérer de grandes quantités de données et pour tirer parti de son architecture distribuée.\n",
    "\n",
    "On va donc augmenter notre jeu de données "
   ]
  },
  {
   "cell_type": "markdown",
   "metadata": {},
   "source": []
  },
  {
   "cell_type": "markdown",
   "metadata": {},
   "source": []
  },
  {
   "cell_type": "markdown",
   "metadata": {},
   "source": []
  },
  {
   "cell_type": "markdown",
   "metadata": {},
   "source": []
  },
  {
   "cell_type": "code",
   "execution_count": null,
   "metadata": {
    "id": "zMput7yPJ8Pf"
   },
   "outputs": [],
   "source": [
    "# TODO : augmenter le dataset pour tester la scalabilité\n",
    "# TODO : BATCH\n",
    "# TODO : INDEX\n",
    "# TODO : REQUETES COMPLEXES\n",
    "# TODO : JOINS\n",
    "# TODO : REQUETES AVEC FILTRES"
   ]
  },
  {
   "cell_type": "markdown",
   "metadata": {
    "id": "SAxurK-oSaXh"
   },
   "source": [
    "# Création d'un dataset plus grand"
   ]
  },
  {
   "cell_type": "markdown",
   "metadata": {
    "id": "-BJ6a0BHSaXh"
   },
   "source": [
    "TODO rédaction\n",
    "\n",
    "Création d'un dataset plus grand pour voir une réelle différence sur les opérations CRUD.  \n",
    "Création nous même car les sites de création de dataset ne permettent de télécharger que 1000 lignes avec un compte gratuit."
   ]
  },
  {
   "cell_type": "code",
   "execution_count": 61,
   "metadata": {},
   "outputs": [
    {
     "data": {
      "text/plain": [
       "(8807, 12)"
      ]
     },
     "execution_count": 61,
     "metadata": {},
     "output_type": "execute_result"
    }
   ],
   "source": [
    "df_initial.shape"
   ]
  },
  {
   "cell_type": "code",
   "execution_count": 62,
   "metadata": {
    "id": "_0fCtTqoSaXh"
   },
   "outputs": [
    {
     "name": "stdout",
     "output_type": "stream",
     "text": [
      "Les IDs sont uniques.\n",
      "Dataset généré avec 30000 lignes (lignes dupliquées supprimées) et exporté dans netflix_titles_large.csv.\n"
     ]
    }
   ],
   "source": [
    "import pandas as pd\n",
    "import random\n",
    "\n",
    "# Activer ou désactiver la génération de données supplémentaires\n",
    "more_data = True\n",
    "\n",
    "if more_data:\n",
    "    # Charger le dataset initial\n",
    "    original_df = df_initial  # Remplace par ton DataFrame de départ\n",
    "\n",
    "    # Nombre total de lignes souhaitées\n",
    "    num_rows = 30000\n",
    "\n",
    "    # Fonction pour générer des colonnes supplémentaires à partir de données existantes\n",
    "    def generate_large_column(original_column, size):\n",
    "        return [random.choice(original_column) for _ in range(size)]\n",
    "\n",
    "    # Fonction pour générer des IDs uniques\n",
    "    def generate_unique_show_id(existing_ids, size):\n",
    "        start_id = max(existing_ids) + 1 if existing_ids else 1\n",
    "        return [f\"{i}\" for i in range(start_id, start_id + size)]\n",
    "\n",
    "    # Générer les données pour chaque colonne\n",
    "    generated_data = original_df.to_dict(orient='list')  # Convertir en dictionnaire de colonnes\n",
    "\n",
    "    # Assurer l'unicité des IDs\n",
    "    existing_ids = set(map(int, original_df[\"show_id\"].tolist()))  # Obtenir les IDs existants\n",
    "    new_ids = generate_unique_show_id(existing_ids, num_rows - len(original_df))\n",
    "    generated_data[\"show_id\"].extend(new_ids)\n",
    "\n",
    "    # Générer les autres colonnes\n",
    "    for column in original_df.columns:\n",
    "        if column != \"show_id\":  # Ne pas regénérer la colonne show_id\n",
    "            generated_data[column].extend(generate_large_column(original_df[column].tolist(), num_rows - len(original_df)))\n",
    "\n",
    "    # Créer un DataFrame à partir des données générées\n",
    "    large_df = pd.DataFrame(generated_data)\n",
    "\n",
    "    # Supprimer les doublons éventuels (vérifie toutes les colonnes)\n",
    "    large_df = large_df.drop_duplicates()\n",
    "\n",
    "    # Remplacer les NaN explicitement pour chaque colonne\n",
    "    for column in large_df.columns:\n",
    "        if large_df[column].isnull().any():\n",
    "            if large_df[column].dtype == \"object\":\n",
    "                large_df[column].fillna(\"Unknown\", inplace=True)  # Texte : remplacer par 'Unknown'\n",
    "            else:\n",
    "                large_df[column].fillna(0, inplace=True)  # Numérique : remplacer par 0\n",
    "\n",
    "    # Supprimer les doublons éventuels (vérifie toutes les colonnes)\n",
    "    large_df = large_df.drop_duplicates()\n",
    "\n",
    "    # Vérifie qu'il n'y a pas de doublons dans 'show_id'\n",
    "    if large_df[\"show_id\"].duplicated().any():\n",
    "        print(\"Attention : Des doublons existent dans la colonne 'show_id'.\")\n",
    "    else:\n",
    "        print(\"Les IDs sont uniques.\")\n",
    "\n",
    "    # Sauvegarder le dataset dans un fichier CSV\n",
    "    output_file = \"netflix_titles_large.csv\"\n",
    "    large_df.to_csv(output_file, index=False)\n",
    "    print(f\"Dataset généré avec {len(large_df)} lignes (lignes dupliquées supprimées) et exporté dans {output_file}.\")\n"
   ]
  },
  {
   "cell_type": "code",
   "execution_count": 63,
   "metadata": {},
   "outputs": [
    {
     "data": {
      "text/plain": [
       "(30000, 12)"
      ]
     },
     "execution_count": 63,
     "metadata": {},
     "output_type": "execute_result"
    }
   ],
   "source": [
    "large_df.shape"
   ]
  },
  {
   "cell_type": "code",
   "execution_count": 64,
   "metadata": {},
   "outputs": [
    {
     "data": {
      "text/plain": [
       "show_id         0\n",
       "type            0\n",
       "title           0\n",
       "director        0\n",
       "cast            0\n",
       "country         0\n",
       "date_added      0\n",
       "release_year    0\n",
       "rating          0\n",
       "duration        0\n",
       "listed_in       0\n",
       "description     0\n",
       "dtype: int64"
      ]
     },
     "execution_count": 64,
     "metadata": {},
     "output_type": "execute_result"
    }
   ],
   "source": [
    "large_df.isna().sum()"
   ]
  },
  {
   "cell_type": "code",
   "execution_count": 65,
   "metadata": {},
   "outputs": [],
   "source": [
    "# Convertir la colonne show_id en int en enlevant le préfixe 's' (plus simple pour gérer exactement le meme type de données en Cassandra et MySQL)\n",
    "large_df['show_id'] = large_df['show_id'].astype(int)\n",
    "\n",
    "large_df['show_id'] = large_df['show_id'].astype(int)\n",
    "large_df['release_year'] = large_df['release_year'].astype(int)\n",
    "\n",
    "large_df['type'] = large_df['title'].astype(str)\n",
    "large_df['title'] = large_df['title'].astype(str)\n",
    "large_df['director'] = large_df['director'].astype(str)\n",
    "large_df['cast'] = large_df['cast'].astype(str)\n",
    "large_df['country'] = large_df['country'].astype(str)\n",
    "large_df['date_added'] = large_df['date_added'].astype(str)\n",
    "large_df['rating'] = large_df['rating'].astype(str)\n",
    "large_df['duration'] = large_df['duration'].astype(str)\n",
    "large_df['listed_in'] = large_df['listed_in'].astype(str)\n",
    "large_df['description'] = large_df['description'].astype(str)"
   ]
  },
  {
   "cell_type": "code",
   "execution_count": null,
   "metadata": {},
   "outputs": [
    {
     "data": {
      "text/plain": [
       "<sqlite3.Cursor at 0x1197534c0>"
      ]
     },
     "execution_count": 66,
     "metadata": {},
     "output_type": "execute_result"
    }
   ],
   "source": [
    "# sqlite \n",
    "# --- CREATE ---\n",
    "create_sqlite_massive_mean, create_sqlite_massive_std = benchmark_operation(sqlite_insert, large_df)\n",
    "print(f\"CREATE: Mean Time = {create_sqlite_massive_mean:.6f}s, Std Time = {create_sqlite_massive_std:.6f}s\")\n",
    "\n",
    "# Vérifier le nombre de lignes insérées\n",
    "cursor.execute('SELECT COUNT(*) FROM shows')\n",
    "row = cursor.fetchone()\n",
    "print(f\"Total rows in 'shows' table: {row[0]}\")\n",
    "\n",
    "# --- READ ---\n",
    "read_sqlite_massive_mean, read_sqlite_massive_std = benchmark_operation(sqlite_read, large_df)\n",
    "print(f\"READ: Mean Time = {read_sqlite_massive_mean:.6f}s, Std Time = {read_sqlite_massive_std:.6f}s\")\n",
    "\n",
    "# --- UPDATE ---\n",
    "update_sqlite_massive_mean, update_sqlite_massive_std = benchmark_operation(sqlite_update, large_df)\n",
    "print(f\"UPDATE: Mean Time = {update_sqlite_massive_mean:.6f}s, Std Time = {update_sqlite_massive_std:.6f}s\")\n",
    "\n",
    "# --- DELETE ---\n",
    "delete_sqlite_massive_mean, delete_sqlite_massive_std = benchmark_operation(sqlite_delete, large_df)\n",
    "print(f\"DELETE: Mean Time = {delete_sqlite_massive_mean:.6f}s, Std Time = {delete_sqlite_massive_std:.6f}s\")"
   ]
  },
  {
   "cell_type": "code",
   "execution_count": 68,
   "metadata": {},
   "outputs": [
    {
     "name": "stdout",
     "output_type": "stream",
     "text": [
      "replication factor = 1\n",
      "Create Time: 6.305042 seconds\n",
      "replication factor = 1\n",
      "Create Time: 6.172049 seconds\n",
      "replication factor = 1\n",
      "Create Time: 6.489183 seconds\n",
      "replication factor = 1\n",
      "Create Time: 6.227700 seconds\n",
      "replication factor = 1\n",
      "Create Time: 6.258380 seconds\n",
      "CREATE: Mean Time = 6.290471s, Std Time = 0.108344s\n",
      "Total rows in 'shows' table: 30000\n",
      "replication factor = 1\n",
      "replication factor = 1\n",
      "Create Time: 5.980471 seconds\n",
      "Read Time: 0.047021 seconds\n",
      "Queried 28110 records\n",
      "replication factor = 1\n",
      "replication factor = 1\n",
      "Create Time: 6.111760 seconds\n",
      "Read Time: 0.048414 seconds\n",
      "Queried 28110 records\n",
      "replication factor = 1\n",
      "replication factor = 1\n",
      "Create Time: 6.037833 seconds\n",
      "Read Time: 0.047441 seconds\n",
      "Queried 28110 records\n",
      "replication factor = 1\n",
      "replication factor = 1\n",
      "Create Time: 6.441056 seconds\n",
      "Read Time: 0.046526 seconds\n",
      "Queried 28110 records\n",
      "replication factor = 1\n",
      "replication factor = 1\n",
      "Create Time: 6.012573 seconds\n",
      "Read Time: 0.047301 seconds\n",
      "Queried 28110 records\n",
      "READ: Mean Time = 0.047341s, Std Time = 0.000621s\n",
      "replication factor = 1\n",
      "replication factor = 1\n",
      "Create Time: 6.240379 seconds\n",
      "Update Time: 4.769964 seconds\n",
      "replication factor = 1\n",
      "replication factor = 1\n",
      "Create Time: 6.163305 seconds\n",
      "Update Time: 4.783572 seconds\n",
      "replication factor = 1\n",
      "replication factor = 1\n",
      "Create Time: 6.068401 seconds\n",
      "Update Time: 4.820649 seconds\n",
      "replication factor = 1\n",
      "replication factor = 1\n",
      "Create Time: 5.967564 seconds\n",
      "Update Time: 4.739529 seconds\n",
      "replication factor = 1\n",
      "replication factor = 1\n",
      "Create Time: 5.856766 seconds\n",
      "Update Time: 4.638058 seconds\n",
      "UPDATE: Mean Time = 4.750354s, Std Time = 0.061898s\n",
      "replication factor = 1\n",
      "replication factor = 1\n",
      "Create Time: 6.047659 seconds\n",
      "Delete Time: 4.683453 seconds\n",
      "replication factor = 1\n",
      "replication factor = 1\n",
      "Create Time: 5.970143 seconds\n",
      "Delete Time: 4.640819 seconds\n",
      "replication factor = 1\n",
      "replication factor = 1\n",
      "Create Time: 5.951092 seconds\n",
      "Delete Time: 4.634596 seconds\n",
      "replication factor = 1\n",
      "replication factor = 1\n",
      "Create Time: 5.911347 seconds\n",
      "Delete Time: 4.581770 seconds\n",
      "replication factor = 1\n",
      "replication factor = 1\n",
      "Create Time: 6.104175 seconds\n",
      "Delete Time: 4.592364 seconds\n",
      "DELETE: Mean Time = 4.626600s, Std Time = 0.036552s\n",
      "replication factor = 2\n",
      "Create Time: 5.911650 seconds\n",
      "replication factor = 2\n",
      "Create Time: 6.257621 seconds\n",
      "replication factor = 2\n",
      "Create Time: 6.358011 seconds\n",
      "replication factor = 2\n",
      "Create Time: 6.343247 seconds\n",
      "replication factor = 2\n",
      "Create Time: 6.444060 seconds\n",
      "CREATE: Mean Time = 6.262918s, Std Time = 0.185324s\n",
      "Total rows in 'shows' table: 0\n",
      "replication factor = 2\n",
      "replication factor = 2\n",
      "Create Time: 6.195701 seconds\n",
      "Read Time: 0.088713 seconds\n",
      "Queried 28110 records\n",
      "replication factor = 2\n",
      "replication factor = 2\n",
      "Create Time: 6.011707 seconds\n",
      "Read Time: 0.047735 seconds\n",
      "Queried 28110 records\n",
      "replication factor = 2\n",
      "replication factor = 2\n",
      "Create Time: 6.063917 seconds\n",
      "Read Time: 0.046232 seconds\n",
      "Queried 28110 records\n",
      "replication factor = 2\n",
      "replication factor = 2\n",
      "Create Time: 5.878820 seconds\n",
      "Read Time: 0.045926 seconds\n",
      "Queried 28110 records\n",
      "replication factor = 2\n",
      "replication factor = 2\n",
      "Create Time: 6.105107 seconds\n",
      "Read Time: 0.051312 seconds\n",
      "Queried 28110 records\n",
      "READ: Mean Time = 0.055984s, Std Time = 0.016476s\n",
      "replication factor = 2\n",
      "replication factor = 2\n",
      "Create Time: 6.167797 seconds\n",
      "Update Time: 4.976737 seconds\n",
      "replication factor = 2\n",
      "replication factor = 2\n",
      "Create Time: 6.354265 seconds\n",
      "Update Time: 4.768635 seconds\n",
      "replication factor = 2\n",
      "replication factor = 2\n",
      "Create Time: 5.973138 seconds\n",
      "Update Time: 4.698009 seconds\n",
      "replication factor = 2\n",
      "replication factor = 2\n",
      "Create Time: 6.052716 seconds\n",
      "Update Time: 4.631838 seconds\n",
      "replication factor = 2\n",
      "replication factor = 2\n",
      "Create Time: 6.217671 seconds\n",
      "Update Time: 5.132855 seconds\n",
      "UPDATE: Mean Time = 4.841615s, Std Time = 0.186029s\n",
      "replication factor = 2\n",
      "replication factor = 2\n",
      "Create Time: 6.331735 seconds\n",
      "Delete Time: 5.064627 seconds\n",
      "replication factor = 2\n",
      "replication factor = 2\n",
      "Create Time: 6.519257 seconds\n",
      "Delete Time: 4.832308 seconds\n",
      "replication factor = 2\n",
      "replication factor = 2\n",
      "Create Time: 6.322030 seconds\n",
      "Delete Time: 4.750753 seconds\n",
      "replication factor = 2\n",
      "replication factor = 2\n",
      "Create Time: 6.617422 seconds\n",
      "Delete Time: 4.656686 seconds\n",
      "replication factor = 2\n",
      "replication factor = 2\n",
      "Create Time: 6.154102 seconds\n",
      "Delete Time: 4.764192 seconds\n",
      "DELETE: Mean Time = 4.813713s, Std Time = 0.137388s\n",
      "replication factor = 3\n",
      "Create Time: 6.409927 seconds\n",
      "replication factor = 3\n",
      "Create Time: 6.337003 seconds\n",
      "replication factor = 3\n",
      "Create Time: 5.980218 seconds\n",
      "replication factor = 3\n",
      "Create Time: 5.983064 seconds\n",
      "replication factor = 3\n",
      "Create Time: 6.310713 seconds\n",
      "CREATE: Mean Time = 6.204185s, Std Time = 0.184594s\n",
      "Total rows in 'shows' table: 0\n",
      "replication factor = 3\n",
      "replication factor = 3\n",
      "Create Time: 6.212326 seconds\n",
      "Read Time: 0.047217 seconds\n",
      "Queried 28110 records\n",
      "replication factor = 3\n",
      "replication factor = 3\n",
      "Create Time: 6.118399 seconds\n",
      "Read Time: 0.047145 seconds\n",
      "Queried 28110 records\n",
      "replication factor = 3\n",
      "replication factor = 3\n",
      "Create Time: 6.057542 seconds\n",
      "Read Time: 0.046766 seconds\n",
      "Queried 28110 records\n",
      "replication factor = 3\n",
      "replication factor = 3\n",
      "Create Time: 6.604036 seconds\n",
      "Read Time: 0.048258 seconds\n",
      "Queried 28110 records\n",
      "replication factor = 3\n",
      "replication factor = 3\n",
      "Create Time: 6.287112 seconds\n",
      "Read Time: 0.047344 seconds\n",
      "Queried 28110 records\n",
      "READ: Mean Time = 0.047346s, Std Time = 0.000495s\n",
      "replication factor = 3\n",
      "replication factor = 3\n",
      "Create Time: 6.110990 seconds\n",
      "Update Time: 4.893218 seconds\n",
      "replication factor = 3\n",
      "replication factor = 3\n",
      "Create Time: 6.149772 seconds\n",
      "Update Time: 4.813292 seconds\n",
      "replication factor = 3\n",
      "replication factor = 3\n",
      "Create Time: 6.109893 seconds\n",
      "Update Time: 4.773435 seconds\n",
      "replication factor = 3\n",
      "replication factor = 3\n",
      "Create Time: 6.296885 seconds\n",
      "Update Time: 4.946524 seconds\n",
      "replication factor = 3\n",
      "replication factor = 3\n",
      "Create Time: 6.060320 seconds\n",
      "Update Time: 4.744621 seconds\n",
      "UPDATE: Mean Time = 4.834218s, Std Time = 0.075172s\n",
      "replication factor = 3\n",
      "replication factor = 3\n",
      "Create Time: 6.465090 seconds\n",
      "Delete Time: 4.806731 seconds\n",
      "replication factor = 3\n",
      "replication factor = 3\n",
      "Create Time: 5.991868 seconds\n",
      "Delete Time: 4.761159 seconds\n",
      "replication factor = 3\n",
      "replication factor = 3\n",
      "Create Time: 6.017631 seconds\n",
      "Delete Time: 4.597790 seconds\n",
      "replication factor = 3\n",
      "replication factor = 3\n",
      "Create Time: 6.169407 seconds\n",
      "Delete Time: 4.832714 seconds\n",
      "replication factor = 3\n",
      "replication factor = 3\n",
      "Create Time: 6.326841 seconds\n",
      "Delete Time: 4.716526 seconds\n",
      "DELETE: Mean Time = 4.742984s, Std Time = 0.082737s\n",
      "replication factor = 4\n",
      "Create Time: 5.968956 seconds\n",
      "replication factor = 4\n",
      "Create Time: 6.453405 seconds\n",
      "replication factor = 4\n",
      "Create Time: 6.118975 seconds\n",
      "replication factor = 4\n",
      "Create Time: 5.917848 seconds\n",
      "replication factor = 4\n",
      "Create Time: 6.107686 seconds\n",
      "CREATE: Mean Time = 6.113374s, Std Time = 0.186961s\n",
      "Total rows in 'shows' table: 0\n",
      "replication factor = 4\n",
      "replication factor = 4\n",
      "Create Time: 6.034694 seconds\n",
      "Read Time: 0.048110 seconds\n",
      "Queried 28110 records\n",
      "replication factor = 4\n",
      "replication factor = 4\n",
      "Create Time: 6.358436 seconds\n",
      "Read Time: 0.049944 seconds\n",
      "Queried 28110 records\n",
      "replication factor = 4\n",
      "replication factor = 4\n",
      "Create Time: 6.229291 seconds\n",
      "Read Time: 0.070293 seconds\n",
      "Queried 28110 records\n",
      "replication factor = 4\n",
      "replication factor = 4\n",
      "Create Time: 6.107002 seconds\n",
      "Read Time: 0.048195 seconds\n",
      "Queried 28110 records\n",
      "replication factor = 4\n",
      "replication factor = 4\n",
      "Create Time: 6.269807 seconds\n",
      "Read Time: 0.053206 seconds\n",
      "Queried 28110 records\n",
      "READ: Mean Time = 0.053950s, Std Time = 0.008378s\n",
      "replication factor = 4\n",
      "replication factor = 4\n",
      "Create Time: 6.050439 seconds\n",
      "Update Time: 4.764465 seconds\n",
      "replication factor = 4\n",
      "replication factor = 4\n",
      "Create Time: 6.139224 seconds\n",
      "Update Time: 4.739594 seconds\n",
      "replication factor = 4\n",
      "replication factor = 4\n",
      "Create Time: 6.324401 seconds\n",
      "Update Time: 4.851819 seconds\n",
      "replication factor = 4\n",
      "replication factor = 4\n",
      "Create Time: 6.238119 seconds\n",
      "Update Time: 4.792248 seconds\n",
      "replication factor = 4\n",
      "replication factor = 4\n",
      "Create Time: 6.395019 seconds\n",
      "Update Time: 4.732417 seconds\n",
      "UPDATE: Mean Time = 4.776109s, Std Time = 0.043291s\n",
      "replication factor = 4\n",
      "replication factor = 4\n",
      "Create Time: 6.279627 seconds\n",
      "Delete Time: 4.855604 seconds\n",
      "replication factor = 4\n",
      "replication factor = 4\n",
      "Create Time: 6.140319 seconds\n",
      "Delete Time: 4.843020 seconds\n",
      "replication factor = 4\n",
      "replication factor = 4\n",
      "Create Time: 6.616115 seconds\n",
      "Delete Time: 5.122794 seconds\n",
      "replication factor = 4\n",
      "replication factor = 4\n",
      "Create Time: 6.535309 seconds\n",
      "Delete Time: 5.036138 seconds\n",
      "replication factor = 4\n",
      "replication factor = 4\n",
      "Create Time: 6.146589 seconds\n",
      "Delete Time: 4.727369 seconds\n",
      "DELETE: Mean Time = 4.916985s, Std Time = 0.142652s\n",
      "replication factor = 5\n",
      "Create Time: 6.219585 seconds\n",
      "replication factor = 5\n",
      "Create Time: 6.246943 seconds\n",
      "replication factor = 5\n",
      "Create Time: 6.327773 seconds\n",
      "replication factor = 5\n",
      "Create Time: 6.385349 seconds\n",
      "replication factor = 5\n",
      "Create Time: 6.739336 seconds\n",
      "CREATE: Mean Time = 6.383797s, Std Time = 0.187213s\n",
      "Total rows in 'shows' table: 0\n",
      "replication factor = 5\n",
      "replication factor = 5\n",
      "Create Time: 6.786919 seconds\n",
      "Read Time: 0.061363 seconds\n",
      "Queried 28110 records\n",
      "replication factor = 5\n",
      "replication factor = 5\n",
      "Create Time: 6.717699 seconds\n",
      "Read Time: 0.052030 seconds\n",
      "Queried 28110 records\n",
      "replication factor = 5\n",
      "replication factor = 5\n",
      "Create Time: 6.537509 seconds\n",
      "Read Time: 0.052727 seconds\n",
      "Queried 28110 records\n",
      "replication factor = 5\n",
      "replication factor = 5\n",
      "Create Time: 6.532237 seconds\n",
      "Read Time: 0.051794 seconds\n",
      "Queried 28110 records\n",
      "replication factor = 5\n",
      "replication factor = 5\n",
      "Create Time: 6.367137 seconds\n",
      "Read Time: 0.051263 seconds\n",
      "Queried 28110 records\n",
      "READ: Mean Time = 0.053835s, Std Time = 0.003793s\n",
      "replication factor = 5\n",
      "replication factor = 5\n",
      "Create Time: 6.771768 seconds\n",
      "Update Time: 5.095057 seconds\n",
      "replication factor = 5\n",
      "replication factor = 5\n",
      "Create Time: 6.600205 seconds\n",
      "Update Time: 4.731991 seconds\n",
      "replication factor = 5\n",
      "replication factor = 5\n",
      "Create Time: 5.968306 seconds\n",
      "Update Time: 5.034047 seconds\n",
      "replication factor = 5\n",
      "replication factor = 5\n",
      "Create Time: 5.940797 seconds\n",
      "Update Time: 4.848004 seconds\n",
      "replication factor = 5\n",
      "replication factor = 5\n",
      "Create Time: 5.976556 seconds\n",
      "Update Time: 4.996920 seconds\n",
      "UPDATE: Mean Time = 4.941204s, Std Time = 0.132553s\n",
      "replication factor = 5\n",
      "replication factor = 5\n",
      "Create Time: 6.055572 seconds\n",
      "Delete Time: 4.628490 seconds\n",
      "replication factor = 5\n",
      "replication factor = 5\n",
      "Create Time: 6.524605 seconds\n",
      "Delete Time: 4.628210 seconds\n",
      "replication factor = 5\n",
      "replication factor = 5\n",
      "Create Time: 5.968737 seconds\n",
      "Delete Time: 4.977498 seconds\n",
      "replication factor = 5\n",
      "replication factor = 5\n",
      "Create Time: 6.062406 seconds\n",
      "Delete Time: 4.663740 seconds\n",
      "replication factor = 5\n",
      "replication factor = 5\n",
      "Create Time: 6.358298 seconds\n",
      "Delete Time: 4.681374 seconds\n",
      "DELETE: Mean Time = 4.715862s, Std Time = 0.132421s\n"
     ]
    }
   ],
   "source": [
    "# Cassandra\n",
    "\n",
    "# 1 replica\n",
    "# --- CREATE ---\n",
    "create_cassandra_mean, create_cassandra_std = benchmark_operation(cassandra_insert, large_df, 1)\n",
    "print(f\"CREATE: Mean Time = {create_cassandra_mean:.6f}s, Std Time = {create_cassandra_std:.6f}s\")\n",
    "\n",
    "# Vérifier le nombre de lignes insérées\n",
    "result = session.execute('SELECT COUNT(*) FROM shows')\n",
    "row = result.one()\n",
    "print(f\"Total rows in 'shows' table: {row[0]}\")\n",
    "\n",
    "# --- READ ---\n",
    "read_cassandra_mean, read_cassandra_std = benchmark_operation(cassandra_read, large_df, 1)\n",
    "print(f\"READ: Mean Time = {read_cassandra_mean:.6f}s, Std Time = {read_cassandra_std:.6f}s\")\n",
    "\n",
    "# --- UPDATE ---\n",
    "update_cassandra_mean, update_cassandra_std = benchmark_operation(cassandra_update, large_df, 1)\n",
    "print(f\"UPDATE: Mean Time = {update_cassandra_mean:.6f}s, Std Time = {update_cassandra_std:.6f}s\")\n",
    "\n",
    "# --- DELETE ---\n",
    "delete_cassandra_mean, delete_cassandra_std = benchmark_operation(cassandra_delete, large_df, 1)\n",
    "print(f\"DELETE: Mean Time = {delete_cassandra_mean:.6f}s, Std Time = {delete_cassandra_std:.6f}s\")\n",
    "\n",
    "# 2 replicas\n",
    "# --- CREATE ---\n",
    "create_cassandra_massive_mean_2, create_cassandra_massive_std_2 = benchmark_operation(cassandra_insert, large_df, 2)\n",
    "print(f\"CREATE: Mean Time = {create_cassandra_massive_mean_2:.6f}s, Std Time = {create_cassandra_massive_std_2:.6f}s\")\n",
    "\n",
    "# Vérifier le nombre de lignes insérées\n",
    "cursor.execute('SELECT COUNT(*) FROM shows')\n",
    "row = cursor.fetchone()\n",
    "print(f\"Total rows in 'shows' table: {row[0]}\")\n",
    "\n",
    "# --- READ ---\n",
    "read_cassandra_massive_mean_2, read_cassandra_massive_std_2 = benchmark_operation(cassandra_read, large_df, 2)\n",
    "print(f\"READ: Mean Time = {read_cassandra_massive_mean_2:.6f}s, Std Time = {read_cassandra_massive_std_2:.6f}s\")\n",
    "\n",
    "# --- UPDATE ---\n",
    "update_cassandra_massive_mean_2, update_cassandra_massive_std_2 = benchmark_operation(cassandra_update, large_df, 2)\n",
    "print(f\"UPDATE: Mean Time = {update_cassandra_massive_mean_2:.6f}s, Std Time = {update_cassandra_massive_std_2:.6f}s\")\n",
    "\n",
    "# --- DELETE ---\n",
    "delete_cassandra_massive_mean_2, delete_cassandra_massive_std_2 = benchmark_operation(cassandra_delete, large_df, 2)\n",
    "print(f\"DELETE: Mean Time = {delete_cassandra_massive_mean_2:.6f}s, Std Time = {delete_cassandra_massive_std_2:.6f}s\")\n",
    "\n",
    "# 3 replicas\n",
    "# --- CREATE ---\n",
    "create_cassandra_massive_mean_3, create_cassandra_massive_std_3 = benchmark_operation(cassandra_insert, large_df, 3)\n",
    "print(f\"CREATE: Mean Time = {create_cassandra_massive_mean_3:.6f}s, Std Time = {create_cassandra_massive_std_3:.6f}s\")\n",
    "\n",
    "# Vérifier le nombre de lignes insérées\n",
    "cursor.execute('SELECT COUNT(*) FROM shows')\n",
    "row = cursor.fetchone()\n",
    "print(f\"Total rows in 'shows' table: {row[0]}\")\n",
    "\n",
    "# --- READ ---\n",
    "read_cassandra_massive_mean_3, read_cassandra_massive_std_3 = benchmark_operation(cassandra_read, large_df, 3)\n",
    "print(f\"READ: Mean Time = {read_cassandra_massive_mean_3:.6f}s, Std Time = {read_cassandra_massive_std_3:.6f}s\")\n",
    "\n",
    "# --- UPDATE ---\n",
    "update_cassandra_massive_mean_3, update_cassandra_massive_std_3 = benchmark_operation(cassandra_update, large_df, 3)\n",
    "print(f\"UPDATE: Mean Time = {update_cassandra_massive_mean_3:.6f}s, Std Time = {update_cassandra_massive_std_3:.6f}s\")\n",
    "\n",
    "# --- DELETE ---\n",
    "delete_cassandra_massive_mean_3, delete_cassandra_massive_std_3 = benchmark_operation(cassandra_delete, large_df, 3)\n",
    "print(f\"DELETE: Mean Time = {delete_cassandra_massive_mean_3:.6f}s, Std Time = {delete_cassandra_massive_std_3:.6f}s\")\n",
    "\n",
    "\n",
    "# 4 replicas\n",
    "# --- CREATE ---\n",
    "create_cassandra_massive_mean_4, create_cassandra_massive_std_4 = benchmark_operation(cassandra_insert, large_df, 4)\n",
    "print(f\"CREATE: Mean Time = {create_cassandra_massive_mean_4:.6f}s, Std Time = {create_cassandra_massive_std_4:.6f}s\")\n",
    "\n",
    "# Vérifier le nombre de lignes insérées\n",
    "cursor.execute('SELECT COUNT(*) FROM shows')\n",
    "row = cursor.fetchone()\n",
    "print(f\"Total rows in 'shows' table: {row[0]}\")\n",
    "\n",
    "# --- READ ---\n",
    "read_cassandra_massive_mean_4, read_cassandra_massive_std_4 = benchmark_operation(cassandra_read, large_df, 4)\n",
    "print(f\"READ: Mean Time = {read_cassandra_massive_mean_4:.6f}s, Std Time = {read_cassandra_massive_std_4:.6f}s\")\n",
    "\n",
    "# --- UPDATE ---\n",
    "update_cassandra_massive_mean_4, update_cassandra_massive_std_4 = benchmark_operation(cassandra_update, large_df, 4)\n",
    "print(f\"UPDATE: Mean Time = {update_cassandra_massive_mean_4:.6f}s, Std Time = {update_cassandra_massive_std_4:.6f}s\")\n",
    "\n",
    "# --- DELETE ---\n",
    "delete_cassandra_massive_mean_4, delete_cassandra_massive_std_4 = benchmark_operation(cassandra_delete, large_df, 4)\n",
    "print(f\"DELETE: Mean Time = {delete_cassandra_massive_mean_4:.6f}s, Std Time = {delete_cassandra_massive_std_4:.6f}s\")\n",
    "\n",
    "# 5 replicas\n",
    "# --- CREATE ---\n",
    "create_cassandra_massive_mean_5, create_cassandra_massive_std_5 = benchmark_operation(cassandra_insert, large_df, 5)\n",
    "print(f\"CREATE: Mean Time = {create_cassandra_massive_mean_5:.6f}s, Std Time = {create_cassandra_massive_std_5:.6f}s\")\n",
    "\n",
    "# Vérifier le nombre de lignes insérées\n",
    "cursor.execute('SELECT COUNT(*) FROM shows')\n",
    "row = cursor.fetchone()\n",
    "print(f\"Total rows in 'shows' table: {row[0]}\")\n",
    "\n",
    "# --- READ ---\n",
    "read_cassandra_massive_mean_5, read_cassandra_massive_std_5 = benchmark_operation(cassandra_read, large_df, 5)\n",
    "print(f\"READ: Mean Time = {read_cassandra_massive_mean_5:.6f}s, Std Time = {read_cassandra_massive_std_5:.6f}s\")\n",
    "\n",
    "# --- UPDATE ---\n",
    "update_cassandra_massive_mean_5, update_cassandra_massive_std_5 = benchmark_operation(cassandra_update, large_df, 5)\n",
    "print(f\"UPDATE: Mean Time = {update_cassandra_massive_mean_5:.6f}s, Std Time = {update_cassandra_massive_std_5:.6f}s\")\n",
    "\n",
    "# --- DELETE ---\n",
    "delete_cassandra_massive_mean_5, delete_cassandra_massive_std_5 = benchmark_operation(cassandra_delete, large_df, 5)\n",
    "print(f\"DELETE: Mean Time = {delete_cassandra_massive_mean_5:.6f}s, Std Time = {delete_cassandra_massive_std_5:.6f}s\")"
   ]
  },
  {
   "cell_type": "code",
   "execution_count": null,
   "metadata": {},
   "outputs": [],
   "source": []
  },
  {
   "cell_type": "markdown",
   "metadata": {},
   "source": [
    "## Visualisation"
   ]
  },
  {
   "cell_type": "code",
   "execution_count": 69,
   "metadata": {},
   "outputs": [
    {
     "data": {
      "image/png": "[encoded data removed]",
      "text/plain": [
       "<Figure size 1000x600 with 1 Axes>"
      ]
     },
     "metadata": {},
     "output_type": "display_data"
    }
   ],
   "source": [
    "import matplotlib.pyplot as plt\n",
    "import numpy as np\n",
    "\n",
    "# Valeurs de temps pour SQLite\n",
    "sqlite_times = {\n",
    "    'CREATE': (create_sqlite_massive_mean, create_sqlite_massive_std),\n",
    "    'READ': (read_sqlite_massive_mean, read_sqlite_massive_std),\n",
    "    'UPDATE': (update_sqlite_massive_mean, update_sqlite_massive_std),\n",
    "    'DELETE': (delete_sqlite_massive_mean, delete_sqlite_massive_std)\n",
    "}\n",
    "\n",
    "# Valeurs de temps pour Cassandra avec 1 réplicat\n",
    "cassandra_times = {\n",
    "    'CREATE': (create_cassandra_massive_mean, create_cassandra_massive_std),\n",
    "    'READ': (read_cassandra_massive_mean, read_cassandra_massive_std),\n",
    "    'UPDATE': (update_cassandra_massive_mean, update_cassandra_massive_std),\n",
    "    'DELETE': (delete_cassandra_massive_mean, delete_cassandra_massive_std)\n",
    "}\n",
    "\n",
    "cassandra_times_2 = {\n",
    "    'CREATE': (create_cassandra_massive_mean_2, create_cassandra_massive_std_2),\n",
    "    'READ': (read_cassandra_massive_mean_2, read_cassandra_massive_std_2),\n",
    "    'UPDATE': (update_cassandra_massive_mean_2, update_cassandra_massive_std_2),\n",
    "    'DELETE': (delete_cassandra_massive_mean_2, delete_cassandra_massive_std_2)\n",
    "}\n",
    "\n",
    "\n",
    "cassandra_times_3 = {\n",
    "    'CREATE': (create_cassandra_massive_mean_3, create_cassandra_massive_std_3),\n",
    "    'READ': (read_cassandra_massive_mean_3, read_cassandra_massive_std_3),\n",
    "    'UPDATE': (update_cassandra_massive_mean_3, update_cassandra_massive_std_3),\n",
    "    'DELETE': (delete_cassandra_massive_mean_3, delete_cassandra_massive_std_3)\n",
    "}\n",
    "\n",
    "\n",
    "cassandra_times_4 = {\n",
    "    'CREATE': (create_cassandra_massive_mean_4, create_cassandra_massive_std_4),\n",
    "    'READ': (read_cassandra_massive_mean_4, read_cassandra_massive_std_4),\n",
    "    'UPDATE': (update_cassandra_massive_mean_4, update_cassandra_massive_std_4),\n",
    "    'DELETE': (delete_cassandra_massive_mean_4, delete_cassandra_massive_std_4)\n",
    "}\n",
    "\n",
    "\n",
    "cassandra_times_5 = {\n",
    "    'CREATE': (create_cassandra_massive_mean_5, create_cassandra_massive_std_5),\n",
    "    'READ': (read_cassandra_massive_mean_5, read_cassandra_massive_std_5),\n",
    "    'UPDATE': (update_cassandra_massive_mean_5, update_cassandra_massive_std_5),\n",
    "    'DELETE': (delete_cassandra_massive_mean_5, delete_cassandra_massive_std_5)\n",
    "}\n",
    "\n",
    "# Extraire les opérations\n",
    "operations = ['CREATE', 'READ', 'UPDATE', 'DELETE']\n",
    "\n",
    "# Extraire les temps moyens et écarts-types pour chaque système\n",
    "sqlite_means = [sqlite_times[op][0] for op in operations]\n",
    "sqlite_stds = [sqlite_times[op][1] for op in operations]\n",
    "\n",
    "cassandra_means = [cassandra_times[op][0] for op in operations]\n",
    "cassandra_stds = [cassandra_times[op][1] for op in operations]\n",
    "\n",
    "cassandra_means_2 = [cassandra_times_2[op][0] for op in operations]\n",
    "cassandra_stds_2 = [cassandra_times_2[op][1] for op in operations]\n",
    "\n",
    "cassandra_means_3 = [cassandra_times_3[op][0] for op in operations]\n",
    "cassandra_stds_3 = [cassandra_times_3[op][1] for op in operations]\n",
    "\n",
    "cassandra_means_4 = [cassandra_times_4[op][0] for op in operations]\n",
    "cassandra_stds_4 = [cassandra_times_4[op][1] for op in operations]\n",
    "\n",
    "cassandra_means_5 = [cassandra_times_5[op][0] for op in operations]\n",
    "cassandra_stds_5 = [cassandra_times_5[op][1] for op in operations]\n",
    "\n",
    "# Position des barres sur l'axe y\n",
    "y = np.arange(len(operations))\n",
    "\n",
    "# Largeur des barres\n",
    "height = 0.1\n",
    "\n",
    "# Créer un graphique horizontal\n",
    "fig, ax = plt.subplots(figsize=(10, 6))\n",
    "\n",
    "# Tracer les barres pour SQLite et Cassandra avec réplicats\n",
    "bars1 = ax.barh(y - 2.5 * height, sqlite_means, height, xerr=sqlite_stds, label='SQLite', capsize=5)\n",
    "bars2 = ax.barh(y - 1.5 * height, cassandra_means, height, xerr=cassandra_stds, label='Cassandra (1 réplicat)', capsize=5)\n",
    "bars3 = ax.barh(y - 0.5 * height, cassandra_means_2, height, xerr=cassandra_stds_2, label='Cassandra (2 réplicats)', capsize=5)\n",
    "\n",
    "# Ajouter des barres supplémentaires pour les autres réplicats si nécessaire\n",
    "bars4 = ax.barh(y + 0.5 * height, cassandra_means_3, height, xerr=cassandra_stds_2, label='Cassandra (3 réplicats)', capsize=5)\n",
    "bars5 = ax.barh(y + 1.5 * height, cassandra_means_4, height, xerr=cassandra_stds_2, label='Cassandra (4 réplicats)', capsize=5)\n",
    "bars6 = ax.barh(y + 2.5 * height, cassandra_means_5, height, xerr=cassandra_stds_2, label='Cassandra (5 réplicats)', capsize=5)\n",
    "\n",
    "# Ajouter des labels et des titres\n",
    "ax.set_xlabel('Temps (secondes)')\n",
    "ax.set_ylabel('Opérations')\n",
    "ax.set_title('Comparaison des performances de SQLite et Cassandra avec plusieurs réplicats sur données plus massives')\n",
    "ax.set_yticks(y)\n",
    "ax.set_yticklabels(operations)\n",
    "ax.legend()\n",
    "\n",
    "# Afficher les valeurs sur les barres\n",
    "def add_values(bars):\n",
    "    for bar in bars:\n",
    "        xval = bar.get_width()\n",
    "        ax.text(xval, bar.get_y() + bar.get_height() / 2, f'{xval:.6f}', va='center', ha='left')\n",
    "\n",
    "add_values(bars1)\n",
    "add_values(bars2)\n",
    "add_values(bars3)\n",
    "add_values(bars4)\n",
    "add_values(bars5)\n",
    "add_values(bars6)\n",
    "\n",
    "# Afficher le graphique\n",
    "plt.tight_layout()\n",
    "plt.show()"
   ]
  },
  {
   "cell_type": "code",
   "execution_count": null,
   "metadata": {},
   "outputs": [],
   "source": []
  },
  {
   "cell_type": "code",
   "execution_count": null,
   "metadata": {},
   "outputs": [],
   "source": []
  },
  {
   "cell_type": "code",
   "execution_count": null,
   "metadata": {},
   "outputs": [],
   "source": []
  },
  {
   "cell_type": "code",
   "execution_count": null,
   "metadata": {},
   "outputs": [],
   "source": []
  },
  {
   "cell_type": "markdown",
   "metadata": {},
   "source": [
    "# Comparaison avec / sans index"
   ]
  },
  {
   "cell_type": "code",
   "execution_count": 71,
   "metadata": {},
   "outputs": [
    {
     "name": "stdout",
     "output_type": "stream",
     "text": [
      "Indexation time: Cassandra 0.19914s, SQLite 0.00008s\n"
     ]
    }
   ],
   "source": [
    "def cassandra_create_indexes(columns):\n",
    "    start_time = time.time()\n",
    "    for column in columns:\n",
    "        index_query = f\"CREATE INDEX {column}_idx ON shows ({column});\"\n",
    "        session.execute(index_query)\n",
    "    cassandra_time = time.time() - start_time\n",
    "    return cassandra_time\n",
    "\n",
    "\n",
    "def sqlite_create_indexes(columns):\n",
    "    start_time = time.time()\n",
    "    for column in columns:\n",
    "        # Créer une requête SQL pour chaque colonne\n",
    "        index_query = f\"CREATE INDEX IF NOT EXISTS {column}_idx ON shows ({column});\"\n",
    "        cursor.execute(index_query)\n",
    "    sqlite_time = time.time() - start_time\n",
    "    return sqlite_time\n",
    "\n",
    "columns_to_index = [\"release_year\"]\n",
    "cassandra_time_index = cassandra_create_indexes(columns_to_index)\n",
    "sqlite_time_index = sqlite_create_indexes(columns_to_index)\n",
    "\n",
    "print(f\"Indexation time: Cassandra {cassandra_time_index:.5f}s, SQLite {sqlite_time_index:.5f}s\")"
   ]
  },
  {
   "cell_type": "code",
   "execution_count": 72,
   "metadata": {},
   "outputs": [],
   "source": [
    "# Fonctions pour CRUD SQLite avec index\n",
    "\n",
    "# --- CREATE ---\n",
    "def sqlite_insert_index(df):\n",
    "    drop_table_sqlite()\n",
    "    create_table_sqlite()\n",
    "    sqlite_create_indexes(columns_to_index)\n",
    "\n",
    "    columns = ', '.join(df.columns)\n",
    "    placeholders = ', '.join(['?'] * len(df.columns))\n",
    "    insert_query = f\"INSERT INTO shows ({columns}) VALUES ({placeholders})\"\n",
    "\n",
    "    start_time = time.time()\n",
    "    for _, row in df.iterrows():\n",
    "      cursor.execute(insert_query, tuple(row))\n",
    "    conn.commit()\n",
    "\n",
    "    create_time_sqlite = time.time() - start_time\n",
    "    print(f\"Create Time: {create_time_sqlite:.6f} seconds\")\n",
    "    return create_time_sqlite\n",
    "\n",
    "# --- READ ---\n",
    "def sqlite_read_index(df):\n",
    "    sqlite_insert_index(df)\n",
    "    start_time = time.time()\n",
    "    cursor.execute(\"SELECT * FROM shows WHERE release_year > 2000\")\n",
    "    result = cursor.fetchall()\n",
    "    read_time_sqlite = time.time() - start_time\n",
    "    print(f\"Read Time: {read_time_sqlite:.6f} seconds\")\n",
    "    print(f\"Queried {len(result)} records\")\n",
    "    return read_time_sqlite\n",
    "\n",
    "# --- UPDATE ---\n",
    "def sqlite_update_index(df):\n",
    "    sqlite_insert_index(df)\n",
    "    start_time = time.time()\n",
    "    cursor.execute(\"UPDATE shows SET rating='PG' WHERE release_year > 2000\")\n",
    "    conn.commit()\n",
    "    update_time_sqlite = time.time() - start_time\n",
    "    print(f\"Update Time: {update_time_sqlite:.6f} seconds\")\n",
    "    return update_time_sqlite\n",
    "\n",
    "# --- DELETE ---\n",
    "def sqlite_delete_index(df):\n",
    "    sqlite_insert_index(df)\n",
    "    start_time = time.time()\n",
    "    cursor.execute(\"DELETE FROM shows WHERE release_year > 2000\")\n",
    "    conn.commit()\n",
    "    delete_time_sqlite = time.time() - start_time\n",
    "    print(f\"Delete Time: {delete_time_sqlite:.6f} seconds\")\n",
    "    return delete_time_sqlite"
   ]
  },
  {
   "cell_type": "code",
   "execution_count": 73,
   "metadata": {},
   "outputs": [],
   "source": [
    "# Fonctions pour CRUD Cassandra avec index\n",
    "# --- CREATE ---\n",
    "def cassandra_insert_index(*args):\n",
    "    df = args[0]  # Premier argument, qui est le DataFrame\n",
    "    nb_repl = args[1]  # Deuxième argument, qui est le nombre de répliques\n",
    "\n",
    "    drop_table_cassandra()\n",
    "    create_table_cassandra(nb_repl)\n",
    "    cassandra_create_indexes(columns_to_index)\n",
    "\n",
    "    insert_query = session.prepare(\"INSERT INTO shows (show_id, title, director, cast, country, date_added, release_year, rating, duration, listed_in, description) VALUES (?, ?, ?, ?, ?, ?, ?, ?, ?, ?, ?)\")\n",
    "\n",
    "    start_time = time.time()\n",
    "    for _, row in df.iterrows():\n",
    "        session.execute(insert_query, (row['show_id'], row['title'], row['director'], row['cast'], row['country'], row['date_added'], row['release_year'], row['rating'], row['duration'], row['listed_in'], row['description']))\n",
    "    create_time = time.time() - start_time\n",
    "\n",
    "    print(f\"Create Time: {create_time:.6f} seconds\")\n",
    "\n",
    "    return create_time\n",
    "\n",
    "\n",
    "# --- READ ---\n",
    "def cassandra_read_index(*args):\n",
    "    df = args[0]  # Premier argument, qui est le DataFrame\n",
    "    nb_repl = args[1]  # Deuxième argument, qui est le nombre de répliques\n",
    "    cassandra_insert_index(df, nb_repl)\n",
    "\n",
    "    start_time = time.time()\n",
    "    result = session.execute('SELECT * FROM shows WHERE release_year > 2000;')\n",
    "    read_time = time.time() - start_time\n",
    "    print(f\"Read time with index: {read_time:.5f}s\")\n",
    "    num_records = sum(1 for _ in result)\n",
    "    print(f\"Number of records: {num_records}\")\n",
    "    return read_time \n",
    "\n",
    "\n",
    "# --- UPDATE ---\n",
    "def cassandra_update_index(*args):\n",
    "    df = args[0]  # Premier argument, qui est le DataFrame\n",
    "    nb_repl = args[1]  # Deuxième argument, qui est le nombre de répliques\n",
    "    cassandra_insert_index(df, nb_repl)\n",
    "\n",
    "    start_time = time.time()\n",
    "    update_query = \"UPDATE shows SET rating = 'PG' WHERE release_year > 2000;\"\n",
    "    session.execute(update_query)\n",
    "    update_time = time.time() - start_time\n",
    "    print(f\"Update time with index: {update_time:.5f}s\")\n",
    "    return update_time\n",
    "\n",
    "\n",
    "# --- DELETE ---\n",
    "def cassandra_delete_index(*args):\n",
    "    df = args[0]  # Premier argument, qui est le DataFrame\n",
    "    nb_repl = args[1]  # Deuxième argument, qui est le nombre de répliques\n",
    "    cassandra_insert_index(df, nb_repl)\n",
    "\n",
    "    start_time = time.time()\n",
    "    delete_query = \"DELETE FROM shows WHERE release_year > 2000;\"\n",
    "    session.execute(delete_query)\n",
    "    delete_time = time.time() - start_time\n",
    "    print(f\"Delete time with index: {delete_time:.5f}s\")\n",
    "    return delete_time"
   ]
  },
  {
   "cell_type": "code",
   "execution_count": null,
   "metadata": {},
   "outputs": [
    {
     "name": "stdout",
     "output_type": "stream",
     "text": [
      "Create Time: 0.442377 seconds\n",
      "Create Time: 0.423106 seconds\n",
      "Create Time: 0.399506 seconds\n",
      "Create Time: 0.388567 seconds\n",
      "Create Time: 0.384273 seconds\n",
      "CREATE: Mean Time = 0.407566s, Std Time = 0.022008s\n",
      "Total rows in 'shows' table: 30000\n",
      "Create Time: 0.388892 seconds\n",
      "Read Time: 0.042397 seconds\n",
      "Queried 28110 records\n"
     ]
    }
   ],
   "source": [
    "# sqlite \n",
    "# --- CREATE ---\n",
    "create_sqlite_massive_mean_index, create_sqlite_massive_std_index = benchmark_operation(sqlite_insert_index, large_df)\n",
    "print(f\"CREATE: Mean Time = {create_sqlite_massive_mean_index:.6f}s, Std Time = {create_sqlite_massive_std_index:.6f}s\")\n",
    "\n",
    "# Vérifier le nombre de lignes insérées\n",
    "cursor.execute('SELECT COUNT(*) FROM shows')\n",
    "row = cursor.fetchone()\n",
    "print(f\"Total rows in 'shows' table: {row[0]}\")\n",
    "\n",
    "# --- READ ---\n",
    "read_sqlite_massive_mean_index, read_sqlite_massive_std_index = benchmark_operation(sqlite_read_index, large_df)\n",
    "print(f\"READ: Mean Time = {read_sqlite_massive_mean_index:.6f}s, Std Time = {read_sqlite_massive_std_index:.6f}s\")\n",
    "\n",
    "# --- UPDATE ---\n",
    "update_sqlite_massive_mean_index, update_sqlite_massive_std_index = benchmark_operation(sqlite_update_index, large_df)\n",
    "print(f\"UPDATE: Mean Time = {update_sqlite_massive_mean_index:.6f}s, Std Time = {update_sqlite_massive_std_index:.6f}s\")\n",
    "\n",
    "# --- DELETE ---\n",
    "delete_sqlite_massive_mean_index, delete_sqlite_massive_std_index = benchmark_operation(sqlite_delete_index, large_df)\n",
    "print(f\"DELETE: Mean Time = {delete_sqlite_massive_mean_index:.6f}s, Std Time = {delete_sqlite_massive_std_index:.6f}s\")"
   ]
  },
  {
   "cell_type": "code",
   "execution_count": null,
   "metadata": {},
   "outputs": [
    {
     "ename": "NameError",
     "evalue": "name 'cassandra_insert_index' is not defined",
     "output_type": "error",
     "traceback": [
      "\u001b[0;31m---------------------------------------------------------------------------\u001b[0m",
      "\u001b[0;31mNameError\u001b[0m                                 Traceback (most recent call last)",
      "Cell \u001b[0;32mIn[70], line 5\u001b[0m\n\u001b[1;32m      1\u001b[0m \u001b[38;5;66;03m# Cassandra\u001b[39;00m\n\u001b[1;32m      2\u001b[0m \n\u001b[1;32m      3\u001b[0m \u001b[38;5;66;03m# 1 replica\u001b[39;00m\n\u001b[1;32m      4\u001b[0m \u001b[38;5;66;03m# --- CREATE ---\u001b[39;00m\n\u001b[0;32m----> 5\u001b[0m create_cassandra_mean_index, create_cassandra_std_index \u001b[38;5;241m=\u001b[39m benchmark_operation(\u001b[43mcassandra_insert_index\u001b[49m, large_df, \u001b[38;5;241m1\u001b[39m)\n\u001b[1;32m      6\u001b[0m \u001b[38;5;28mprint\u001b[39m(\u001b[38;5;124mf\u001b[39m\u001b[38;5;124m\"\u001b[39m\u001b[38;5;124mCREATE: Mean Time = \u001b[39m\u001b[38;5;132;01m{\u001b[39;00mcreate_cassandra_mean_index\u001b[38;5;132;01m:\u001b[39;00m\u001b[38;5;124m.6f\u001b[39m\u001b[38;5;132;01m}\u001b[39;00m\u001b[38;5;124ms, Std Time = \u001b[39m\u001b[38;5;132;01m{\u001b[39;00mcreate_cassandra_std_index\u001b[38;5;132;01m:\u001b[39;00m\u001b[38;5;124m.6f\u001b[39m\u001b[38;5;132;01m}\u001b[39;00m\u001b[38;5;124ms\u001b[39m\u001b[38;5;124m\"\u001b[39m)\n\u001b[1;32m      8\u001b[0m \u001b[38;5;66;03m# Vérifier le nombre de lignes insérées\u001b[39;00m\n",
      "\u001b[0;31mNameError\u001b[0m: name 'cassandra_insert_index' is not defined"
     ]
    }
   ],
   "source": [
    "# Cassandra\n",
    "\n",
    "# 1 replica\n",
    "# --- CREATE ---\n",
    "create_cassandra_mean_index, create_cassandra_std_index = benchmark_operation(cassandra_insert_index, large_df, 1)\n",
    "print(f\"CREATE: Mean Time = {create_cassandra_mean_index:.6f}s, Std Time = {create_cassandra_std_index:.6f}s\")\n",
    "\n",
    "# Vérifier le nombre de lignes insérées\n",
    "result = session.execute('SELECT COUNT(*) FROM shows')\n",
    "row = result.one()\n",
    "print(f\"Total rows in 'shows' table: {row[0]}\")\n",
    "\n",
    "# --- READ ---\n",
    "read_cassandra_mean_index, read_cassandra_std_index = benchmark_operation(cassandra_read_index, large_df, 1)\n",
    "print(f\"READ: Mean Time = {read_cassandra_mean_index:.6f}s, Std Time = {read_cassandra_std_index:.6f}s\")\n",
    "\n",
    "# --- UPDATE ---\n",
    "update_cassandra_mean_index, update_cassandra_std_index = benchmark_operation(cassandra_update_index, large_df, 1)\n",
    "print(f\"UPDATE: Mean Time = {update_cassandra_mean_index:.6f}s, Std Time = {update_cassandra_std_index:.6f}s\")\n",
    "\n",
    "# --- DELETE ---\n",
    "delete_cassandra_mean_index, delete_cassandra_std_index = benchmark_operation(cassandra_delete_index, large_df, 1)\n",
    "print(f\"DELETE: Mean Time = {delete_cassandra_mean_index:.6f}s, Std Time = {delete_cassandra_std_index:.6f}s\")\n",
    "\n",
    "# 2 replicas\n",
    "# --- CREATE ---\n",
    "create_cassandra_massive_mean_2_index, create_cassandra_massive_std_2_index = benchmark_operation(cassandra_insert_index, large_df, 2)\n",
    "print(f\"CREATE: Mean Time = {create_cassandra_massive_mean_2_index:.6f}s, Std Time = {create_cassandra_massive_std_2_index:.6f}s\")\n",
    "\n",
    "# Vérifier le nombre de lignes insérées\n",
    "cursor.execute('SELECT COUNT(*) FROM shows')\n",
    "row = cursor.fetchone()\n",
    "print(f\"Total rows in 'shows' table: {row[0]}\")\n",
    "\n",
    "# --- READ ---\n",
    "read_cassandra_massive_mean_2_index, read_cassandra_massive_std_2_index = benchmark_operation(cassandra_read_index, large_df, 2)\n",
    "print(f\"READ: Mean Time = {read_cassandra_massive_mean_2_index:.6f}s, Std Time = {read_cassandra_massive_std_2_index:.6f}s\")\n",
    "\n",
    "# --- UPDATE ---\n",
    "update_cassandra_massive_mean_2_index, update_cassandra_massive_std_2_index = benchmark_operation(cassandra_update_index, large_df, 2)\n",
    "print(f\"UPDATE: Mean Time = {update_cassandra_massive_mean_2_index:.6f}s, Std Time = {update_cassandra_massive_std_2_index:.6f}s\")\n",
    "\n",
    "# --- DELETE ---\n",
    "delete_cassandra_massive_mean_2_index, delete_cassandra_massive_std_2_index = benchmark_operation(cassandra_delete_index, large_df, 2)\n",
    "print(f\"DELETE: Mean Time = {delete_cassandra_massive_mean_2_index:.6f}s, Std Time = {delete_cassandra_massive_std_2_index:.6f}s\")\n",
    "\n",
    "# 3 replicas\n",
    "# --- CREATE ---\n",
    "create_cassandra_massive_mean_3_index, create_cassandra_massive_std_3_index = benchmark_operation(cassandra_insert_index, large_df, 3)\n",
    "print(f\"CREATE: Mean Time = {create_cassandra_massive_mean_3_index:.6f}s, Std Time = {create_cassandra_massive_std_3_index:.6f}s\")\n",
    "\n",
    "# Vérifier le nombre de lignes insérées\n",
    "cursor.execute('SELECT COUNT(*) FROM shows')\n",
    "row = cursor.fetchone()\n",
    "print(f\"Total rows in 'shows' table: {row[0]}\")\n",
    "\n",
    "# --- READ ---\n",
    "read_cassandra_massive_mean_3_index, read_cassandra_massive_std_3_index = benchmark_operation(cassandra_read_index, large_df, 3)\n",
    "print(f\"READ: Mean Time = {read_cassandra_massive_mean_3_index:.6f}s, Std Time = {read_cassandra_massive_std_3_index:.6f}s\")\n",
    "\n",
    "# --- UPDATE ---\n",
    "update_cassandra_massive_mean_3_index, update_cassandra_massive_std_3_index = benchmark_operation(cassandra_update_index, large_df, 3)\n",
    "print(f\"UPDATE: Mean Time = {update_cassandra_massive_mean_3_index:.6f}s, Std Time = {update_cassandra_massive_std_3_index:.6f}s\")\n",
    "\n",
    "# --- DELETE ---\n",
    "delete_cassandra_massive_mean_3_index, delete_cassandra_massive_std_3_index = benchmark_operation(cassandra_delete_index, large_df, 3)\n",
    "print(f\"DELETE: Mean Time = {delete_cassandra_massive_mean_3_index:.6f}s, Std Time = {delete_cassandra_massive_std_3_index:.6f}s\")\n",
    "\n",
    "\n",
    "# 4 replicas\n",
    "# --- CREATE ---\n",
    "create_cassandra_massive_mean_4_index, create_cassandra_massive_std_4_index = benchmark_operation(cassandra_insert_index, large_df, 4)\n",
    "print(f\"CREATE: Mean Time = {create_cassandra_massive_mean_4_index:.6f}s, Std Time = {create_cassandra_massive_std_4_index:.6f}s\")\n",
    "\n",
    "# Vérifier le nombre de lignes insérées\n",
    "cursor.execute('SELECT COUNT(*) FROM shows')\n",
    "row = cursor.fetchone()\n",
    "print(f\"Total rows in 'shows' table: {row[0]}\")\n",
    "\n",
    "# --- READ ---\n",
    "read_cassandra_massive_mean_4_index, read_cassandra_massive_std_4_index = benchmark_operation(cassandra_read_index, large_df, 4)\n",
    "print(f\"READ: Mean Time = {read_cassandra_massive_mean_4_index:.6f}s, Std Time = {read_cassandra_massive_std_4_index:.6f}s\")\n",
    "\n",
    "# --- UPDATE ---\n",
    "update_cassandra_massive_mean_4_index, update_cassandra_massive_std_4_index = benchmark_operation(cassandra_update_index, large_df, 4)\n",
    "print(f\"UPDATE: Mean Time = {update_cassandra_massive_mean_4_index:.6f}s, Std Time = {update_cassandra_massive_std_4_index:.6f}s\")\n",
    "\n",
    "# --- DELETE ---\n",
    "delete_cassandra_massive_mean_4_index, delete_cassandra_massive_std_4_index = benchmark_operation(cassandra_delete_index, large_df, 4)\n",
    "print(f\"DELETE: Mean Time = {delete_cassandra_massive_mean_4_index:.6f}s, Std Time = {delete_cassandra_massive_std_4_index:.6f}s\")\n",
    "\n",
    "# 5 replicas\n",
    "# --- CREATE ---\n",
    "create_cassandra_massive_mean_5_index, create_cassandra_massive_std_5_index = benchmark_operation(cassandra_insert_index, large_df, 5)\n",
    "print(f\"CREATE: Mean Time = {create_cassandra_massive_mean_5_index:.6f}s, Std Time = {create_cassandra_massive_std_5_index:.6f}s\")\n",
    "\n",
    "# Vérifier le nombre de lignes insérées\n",
    "cursor.execute('SELECT COUNT(*) FROM shows')\n",
    "row = cursor.fetchone()\n",
    "print(f\"Total rows in 'shows' table: {row[0]}\")\n",
    "\n",
    "# --- READ ---\n",
    "read_cassandra_massive_mean_5_index, read_cassandra_massive_std_5_index = benchmark_operation(cassandra_read_index, large_df, 5)\n",
    "print(f\"READ: Mean Time = {read_cassandra_massive_mean_5_index:.6f}s, Std Time = {read_cassandra_massive_std_5_index:.6f}s\")\n",
    "\n",
    "# --- UPDATE ---\n",
    "update_cassandra_massive_mean_5_index, update_cassandra_massive_std_5_index = benchmark_operation(cassandra_update_index, large_df, 5)\n",
    "print(f\"UPDATE: Mean Time = {update_cassandra_massive_mean_5_index:.6f}s, Std Time = {update_cassandra_massive_std_5_index:.6f}s\")\n",
    "\n",
    "# --- DELETE ---\n",
    "delete_cassandra_massive_mean_5_index, delete_cassandra_massive_std_5_index = benchmark_operation(cassandra_delete_index, large_df, 5)\n",
    "print(f\"DELETE: Mean Time = {delete_cassandra_massive_mean_5_index:.6f}s, Std Time = {delete_cassandra_massive_std_5_index:.6f}s\")"
   ]
  },
  {
   "cell_type": "code",
   "execution_count": null,
   "metadata": {},
   "outputs": [],
   "source": []
  },
  {
   "cell_type": "code",
   "execution_count": null,
   "metadata": {},
   "outputs": [],
   "source": []
  },
  {
   "cell_type": "code",
   "execution_count": null,
   "metadata": {},
   "outputs": [],
   "source": []
  },
  {
   "cell_type": "code",
   "execution_count": null,
   "metadata": {},
   "outputs": [],
   "source": []
  },
  {
   "cell_type": "code",
   "execution_count": null,
   "metadata": {},
   "outputs": [],
   "source": []
  },
  {
   "cell_type": "code",
   "execution_count": null,
   "metadata": {},
   "outputs": [],
   "source": [
    "# # TODO : \n",
    "# import matplotlib.pyplot as plt\n",
    "# import numpy as np\n",
    "\n",
    "# # Données simulées\n",
    "# replication_factors = [1, 2, 3, 4, 5]\n",
    "# insertion_mean = [0.3, 0.35, 0.4, 0.45, 0.5]\n",
    "# insertion_std = [0.02, 0.03, 0.04, 0.05, 0.06]\n",
    "\n",
    "# # Graphique\n",
    "# plt.figure(figsize=(10, 6))\n",
    "# plt.errorbar(replication_factors, insertion_mean, yerr=insertion_std, fmt='o-', capsize=5, label=\"Insertion Time\")\n",
    "\n",
    "# plt.title(\"Performance en fonction du Replication Factor\")\n",
    "# plt.xlabel(\"Replication Factor\")\n",
    "# plt.ylabel(\"Time (s)\")\n",
    "# plt.legend()\n",
    "# plt.grid(True)\n",
    "# plt.show()\n",
    "\n",
    "\n",
    "# # Données simulées\n",
    "# x = np.array(replication_factors)\n",
    "# insert_mean = np.array(insertion_mean)\n",
    "# insert_std = np.array(insertion_std)\n",
    "\n",
    "# plt.figure(figsize=(10, 6))\n",
    "# plt.plot(x, insert_mean, 'o-', label=\"Insertion Time\")\n",
    "# plt.fill_between(x, insert_mean - insert_std, insert_mean + insert_std, alpha=0.2, label=\"Insertion Uncertainty\")\n",
    "\n",
    "# plt.title(\"Performance avec zones d'incertitude\")\n",
    "# plt.xlabel(\"Replication Factor\")\n",
    "# plt.ylabel(\"Time (s)\")\n",
    "# plt.legend()\n",
    "# plt.grid(True)\n",
    "# plt.show()\n"
   ]
  },
  {
   "cell_type": "code",
   "execution_count": null,
   "metadata": {},
   "outputs": [],
   "source": []
  },
  {
   "cell_type": "code",
   "execution_count": null,
   "metadata": {},
   "outputs": [],
   "source": []
  },
  {
   "cell_type": "code",
   "execution_count": null,
   "metadata": {},
   "outputs": [],
   "source": []
  },
  {
   "cell_type": "code",
   "execution_count": null,
   "metadata": {},
   "outputs": [],
   "source": []
  },
  {
   "cell_type": "code",
   "execution_count": null,
   "metadata": {},
   "outputs": [],
   "source": []
  },
  {
   "cell_type": "code",
   "execution_count": null,
   "metadata": {
    "id": "e_f1SQ-vSaXj"
   },
   "outputs": [],
   "source": [
    "# plt.figure(figsize=(10, 6))\n",
    "# plt.plot(cassandra_times_update, label=\"Cassandra Update\", marker='o')\n",
    "# plt.plot(mysql_times_update, label=\"MySQL Update\", marker='x')\n",
    "# plt.xlabel(\"Itérations\")\n",
    "# plt.ylabel(\"Temps (secondes)\")\n",
    "# plt.title(\"Benchmark des mises à jour (Update) entre Cassandra et MySQL\")\n",
    "# plt.legend()\n",
    "# plt.grid()\n",
    "# plt.show()"
   ]
  },
  {
   "cell_type": "code",
   "execution_count": null,
   "metadata": {
    "id": "HaVOtssbSaXj"
   },
   "outputs": [],
   "source": [
    "# plt.figure(figsize=(10, 6))\n",
    "# plt.plot(cassandra_times_delete, label=\"Cassandra Delete\", marker='o')\n",
    "# plt.plot(mysql_times_delete, label=\"MySQL Delete\", marker='x')\n",
    "# plt.xlabel(\"Itérations\")\n",
    "# plt.ylabel(\"Temps (secondes)\")\n",
    "# plt.title(\"Benchmark des suppressions (Delete) entre Cassandra et MySQL\")\n",
    "# plt.legend()\n",
    "# plt.grid()\n",
    "# plt.show()\n"
   ]
  },
  {
   "cell_type": "code",
   "execution_count": null,
   "metadata": {},
   "outputs": [],
   "source": []
  },
  {
   "cell_type": "markdown",
   "metadata": {
    "id": "-nOtYV7qSaXk"
   },
   "source": [
    "TODO : index secondaire ?"
   ]
  },
  {
   "cell_type": "markdown",
   "metadata": {
    "id": "VsioVMFpSaXk"
   },
   "source": [
    "Indexation des colonnes utilisées dans les filtres, jointures et ordonnancement (ORDER BY).  \n",
    "Seulement ces colonnes sinon le coût de stockage est trop élevé pour rien."
   ]
  },
  {
   "cell_type": "code",
   "execution_count": null,
   "metadata": {
    "id": "UgMCnuTjSaXk"
   },
   "outputs": [],
   "source": [
    "# Vérification des index\n",
    "index_query = \"SELECT * FROM system_schema.indexes WHERE keyspace_name = 'netflix';\"\n",
    "rows = cassandra_session.execute(index_query)\n",
    "print(\"Index existants dans Cassandra :\")\n",
    "for row in rows:\n",
    "    print(row)\n",
    "\n",
    "index_query_mysql = \"SHOW INDEX FROM shows;\"\n",
    "with mysql_engine.connect() as conn:\n",
    "    conn.execute(text(\"USE TDLE;\"))\n",
    "    result = conn.execute(text(index_query_mysql))\n",
    "    print(\"Index existants dans MySQL :\")\n",
    "    for row in result:\n",
    "        print(row)"
   ]
  },
  {
   "cell_type": "code",
   "execution_count": null,
   "metadata": {
    "id": "Xr4EKrp9SaXl"
   },
   "outputs": [],
   "source": [
    "\n",
    "# TODO :  Analyser les résultats\n",
    "# TODO : Tester avec des requêtes plus complexes\n",
    "# TODO : Utiliser un dataset plus grand\n",
    "# TODO : Ajouter des colonnes à indexer\n",
    "# Tous ces TODO n'ont rien changé."
   ]
  },
  {
   "cell_type": "markdown",
   "metadata": {
    "id": "nVM9-fpuSaXl"
   },
   "source": [
    "### Cassandra - Résultats"
   ]
  },
  {
   "cell_type": "code",
   "execution_count": null,
   "metadata": {
    "id": "yYegzpImSaXl"
   },
   "outputs": [],
   "source": [
    "average_times = results_df.iloc[:, 1:].mean()\n",
    "\n",
    "for col in ['Insertion Time', 'Read Time', 'Update Time', 'Delete Time']:\n",
    "    results_df[col] = results_df[col].apply(lambda x: sum(x)/len(x) if isinstance(x, list) else x)\n",
    "\n",
    "average_times = results_df.iloc[:, 1:].mean()\n",
    "\n",
    "fig = go.Figure()\n",
    "\n",
    "\n",
    "for rf in results_df['Replication Factor']:\n",
    "    values = results_df[results_df['Replication Factor'] == rf].iloc[0, 1:].values\n",
    "    values = [float(v) for v in values]\n",
    "\n",
    "    fig.add_trace(go.Bar(x=['Insertion Time', 'Read Time', 'Update Time', 'Delete Time'], y=values, name=f'Replication Factor {rf}', text=[f\"{v:.3f}s\" for v in values], textposition='auto'))\n",
    "\n",
    "fig.update_layout(title=\"Temps d'exécution des opérations CRUD par facteur de réplication\", xaxis_title=\"Opérations CRUD\", yaxis_title=\"Temps d'exécution (secondes)\", barmode='group', template='plotly_white', legend=dict(title=\"Replication Factor\"))\n",
    "\n",
    "fig.show()"
   ]
  },
  {
   "cell_type": "markdown",
   "metadata": {
    "id": "YUKaVNidSaXl"
   },
   "source": [
    "# Fin du notebook"
   ]
  },
  {
   "cell_type": "code",
   "execution_count": null,
   "metadata": {
    "id": "K__CbN_ISaXl"
   },
   "outputs": [],
   "source": [
    "# Tout fermer proprement\n",
    "session.shutdown() # Fermer la connexion Cassandra\n",
    "cluster.shutdown() # Fermer la connexion Cassandra\n",
    "mysql_engine.dispose() # Fermer la connexion MySQL"
   ]
  },
  {
   "cell_type": "markdown",
   "metadata": {
    "id": "pDDEHAUuSaXl"
   },
   "source": [
    "# Sources\n",
    "\n",
    "- http://www-igm.univ-mlv.fr/~dr/XPOSE2010/Cassandra/modele.html"
   ]
  },
  {
   "cell_type": "code",
   "execution_count": null,
   "metadata": {
    "id": "uG05j5i3dvPS"
   },
   "outputs": [],
   "source": []
  }
 ],
 "metadata": {
  "colab": {
   "collapsed_sections": [
    "zNbLEjRUSaXd",
    "DSa5TnVxSaXf",
    "gyQhyPcqXcdW",
    "joVbr__Z1aEJ"
   ],
   "provenance": []
  },
  "kernelspec": {
   "display_name": "jupyter_venv",
   "language": "python",
   "name": "python3"
  },
  "language_info": {
   "codemirror_mode": {
    "name": "ipython",
    "version": 3
   },
   "file_extension": ".py",
   "mimetype": "text/x-python",
   "name": "python",
   "nbconvert_exporter": "python",
   "pygments_lexer": "ipython3",
   "version": "3.11.10"
  }
 },
 "nbformat": 4,
 "nbformat_minor": 0
}
